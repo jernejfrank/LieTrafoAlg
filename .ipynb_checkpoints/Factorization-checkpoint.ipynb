{
 "cells": [
  {
   "cell_type": "code",
   "execution_count": 1,
   "metadata": {},
   "outputs": [],
   "source": [
    "import numpy as np\n",
    "import pandas as pd\n",
    "from matplotlib import pyplot as plt\n",
    "\n",
    "import sympy\n",
    "from sympy import *\n",
    "from operator import mul\n",
    "from functools import reduce\n",
    "import mpmath as mp\n",
    "from mpmath import fac\n",
    "import functools\n",
    "from sympy import init_printing\n",
    "from sympy.core.decorators import _sympifyit, call_highest_priority\n",
    "from IPython.display import display_latex\n",
    "init_printing()\n",
    "import copy\n",
    "import collections\n",
    "\n",
    "from functools import reduce  # Required in Python 3\n",
    "import operator\n",
    "#akin to built - in sum() but for product\n",
    "def prod(iterable):\n",
    "    return reduce(operator.mul, iterable, 1)"
   ]
  },
  {
   "cell_type": "markdown",
   "metadata": {},
   "source": [
    "# Lie Algebra Class for symbolic manipulation (from before)"
   ]
  },
  {
   "cell_type": "code",
   "execution_count": 2,
   "metadata": {},
   "outputs": [],
   "source": [
    "class LieOperator(Expr):\n",
    "    '''\n",
    "    Defined algebra for the Lie operator:\n",
    "    Addition: Hamiltonian functions get added into a new Lie operator\n",
    "    Multiplication: Poisson bracket gets applied\n",
    "    Exp: Lie Transfer Map gets applied\n",
    "    BCH: Baker- Campbell - Hausdorff expansion gets applied as Lie Tranfer Map concatenation\n",
    "    CAUTION: NOT ASSOCIATIVE\n",
    "\n",
    "    INPUT: Hamiltonian, generalized coordinates and momenta\n",
    "    '''\n",
    "    \n",
    "    \n",
    "    _op_priority = 11.0\n",
    "\n",
    "    is_commutative = False\n",
    "    \n",
    "    \n",
    "    def __new__(cls, ham, indep_coords, indep_mom):\n",
    "        if not isinstance(indep_coords, list): #create list of coords\n",
    "            indep_coords = [indep_coords]\n",
    "        if not isinstance(indep_mom, list): #create list of momenta\n",
    "            indep_mom = [indep_mom]\n",
    "        \n",
    "        #same number of coordinates and momenta have to be entered\n",
    "        assert(len(indep_coords)==len(indep_mom)),'The number of coords and momenta is not the same'\n",
    "            \n",
    "        obj = Expr.__new__(cls, ham, indep_coords, indep_mom)\n",
    "        obj._ham = ham\n",
    "        obj._indep_coords = indep_coords\n",
    "        obj._indep_mom = indep_mom\n",
    "        return obj\n",
    "    \n",
    "    \n",
    "    @property\n",
    "    def ham(self):\n",
    "        return self._ham\n",
    "    \n",
    "    @ham.setter\n",
    "    def ham(self, other):\n",
    "        #Input has to be a function\n",
    "        assert(not(S(ham.is_number))), 'Input has to be a function and not a number'\n",
    "        self._ham = self._ham.subs(self.ham, other).doit()\n",
    "        \n",
    "    @property\n",
    "    def indep_coords(self):\n",
    "        return self._indep_coords\n",
    "    \n",
    "    @indep_coords.setter\n",
    "    def indep_coords(self, other):\n",
    "        self._indep_coords = other\n",
    "        \n",
    "    @property\n",
    "    def indep_mom(self):\n",
    "        return self._indep_mom\n",
    "    \n",
    "    @indep_mom.setter\n",
    "    def indep_mom(self, other):\n",
    "        self._indep_mom = other\n",
    "        \n",
    "        \n",
    "        \n",
    "    \n",
    "    #Algebraic properties \n",
    "\n",
    "    #Define Addition\n",
    "    @_sympifyit('other', NotImplemented)\n",
    "    @call_highest_priority('__radd__')\n",
    "    def __add__(self,other):\n",
    "        if not isinstance(other, LieOperator):\n",
    "            raise TypeError(other, ' has to be a Lie Operator')\n",
    "        elif not collections.Counter(self.indep_coords) == collections.Counter(other.indep_coords):\n",
    "            raise TypeError('Lie Operators do not have the same dimension.')\n",
    "        else:\n",
    "            return LieOperator(self.ham + other.ham, self.indep_coords,self.indep_mom)\n",
    "\n",
    "    @_sympifyit('other', NotImplemented)\n",
    "    @call_highest_priority('__add__')\n",
    "    def __radd__(self,other):\n",
    "        if not isinstance(other, LieOperator):\n",
    "            raise TypeError(other, ' has to be a Lie Operator')\n",
    "        elif not collections.Counter(self.indep_coords) == collections.Counter(other.indep_coords):\n",
    "            raise TypeError('Lie Operators do not have the same dimension.')\n",
    "        else:\n",
    "            return LieOperator(self.ham + other.ham, self.indep_coords,self.indep_mom)\n",
    "    \n",
    "    #Define Substraction\n",
    "    @_sympifyit('other', NotImplemented)\n",
    "    @call_highest_priority('__rsub__')\n",
    "    def __sub__(self, other):\n",
    "        if not isinstance(other, LieOperator):\n",
    "            raise TypeError(other, ' has to be a Lie Operator')\n",
    "        elif not collections.Counter(self.indep_coords) == collections.Counter(other.indep_coords):\n",
    "            raise TypeError('Lie Operators do not have the same dimension.')\n",
    "        else:\n",
    "            return LieOperator(self.ham - other.ham, self.indep_coords,self.indep_mom)\n",
    "\n",
    "    @_sympifyit('other', NotImplemented)\n",
    "    @call_highest_priority('__sub__')\n",
    "    def __rsub__(self, other):\n",
    "        if not isinstance(other, LieOperator):\n",
    "            raise TypeError(other, ' has to be a Lie Operator')\n",
    "        elif not collections.Counter(self.indep_coords) == collections.Counter(other.indep_coords):\n",
    "            raise TypeError('Lie Operators do not have the same dimension.')\n",
    "        else:\n",
    "            return LieOperator(self.ham - other.ham, self.indep_coords,self.indep_mom)\n",
    "        \n",
    "    #Define Multiplication\n",
    "    @_sympifyit('other', NotImplemented)\n",
    "    @call_highest_priority('__rmul__')\n",
    "    def __mul__(self, other):\n",
    "        return self.LieOperatorMul(other)\n",
    "        \n",
    "        \n",
    "    @_sympifyit('other', NotImplemented)\n",
    "    @call_highest_priority('__mul__')\n",
    "    def __rmul__(self,other):\n",
    "        if S(other).is_number:\n",
    "            return LieOperator(other*self.ham,self.indep_coords,self.indep_mom)\n",
    "        elif not isinstance(other, LieOperator):\n",
    "            other = LieOperator(other,self.indep_coords,self.indep_mom) \n",
    "        return other.LieOperatorMul(self)\n",
    "    \n",
    "    \n",
    "    def LieOperatorMul(_ham1, _ham2):\n",
    "        if not isinstance(_ham2, LieOperator):\n",
    "            _ham2 = LieOperator(_ham2,_ham1.indep_coords,_ham1.indep_mom) \n",
    "        if not collections.Counter(_ham1.indep_coords) == collections.Counter(_ham2.indep_coords):\n",
    "            raise TypeError('Lie Operators do not have the same dimension.')\n",
    "        else:\n",
    "            return _ham1.Poisson(_ham2)\n",
    "    \n",
    "    \n",
    "    #Calcualte Poisson bracket with input function\n",
    "    def Poisson(self,other):\n",
    "        _h1 = self.ham\n",
    "        _h2 = other.ham\n",
    "        hp = S(0)\n",
    "        for qi,pi in zip(self.indep_coords, self.indep_mom):\n",
    "            hp += _h1.diff(qi) * _h2.diff(pi) \n",
    "            hp -= _h1.diff(pi) * _h2.diff(qi)\n",
    "        return LieOperator(hp,self.indep_coords,self.indep_mom)\n",
    "    \n",
    "    \n",
    "    #Exponential Map: Lie Transform Map\n",
    "    #Calculate the exponential map of the Lie operator to the input cutoff\n",
    "    def LieMap(self,other,power):\n",
    "        s = S(0)\n",
    "        \n",
    "        for i in range(power+1):\n",
    "            s += sympy.Rational(1,factorial(i))*(self.ExpPowerLieBracket(other,i)).ham\n",
    "        \n",
    "        return LieOperator(s,self.indep_coords,self.indep_mom) \n",
    "    \n",
    "    \n",
    "    \n",
    "    #Successively apply Poisson bracket to input function to the input cutoff\n",
    "    def ExpPowerLieBracket(self, other, power):\n",
    "        _op1 = self\n",
    "        _op2 = other\n",
    "        \n",
    "        \n",
    "        if power > 0:\n",
    "            hp = _op1*_op2\n",
    "            \n",
    "            for s in range(1,power):\n",
    "                hp = _op1*hp\n",
    "                \n",
    "        else:\n",
    "            if not isinstance(_op2, LieOperator):\n",
    "                _op2 = LieOperator(_op2, self.indep_coords,self.indep_mom)\n",
    "            \n",
    "            hp = _op2\n",
    "        \n",
    "        return hp\n",
    "    \n",
    "    #Up to order 4 done manually to have a working copy, arbitrary ordered needs to be still written\n",
    "    def BCH(self,other,n):\n",
    "        if not isinstance(other, LieOperator):\n",
    "            raise TypeError(other, ' has to be a Lie Operator')\n",
    "        elif not collections.Counter(self.indep_coords) == collections.Counter(other.indep_coords):\n",
    "            raise TypeError('Lie Operators do not have the same dimension.')\n",
    "        elif n < 1:\n",
    "            raise ValueError(n, ' is not a valid order. Number has to be natural.')\n",
    "            \n",
    "        _op1 = LieOperator(self.ham,self.indep_coords, self.indep_mom)\n",
    "        _op2 = LieOperator(other.ham, other.indep_coords, other.indep_mom)\n",
    "        \n",
    "        \n",
    "        temp = _op1 + _op2\n",
    "        \n",
    "        if n > 1:\n",
    "            _xy = _op1 * _op2\n",
    "            _yx = _op2 * _op1\n",
    "            temp = temp + sympy.Rational(1,2) * _xy\n",
    "        \n",
    "        if n > 2:\n",
    "            _xxy = _op1 * _xy\n",
    "            _yyx = _op2 * _yx\n",
    "            temp = temp + sympy.Rational(1,12) * _xxy + sympy.Rational(1,12) * _yyx\n",
    "           \n",
    "        if n > 3:\n",
    "            _yxxy = _op2 * _xxy \n",
    "            temp = temp  - sympy.Rational(1,24) * _yxxy\n",
    "        \n",
    "        if n > 4:\n",
    "            _xyxyx = _op1 * (_op2 * (_op1 * _yx))\n",
    "            _yxyxy = _op2 * (_op1 * (_op2 * _xy))\n",
    "            \n",
    "            _xxxy = _op1 * _xxy\n",
    "            _yyyx = _op2 * _yyx\n",
    "            temp = temp + (sympy.Rational(1,120) * _xyxyx\n",
    "                           + sympy.Rational(1,120) * _yxyxy\n",
    "                           + sympy.Rational(1,360) * _op1 * _yyyx\n",
    "                           + sympy.Rational(1,360) * _op2 * _xxxy\n",
    "                           - sympy.Rational(1,720) * _op2 * _yyyx\n",
    "                           - sympy.Rational(1,720) * _op1 * _xxxy\n",
    "                          )\n",
    "       \n",
    "        return temp"
   ]
  },
  {
   "cell_type": "markdown",
   "metadata": {},
   "source": [
    "# Assign Hamiltonians to beamline (no linear/nonlinear distinction so far)"
   ]
  },
  {
   "cell_type": "code",
   "execution_count": 3,
   "metadata": {},
   "outputs": [],
   "source": [
    "sym_x, sym_y, sym_z, sym_px, sym_py, sym_pz = sympy.symbols('x y z p_x p_y \\delta')\n",
    "\n",
    "def AssignHam(element, order=3, length=1, strength=1,flag=1):\n",
    "    '''\n",
    "    Element:\n",
    "    1 = drift space\n",
    "    2 = quadrupole\n",
    "    25 = skew quadrupole\n",
    "    3 = sextupole\n",
    "    35 = skew sextupole - tbp\n",
    "    \n",
    "    add dipoles as well\n",
    "    '''\n",
    "\n",
    "    if element == 1:\n",
    "        H = drift(order, length)\n",
    "    elif element == 2:\n",
    "        H = quad(order, length, strength, flag)\n",
    "    elif element == 25:\n",
    "        H = skew_quad(order, length, strength, flag)\n",
    "    elif element == 3:\n",
    "        H = sext(order, length, strength, flag)\n",
    "#     elif H == 35:\n",
    "#         H = skew_sext(order, length, strength)\n",
    "    else:\n",
    "        raise ValueError(element, ' no such reference in library.')      \n",
    "    \n",
    "    return H\n",
    "\n",
    "\n",
    "def drift(N, length, beta=1):\n",
    "    H0 = sym_pz / beta\n",
    "    _ftemp = sympy.sqrt((sym_pz + 1/beta**2)**2 - sym_px**2 - sym_py**2 + (1 - 1/beta**2))\n",
    "    _epstemp = sympy.symbols('e')\n",
    "    \n",
    "    if N == -1:\n",
    "        H = H0 - _ftemp\n",
    "    elif N == -2: #paraxial for matrix\n",
    "        H = (sym_pz**2)*(1/beta**2 -1)/2 - (sym_px**2)/2 - (sym_py**2)/2\n",
    "    else:\n",
    "        H = H0 - _ftemp.subs(sym_px,sym_px*_epstemp).subs(sym_py,sym_py*_epstemp).subs(sym_pz,sym_pz*_epstemp).series(_epstemp,n=N).removeO().subs(_epstemp,1)\n",
    "    \n",
    "    H = length * H\n",
    "    \n",
    "    return H\n",
    "\n",
    "\n",
    "def quad(N, length, strength,flag):\n",
    "    if flag == 1:\n",
    "        H0 = AssignHam(1, N) #Drift space\n",
    "    else:\n",
    "        H0 = 0\n",
    "        \n",
    "    H = H0 + (strength / 2) * (sym_x**2 - sym_y**2)\n",
    "    H = length * H\n",
    "\n",
    "    return H    \n",
    "\n",
    "\n",
    "def skew_quad(N, length, strength,flag):\n",
    "    if flag == 1:\n",
    "        H0 = AssignHam(1, N) #Drift space\n",
    "    else:\n",
    "        H0 = 0\n",
    "        \n",
    "    H = H0 + (strength / 2) * sym_x * sym_y\n",
    "    H = length * H\n",
    "\n",
    "    return H    \n",
    "\n",
    "\n",
    "def sext(N, length, strength,flag):\n",
    "    if flag == 1:\n",
    "        H0 = AssignHam(1, N) #Drift space\n",
    "    else:\n",
    "        H0 = 0\n",
    "        \n",
    "    H = H0 + (strength / 6) * (sym_x**3 - 3 * sym_x * sym_y**2)\n",
    "    H = length * H\n",
    "\n",
    "    return H    "
   ]
  },
  {
   "cell_type": "code",
   "execution_count": 4,
   "metadata": {},
   "outputs": [],
   "source": [
    "def RingHam(beamline,BCH_order,poly_cutoff): #combine beamline with BCH into one map\n",
    "    for i,element in enumerate(beamline):\n",
    "        if i == 0:\n",
    "            H0 = AssignHam(element[0],element[1],element[2],element[3],element[4])\n",
    "            H_int = LieOperator(H0,[sym_x,sym_y,sym_z],[sym_px,sym_py,sym_pz])\n",
    "        else:\n",
    "            H0 = AssignHam(element[0],element[1],element[2],element[3],element[4])\n",
    "            H0 = LieOperator(H0,[sym_x,sym_y,sym_z],[sym_px,sym_py,sym_pz])\n",
    "            \n",
    "            H_int = H_int.BCH(H0,BCH_order)\n",
    "    \n",
    "    temp_H = truncate(H_int,poly_cutoff) #cutoff Hamiltonian at speciefied polynomial degree\n",
    "    \n",
    "    H = LieOperator(temp_H,[sym_x,sym_y,sym_z],[sym_px,sym_py,sym_pz])\n",
    "    \n",
    "    \n",
    "    return H\n",
    "\n",
    "def HamToMat(_ham):\n",
    "    # converts quadratic Hamiltonian to linear map (matrix) as numpy array\n",
    "    _ax = -2*float(_ham.coeff(sym_px**2))\n",
    "    _bx = -float(_ham.coeff(sym_x*sym_px))\n",
    "    _cx = -2*float(_ham.coeff(sym_x**2))\n",
    "    _Dx = np.sqrt(np.abs(_bx**2 - _ax*_cx))\n",
    "    \n",
    "    \n",
    "    if _bx**2 - _ax*_cx < 0:\n",
    "        _Rx = np.array([[np.cos(_Dx) + _bx*np.sin(_Dx)/_Dx, _ax*np.sin(_Dx)/_Dx,0,0,0,0],\n",
    "                [-_cx*np.sin(_Dx)/_Dx, np.cos(_Dx) - _bx*np.sin(_Dx)/_Dx,0,0,0,0],\n",
    "                       [0,0,1,0,0,0],\n",
    "                       [0,0,0,1,0,0],\n",
    "                       [0,0,0,0,1,0],\n",
    "                       [0,0,0,0,0,1]])\n",
    "    elif _bx**2 - _ax*_cx > 0:\n",
    "        _Rx = np.array([[np.cosh(_Dx) + _bx*np.sinh(_Dx)/_Dx, _ax*np.sinh(_Dx)/_Dx,0,0,0,0],\n",
    "                [-_cx*np.sinh(_Dx)/_Dx, np.cosh(_Dx) - _bx*np.sinh(_Dx)/_Dx,0,0,0,0],\n",
    "                       [0,0,1,0,0,0],\n",
    "                       [0,0,0,1,0,0],\n",
    "                       [0,0,0,0,1,0],\n",
    "                       [0,0,0,0,0,1]])\n",
    "    else:\n",
    "        _Rx = np.array([[1,_ax,0,0,0,0],\n",
    "                        [0,1,0,0,0,0],\n",
    "                        [0,0,1,0,0,0],\n",
    "                        [0,0,0,1,0,0],\n",
    "                        [0,0,0,0,1,0],\n",
    "                        [0,0,0,0,0,1]])\n",
    "\n",
    "    _ay = -2*float(_ham.coeff(sym_py**2))\n",
    "    _by = -float(_ham.coeff(sym_y*sym_py))\n",
    "    _cy = -2*float(_ham.coeff(sym_y**2))\n",
    "    _Dy = np.sqrt(np.abs(_by**2 - _ay*_cy))\n",
    "\n",
    "    if _by**2 - _ay*_cy < 0:\n",
    "        _Ry = np.array([[1,0,0,0,0,0],\n",
    "                        [0,1,0,0,0,0],\n",
    "                        [0,0,np.cos(_Dy) + _by*np.sin(_Dy)/_Dy, _ay*np.sin(_Dy)/_Dy,0,0],\n",
    "                [0,0,-_cy*np.sin(_Dy)/_Dy, np.cos(_Dy) - _by*np.sin(_Dy)/_Dy,0,0],\n",
    "                       [0,0,0,0,1,0],\n",
    "                       [0,0,0,0,0,1]])\n",
    "    elif _by**2 - _ay*_cy > 0:\n",
    "        _Ry = np.array([[1,0,0,0,0,0],\n",
    "                        [0,1,0,0,0,0],\n",
    "                        [0,0,np.cosh(_Dy) + _by*np.sinh(_Dy)/_Dy, _ay*np.sinh(_Dy)/_Dy,0,0],\n",
    "                [0,0,-_cy*np.sinh(_Dy)/_Dy, np.cosh(_Dy) - _by*np.sinh(_Dy)/_Dy,0,0],\n",
    "                       [0,0,0,0,1,0],\n",
    "                       [0,0,0,0,0,1]])\n",
    "    else:\n",
    "        _Ry = np.array([[1,0,0,0,0,0],\n",
    "                        [0,1,0,0,0,0],\n",
    "                        [0,0,1,_ay,0,0],\n",
    "                        [0,0,0,1,0,0],\n",
    "                        [0,0,0,0,1,0],\n",
    "                        [0,0,0,0,0,1]])\n",
    "    \n",
    "    _az = -2*float(_ham.coeff(sym_pz**2))\n",
    "    \n",
    "    _Rz = np.array([[1,0,0,0,0,0],\n",
    "                    [0,1,0,0,0,0],\n",
    "                    [0,0,1,0,0,0],\n",
    "                    [0,0,0,1,0,0],\n",
    "                    [0,0,0,0,1,_az],\n",
    "                    [0,0,0,0,0,1]])\n",
    "\n",
    "    \n",
    "    _R = np.dot(np.dot(_Rx,_Ry),_Rz)\n",
    "\n",
    "\n",
    "    return _R\n",
    "\n",
    "\n",
    "def Similarity(_R,_H):\n",
    "    #switches the matrix and non-linear Lie map by similarity transformation and returns the transformed hamiltonian\n",
    "    sym_x1, sym_y1, sym_z1, sym_px1, sym_py1, sym_pz1 = sympy.symbols('x_1 y_1 z_1 p_{x1} p_{y1} \\delta_1')\n",
    "    variables = (sym_x, sym_px, sym_y, sym_py, sym_z, sym_pz)\n",
    "    new_variables = (sym_x1, sym_px1, sym_y1, sym_py1, sym_z1, sym_pz1)\n",
    "    \n",
    "    _Rinv = np.linalg.inv(_R)\n",
    "    \n",
    "    vec = [new_variables[i] for i in range(len(R_inv))]\n",
    "        \n",
    "    new_coords = np.dot(R_inv, vec) #R^-1 z = z1 see Willeke:Modern tools for PT\n",
    "    _HTrans = _H.subs([(i,j) for i,j in zip(variables,new_coords)])\n",
    "    \n",
    "    trans_LH = LieOperator(_HTrans,[sym_x,sym_y,sym_z],[sym_px,sym_py,sym_pz])\n",
    "    \n",
    "    return trans_LH"
   ]
  },
  {
   "cell_type": "code",
   "execution_count": 5,
   "metadata": {},
   "outputs": [],
   "source": [
    "def Lin_Nonlin_RingHam(beamline,BCH_order=0,poly_cutoff=0): #divides the beamline into a linear and nonlinear part\n",
    "    new_beamline = []\n",
    "    rev_beamline = list(np.array(beamline)[::-1,...]) #pushing linear part at the start\n",
    "    \n",
    "    for i, element in enumerate(rev_beamline):\n",
    "        H = AssignHam(element[0],element[1],element[2],element[3],element[4])\n",
    "        \n",
    "        if max(degree_list(H)) == 2:\n",
    "            R = HamToMat(H) #should be numpy array\n",
    "            new_beamline.append(R)\n",
    "        else:\n",
    "            LH = LieOperator(H,[sym_x,sym_y,sym_z],[sym_px,sym_py,sym_pz])\n",
    "            new_beamline.append(LH)\n",
    "        \n",
    "        if i > 0:\n",
    "            if isinstance(new_beamline[i-1], np.ndarray):\n",
    "                if max(degree_list(H)) == 2:\n",
    "                    M = np.dot(R,new_beamline[i-1]) #combine linear maps\n",
    "                    new_beamline[i-1] = M\n",
    "                    trash = new_beamline.pop() #replace both maps as the combination\n",
    "                    \n",
    "                else:\n",
    "                    LH_trans = Similarity(new_beamline[i-1],LH.ham)\n",
    "                    M = new_beamline[i-1]\n",
    "                    new_beamline[i-1] = LH_trans\n",
    "                    new_beamline[i] = M\n",
    "\n",
    "    N = len(new_beamline)\n",
    "    for i,element in enumerate(new_beamline):\n",
    "        if i == 0:\n",
    "            H_temp = element\n",
    "        elif i < N-1:\n",
    "            H_temp = H_temp.BCH(element,BCH_order)\n",
    "\n",
    "\n",
    "    if N < 1:\n",
    "        trunc_H = truncate(H_temp,poly_cutoff) #cutoff Hamiltonian at speciefied polynomial degree\n",
    "\n",
    "        trunc_LH = LieOperator(trunc_H,[sym_x,sym_y,sym_z],[sym_px,sym_py,sym_pz])\n",
    "\n",
    "        return [new_beamline[-1],trunc_LH]\n",
    "    else:\n",
    "        return new_beamline\n",
    "                "
   ]
  },
  {
   "cell_type": "code",
   "execution_count": null,
   "metadata": {},
   "outputs": [],
   "source": []
  },
  {
   "cell_type": "code",
   "execution_count": 6,
   "metadata": {},
   "outputs": [
    {
     "data": {
      "text/plain": [
       "[array([[ 0.96599612,  0.49998094,  0.        ,  0.        ,  0.        ,\n",
       "          0.        ],\n",
       "        [-0.00304897,  1.03362276,  0.        ,  0.        ,  0.        ,\n",
       "          0.        ],\n",
       "        [ 0.        ,  0.        ,  1.03362276,  0.49998094,  0.        ,\n",
       "          0.        ],\n",
       "        [ 0.        ,  0.        , -0.00304897,  0.96599612,  0.        ,\n",
       "          0.        ],\n",
       "        [ 0.        ,  0.        ,  0.        ,  0.        ,  1.        ,\n",
       "          0.        ],\n",
       "        [ 0.        ,  0.        ,  0.        ,  0.        ,  0.        ,\n",
       "          1.        ]])]"
      ]
     },
     "execution_count": 6,
     "metadata": {},
     "output_type": "execute_result"
    }
   ],
   "source": [
    "beam =[[1,-2,2.5,0,1],\n",
    "      [2,-2,0.25,0.54102,1],\n",
    "      [2,-2,0.25,-0.54102,1]]\n",
    "beta=2\n",
    "Lin_Nonlin_RingHam(beam,2,4) #need to check against manual computation"
   ]
  },
  {
   "cell_type": "code",
   "execution_count": 7,
   "metadata": {},
   "outputs": [],
   "source": [
    "# beam = [[2,3,0.25,0.54102,1], #quad\n",
    "#        [1,1,2.5,0,1], #drift\n",
    "#        [3,3,0.25,0.54102,1]]\n",
    "# beam = [[1,5,L,eps,1]]\n",
    "# test = RingHam(beam,2,4)"
   ]
  },
  {
   "cell_type": "markdown",
   "metadata": {},
   "source": [
    "# Create symplectic n-jet (not symplectic trafo)"
   ]
  },
  {
   "cell_type": "code",
   "execution_count": 8,
   "metadata": {},
   "outputs": [],
   "source": [
    "def taylorize(LieHam, degree): #Apply Lie map to get taylor map vector on 6d vector\n",
    "    taylor_maps = []\n",
    "    \n",
    "    for i in LieHam.indep_coords:\n",
    "        fct = LieHam.LieMap(i,degree)\n",
    "        fct = truncate(fct,degree)\n",
    "        \n",
    "        taylor_maps.append(fct.expand())\n",
    "        \n",
    "    for i in LieHam.indep_mom:\n",
    "        fct = LieHam.LieMap(i,degree)\n",
    "        fct = truncate(fct,degree)\n",
    "        \n",
    "        taylor_maps.append(fct.expand())\n",
    "    \n",
    "    # reorder taylor maps to x, px, y, py, z, pz\n",
    "    if len(LieHam.indep_coords) == 2:\n",
    "        taylor_maps[1], taylor_maps[2] = taylor_maps[2], taylor_maps[1] #swtich y and px\n",
    "        \n",
    "    elif len(LieHam.indep_coords) == 3:\n",
    "        taylor_maps[1], taylor_maps[3] = taylor_maps[3], taylor_maps[1] #swtich y and px\n",
    "        taylor_maps[2], taylor_maps[3] = taylor_maps[3], taylor_maps[2] #switch z and y\n",
    "        taylor_maps[3], taylor_maps[4] = taylor_maps[4], taylor_maps[3] #switch z and py\n",
    "    \n",
    "    return taylor_maps\n",
    "\n",
    "\n",
    "\n",
    "def truncate(LieHam,degree): #cutoff Hamiltonian at specified degree\n",
    "    _epstemp = sympy.symbols('e')\n",
    "    fct = LieHam.ham\n",
    "    \n",
    "    for i in LieHam.indep_coords:\n",
    "        fct = fct.subs(i,i*_epstemp)\n",
    "        \n",
    "    for i in LieHam.indep_mom:\n",
    "        fct = fct.subs(i,i*_epstemp)\n",
    "    \n",
    "    fct = fct.expand() + O(_epstemp**degree)\n",
    "    fct = fct.removeO().subs(_epstemp,1)\n",
    "    \n",
    "    return fct"
   ]
  },
  {
   "cell_type": "markdown",
   "metadata": {},
   "source": [
    "# Dragt-Finn Factorization implemented for Taylor polynomials"
   ]
  },
  {
   "cell_type": "code",
   "execution_count": 9,
   "metadata": {},
   "outputs": [],
   "source": [
    "def factorization(taylor): #Dragt-Finn factorization from taylor map vector\n",
    "    LieProduct = []\n",
    "    degree = 0\n",
    "    \n",
    "    for polynomial in taylor:\n",
    "        comp_degree = poly(polynomial).total_degree() #highest degree of hom poly in Lie map\n",
    "        if degree <= comp_degree:\n",
    "            degree = comp_degree\n",
    "\n",
    "    for i in range(2,degree+2):\n",
    "        T = taylor_to_lie(taylor, i) #coeff match to get hom poly in Lie product maps\n",
    "        LieProduct.append(T) #Lie maps product as array\n",
    "        taylor = transform_taylor(T, taylor, i, degree) #adjust higher order taylor coeff for next coeff extraction\n",
    "\n",
    "        if i > 5:\n",
    "            print('Implemented only to 5th order so far.')\n",
    "            break\n",
    "            \n",
    "    return LieProduct\n",
    "\n",
    "\n",
    "\n",
    "def taylor_to_lie(taylor,degree): #decide if linear or nonlinear\n",
    "    \n",
    "    if degree == 2:\n",
    "        f = deg2_lie(taylor) #linear case\n",
    "        \n",
    "    else:\n",
    "        f = degN_lie(taylor,degree) #higher order maps\n",
    "    \n",
    "    return f\n",
    "\n",
    "\n",
    "\n",
    "def deg2_lie(taylor): #extract matrix from linear part of the taylor polynomial\n",
    "    I = np.identity(6)\n",
    "    R = []\n",
    "    i = len(taylor)\n",
    "\n",
    "    for polynomial in taylor:\n",
    "        p = poly(polynomial, sym_x,sym_px,sym_y,sym_py,sym_z,sym_pz)\n",
    "        monomials = p.monoms()\n",
    "        coeffs = p.coeffs()\n",
    "        \n",
    "        Matrow = []\n",
    "        for j,row in enumerate(I):\n",
    "            try:\n",
    "                index = monomials.index(tuple(row))\n",
    "                Matrow.append(coeffs[index])\n",
    "            except:\n",
    "                if j < i: #make sure the matrix stays quadratic\n",
    "                    Matrow.append(0)\n",
    "\n",
    "        R.append(Matrow)\n",
    "        \n",
    "    \n",
    "    R = np.asarray(R, dtype='float') #convert to numpy so linalg can invert it\n",
    "    \n",
    "    return R\n",
    "\n",
    "\n",
    "\n",
    "def degN_lie(taylor, degree): #higher order Lie maps\n",
    "    _epstemp = sympy.symbols('e')\n",
    "    variables = (sym_x, sym_px, sym_y, sym_py, sym_z, sym_pz)\n",
    "    derivatives = (1,0,3,2,5,4) #order: d/dpx, d/dx, d/dpy, d/dy, d/dz, d/dz\n",
    "    f = poly(0, sym_x,sym_px,sym_y,sym_py,sym_z,sym_pz) #Lie map hom poly generated from taylor\n",
    "    \n",
    "    for var,polynomial in enumerate(taylor):\n",
    "        p = poly(polynomial, sym_x,sym_px,sym_y,sym_py,sym_z,sym_pz) #make it a sympy polynomial\n",
    "        order = [sum(mon) for mon in p.monoms()] #array of monomial degrees\n",
    "        for index,monomial in enumerate(p.monoms()): #iterate over all monomials in taylor\n",
    "            if order[index] == (degree-1): #check hom level -> derivative is order - 1\n",
    "                mon = prod(a**b for a,b in zip(variables,monomial)) #reconstruct monomial\n",
    "                if (f.coeff_monomial(mon * variables[derivatives[var]])) == 0: #avoid double sum of same coeff\n",
    "                    power = monomial[derivatives[var]] #normalize derivative power\n",
    "                    f = f + (p.coeffs()[index] / (power+1)) * mon * variables[derivatives[var]] * (-1)**(var)\n",
    "                    \n",
    "    return f.subs(_epstemp,0)\n",
    "\n",
    "\n",
    "\n",
    "def transform_taylor(ham, taylor, hom_order, degree=3): #adjust higher order coeffs\n",
    "    #getaround for .subs() being iterative\n",
    "    sym_x1, sym_y1, sym_z1, sym_px1, sym_py1, sym_pz1 = sympy.symbols('x_1 y_1 z_1 p_{x1} p_{y1} \\delta_1')\n",
    "    variables = (sym_x, sym_px, sym_y, sym_py, sym_z, sym_pz)\n",
    "    new_variables = (sym_x1, sym_px1, sym_y1, sym_py1, sym_z1, sym_pz1)\n",
    "    \n",
    "    if hom_order == 2: #linear case needs more checking\n",
    "        R_inv = np.linalg.inv(ham)\n",
    "        vec = [new_variables[i] for i in range(len(R_inv))]\n",
    "        \n",
    "        new_coords = np.dot(R_inv, vec) #exp(-:G_2:) z_1 = z_0 + higher orders\n",
    "        int_taylor = [polynomial.subs([(i,j) for i,j in zip(variables,new_coords)]) for polynomial in taylor]\n",
    "        taylor = [polynomial.subs([(i,j) for i,j in zip(vec,variables)]) for polynomial in int_taylor]\n",
    "    else: #higher order\n",
    "        LiePoly = LieOperator(-ham,[sym_x,sym_y,sym_z],[sym_px,sym_py,sym_pz]) #use hom poly ham of degree = hom_order\n",
    "        mod_taylor = taylorize(LiePoly, degree+1) #create symplectic jet to adjust the coeffs of taylor polynomial\n",
    "        taylor = [old_poly - new_poly for old_poly,new_poly in zip(taylor,mod_taylor)] #exp(-:G_n:)z -> subtract from taylor poly the symplectic jet\n",
    "    \n",
    "    return taylor"
   ]
  },
  {
   "cell_type": "markdown",
   "metadata": {},
   "source": [
    "# Test example from Willeke paper"
   ]
  },
  {
   "cell_type": "code",
   "execution_count": 10,
   "metadata": {},
   "outputs": [],
   "source": [
    "poly_x = sym_x + sym_x**2 + 2* sym_x*sym_px + sym_px**2 +sym_x**3 + sym_x**2 *sym_px + 2*sym_x*sym_px**2 + sym_px**3\n",
    "poly_p = sym_px + sym_x**2 - 2* sym_x*sym_px - sym_px**2 +sym_x**3 + 5*sym_x**2 *sym_px + 3*sym_x*sym_px**2 - Rational(2,3)* sym_px**3\n",
    "taylor_vector = [poly_x,poly_p]"
   ]
  },
  {
   "cell_type": "code",
   "execution_count": 11,
   "metadata": {},
   "outputs": [
    {
     "data": {
      "image/png": "[encoded data removed]",
      "text/latex": [
       "$\\displaystyle p_{x}^{3} + 2 p_{x}^{2} x + p_{x}^{2} + p_{x} x^{2} + 2 p_{x} x + x^{3} + x^{2} + x$"
      ],
      "text/plain": [
       "  3       2       2       2             3    2    \n",
       "pₓ  + 2⋅pₓ ⋅x + pₓ  + pₓ⋅x  + 2⋅pₓ⋅x + x  + x  + x"
      ]
     },
     "execution_count": 11,
     "metadata": {},
     "output_type": "execute_result"
    }
   ],
   "source": [
    "poly_x"
   ]
  },
  {
   "cell_type": "code",
   "execution_count": 12,
   "metadata": {},
   "outputs": [
    {
     "data": {
      "image/png": "[encoded data removed]",
      "text/latex": [
       "$\\displaystyle - \\frac{2 p_{x}^{3}}{3} + 3 p_{x}^{2} x - p_{x}^{2} + 5 p_{x} x^{2} - 2 p_{x} x + p_{x} + x^{3} + x^{2}$"
      ],
      "text/plain": [
       "      3                                                  \n",
       "  2⋅pₓ        2       2         2                  3    2\n",
       "- ───── + 3⋅pₓ ⋅x - pₓ  + 5⋅pₓ⋅x  - 2⋅pₓ⋅x + pₓ + x  + x \n",
       "    3                                                    "
      ]
     },
     "execution_count": 12,
     "metadata": {},
     "output_type": "execute_result"
    }
   ],
   "source": [
    "poly_p"
   ]
  },
  {
   "cell_type": "code",
   "execution_count": 13,
   "metadata": {},
   "outputs": [
    {
     "data": {
      "image/png": "[encoded data removed]",
      "text/latex": [
       "$\\displaystyle \\left[ p_{x}^{3} + 2 p_{x}^{2} x + p_{x}^{2} + p_{x} x^{2} + 2 p_{x} x + x^{3} + x^{2} + x, \\  - \\frac{2 p_{x}^{3}}{3} + 3 p_{x}^{2} x - p_{x}^{2} + 5 p_{x} x^{2} - 2 p_{x} x + p_{x} + x^{3} + x^{2}\\right]$"
      ],
      "text/plain": [
       "⎡                                                          3                  \n",
       "⎢  3       2       2       2             3    2        2⋅pₓ        2       2  \n",
       "⎢pₓ  + 2⋅pₓ ⋅x + pₓ  + pₓ⋅x  + 2⋅pₓ⋅x + x  + x  + x, - ───── + 3⋅pₓ ⋅x - pₓ  +\n",
       "⎣                                                        3                    \n",
       "\n",
       "                                ⎤\n",
       "       2                  3    2⎥\n",
       " 5⋅pₓ⋅x  - 2⋅pₓ⋅x + pₓ + x  + x ⎥\n",
       "                                ⎦"
      ]
     },
     "execution_count": 13,
     "metadata": {},
     "output_type": "execute_result"
    }
   ],
   "source": [
    "taylor_vector"
   ]
  },
  {
   "cell_type": "code",
   "execution_count": 14,
   "metadata": {},
   "outputs": [],
   "source": [
    "F = factorization(taylor_vector)"
   ]
  },
  {
   "cell_type": "code",
   "execution_count": 15,
   "metadata": {},
   "outputs": [
    {
     "data": {
      "text/plain": [
       "array([[1., 0.],\n",
       "       [0., 1.]])"
      ]
     },
     "execution_count": 15,
     "metadata": {},
     "output_type": "execute_result"
    }
   ],
   "source": [
    "F[0]"
   ]
  },
  {
   "cell_type": "code",
   "execution_count": 16,
   "metadata": {},
   "outputs": [
    {
     "data": {
      "image/png": "[encoded data removed]",
      "text/latex": [
       "$\\displaystyle 0.333333333333333 p_{x}^{3} + 1.0 p_{x}^{2} x + 1.0 p_{x} x^{2} - 0.333333333333333 x^{3}$"
      ],
      "text/plain": [
       "                    3         2             2                      3\n",
       "0.333333333333333⋅pₓ  + 1.0⋅pₓ ⋅x + 1.0⋅pₓ⋅x  - 0.333333333333333⋅x "
      ]
     },
     "execution_count": 16,
     "metadata": {},
     "output_type": "execute_result"
    }
   ],
   "source": [
    "F[1]"
   ]
  },
  {
   "cell_type": "code",
   "execution_count": 17,
   "metadata": {},
   "outputs": [
    {
     "data": {
      "image/png": "[encoded data removed]",
      "text/latex": [
       "$\\displaystyle 0.25 p_{x}^{4} + 0.666666666666667 p_{x}^{3} x - 0.5 p_{x}^{2} x^{2} - 1.0 p_{x} x^{3} - 0.25 x^{4}$"
      ],
      "text/plain": [
       "       4                       3           2  2           3         4\n",
       "0.25⋅pₓ  + 0.666666666666667⋅pₓ ⋅x - 0.5⋅pₓ ⋅x  - 1.0⋅pₓ⋅x  - 0.25⋅x "
      ]
     },
     "execution_count": 17,
     "metadata": {},
     "output_type": "execute_result"
    }
   ],
   "source": [
    "F[2]"
   ]
  },
  {
   "cell_type": "code",
   "execution_count": 18,
   "metadata": {},
   "outputs": [],
   "source": [
    "coord = [sym_x,sym_px]\n",
    "lie_f2 = F[0]\n",
    "lie_f3 = LieOperator(-F[1],sym_x, sym_px)\n",
    "lie_f4 = LieOperator(-F[2],sym_x, sym_px)"
   ]
  },
  {
   "cell_type": "code",
   "execution_count": 19,
   "metadata": {},
   "outputs": [],
   "source": [
    "vec = np.dot(lie_f2,coord)"
   ]
  },
  {
   "cell_type": "code",
   "execution_count": 20,
   "metadata": {},
   "outputs": [
    {
     "data": {
      "text/plain": [
       "array([1.0*x, 1.0*p_x], dtype=object)"
      ]
     },
     "execution_count": 20,
     "metadata": {},
     "output_type": "execute_result"
    }
   ],
   "source": [
    "vec"
   ]
  },
  {
   "cell_type": "code",
   "execution_count": 21,
   "metadata": {},
   "outputs": [
    {
     "data": {
      "image/png": "[encoded data removed]",
      "text/latex": [
       "$\\displaystyle 1.0 p_{x}^{3} + 2.0 p_{x}^{2} x + 1.0 p_{x}^{2} + 1.0 p_{x} x^{2} + 2.0 p_{x} x + 1.0 x^{3} + 1.0 x^{2} + 1.0 x$"
      ],
      "text/plain": [
       "      3         2           2           2                   3        2        \n",
       "1.0⋅pₓ  + 2.0⋅pₓ ⋅x + 1.0⋅pₓ  + 1.0⋅pₓ⋅x  + 2.0⋅pₓ⋅x + 1.0⋅x  + 1.0⋅x  + 1.0⋅x"
      ]
     },
     "execution_count": 21,
     "metadata": {},
     "output_type": "execute_result"
    }
   ],
   "source": [
    "truncate((lie_f4.LieMap((lie_f3.LieMap(vec[0],2)).expand(),2)).expand(),4)"
   ]
  },
  {
   "cell_type": "code",
   "execution_count": 22,
   "metadata": {},
   "outputs": [
    {
     "data": {
      "image/png": "[encoded data removed]",
      "text/latex": [
       "$\\displaystyle p_{x}^{3} + 2 p_{x}^{2} x + p_{x}^{2} + p_{x} x^{2} + 2 p_{x} x + x^{3} + x^{2} + x$"
      ],
      "text/plain": [
       "  3       2       2       2             3    2    \n",
       "pₓ  + 2⋅pₓ ⋅x + pₓ  + pₓ⋅x  + 2⋅pₓ⋅x + x  + x  + x"
      ]
     },
     "execution_count": 22,
     "metadata": {},
     "output_type": "execute_result"
    }
   ],
   "source": [
    "poly_x"
   ]
  },
  {
   "cell_type": "code",
   "execution_count": 23,
   "metadata": {},
   "outputs": [
    {
     "data": {
      "image/png": "[encoded data removed]",
      "text/latex": [
       "$\\displaystyle - 0.666666666666667 p_{x}^{3} + 3.0 p_{x}^{2} x - 1.0 p_{x}^{2} + 5.0 p_{x} x^{2} - 2.0 p_{x} x + 1.0 p_{x} + 1.0 x^{3} + 1.0 x^{2}$"
      ],
      "text/plain": [
       "                      3         2           2           2                     \n",
       "- 0.666666666666667⋅pₓ  + 3.0⋅pₓ ⋅x - 1.0⋅pₓ  + 5.0⋅pₓ⋅x  - 2.0⋅pₓ⋅x + 1.0⋅pₓ \n",
       "\n",
       "       3        2\n",
       "+ 1.0⋅x  + 1.0⋅x "
      ]
     },
     "execution_count": 23,
     "metadata": {},
     "output_type": "execute_result"
    }
   ],
   "source": [
    "truncate((lie_f4.LieMap((lie_f3.LieMap(vec[1],2)).expand(),2)).expand(),4)"
   ]
  },
  {
   "cell_type": "code",
   "execution_count": 24,
   "metadata": {},
   "outputs": [
    {
     "data": {
      "image/png": "[encoded data removed]",
      "text/latex": [
       "$\\displaystyle - \\frac{2 p_{x}^{3}}{3} + 3 p_{x}^{2} x - p_{x}^{2} + 5 p_{x} x^{2} - 2 p_{x} x + p_{x} + x^{3} + x^{2}$"
      ],
      "text/plain": [
       "      3                                                  \n",
       "  2⋅pₓ        2       2         2                  3    2\n",
       "- ───── + 3⋅pₓ ⋅x - pₓ  + 5⋅pₓ⋅x  - 2⋅pₓ⋅x + pₓ + x  + x \n",
       "    3                                                    "
      ]
     },
     "execution_count": 24,
     "metadata": {},
     "output_type": "execute_result"
    }
   ],
   "source": [
    "poly_p"
   ]
  },
  {
   "cell_type": "markdown",
   "metadata": {},
   "source": [
    "# Test 2"
   ]
  },
  {
   "cell_type": "code",
   "execution_count": 25,
   "metadata": {},
   "outputs": [],
   "source": [
    "poly_x = 5* sym_x + 10*sym_px\n",
    "poly_px = sym_px + 2*sym_x\n",
    "poly_y = 15*sym_y + 20 * sym_py\n",
    "poly_py = 3*sym_py + 4 * sym_y \n",
    "\n",
    "taylor_vector = [poly_x,poly_px,poly_y,poly_py]"
   ]
  },
  {
   "cell_type": "code",
   "execution_count": 26,
   "metadata": {},
   "outputs": [],
   "source": [
    "F = factorization(taylor_vector)"
   ]
  },
  {
   "cell_type": "code",
   "execution_count": 27,
   "metadata": {},
   "outputs": [
    {
     "data": {
      "text/plain": [
       "[array([[ 5., 10.,  0.,  0.],\n",
       "        [ 2.,  1.,  0.,  0.],\n",
       "        [ 0.,  0., 15., 20.],\n",
       "        [ 0.,  0.,  4.,  3.]])]"
      ]
     },
     "execution_count": 27,
     "metadata": {},
     "output_type": "execute_result"
    }
   ],
   "source": [
    "F"
   ]
  },
  {
   "cell_type": "code",
   "execution_count": null,
   "metadata": {},
   "outputs": [],
   "source": []
  }
 ],
 "metadata": {
  "kernelspec": {
   "display_name": "Python 3",
   "language": "python",
   "name": "python3"
  },
  "language_info": {
   "codemirror_mode": {
    "name": "ipython",
    "version": 3
   },
   "file_extension": ".py",
   "mimetype": "text/x-python",
   "name": "python",
   "nbconvert_exporter": "python",
   "pygments_lexer": "ipython3",
   "version": "3.7.6"
  }
 },
 "nbformat": 4,
 "nbformat_minor": 4
}
