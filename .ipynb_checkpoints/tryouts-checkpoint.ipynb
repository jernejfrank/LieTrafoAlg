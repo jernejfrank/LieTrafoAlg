{
 "cells": [
  {
   "cell_type": "code",
   "execution_count": 116,
   "metadata": {},
   "outputs": [],
   "source": [
    "import numpy as np\n",
    "import pandas as pd\n",
    "import sympy\n",
    "from sympy import *\n",
    "from operator import mul\n",
    "from functools import reduce\n",
    "import mpmath as mp\n",
    "from mpmath import fac\n",
    "import functools\n",
    "from sympy import init_printing\n",
    "from IPython.display import display_latex\n",
    "init_printing()"
   ]
  },
  {
   "cell_type": "markdown",
   "metadata": {},
   "source": [
    "# Lie Map\n",
    "$$e^{:f:} = \\sum_n \\frac{:f:^n}{n!},\n",
    "\\\\\n",
    ":f: = \\left[f, \\cdot \\right]\n",
    "= \\frac{\\partial f}{\\partial x} \\frac{\\partial \\cdot }{\\partial p} - \\frac{\\partial f}{\\partial p} \\frac{\\partial \\cdot}{\\partial x} $$"
   ]
  },
  {
   "cell_type": "code",
   "execution_count": 2,
   "metadata": {},
   "outputs": [],
   "source": [
    "class LieOperator:\n",
    "    '''\n",
    "    Lie Operator Class\n",
    "    '''\n",
    "    def __init__(self, ham, indep_coords, indep_mom):\n",
    "        self._ham = ham \n",
    "        if not isinstance(indep_coords, list): #create list of coords\n",
    "            indep_coords = [indep_coords]\n",
    "        if not isinstance(indep_mom, list): #create list of momenta\n",
    "            indep_mom = [indep_mom]\n",
    "\n",
    "        #same number of coordinates and momenta have to be entered\n",
    "        assert(len(indep_coords)==len(indep_mom)),'The number of coords and momenta is not the same'\n",
    "        self._indep_coords = indep_coords\n",
    "        self._indep_mom = indep_mom\n",
    "    \n",
    "    @property\n",
    "    def ham(self):\n",
    "        return self._ham\n",
    "    \n",
    "    @ham.setter\n",
    "    def ham(self, other):\n",
    "        self._ham = self._ham.subs(self.ham, other).doit()\n",
    "        \n",
    "    @property\n",
    "    def indep_coords(self):\n",
    "        return self._indep_coords\n",
    "    \n",
    "    @indep_coords.setter\n",
    "    def indep_coords(self, other):\n",
    "        self._indep_coords = other\n",
    "        \n",
    "    @property\n",
    "    def indep_mom(self):\n",
    "        return self._indep_mom\n",
    "    \n",
    "    @indep_mom.setter\n",
    "    def indep_mom(self, other):\n",
    "        self._indep_mom = other\n",
    "    \n",
    "    #Calcualte Poisson bracket with input function\n",
    "    def Poisson(self,other):\n",
    "        h = 0\n",
    "        for qi,pi in zip(self.indep_coords,self.indep_mom):\n",
    "            h += self.ham.diff(qi) * other.diff(pi) \n",
    "            h -= self.ham.diff(pi) * other.diff(qi)\n",
    "\n",
    "        return h"
   ]
  },
  {
   "cell_type": "code",
   "execution_count": 136,
   "metadata": {},
   "outputs": [],
   "source": [
    "class LieMap(LieOperator):\n",
    "    '''\n",
    "    Lie transform map\n",
    "    Inherits Lie Operator structure\n",
    "    '''\n",
    "    \n",
    "    #Successively apply Poisson bracket to input function to the input cutoff\n",
    "    def ExpPowerLieBracket(self, other, power):\n",
    "        s = 0\n",
    "        if power == 0:\n",
    "            s += other\n",
    "        else:\n",
    "            s += self.Poisson(self.ExpPowerLieBracket(other, power - 1))\n",
    "            \n",
    "        return s\n",
    "    \n",
    "    \n",
    "    #Calculate the exponential map of the Lie operator to the input cutoff\n",
    "    def exp(self,other,power):\n",
    "        s = 0\n",
    "        for i in range(power+1):\n",
    "            s += sympy.Rational(1,factorial(i))*self.ExpPowerLieBracket(other,i)\n",
    "        return s"
   ]
  },
  {
   "cell_type": "code",
   "execution_count": 137,
   "metadata": {},
   "outputs": [
    {
     "data": {
      "image/png": "[encoded data removed]",
      "text/latex": [
       "$\\displaystyle \\frac{1}{720}$"
      ],
      "text/plain": [
       "1/720"
      ]
     },
     "execution_count": 137,
     "metadata": {},
     "output_type": "execute_result"
    }
   ],
   "source": [
    "sympy.Rational(1,factorial(6))"
   ]
  },
  {
   "cell_type": "code",
   "execution_count": 138,
   "metadata": {},
   "outputs": [],
   "source": [
    "# x,px,y,py = sympy.symbols('x px y py')\n",
    "# coords = [x,y]\n",
    "# mom = [px,py]\n",
    "x, p = sympy.symbols('x p')\n",
    "H = sympy.Function('H', commutative=False)(x,p)\n",
    "g = sympy.Function('g', commutative=False)(x,p)\n",
    "la = LieOperator(H,x,p)\n",
    "lb = LieMap(H,x,p)"
   ]
  },
  {
   "cell_type": "code",
   "execution_count": 139,
   "metadata": {},
   "outputs": [
    {
     "data": {
      "image/png": "[encoded data removed]",
      "text/latex": [
       "$\\displaystyle \\left( H{\\left(x,p \\right)}, \\  \\left[ x\\right], \\  \\left[ p\\right]\\right)$"
      ],
      "text/plain": [
       "(H(x, p), [x], [p])"
      ]
     },
     "execution_count": 139,
     "metadata": {},
     "output_type": "execute_result"
    }
   ],
   "source": [
    "la.ham, la.indep_coords, la.indep_mom"
   ]
  },
  {
   "cell_type": "code",
   "execution_count": 140,
   "metadata": {},
   "outputs": [
    {
     "data": {
      "image/png": "[encoded data removed]",
      "text/latex": [
       "$\\displaystyle - \\frac{\\partial}{\\partial p} H{\\left(x,p \\right)} \\frac{\\partial}{\\partial x} g{\\left(x,p \\right)} + \\frac{\\partial}{\\partial x} H{\\left(x,p \\right)} \\frac{\\partial}{\\partial p} g{\\left(x,p \\right)}$"
      ],
      "text/plain": [
       "  ∂           ∂             ∂           ∂          \n",
       "- ──(H(x, p))⋅──(g(x, p)) + ──(H(x, p))⋅──(g(x, p))\n",
       "  ∂p          ∂x            ∂x          ∂p         "
      ]
     },
     "execution_count": 140,
     "metadata": {},
     "output_type": "execute_result"
    }
   ],
   "source": [
    "lb.Poisson(g)"
   ]
  },
  {
   "cell_type": "code",
   "execution_count": 141,
   "metadata": {},
   "outputs": [
    {
     "data": {
      "image/png": "[encoded data removed]",
      "text/latex": [
       "$\\displaystyle - \\frac{\\partial}{\\partial p} H{\\left(x,p \\right)} \\left(- \\frac{\\partial}{\\partial p} H{\\left(x,p \\right)} \\frac{\\partial^{2}}{\\partial x^{2}} g{\\left(x,p \\right)} + \\frac{\\partial}{\\partial x} H{\\left(x,p \\right)} \\frac{\\partial^{2}}{\\partial x\\partial p} g{\\left(x,p \\right)} + \\frac{\\partial^{2}}{\\partial x^{2}} H{\\left(x,p \\right)} \\frac{\\partial}{\\partial p} g{\\left(x,p \\right)} - \\frac{\\partial^{2}}{\\partial x\\partial p} H{\\left(x,p \\right)} \\frac{\\partial}{\\partial x} g{\\left(x,p \\right)}\\right) + \\frac{\\partial}{\\partial x} H{\\left(x,p \\right)} \\left(- \\frac{\\partial}{\\partial p} H{\\left(x,p \\right)} \\frac{\\partial^{2}}{\\partial x\\partial p} g{\\left(x,p \\right)} - \\frac{\\partial^{2}}{\\partial p^{2}} H{\\left(x,p \\right)} \\frac{\\partial}{\\partial x} g{\\left(x,p \\right)} + \\frac{\\partial}{\\partial x} H{\\left(x,p \\right)} \\frac{\\partial^{2}}{\\partial p^{2}} g{\\left(x,p \\right)} + \\frac{\\partial^{2}}{\\partial x\\partial p} H{\\left(x,p \\right)} \\frac{\\partial}{\\partial p} g{\\left(x,p \\right)}\\right)$"
      ],
      "text/plain": [
       "              ⎛                2                           2               2  \n",
       "  ∂           ⎜  ∂            ∂             ∂             ∂               ∂   \n",
       "- ──(H(x, p))⋅⎜- ──(H(x, p))⋅───(g(x, p)) + ──(H(x, p))⋅─────(g(x, p)) + ───(H\n",
       "  ∂p          ⎜  ∂p            2            ∂x          ∂x ∂p              2  \n",
       "              ⎝              ∂x                                          ∂x   \n",
       "\n",
       "                         2                      ⎞               ⎛             \n",
       "        ∂               ∂            ∂          ⎟   ∂           ⎜  ∂          \n",
       "(x, p))⋅──(g(x, p)) - ─────(H(x, p))⋅──(g(x, p))⎟ + ──(H(x, p))⋅⎜- ──(H(x, p))\n",
       "        ∂p            ∂x ∂p          ∂x         ⎟   ∂x          ⎜  ∂p         \n",
       "                                                ⎠               ⎝             \n",
       "\n",
       "    2               2                                      2               2  \n",
       "   ∂               ∂           ∂             ∂            ∂               ∂   \n",
       "⋅─────(g(x, p)) - ───(H(x, p))⋅──(g(x, p)) + ──(H(x, p))⋅───(g(x, p)) + ─────(\n",
       " ∂x ∂p              2          ∂x            ∂x            2            ∂x ∂p \n",
       "                  ∂p                                     ∂p                   \n",
       "\n",
       "                    ⎞\n",
       "         ∂          ⎟\n",
       "H(x, p))⋅──(g(x, p))⎟\n",
       "         ∂p         ⎟\n",
       "                    ⎠"
      ]
     },
     "execution_count": 141,
     "metadata": {},
     "output_type": "execute_result"
    }
   ],
   "source": [
    "lb.ExpPowerLieBracket(g,2)"
   ]
  },
  {
   "cell_type": "code",
   "execution_count": 143,
   "metadata": {},
   "outputs": [
    {
     "data": {
      "image/png": "[encoded data removed]",
      "text/latex": [
       "$\\displaystyle \\frac{- \\frac{\\partial}{\\partial p} H{\\left(x,p \\right)} \\left(- \\frac{\\partial}{\\partial p} H{\\left(x,p \\right)} \\left(- \\frac{\\partial}{\\partial p} H{\\left(x,p \\right)} \\frac{\\partial^{3}}{\\partial x^{3}} g{\\left(x,p \\right)} + \\frac{\\partial}{\\partial x} H{\\left(x,p \\right)} \\frac{\\partial^{3}}{\\partial x^{2}\\partial p} g{\\left(x,p \\right)} + 2 \\frac{\\partial^{2}}{\\partial x^{2}} H{\\left(x,p \\right)} \\frac{\\partial^{2}}{\\partial x\\partial p} g{\\left(x,p \\right)} + \\frac{\\partial^{3}}{\\partial x^{3}} H{\\left(x,p \\right)} \\frac{\\partial}{\\partial p} g{\\left(x,p \\right)} - 2 \\frac{\\partial^{2}}{\\partial x\\partial p} H{\\left(x,p \\right)} \\frac{\\partial^{2}}{\\partial x^{2}} g{\\left(x,p \\right)} - \\frac{\\partial^{3}}{\\partial x^{2}\\partial p} H{\\left(x,p \\right)} \\frac{\\partial}{\\partial x} g{\\left(x,p \\right)}\\right) + \\frac{\\partial}{\\partial x} H{\\left(x,p \\right)} \\left(- \\frac{\\partial}{\\partial p} H{\\left(x,p \\right)} \\frac{\\partial^{3}}{\\partial x^{2}\\partial p} g{\\left(x,p \\right)} - \\frac{\\partial^{2}}{\\partial p^{2}} H{\\left(x,p \\right)} \\frac{\\partial^{2}}{\\partial x^{2}} g{\\left(x,p \\right)} + \\frac{\\partial}{\\partial x} H{\\left(x,p \\right)} \\frac{\\partial^{3}}{\\partial x\\partial p^{2}} g{\\left(x,p \\right)} + \\frac{\\partial^{2}}{\\partial x^{2}} H{\\left(x,p \\right)} \\frac{\\partial^{2}}{\\partial p^{2}} g{\\left(x,p \\right)} + \\frac{\\partial^{3}}{\\partial x^{2}\\partial p} H{\\left(x,p \\right)} \\frac{\\partial}{\\partial p} g{\\left(x,p \\right)} - \\frac{\\partial^{3}}{\\partial x\\partial p^{2}} H{\\left(x,p \\right)} \\frac{\\partial}{\\partial x} g{\\left(x,p \\right)}\\right) + \\frac{\\partial^{2}}{\\partial x^{2}} H{\\left(x,p \\right)} \\left(- \\frac{\\partial}{\\partial p} H{\\left(x,p \\right)} \\frac{\\partial^{2}}{\\partial x\\partial p} g{\\left(x,p \\right)} - \\frac{\\partial^{2}}{\\partial p^{2}} H{\\left(x,p \\right)} \\frac{\\partial}{\\partial x} g{\\left(x,p \\right)} + \\frac{\\partial}{\\partial x} H{\\left(x,p \\right)} \\frac{\\partial^{2}}{\\partial p^{2}} g{\\left(x,p \\right)} + \\frac{\\partial^{2}}{\\partial x\\partial p} H{\\left(x,p \\right)} \\frac{\\partial}{\\partial p} g{\\left(x,p \\right)}\\right) - \\frac{\\partial^{2}}{\\partial x\\partial p} H{\\left(x,p \\right)} \\left(- \\frac{\\partial}{\\partial p} H{\\left(x,p \\right)} \\frac{\\partial^{2}}{\\partial x^{2}} g{\\left(x,p \\right)} + \\frac{\\partial}{\\partial x} H{\\left(x,p \\right)} \\frac{\\partial^{2}}{\\partial x\\partial p} g{\\left(x,p \\right)} + \\frac{\\partial^{2}}{\\partial x^{2}} H{\\left(x,p \\right)} \\frac{\\partial}{\\partial p} g{\\left(x,p \\right)} - \\frac{\\partial^{2}}{\\partial x\\partial p} H{\\left(x,p \\right)} \\frac{\\partial}{\\partial x} g{\\left(x,p \\right)}\\right)\\right) + \\frac{\\partial}{\\partial x} H{\\left(x,p \\right)} \\left(- \\frac{\\partial}{\\partial p} H{\\left(x,p \\right)} \\left(- \\frac{\\partial}{\\partial p} H{\\left(x,p \\right)} \\frac{\\partial^{3}}{\\partial x^{2}\\partial p} g{\\left(x,p \\right)} - \\frac{\\partial^{2}}{\\partial p^{2}} H{\\left(x,p \\right)} \\frac{\\partial^{2}}{\\partial x^{2}} g{\\left(x,p \\right)} + \\frac{\\partial}{\\partial x} H{\\left(x,p \\right)} \\frac{\\partial^{3}}{\\partial x\\partial p^{2}} g{\\left(x,p \\right)} + \\frac{\\partial^{2}}{\\partial x^{2}} H{\\left(x,p \\right)} \\frac{\\partial^{2}}{\\partial p^{2}} g{\\left(x,p \\right)} + \\frac{\\partial^{3}}{\\partial x^{2}\\partial p} H{\\left(x,p \\right)} \\frac{\\partial}{\\partial p} g{\\left(x,p \\right)} - \\frac{\\partial^{3}}{\\partial x\\partial p^{2}} H{\\left(x,p \\right)} \\frac{\\partial}{\\partial x} g{\\left(x,p \\right)}\\right) - \\frac{\\partial^{2}}{\\partial p^{2}} H{\\left(x,p \\right)} \\left(- \\frac{\\partial}{\\partial p} H{\\left(x,p \\right)} \\frac{\\partial^{2}}{\\partial x^{2}} g{\\left(x,p \\right)} + \\frac{\\partial}{\\partial x} H{\\left(x,p \\right)} \\frac{\\partial^{2}}{\\partial x\\partial p} g{\\left(x,p \\right)} + \\frac{\\partial^{2}}{\\partial x^{2}} H{\\left(x,p \\right)} \\frac{\\partial}{\\partial p} g{\\left(x,p \\right)} - \\frac{\\partial^{2}}{\\partial x\\partial p} H{\\left(x,p \\right)} \\frac{\\partial}{\\partial x} g{\\left(x,p \\right)}\\right) + \\frac{\\partial}{\\partial x} H{\\left(x,p \\right)} \\left(- \\frac{\\partial}{\\partial p} H{\\left(x,p \\right)} \\frac{\\partial^{3}}{\\partial x\\partial p^{2}} g{\\left(x,p \\right)} - 2 \\frac{\\partial^{2}}{\\partial p^{2}} H{\\left(x,p \\right)} \\frac{\\partial^{2}}{\\partial x\\partial p} g{\\left(x,p \\right)} - \\frac{\\partial^{3}}{\\partial p^{3}} H{\\left(x,p \\right)} \\frac{\\partial}{\\partial x} g{\\left(x,p \\right)} + \\frac{\\partial}{\\partial x} H{\\left(x,p \\right)} \\frac{\\partial^{3}}{\\partial p^{3}} g{\\left(x,p \\right)} + 2 \\frac{\\partial^{2}}{\\partial x\\partial p} H{\\left(x,p \\right)} \\frac{\\partial^{2}}{\\partial p^{2}} g{\\left(x,p \\right)} + \\frac{\\partial^{3}}{\\partial x\\partial p^{2}} H{\\left(x,p \\right)} \\frac{\\partial}{\\partial p} g{\\left(x,p \\right)}\\right) + \\frac{\\partial^{2}}{\\partial x\\partial p} H{\\left(x,p \\right)} \\left(- \\frac{\\partial}{\\partial p} H{\\left(x,p \\right)} \\frac{\\partial^{2}}{\\partial x\\partial p} g{\\left(x,p \\right)} - \\frac{\\partial^{2}}{\\partial p^{2}} H{\\left(x,p \\right)} \\frac{\\partial}{\\partial x} g{\\left(x,p \\right)} + \\frac{\\partial}{\\partial x} H{\\left(x,p \\right)} \\frac{\\partial^{2}}{\\partial p^{2}} g{\\left(x,p \\right)} + \\frac{\\partial^{2}}{\\partial x\\partial p} H{\\left(x,p \\right)} \\frac{\\partial}{\\partial p} g{\\left(x,p \\right)}\\right)\\right)}{6} + \\frac{- \\frac{\\partial}{\\partial p} H{\\left(x,p \\right)} \\left(- \\frac{\\partial}{\\partial p} H{\\left(x,p \\right)} \\frac{\\partial^{2}}{\\partial x^{2}} g{\\left(x,p \\right)} + \\frac{\\partial}{\\partial x} H{\\left(x,p \\right)} \\frac{\\partial^{2}}{\\partial x\\partial p} g{\\left(x,p \\right)} + \\frac{\\partial^{2}}{\\partial x^{2}} H{\\left(x,p \\right)} \\frac{\\partial}{\\partial p} g{\\left(x,p \\right)} - \\frac{\\partial^{2}}{\\partial x\\partial p} H{\\left(x,p \\right)} \\frac{\\partial}{\\partial x} g{\\left(x,p \\right)}\\right) + \\frac{\\partial}{\\partial x} H{\\left(x,p \\right)} \\left(- \\frac{\\partial}{\\partial p} H{\\left(x,p \\right)} \\frac{\\partial^{2}}{\\partial x\\partial p} g{\\left(x,p \\right)} - \\frac{\\partial^{2}}{\\partial p^{2}} H{\\left(x,p \\right)} \\frac{\\partial}{\\partial x} g{\\left(x,p \\right)} + \\frac{\\partial}{\\partial x} H{\\left(x,p \\right)} \\frac{\\partial^{2}}{\\partial p^{2}} g{\\left(x,p \\right)} + \\frac{\\partial^{2}}{\\partial x\\partial p} H{\\left(x,p \\right)} \\frac{\\partial}{\\partial p} g{\\left(x,p \\right)}\\right)}{2} + g{\\left(x,p \\right)} - \\frac{\\partial}{\\partial p} H{\\left(x,p \\right)} \\frac{\\partial}{\\partial x} g{\\left(x,p \\right)} + \\frac{\\partial}{\\partial x} H{\\left(x,p \\right)} \\frac{\\partial}{\\partial p} g{\\left(x,p \\right)}$"
      ],
      "text/plain": [
       "              ⎛              ⎛                3                           3   \n",
       "  ∂           ⎜  ∂           ⎜  ∂            ∂             ∂             ∂    \n",
       "- ──(H(x, p))⋅⎜- ──(H(x, p))⋅⎜- ──(H(x, p))⋅───(g(x, p)) + ──(H(x, p))⋅──────(\n",
       "  ∂p          ⎜  ∂p          ⎜  ∂p            3            ∂x            2    \n",
       "              ⎝              ⎝              ∂x                         ∂x  ∂p \n",
       "──────────────────────────────────────────────────────────────────────────────\n",
       "                                                                              \n",
       "\n",
       "               2             2               3                             2  \n",
       "              ∂             ∂               ∂           ∂                 ∂   \n",
       "g(x, p)) + 2⋅───(H(x, p))⋅─────(g(x, p)) + ───(H(x, p))⋅──(g(x, p)) - 2⋅─────(\n",
       "               2          ∂x ∂p              3          ∂p              ∂x ∂p \n",
       "             ∂x                            ∂x                                 \n",
       "──────────────────────────────────────────────────────────────────────────────\n",
       "                                                                              \n",
       "\n",
       "           2               3                       ⎞               ⎛          \n",
       "          ∂               ∂             ∂          ⎟   ∂           ⎜  ∂       \n",
       "H(x, p))⋅───(g(x, p)) - ──────(H(x, p))⋅──(g(x, p))⎟ + ──(H(x, p))⋅⎜- ──(H(x, \n",
       "           2              2             ∂x         ⎟   ∂x          ⎜  ∂p      \n",
       "         ∂x             ∂x  ∂p                     ⎠               ⎝          \n",
       "──────────────────────────────────────────────────────────────────────────────\n",
       "                                                                              \n",
       "\n",
       "       3                2            2                           3            \n",
       "      ∂                ∂            ∂             ∂             ∂             \n",
       "p))⋅──────(g(x, p)) - ───(H(x, p))⋅───(g(x, p)) + ──(H(x, p))⋅──────(g(x, p)) \n",
       "      2                 2            2            ∂x               2          \n",
       "    ∂x  ∂p            ∂p           ∂x                         ∂x ∂p           \n",
       "──────────────────────────────────────────────────────────────────────────────\n",
       "                                                                              \n",
       "\n",
       "    2            2               3                             3              \n",
       "   ∂            ∂               ∂             ∂               ∂             ∂ \n",
       "+ ───(H(x, p))⋅───(g(x, p)) + ──────(H(x, p))⋅──(g(x, p)) - ──────(H(x, p))⋅──\n",
       "    2            2              2             ∂p                 2          ∂x\n",
       "  ∂x           ∂p             ∂x  ∂p                        ∂x ∂p             \n",
       "──────────────────────────────────────────────────────────────────────────────\n",
       "                                                                              \n",
       "\n",
       "         ⎞     2          ⎛                 2               2                 \n",
       "         ⎟    ∂           ⎜  ∂             ∂               ∂           ∂      \n",
       "(g(x, p))⎟ + ───(H(x, p))⋅⎜- ──(H(x, p))⋅─────(g(x, p)) - ───(H(x, p))⋅──(g(x,\n",
       "         ⎟     2          ⎜  ∂p          ∂x ∂p              2          ∂x     \n",
       "         ⎠   ∂x           ⎝                               ∂p                  \n",
       "──────────────────────────────────────────────────────────────────────────────\n",
       "                                                                              \n",
       "\n",
       "                     2               2                      ⎞      2          \n",
       "       ∂            ∂               ∂            ∂          ⎟     ∂           \n",
       " p)) + ──(H(x, p))⋅───(g(x, p)) + ─────(H(x, p))⋅──(g(x, p))⎟ - ─────(H(x, p))\n",
       "       ∂x            2            ∂x ∂p          ∂p         ⎟   ∂x ∂p         \n",
       "                   ∂p                                       ⎠                 \n",
       "──────────────────────────────────────────────────────────────────────────────\n",
       "                                                                              \n",
       "\n",
       " ⎛                2                           2               2               \n",
       " ⎜  ∂            ∂             ∂             ∂               ∂           ∂    \n",
       "⋅⎜- ──(H(x, p))⋅───(g(x, p)) + ──(H(x, p))⋅─────(g(x, p)) + ───(H(x, p))⋅──(g(\n",
       " ⎜  ∂p            2            ∂x          ∂x ∂p              2          ∂p   \n",
       " ⎝              ∂x                                          ∂x                \n",
       "──────────────────────────────────────────────────────────────────────────────\n",
       "                                                                              \n",
       "\n",
       "            2                      ⎞⎞               ⎛              ⎛          \n",
       "           ∂            ∂          ⎟⎟   ∂           ⎜  ∂           ⎜  ∂       \n",
       "x, p)) - ─────(H(x, p))⋅──(g(x, p))⎟⎟ + ──(H(x, p))⋅⎜- ──(H(x, p))⋅⎜- ──(H(x, \n",
       "         ∂x ∂p          ∂x         ⎟⎟   ∂x          ⎜  ∂p          ⎜  ∂p      \n",
       "                                   ⎠⎠               ⎝              ⎝          \n",
       "──────────────────────────────────────────────────────────────────────────────\n",
       "                                     6                                        \n",
       "\n",
       "       3                2            2                           3            \n",
       "      ∂                ∂            ∂             ∂             ∂             \n",
       "p))⋅──────(g(x, p)) - ───(H(x, p))⋅───(g(x, p)) + ──(H(x, p))⋅──────(g(x, p)) \n",
       "      2                 2            2            ∂x               2          \n",
       "    ∂x  ∂p            ∂p           ∂x                         ∂x ∂p           \n",
       "──────────────────────────────────────────────────────────────────────────────\n",
       "                                                                              \n",
       "\n",
       "    2            2               3                             3              \n",
       "   ∂            ∂               ∂             ∂               ∂             ∂ \n",
       "+ ───(H(x, p))⋅───(g(x, p)) + ──────(H(x, p))⋅──(g(x, p)) - ──────(H(x, p))⋅──\n",
       "    2            2              2             ∂p                 2          ∂x\n",
       "  ∂x           ∂p             ∂x  ∂p                        ∂x ∂p             \n",
       "──────────────────────────────────────────────────────────────────────────────\n",
       "                                                                              \n",
       "\n",
       "         ⎞     2          ⎛                2                           2      \n",
       "         ⎟    ∂           ⎜  ∂            ∂             ∂             ∂       \n",
       "(g(x, p))⎟ - ───(H(x, p))⋅⎜- ──(H(x, p))⋅───(g(x, p)) + ──(H(x, p))⋅─────(g(x,\n",
       "         ⎟     2          ⎜  ∂p            2            ∂x          ∂x ∂p     \n",
       "         ⎠   ∂p           ⎝              ∂x                                   \n",
       "──────────────────────────────────────────────────────────────────────────────\n",
       "                                                                              \n",
       "\n",
       "         2                           2                      ⎞               ⎛ \n",
       "        ∂           ∂               ∂            ∂          ⎟   ∂           ⎜ \n",
       " p)) + ───(H(x, p))⋅──(g(x, p)) - ─────(H(x, p))⋅──(g(x, p))⎟ + ──(H(x, p))⋅⎜-\n",
       "         2          ∂p            ∂x ∂p          ∂x         ⎟   ∂x          ⎜ \n",
       "       ∂x                                                   ⎠               ⎝ \n",
       "──────────────────────────────────────────────────────────────────────────────\n",
       "                                                                              \n",
       "\n",
       "                3                  2             2               3            \n",
       " ∂             ∂                  ∂             ∂               ∂           ∂ \n",
       " ──(H(x, p))⋅──────(g(x, p)) - 2⋅───(H(x, p))⋅─────(g(x, p)) - ───(H(x, p))⋅──\n",
       " ∂p               2                2          ∂x ∂p              3          ∂x\n",
       "             ∂x ∂p               ∂p                            ∂p             \n",
       "──────────────────────────────────────────────────────────────────────────────\n",
       "                                                                              \n",
       "\n",
       "                          3                 2             2               3   \n",
       "            ∂            ∂                 ∂             ∂               ∂    \n",
       "(g(x, p)) + ──(H(x, p))⋅───(g(x, p)) + 2⋅─────(H(x, p))⋅───(g(x, p)) + ──────(\n",
       "            ∂x            3              ∂x ∂p            2                 2 \n",
       "                        ∂p                              ∂p             ∂x ∂p  \n",
       "──────────────────────────────────────────────────────────────────────────────\n",
       "                                                                              \n",
       "\n",
       "                    ⎞      2           ⎛                 2               2    \n",
       "         ∂          ⎟     ∂            ⎜  ∂             ∂               ∂     \n",
       "H(x, p))⋅──(g(x, p))⎟ + ─────(H(x, p))⋅⎜- ──(H(x, p))⋅─────(g(x, p)) - ───(H(x\n",
       "         ∂p         ⎟   ∂x ∂p          ⎜  ∂p          ∂x ∂p              2    \n",
       "                    ⎠                  ⎝                               ∂p     \n",
       "──────────────────────────────────────────────────────────────────────────────\n",
       "                                                                              \n",
       "\n",
       "                                  2               2                      ⎞⎞   \n",
       "      ∂             ∂            ∂               ∂            ∂          ⎟⎟   \n",
       ", p))⋅──(g(x, p)) + ──(H(x, p))⋅───(g(x, p)) + ─────(H(x, p))⋅──(g(x, p))⎟⎟   \n",
       "      ∂x            ∂x            2            ∂x ∂p          ∂p         ⎟⎟   \n",
       "                                ∂p                                       ⎠⎠   \n",
       "─────────────────────────────────────────────────────────────────────────── + \n",
       "                                                                              \n",
       "\n",
       "              ⎛                2                           2               2  \n",
       "  ∂           ⎜  ∂            ∂             ∂             ∂               ∂   \n",
       "- ──(H(x, p))⋅⎜- ──(H(x, p))⋅───(g(x, p)) + ──(H(x, p))⋅─────(g(x, p)) + ───(H\n",
       "  ∂p          ⎜  ∂p            2            ∂x          ∂x ∂p              2  \n",
       "              ⎝              ∂x                                          ∂x   \n",
       "──────────────────────────────────────────────────────────────────────────────\n",
       "                                                                              \n",
       "\n",
       "                         2                      ⎞               ⎛             \n",
       "        ∂               ∂            ∂          ⎟   ∂           ⎜  ∂          \n",
       "(x, p))⋅──(g(x, p)) - ─────(H(x, p))⋅──(g(x, p))⎟ + ──(H(x, p))⋅⎜- ──(H(x, p))\n",
       "        ∂p            ∂x ∂p          ∂x         ⎟   ∂x          ⎜  ∂p         \n",
       "                                                ⎠               ⎝             \n",
       "──────────────────────────────────────────────────────────────────────────────\n",
       "                                                 2                            \n",
       "\n",
       "    2               2                                      2               2  \n",
       "   ∂               ∂           ∂             ∂            ∂               ∂   \n",
       "⋅─────(g(x, p)) - ───(H(x, p))⋅──(g(x, p)) + ──(H(x, p))⋅───(g(x, p)) + ─────(\n",
       " ∂x ∂p              2          ∂x            ∂x            2            ∂x ∂p \n",
       "                  ∂p                                     ∂p                   \n",
       "──────────────────────────────────────────────────────────────────────────────\n",
       "                                                                              \n",
       "\n",
       "                    ⎞                                                         \n",
       "         ∂          ⎟                                                         \n",
       "H(x, p))⋅──(g(x, p))⎟                                                         \n",
       "         ∂p         ⎟                                                         \n",
       "                    ⎠             ∂           ∂             ∂           ∂     \n",
       "───────────────────── + g(x, p) - ──(H(x, p))⋅──(g(x, p)) + ──(H(x, p))⋅──(g(x\n",
       "                                  ∂p          ∂x            ∂x          ∂p    \n",
       "\n",
       "     \n",
       "     \n",
       "     \n",
       "     \n",
       "     \n",
       ", p))\n",
       "     "
      ]
     },
     "execution_count": 143,
     "metadata": {},
     "output_type": "execute_result"
    }
   ],
   "source": [
    "lb.exp(g,3)"
   ]
  },
  {
   "cell_type": "code",
   "execution_count": 9,
   "metadata": {},
   "outputs": [],
   "source": [
    "n = 4\n",
    "def pn(n):\n",
    "    F = sympy.Matrix(np.zeros((n+1,n+1)))\n",
    "    for i in range(n+1):\n",
    "        for j in range(n+1):\n",
    "            if (j-i)>=0:\n",
    "                F[i,j] = sympy.Rational(1,int(fac(j-i))) # keep it rational !!!!\n",
    "\n",
    "\n",
    "    \n",
    "    G = sympy.Matrix(np.zeros((n+1,n+1)))\n",
    "    for i in range(n+1):\n",
    "        for j in range(n+1):\n",
    "            if (j-i)>=0:\n",
    "                if i==j:\n",
    "                    sigprod = 1\n",
    "                else:\n",
    "                    l = sympy.symbols('s{}:{}'.format(i,j))\n",
    "                    sigprod = reduce(sympy.Mul,l)\n",
    "                G[i,j] = sympy.Mul(sympy.Rational(1,int(np.math.factorial(j-i))),sigprod, evaluate=False)\n",
    "\n",
    "\n",
    "\n",
    "    qthpower = sympy.Matrix(np.eye(n+1))\n",
    "\n",
    "    FGm1 = sympy.nsimplify(F*G - qthpower)\n",
    "\n",
    "    FGm1\n",
    "\n",
    "\n",
    "    summ = 0\n",
    "\n",
    "    for q in range(1,n+1):\n",
    "        qthpower = sympy.nsimplify(sympy.MatMul(qthpower, FGm1, evaluate=False))\n",
    "\n",
    "        summ += sympy.nsimplify((-1)**(q-1)/q * qthpower)[0,n] # q-1 because mathematica starts at 1 and not 0, there for sign change\n",
    "\n",
    "    return sympy.expand(summ)\n",
    "\n",
    "def translated(op1,op2,n):\n",
    "    l = sympy.symbols('s{}:{}'.format(0,n))\n",
    "    temp = reduce(functools.partial(sympy.Mul,evaluate=False),[k*k for k in l])\n",
    "    temp = sympy.expand(sympy.Mul(temp, pn(n), evaluate=False),evaluate=False)\n",
    "    with sympy.evaluate(False):\n",
    "        ln = sympy.symbols('r{}:{}'.format(0,n), commutative=False)\n",
    "        for i, s in enumerate(l):\n",
    "            temp = temp.subs(l[i],ln[i])\n",
    "        for i in range(n):\n",
    "#             f = sympy.Symbol('f',commutative=False)\n",
    "#             g = sympy.Symbol('g',commutative=False)\n",
    "            temp = temp.subs(ln[i]**3,op2)\n",
    "            temp = temp.subs(ln[i]**2,op1)\n",
    "            temp = temp.subs(op2**0,1)\n",
    "    \n",
    "    return temp\n",
    "\n",
    "def HCB(op1,op2,n):\n",
    "    s = 0\n",
    "    for i in range(1,n+1):\n",
    "        s+= translated(op1,op2,i)\n",
    "    return s"
   ]
  },
  {
   "cell_type": "code",
   "execution_count": 10,
   "metadata": {},
   "outputs": [
    {
     "data": {
      "image/png": "[encoded data removed]",
      "text/latex": [
       "$\\displaystyle H{\\left(x,p \\right)} + g{\\left(x,p \\right)}$"
      ],
      "text/plain": [
       "H(x, p) + g(x, p)"
      ]
     },
     "execution_count": 10,
     "metadata": {},
     "output_type": "execute_result"
    }
   ],
   "source": [
    "translated(H,g,1)"
   ]
  },
  {
   "cell_type": "code",
   "execution_count": 11,
   "metadata": {},
   "outputs": [
    {
     "data": {
      "image/png": "[encoded data removed]",
      "text/latex": [
       "$\\displaystyle H{\\left(x,p \\right)} + \\frac{H{\\left(x,p \\right)} H{\\left(x,p \\right)} g{\\left(x,p \\right)}}{12} + \\frac{H{\\left(x,p \\right)} g{\\left(x,p \\right)}}{2} - \\frac{H{\\left(x,p \\right)} g{\\left(x,p \\right)} H{\\left(x,p \\right)}}{6} + \\frac{H{\\left(x,p \\right)} g{\\left(x,p \\right)} g{\\left(x,p \\right)}}{12} + g{\\left(x,p \\right)} - \\frac{g{\\left(x,p \\right)} H{\\left(x,p \\right)}}{2} + \\frac{g{\\left(x,p \\right)} H{\\left(x,p \\right)} H{\\left(x,p \\right)}}{12} - \\frac{g{\\left(x,p \\right)} H{\\left(x,p \\right)} g{\\left(x,p \\right)}}{6} + \\frac{g{\\left(x,p \\right)} g{\\left(x,p \\right)} H{\\left(x,p \\right)}}{12}$"
      ],
      "text/plain": [
       "          H(x, p)⋅H(x, p)⋅g(x, p)   H(x, p)⋅g(x, p)   H(x, p)⋅g(x, p)⋅H(x, p) \n",
       "H(x, p) + ─────────────────────── + ─────────────── - ─────────────────────── \n",
       "                     12                    2                     6            \n",
       "\n",
       "  H(x, p)⋅g(x, p)⋅g(x, p)             g(x, p)⋅H(x, p)   g(x, p)⋅H(x, p)⋅H(x, p\n",
       "+ ─────────────────────── + g(x, p) - ─────────────── + ──────────────────────\n",
       "             12                              2                     12         \n",
       "\n",
       ")   g(x, p)⋅H(x, p)⋅g(x, p)   g(x, p)⋅g(x, p)⋅H(x, p)\n",
       "─ - ─────────────────────── + ───────────────────────\n",
       "               6                         12          "
      ]
     },
     "execution_count": 11,
     "metadata": {},
     "output_type": "execute_result"
    }
   ],
   "source": [
    "HCB(H,g,3)"
   ]
  },
  {
   "cell_type": "code",
   "execution_count": 12,
   "metadata": {},
   "outputs": [
    {
     "data": {
      "image/png": "[encoded data removed]",
      "text/latex": [
       "$\\displaystyle H{\\left(x,p \\right)} + \\frac{H{\\left(x,p \\right)} g{\\left(x,p \\right)}}{2} + g{\\left(x,p \\right)} - \\frac{g{\\left(x,p \\right)} H{\\left(x,p \\right)}}{2}$"
      ],
      "text/plain": [
       "          H(x, p)⋅g(x, p)             g(x, p)⋅H(x, p)\n",
       "H(x, p) + ─────────────── + g(x, p) - ───────────────\n",
       "                 2                           2       "
      ]
     },
     "execution_count": 12,
     "metadata": {},
     "output_type": "execute_result"
    }
   ],
   "source": [
    "HCB(H,g,2)"
   ]
  },
  {
   "cell_type": "code",
   "execution_count": 18,
   "metadata": {},
   "outputs": [],
   "source": [
    "Z = sympy.Function('Z', commutative=False)(x,p)\n",
    "W = sympy.Function('W', commutative=False)(x,p)\n",
    "h = HCB(Z,W,2)\n",
    "test = LieMap(h,x,p)"
   ]
  },
  {
   "cell_type": "code",
   "execution_count": 19,
   "metadata": {},
   "outputs": [
    {
     "data": {
      "image/png": "[encoded data removed]",
      "text/latex": [
       "$\\displaystyle \\left( W{\\left(x,p \\right)} - \\frac{W{\\left(x,p \\right)} Z{\\left(x,p \\right)}}{2} + Z{\\left(x,p \\right)} + \\frac{Z{\\left(x,p \\right)} W{\\left(x,p \\right)}}{2}, \\  \\left[ x\\right], \\  \\left[ p\\right]\\right)$"
      ],
      "text/plain": [
       "⎛          W(x, p)⋅Z(x, p)             Z(x, p)⋅W(x, p)          ⎞\n",
       "⎜W(x, p) - ─────────────── + Z(x, p) + ───────────────, [x], [p]⎟\n",
       "⎝                 2                           2                 ⎠"
      ]
     },
     "execution_count": 19,
     "metadata": {},
     "output_type": "execute_result"
    }
   ],
   "source": [
    "test.ham, test.indep_coords, test.indep_mom"
   ]
  },
  {
   "cell_type": "code",
   "execution_count": 20,
   "metadata": {},
   "outputs": [
    {
     "data": {
      "image/png": "[encoded data removed]",
      "text/latex": [
       "$\\displaystyle - \\left(- \\frac{W{\\left(x,p \\right)} \\frac{\\partial}{\\partial p} Z{\\left(x,p \\right)}}{2} + \\frac{Z{\\left(x,p \\right)} \\frac{\\partial}{\\partial p} W{\\left(x,p \\right)}}{2} + \\frac{\\partial}{\\partial p} W{\\left(x,p \\right)} - \\frac{\\frac{\\partial}{\\partial p} W{\\left(x,p \\right)} Z{\\left(x,p \\right)}}{2} + \\frac{\\partial}{\\partial p} Z{\\left(x,p \\right)} + \\frac{\\frac{\\partial}{\\partial p} Z{\\left(x,p \\right)} W{\\left(x,p \\right)}}{2}\\right) \\frac{\\partial}{\\partial x} H{\\left(x,p \\right)} + \\left(- \\frac{W{\\left(x,p \\right)} \\frac{\\partial}{\\partial x} Z{\\left(x,p \\right)}}{2} + \\frac{Z{\\left(x,p \\right)} \\frac{\\partial}{\\partial x} W{\\left(x,p \\right)}}{2} + \\frac{\\partial}{\\partial x} W{\\left(x,p \\right)} - \\frac{\\frac{\\partial}{\\partial x} W{\\left(x,p \\right)} Z{\\left(x,p \\right)}}{2} + \\frac{\\partial}{\\partial x} Z{\\left(x,p \\right)} + \\frac{\\frac{\\partial}{\\partial x} Z{\\left(x,p \\right)} W{\\left(x,p \\right)}}{2}\\right) \\frac{\\partial}{\\partial p} H{\\left(x,p \\right)}$"
      ],
      "text/plain": [
       "  ⎛          ∂                     ∂                           ∂              \n",
       "  ⎜  W(x, p)⋅──(Z(x, p))   Z(x, p)⋅──(W(x, p))                 ──(W(x, p))⋅Z(x\n",
       "  ⎜          ∂p                    ∂p            ∂             ∂p             \n",
       "- ⎜- ─────────────────── + ─────────────────── + ──(W(x, p)) - ───────────────\n",
       "  ⎝           2                     2            ∂p                     2     \n",
       "\n",
       "                     ∂                  ⎞               ⎛          ∂          \n",
       ", p)                 ──(Z(x, p))⋅W(x, p)⎟               ⎜  W(x, p)⋅──(Z(x, p))\n",
       "       ∂             ∂p                 ⎟ ∂             ⎜          ∂x         \n",
       "──── + ──(Z(x, p)) + ───────────────────⎟⋅──(H(x, p)) + ⎜- ───────────────────\n",
       "       ∂p                     2         ⎠ ∂x            ⎝           2         \n",
       "\n",
       "           ∂                           ∂                                   ∂  \n",
       "   Z(x, p)⋅──(W(x, p))                 ──(W(x, p))⋅Z(x, p)                 ──(\n",
       "           ∂x            ∂             ∂x                    ∂             ∂x \n",
       " + ─────────────────── + ──(W(x, p)) - ─────────────────── + ──(Z(x, p)) + ───\n",
       "            2            ∂x                     2            ∂x               \n",
       "\n",
       "                ⎞            \n",
       "Z(x, p))⋅W(x, p)⎟            \n",
       "                ⎟ ∂          \n",
       "────────────────⎟⋅──(H(x, p))\n",
       "      2         ⎠ ∂p         "
      ]
     },
     "execution_count": 20,
     "metadata": {},
     "output_type": "execute_result"
    }
   ],
   "source": [
    "test.Poisson(H)"
   ]
  },
  {
   "cell_type": "markdown",
   "metadata": {},
   "source": [
    "# Drift Space test run"
   ]
  },
  {
   "cell_type": "code",
   "execution_count": 38,
   "metadata": {},
   "outputs": [],
   "source": [
    "x, y, px, py, delta = sympy.symbols('x y px py d')\n",
    "Hd = - sympy.sqrt((1+delta)**2 - px**2 - py**2)"
   ]
  },
  {
   "cell_type": "code",
   "execution_count": 39,
   "metadata": {},
   "outputs": [
    {
     "data": {
      "image/png": "[encoded data removed]",
      "text/latex": [
       "$\\displaystyle - \\sqrt{- px^{2} - py^{2} + \\left(d + 1\\right)^{2}}$"
      ],
      "text/plain": [
       "    ________________________\n",
       "   ╱     2     2          2 \n",
       "-╲╱  - px  - py  + (d + 1)  "
      ]
     },
     "execution_count": 39,
     "metadata": {},
     "output_type": "execute_result"
    }
   ],
   "source": [
    "Hd"
   ]
  },
  {
   "cell_type": "code",
   "execution_count": 40,
   "metadata": {},
   "outputs": [],
   "source": [
    "drift = LieMap(Hd,[x,y],[px,py])"
   ]
  },
  {
   "cell_type": "code",
   "execution_count": 162,
   "metadata": {},
   "outputs": [
    {
     "name": "stdout",
     "output_type": "stream",
     "text": [
      "-sqrt(-px**2 - py**2 + (d + 1)**2) [x, y] [px, py]\n"
     ]
    }
   ],
   "source": [
    "drift.ham, drift.indep_coords, drift.indep_mom"
   ]
  },
  {
   "cell_type": "code",
   "execution_count": 167,
   "metadata": {},
   "outputs": [
    {
     "data": {
      "image/png": "[encoded data removed]",
      "text/latex": [
       "$\\displaystyle - \\frac{px}{\\sqrt{- px^{2} - py^{2} + \\left(d + 1\\right)^{2}}} + x$"
      ],
      "text/plain": [
       "               px                \n",
       "- ─────────────────────────── + x\n",
       "     ________________________    \n",
       "    ╱     2     2          2     \n",
       "  ╲╱  - px  - py  + (d + 1)      "
      ]
     },
     "execution_count": 167,
     "metadata": {},
     "output_type": "execute_result"
    }
   ],
   "source": [
    "drift.exp(x,8)"
   ]
  },
  {
   "cell_type": "code",
   "execution_count": 163,
   "metadata": {},
   "outputs": [
    {
     "data": {
      "image/png": "[encoded data removed]",
      "text/latex": [
       "$\\displaystyle px$"
      ],
      "text/plain": [
       "px"
      ]
     },
     "execution_count": 163,
     "metadata": {},
     "output_type": "execute_result"
    }
   ],
   "source": [
    "drift.exp(px,8)"
   ]
  },
  {
   "cell_type": "code",
   "execution_count": 164,
   "metadata": {},
   "outputs": [
    {
     "data": {
      "image/png": "[encoded data removed]",
      "text/latex": [
       "$\\displaystyle - \\frac{py}{\\sqrt{- px^{2} - py^{2} + \\left(d + 1\\right)^{2}}} + y$"
      ],
      "text/plain": [
       "               py                \n",
       "- ─────────────────────────── + y\n",
       "     ________________________    \n",
       "    ╱     2     2          2     \n",
       "  ╲╱  - px  - py  + (d + 1)      "
      ]
     },
     "execution_count": 164,
     "metadata": {},
     "output_type": "execute_result"
    }
   ],
   "source": [
    "drift.exp(y,8)"
   ]
  },
  {
   "cell_type": "code",
   "execution_count": 165,
   "metadata": {},
   "outputs": [
    {
     "data": {
      "image/png": "[encoded data removed]",
      "text/latex": [
       "$\\displaystyle py$"
      ],
      "text/plain": [
       "py"
      ]
     },
     "execution_count": 165,
     "metadata": {},
     "output_type": "execute_result"
    }
   ],
   "source": [
    "drift.exp(py,8)"
   ]
  },
  {
   "cell_type": "markdown",
   "metadata": {},
   "source": [
    "## applying with quadrupole"
   ]
  },
  {
   "cell_type": "code",
   "execution_count": 144,
   "metadata": {},
   "outputs": [],
   "source": [
    "x,p,k = sympy.symbols('x p k')\n",
    "Hq = -sympy.Rational(1,2)*(k*x**2 + p**2)"
   ]
  },
  {
   "cell_type": "code",
   "execution_count": 145,
   "metadata": {},
   "outputs": [
    {
     "data": {
      "image/png": "[encoded data removed]",
      "text/latex": [
       "$\\displaystyle - \\frac{k x^{2}}{2} - \\frac{p^{2}}{2}$"
      ],
      "text/plain": [
       "     2    2\n",
       "  k⋅x    p \n",
       "- ──── - ──\n",
       "   2     2 "
      ]
     },
     "execution_count": 145,
     "metadata": {},
     "output_type": "execute_result"
    }
   ],
   "source": [
    "Hq"
   ]
  },
  {
   "cell_type": "code",
   "execution_count": 146,
   "metadata": {},
   "outputs": [],
   "source": [
    "quadrupole = LieMap(Hq,x,p)"
   ]
  },
  {
   "cell_type": "code",
   "execution_count": 168,
   "metadata": {},
   "outputs": [
    {
     "name": "stdout",
     "output_type": "stream",
     "text": [
      "-k*x**2/2 - p**2/2 [x] [p]\n"
     ]
    }
   ],
   "source": [
    "print(quadrupole.ham, quadrupole.indep_coords, quadrupole.indep_mom)"
   ]
  },
  {
   "cell_type": "code",
   "execution_count": 148,
   "metadata": {},
   "outputs": [
    {
     "data": {
      "image/png": "[encoded data removed]",
      "text/latex": [
       "$\\displaystyle p$"
      ],
      "text/plain": [
       "p"
      ]
     },
     "execution_count": 148,
     "metadata": {},
     "output_type": "execute_result"
    }
   ],
   "source": [
    "quadrupole.Poisson(x)"
   ]
  },
  {
   "cell_type": "code",
   "execution_count": 149,
   "metadata": {},
   "outputs": [
    {
     "data": {
      "image/png": "[encoded data removed]",
      "text/latex": [
       "$\\displaystyle - k x$"
      ],
      "text/plain": [
       "-k⋅x"
      ]
     },
     "execution_count": 149,
     "metadata": {},
     "output_type": "execute_result"
    }
   ],
   "source": [
    "quadrupole.Poisson(quadrupole.Poisson(x))"
   ]
  },
  {
   "cell_type": "code",
   "execution_count": 150,
   "metadata": {},
   "outputs": [
    {
     "data": {
      "image/png": "[encoded data removed]",
      "text/latex": [
       "$\\displaystyle x$"
      ],
      "text/plain": [
       "x"
      ]
     },
     "execution_count": 150,
     "metadata": {},
     "output_type": "execute_result"
    }
   ],
   "source": [
    "quadrupole.exp(x,0)"
   ]
  },
  {
   "cell_type": "code",
   "execution_count": 170,
   "metadata": {},
   "outputs": [
    {
     "name": "stdout",
     "output_type": "stream",
     "text": [
      "-k**5*x/3628800 + k**4*p/362880 + k**4*x/40320 - k**3*p/5040 - k**3*x/720 + k**2*p/120 + k**2*x/24 - k*p/6 - k*x/2 + p + x\n"
     ]
    }
   ],
   "source": [
    "print(quadrupole.exp(x,10))"
   ]
  },
  {
   "cell_type": "code",
   "execution_count": 171,
   "metadata": {},
   "outputs": [
    {
     "name": "stdout",
     "output_type": "stream",
     "text": [
      "x - k*x/2 + k**2*x/24 - k**3*x/720 + k**4*x/40320 - k**5*x/3628800 + O(k**6)\n"
     ]
    }
   ],
   "source": [
    "from sympy import cos, sin, series\n",
    "print(sympy.series(cos(sympy.sqrt(k))*x,k))"
   ]
  },
  {
   "cell_type": "code",
   "execution_count": 173,
   "metadata": {},
   "outputs": [
    {
     "name": "stdout",
     "output_type": "stream",
     "text": [
      "p - k*p/6 + k**2*p/120 - k**3*p/5040 + k**4*p/362880 - k**5*p/39916800 + O(k**6)\n"
     ]
    }
   ],
   "source": [
    "print(sympy.series(sin(sympy.sqrt(k))*p/sympy.sqrt(k),k))"
   ]
  },
  {
   "cell_type": "code",
   "execution_count": 153,
   "metadata": {},
   "outputs": [
    {
     "data": {
      "image/png": "[encoded data removed]",
      "text/latex": [
       "$\\displaystyle - \\frac{k^{5} p}{3628800} - \\frac{k^{5} x}{362880} + \\frac{k^{4} p}{40320} + \\frac{k^{4} x}{5040} - \\frac{k^{3} p}{720} - \\frac{k^{3} x}{120} + \\frac{k^{2} p}{24} + \\frac{k^{2} x}{6} - \\frac{k p}{2} - k x + p$"
      ],
      "text/plain": [
       "     5        5        4      4      3      3      2      2                  \n",
       "    k ⋅p     k ⋅x     k ⋅p   k ⋅x   k ⋅p   k ⋅x   k ⋅p   k ⋅x   k⋅p          \n",
       "- ─────── - ────── + ───── + ──── - ──── - ──── + ──── + ──── - ─── - k⋅x + p\n",
       "  3628800   362880   40320   5040   720    120     24     6      2           "
      ]
     },
     "execution_count": 153,
     "metadata": {},
     "output_type": "execute_result"
    }
   ],
   "source": [
    "quadrupole.exp(p,10)"
   ]
  },
  {
   "cell_type": "code",
   "execution_count": 172,
   "metadata": {},
   "outputs": [
    {
     "name": "stdout",
     "output_type": "stream",
     "text": [
      "-k*x + k**2*x/6 - k**3*x/120 + k**4*x/5040 - k**5*x/362880 + O(k**6)\n"
     ]
    }
   ],
   "source": [
    "print(sympy.series(-sympy.sqrt(k)*sin(sympy.sqrt(k))*x,k))"
   ]
  },
  {
   "cell_type": "code",
   "execution_count": 161,
   "metadata": {},
   "outputs": [
    {
     "data": {
      "image/png": "[encoded data removed]",
      "text/latex": [
       "$\\displaystyle p - \\frac{k p}{2} + \\frac{k^{2} p}{24} - \\frac{k^{3} p}{720} + \\frac{k^{4} p}{40320} - \\frac{k^{5} p}{3628800} + O\\left(k^{6}\\right)$"
      ],
      "text/plain": [
       "           2      3       4        5           \n",
       "    k⋅p   k ⋅p   k ⋅p    k ⋅p     k ⋅p     ⎛ 6⎞\n",
       "p - ─── + ──── - ──── + ───── - ─────── + O⎝k ⎠\n",
       "     2     24    720    40320   3628800        "
      ]
     },
     "execution_count": 161,
     "metadata": {},
     "output_type": "execute_result"
    }
   ],
   "source": [
    "sympy.series(cos(sympy.sqrt(k))*p,k)"
   ]
  },
  {
   "cell_type": "code",
   "execution_count": null,
   "metadata": {},
   "outputs": [],
   "source": []
  }
 ],
 "metadata": {
  "kernelspec": {
   "display_name": "Python 3",
   "language": "python",
   "name": "python3"
  },
  "language_info": {
   "codemirror_mode": {
    "name": "ipython",
    "version": 3
   },
   "file_extension": ".py",
   "mimetype": "text/x-python",
   "name": "python",
   "nbconvert_exporter": "python",
   "pygments_lexer": "ipython3",
   "version": "3.6.7"
  }
 },
 "nbformat": 4,
 "nbformat_minor": 2
}
