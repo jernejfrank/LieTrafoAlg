{
 "cells": [
  {
   "cell_type": "code",
   "execution_count": 1,
   "metadata": {},
   "outputs": [],
   "source": [
    "import numpy as np\n",
    "import pandas as pd\n",
    "import sympy\n",
    "from sympy import *\n",
    "from operator import mul\n",
    "from functools import reduce\n",
    "from mpmath import fac\n",
    "import functools\n",
    "from sympy import init_printing\n",
    "from IPython.display import display_latex\n",
    "init_printing()"
   ]
  },
  {
   "cell_type": "markdown",
   "metadata": {},
   "source": [
    "# Lie Bracket\n",
    "$$:f: = \\left[f, \\cdot \\right]\n",
    "= \\frac{\\partial f}{\\partial x} \\frac{\\partial \\cdot }{\\partial p} - \\frac{\\partial f}{\\partial p} \\frac{\\partial \\cdot}{\\partial x} $$"
   ]
  },
  {
   "cell_type": "code",
   "execution_count": 13,
   "metadata": {},
   "outputs": [],
   "source": [
    "class LieBracket:\n",
    "    \"\"\"\n",
    "    Lie bracket class\n",
    "    \"\"\"\n",
    "    def __init__(self, ham, indep_coords, indep_mom):\n",
    "        self._ham = ham\n",
    "        if not isinstance(indep_coords, list):\n",
    "            indep_coords = [indep_coords]\n",
    "        if not isinstance(indep_mom, list):\n",
    "            indep_mom = [indep_mom]\n",
    "\n",
    "        assert(len(indep_coords)==len(indep_mom)),'The number of coords and momenta is not the same'\n",
    "        self._indep_coords = indep_coords\n",
    "        self._indep_mom = indep_mom\n",
    "    \n",
    "    @property\n",
    "    def ham(self):\n",
    "        return self._ham\n",
    "    \n",
    "    @ham.setter\n",
    "    def ham(self, other):\n",
    "        self._ham = self._ham.subs(self.ham, other).doit()\n",
    "        \n",
    "    @property\n",
    "    def indep_coords(self):\n",
    "        return self._indep_coords\n",
    "    \n",
    "    @indep_coords.setter\n",
    "    def indep_coords(self, other):\n",
    "        self._indep_coords = other\n",
    "        \n",
    "    @property\n",
    "    def indep_mom(self):\n",
    "        return self._indep_mom\n",
    "    \n",
    "    @indep_mom.setter\n",
    "    def indep_mom(self, other):\n",
    "        self._indep_mom = other"
   ]
  },
  {
   "cell_type": "code",
   "execution_count": 15,
   "metadata": {},
   "outputs": [],
   "source": [
    "x,p = sympy.symbols('x p')\n",
    "H = sympy.Function('H', commutative=False)(x, p)\n",
    "la = LieBracket(H,x,p)"
   ]
  },
  {
   "cell_type": "code",
   "execution_count": 16,
   "metadata": {},
   "outputs": [
    {
     "data": {
      "image/png": "[encoded data removed]",
      "text/latex": [
       "$\\displaystyle \\left( H{\\left(x,p \\right)}, \\  \\left[ x\\right], \\  \\left[ p\\right]\\right)$"
      ],
      "text/plain": [
       "(H(x, p), [x], [p])"
      ]
     },
     "execution_count": 16,
     "metadata": {},
     "output_type": "execute_result"
    }
   ],
   "source": [
    "la.ham, la.indep_coords, la.indep_mom"
   ]
  },
  {
   "cell_type": "code",
   "execution_count": null,
   "metadata": {},
   "outputs": [],
   "source": []
  }
 ],
 "metadata": {
  "kernelspec": {
   "display_name": "Python 3",
   "language": "python",
   "name": "python3"
  },
  "language_info": {
   "codemirror_mode": {
    "name": "ipython",
    "version": 3
   },
   "file_extension": ".py",
   "mimetype": "text/x-python",
   "name": "python",
   "nbconvert_exporter": "python",
   "pygments_lexer": "ipython3",
   "version": "3.6.7"
  }
 },
 "nbformat": 4,
 "nbformat_minor": 2
}
