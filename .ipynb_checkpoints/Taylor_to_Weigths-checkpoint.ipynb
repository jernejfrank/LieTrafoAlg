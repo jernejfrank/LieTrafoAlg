{
 "cells": [
  {
   "cell_type": "code",
   "execution_count": 1,
   "metadata": {},
   "outputs": [],
   "source": [
    "import numpy as np\n",
    "\n",
    "import sympy\n",
    "from sympy import *\n",
    "from operator import mul\n",
    "import mpmath as mp\n",
    "from mpmath import fac\n",
    "import functools\n",
    "from sympy import init_printing\n",
    "from sympy.core.decorators import _sympifyit, call_highest_priority\n",
    "from IPython.display import display_latex\n",
    "init_printing()\n",
    "import copy\n",
    "import collections\n",
    "\n",
    "from functools import reduce  # Required in Python 3\n",
    "import operator\n",
    "#akin to built - in sum() but for product\n",
    "def prod(iterable):\n",
    "    return reduce(operator.mul, iterable, 1)"
   ]
  },
  {
   "cell_type": "code",
   "execution_count": 2,
   "metadata": {},
   "outputs": [],
   "source": [
    "sym_x, sym_y, sym_z, sym_px, sym_py, sym_pz = sympy.symbols('x y z p_x p_y \\delta')"
   ]
  },
  {
   "cell_type": "code",
   "execution_count": 3,
   "metadata": {},
   "outputs": [],
   "source": [
    "class LieOperator(Expr):\n",
    "    '''\n",
    "    Defined algebra for the Lie operator:\n",
    "    Addition: Hamiltonian functions get added into a new Lie operator\n",
    "    Multiplication: Poisson bracket gets applied\n",
    "    Exp: Lie Transfer Map gets applied\n",
    "    BCH: Baker- Campbell - Hausdorff expansion gets applied as Lie Tranfer Map concatenation\n",
    "    CAUTION: NOT ASSOCIATIVE\n",
    "\n",
    "    INPUT: Hamiltonian, generalized coordinates and momenta\n",
    "    '''\n",
    "    \n",
    "    \n",
    "    _op_priority = 11.0\n",
    "\n",
    "    is_commutative = False\n",
    "    \n",
    "    \n",
    "    def __new__(cls, ham, indep_coords, indep_mom):\n",
    "        if not isinstance(indep_coords, list): #create list of coords\n",
    "            indep_coords = [indep_coords]\n",
    "        if not isinstance(indep_mom, list): #create list of momenta\n",
    "            indep_mom = [indep_mom]\n",
    "        \n",
    "        #same number of coordinates and momenta have to be entered\n",
    "        assert(len(indep_coords)==len(indep_mom)),'The number of coords and momenta is not the same'\n",
    "            \n",
    "        obj = Expr.__new__(cls, ham, indep_coords, indep_mom)\n",
    "        obj._ham = ham\n",
    "        obj._indep_coords = indep_coords\n",
    "        obj._indep_mom = indep_mom\n",
    "        return obj\n",
    "    \n",
    "    \n",
    "    @property\n",
    "    def ham(self):\n",
    "        return self._ham\n",
    "    \n",
    "    @ham.setter\n",
    "    def ham(self, other):\n",
    "        #Input has to be a function\n",
    "        assert(not(S(ham.is_number))), 'Input has to be a function and not a number'\n",
    "        self._ham = self._ham.subs(self.ham, other).doit()\n",
    "        \n",
    "    @property\n",
    "    def indep_coords(self):\n",
    "        return self._indep_coords\n",
    "    \n",
    "    @indep_coords.setter\n",
    "    def indep_coords(self, other):\n",
    "        self._indep_coords = other\n",
    "        \n",
    "    @property\n",
    "    def indep_mom(self):\n",
    "        return self._indep_mom\n",
    "    \n",
    "    @indep_mom.setter\n",
    "    def indep_mom(self, other):\n",
    "        self._indep_mom = other\n",
    "        \n",
    "        \n",
    "        \n",
    "    \n",
    "    #Algebraic properties \n",
    "\n",
    "    #Define Addition\n",
    "    @_sympifyit('other', NotImplemented)\n",
    "    @call_highest_priority('__radd__')\n",
    "    def __add__(self,other):\n",
    "        if not isinstance(other, LieOperator):\n",
    "            raise TypeError(other, ' has to be a Lie Operator')\n",
    "        elif not collections.Counter(self.indep_coords) == collections.Counter(other.indep_coords):\n",
    "            raise TypeError('Lie Operators do not have the same dimension.')\n",
    "        else:\n",
    "            return LieOperator(self.ham + other.ham, self.indep_coords,self.indep_mom)\n",
    "\n",
    "    @_sympifyit('other', NotImplemented)\n",
    "    @call_highest_priority('__add__')\n",
    "    def __radd__(self,other):\n",
    "        if not isinstance(other, LieOperator):\n",
    "            raise TypeError(other, ' has to be a Lie Operator')\n",
    "        elif not collections.Counter(self.indep_coords) == collections.Counter(other.indep_coords):\n",
    "            raise TypeError('Lie Operators do not have the same dimension.')\n",
    "        else:\n",
    "            return LieOperator(self.ham + other.ham, self.indep_coords,self.indep_mom)\n",
    "    \n",
    "    #Define Substraction\n",
    "    @_sympifyit('other', NotImplemented)\n",
    "    @call_highest_priority('__rsub__')\n",
    "    def __sub__(self, other):\n",
    "        if not isinstance(other, LieOperator):\n",
    "            raise TypeError(other, ' has to be a Lie Operator')\n",
    "        elif not collections.Counter(self.indep_coords) == collections.Counter(other.indep_coords):\n",
    "            raise TypeError('Lie Operators do not have the same dimension.')\n",
    "        else:\n",
    "            return LieOperator(self.ham - other.ham, self.indep_coords,self.indep_mom)\n",
    "\n",
    "    @_sympifyit('other', NotImplemented)\n",
    "    @call_highest_priority('__sub__')\n",
    "    def __rsub__(self, other):\n",
    "        if not isinstance(other, LieOperator):\n",
    "            raise TypeError(other, ' has to be a Lie Operator')\n",
    "        elif not collections.Counter(self.indep_coords) == collections.Counter(other.indep_coords):\n",
    "            raise TypeError('Lie Operators do not have the same dimension.')\n",
    "        else:\n",
    "            return LieOperator(self.ham - other.ham, self.indep_coords,self.indep_mom)\n",
    "        \n",
    "    #Define Multiplication\n",
    "    @_sympifyit('other', NotImplemented)\n",
    "    @call_highest_priority('__rmul__')\n",
    "    def __mul__(self, other):\n",
    "        return self.LieOperatorMul(other)\n",
    "        \n",
    "        \n",
    "    @_sympifyit('other', NotImplemented)\n",
    "    @call_highest_priority('__mul__')\n",
    "    def __rmul__(self,other):\n",
    "        if S(other).is_number:\n",
    "            return LieOperator(other*self.ham,self.indep_coords,self.indep_mom)\n",
    "        elif not isinstance(other, LieOperator):\n",
    "            other = LieOperator(other,self.indep_coords,self.indep_mom) \n",
    "        return other.LieOperatorMul(self)\n",
    "    \n",
    "    \n",
    "    def LieOperatorMul(_ham1, _ham2):\n",
    "        if not isinstance(_ham2, LieOperator):\n",
    "            _ham2 = LieOperator(_ham2,_ham1.indep_coords,_ham1.indep_mom) \n",
    "        if not collections.Counter(_ham1.indep_coords) == collections.Counter(_ham2.indep_coords):\n",
    "            raise TypeError('Lie Operators do not have the same dimension.')\n",
    "        else:\n",
    "            return _ham1.Poisson(_ham2)\n",
    "    \n",
    "    \n",
    "    #Calcualte Poisson bracket with input function\n",
    "    def Poisson(self,other):\n",
    "        _h1 = self.ham\n",
    "        _h2 = other.ham\n",
    "        hp = S(0)\n",
    "        for qi,pi in zip(self.indep_coords, self.indep_mom):\n",
    "            hp += _h1.diff(qi) * _h2.diff(pi) \n",
    "            hp -= _h1.diff(pi) * _h2.diff(qi)\n",
    "        return LieOperator(hp,self.indep_coords,self.indep_mom)\n",
    "    \n",
    "    \n",
    "    #Exponential Map: Lie Transform Map\n",
    "    #Calculate the exponential map of the Lie operator to the input cutoff\n",
    "    def LieMap(self,other,power):\n",
    "        s = S(0)\n",
    "        \n",
    "        for i in range(power+1):\n",
    "            s += sympy.Rational(1,factorial(i))*(self.ExpPowerLieBracket(other,i)).ham\n",
    "        \n",
    "        return LieOperator(s,self.indep_coords,self.indep_mom) \n",
    "    \n",
    "    \n",
    "    \n",
    "    #Successively apply Poisson bracket to input function to the input cutoff\n",
    "    def ExpPowerLieBracket(self, other, power):\n",
    "        _op1 = self\n",
    "        _op2 = other\n",
    "        \n",
    "        \n",
    "        if power > 0:\n",
    "            hp = _op1*_op2\n",
    "            \n",
    "            for s in range(1,power):\n",
    "                hp = _op1*hp\n",
    "                \n",
    "        else:\n",
    "            if not isinstance(_op2, LieOperator):\n",
    "                _op2 = LieOperator(_op2, self.indep_coords,self.indep_mom)\n",
    "            \n",
    "            hp = _op2\n",
    "        \n",
    "        return hp\n",
    "    \n",
    "    #Up to order 4 done manually to have a working copy, arbitrary ordered needs to be still written\n",
    "    def BCH(self,other,n):\n",
    "        if not isinstance(other, LieOperator):\n",
    "            raise TypeError(other, ' has to be a Lie Operator')\n",
    "        elif not collections.Counter(self.indep_coords) == collections.Counter(other.indep_coords):\n",
    "            raise TypeError('Lie Operators do not have the same dimension.')\n",
    "        elif n < 1:\n",
    "            raise ValueError(n, ' is not a valid order. Number has to be natural.')\n",
    "            \n",
    "        _op1 = LieOperator(self.ham,self.indep_coords, self.indep_mom)\n",
    "        _op2 = LieOperator(other.ham, other.indep_coords, other.indep_mom)\n",
    "        \n",
    "        \n",
    "        temp = _op1 + _op2\n",
    "        \n",
    "        if n > 1:\n",
    "            _xy = _op1 * _op2\n",
    "            _yx = _op2 * _op1\n",
    "            temp = temp + sympy.Rational(1,2) * _xy\n",
    "        \n",
    "        if n > 2:\n",
    "            _xxy = _op1 * _xy\n",
    "            _yyx = _op2 * _yx\n",
    "            temp = temp + sympy.Rational(1,12) * _xxy + sympy.Rational(1,12) * _yyx\n",
    "           \n",
    "        if n > 3:\n",
    "            _yxxy = _op2 * _xxy \n",
    "            temp = temp  - sympy.Rational(1,24) * _yxxy\n",
    "        \n",
    "        if n > 4:\n",
    "            _xyxyx = _op1 * (_op2 * (_op1 * _yx))\n",
    "            _yxyxy = _op2 * (_op1 * (_op2 * _xy))\n",
    "            \n",
    "            _xxxy = _op1 * _xxy\n",
    "            _yyyx = _op2 * _yyx\n",
    "            temp = temp + (sympy.Rational(1,120) * _xyxyx\n",
    "                           + sympy.Rational(1,120) * _yxyxy\n",
    "                           + sympy.Rational(1,360) * _op1 * _yyyx\n",
    "                           + sympy.Rational(1,360) * _op2 * _xxxy\n",
    "                           - sympy.Rational(1,720) * _op2 * _yyyx\n",
    "                           - sympy.Rational(1,720) * _op1 * _xxxy\n",
    "                          )\n",
    "       \n",
    "        return temp"
   ]
  },
  {
   "cell_type": "code",
   "execution_count": 4,
   "metadata": {},
   "outputs": [],
   "source": [
    "sym_x, sym_y, sym_z, sym_px, sym_py, sym_pz = sympy.symbols('x y z p_x p_y \\delta')\n",
    "\n",
    "def factorization(taylor): #Dragt-Finn factorization from taylor map vector\n",
    "    LieProduct = []\n",
    "    degree = 0\n",
    "    \n",
    "    for polynomial in taylor:\n",
    "        comp_degree = poly(polynomial).total_degree() #highest degree of hom poly in Lie map\n",
    "        if degree <= comp_degree:\n",
    "            degree = comp_degree\n",
    "\n",
    "    for i in range(2,degree+2):\n",
    "        T = taylor_to_lie(taylor, i) #coeff match to get hom poly in Lie product maps\n",
    "        LieProduct.append(T) #Lie maps product as array\n",
    "        taylor = transform_taylor(T, taylor, i, degree) #adjust higher order taylor coeff for next coeff extraction\n",
    "\n",
    "        if i > 5:\n",
    "            print('Implemented only to 5th order so far.')\n",
    "            break\n",
    "            \n",
    "    return LieProduct\n",
    "\n",
    "\n",
    "\n",
    "def taylor_to_lie(taylor,degree): #decide if linear or nonlinear\n",
    "    \n",
    "    if degree == 2:\n",
    "        f = deg2_lie(taylor) #linear case\n",
    "        \n",
    "    else:\n",
    "        f = degN_lie(taylor,degree) #higher order maps\n",
    "    \n",
    "    return f\n",
    "\n",
    "\n",
    "\n",
    "def deg2_lie(taylor): #extract matrix from linear part of the taylor polynomial\n",
    "    I = np.identity(6)\n",
    "    R = []\n",
    "    i = len(taylor)\n",
    "\n",
    "    for polynomial in taylor:\n",
    "        p = poly(polynomial, sym_x,sym_px,sym_y,sym_py,sym_z,sym_pz)\n",
    "        monomials = p.monoms()\n",
    "        coeffs = p.coeffs()\n",
    "        \n",
    "        Matrow = []\n",
    "        for j,row in enumerate(I):\n",
    "            try:\n",
    "                index = monomials.index(tuple(row))\n",
    "                Matrow.append(coeffs[index])\n",
    "            except:\n",
    "                if j < i: #make sure the matrix stays quadratic\n",
    "                    Matrow.append(0)\n",
    "\n",
    "        R.append(Matrow)\n",
    "        \n",
    "    \n",
    "    R = np.asarray(R, dtype='float') #convert to numpy so linalg can invert it\n",
    "    \n",
    "    return R\n",
    "\n",
    "\n",
    "\n",
    "def degN_lie(taylor, degree): #higher order Lie maps\n",
    "    _epstemp = sympy.symbols('e')\n",
    "    variables = (sym_x, sym_px, sym_y, sym_py, sym_z, sym_pz)\n",
    "    derivatives = (1,0,3,2,5,4) #order: d/dpx, d/dx, d/dpy, d/dy, d/dz, d/dz\n",
    "    f = poly(0, sym_x,sym_px,sym_y,sym_py,sym_z,sym_pz) #Lie map hom poly generated from taylor\n",
    "    \n",
    "    for var,polynomial in enumerate(taylor):\n",
    "        p = poly(polynomial, sym_x,sym_px,sym_y,sym_py,sym_z,sym_pz) #make it a sympy polynomial\n",
    "        order = [sum(mon) for mon in p.monoms()] #array of monomial degrees\n",
    "        for index,monomial in enumerate(p.monoms()): #iterate over all monomials in taylor\n",
    "            if order[index] == (degree-1): #check hom level -> derivative is order - 1\n",
    "#                 print(variables,monomial)\n",
    "                mon = prod(a**b for a,b in zip(variables,monomial)) #reconstruct monomial\n",
    "                if (f.coeff_monomial(mon * variables[derivatives[var]])) == 0: #avoid double sum of same coeff\n",
    "                    power = monomial[derivatives[var]] #normalize derivative power\n",
    "                    f = f + (p.coeffs()[index] / (power+1)) * mon * variables[derivatives[var]] * (-1)**(var)\n",
    "                    \n",
    "    return f.subs(_epstemp,0)\n",
    "\n",
    "\n",
    "\n",
    "def transform_taylor(ham, taylor, hom_order, degree=3): #adjust higher order coeffs\n",
    "    #getaround for .subs() being iterative\n",
    "    sym_x1, sym_y1, sym_z1, sym_px1, sym_py1, sym_pz1 = sympy.symbols('x_1 y_1 z_1 p_{x1} p_{y1} \\delta_1')\n",
    "    variables = (sym_x, sym_px, sym_y, sym_py, sym_z, sym_pz)\n",
    "    new_variables = (sym_x1, sym_px1, sym_y1, sym_py1, sym_z1, sym_pz1)\n",
    "    \n",
    "    if hom_order == 2: #linear case needs more checking\n",
    "        R_inv = np.linalg.inv(ham)\n",
    "        vec = [new_variables[i] for i in range(len(R_inv))]\n",
    "        \n",
    "        new_coords = np.dot(R_inv, vec) #exp(-:G_2:) z_1 = z_0 + higher orders\n",
    "        int_taylor = [polynomial.subs([(i,j) for i,j in zip(variables,new_coords)]) for polynomial in taylor]\n",
    "        taylor = [polynomial.subs([(i,j) for i,j in zip(vec,variables)]) for polynomial in int_taylor]\n",
    "    else: #higher order\n",
    "        LiePoly = LieOperator(-ham,[sym_x,sym_y,sym_z],[sym_px,sym_py,sym_pz]) #use hom poly ham of degree = hom_order\n",
    "        mod_taylor = taylorize(LiePoly, degree+1) #create symplectic jet to adjust the coeffs of taylor polynomial\n",
    "        taylor = [old_poly - new_poly for old_poly,new_poly in zip(taylor,mod_taylor)] #exp(-:G_n:)z -> subtract from taylor poly the symplectic jet\n",
    "    \n",
    "    return taylor\n",
    "\n",
    "def taylorize(LieHam, degree): #Apply Lie map to get taylor map vector on 6d vector\n",
    "    taylor_maps = []\n",
    "    \n",
    "    for i in LieHam.indep_coords:\n",
    "        fct = LieHam.LieMap(i,degree)\n",
    "        fct = truncate(fct,degree)\n",
    "        \n",
    "        taylor_maps.append(fct.expand())\n",
    "        \n",
    "    for i in LieHam.indep_mom:\n",
    "        fct = LieHam.LieMap(i,degree)\n",
    "        fct = truncate(fct,degree)\n",
    "        \n",
    "        taylor_maps.append(fct.expand())\n",
    "    \n",
    "    # reorder taylor maps to x, px, y, py, z, pz\n",
    "    if len(LieHam.indep_coords) == 2:\n",
    "        taylor_maps[1], taylor_maps[2] = taylor_maps[2], taylor_maps[1] #swtich y and px\n",
    "        \n",
    "    elif len(LieHam.indep_coords) == 3:\n",
    "        taylor_maps[1], taylor_maps[3] = taylor_maps[3], taylor_maps[1] #swtich y and px\n",
    "        taylor_maps[2], taylor_maps[3] = taylor_maps[3], taylor_maps[2] #switch z and y\n",
    "        taylor_maps[3], taylor_maps[4] = taylor_maps[4], taylor_maps[3] #switch z and py\n",
    "    \n",
    "    return taylor_maps\n",
    "\n",
    "\n",
    "\n",
    "def truncate(LieHam,degree): #cutoff Hamiltonian at specified degree\n",
    "    _epstemp = sympy.symbols('e')\n",
    "    fct = LieHam.ham\n",
    "    \n",
    "    for i in LieHam.indep_coords:\n",
    "        fct = fct.subs(i,i*_epstemp)\n",
    "        \n",
    "    for i in LieHam.indep_mom:\n",
    "        fct = fct.subs(i,i*_epstemp)\n",
    "    \n",
    "    fct = fct.expand() + O(_epstemp**degree)\n",
    "    fct = fct.removeO().subs(_epstemp,1)\n",
    "    \n",
    "    return fct\n",
    "\n",
    "def getKronPowers(state, order, dim_reduction = True):\n",
    "    \"\"\"Calculates Kroneker powers of state vector\n",
    "       with dimension reduction\n",
    "\n",
    "    e.g. for (x y) and order=2 returns:\n",
    "    1, (x y), (x x*y y)  \n",
    "\n",
    "    Returns:\n",
    "    list of numpy arrays, index corresponds to power \n",
    "    \"\"\"\n",
    "    powers = [state]\n",
    "    index = [np.ones(len(state), dtype=bool)]\n",
    "    for i in range(order-1):\n",
    "        state_i = np.kron(powers[-1], state)\n",
    "        reduced, red_ind = cust_reduce(state_i)\n",
    "        if dim_reduction:\n",
    "            powers.append(reduced)\n",
    "        else:\n",
    "            powers.append(state_i)\n",
    "            \n",
    "        index.append(red_ind)\n",
    "\n",
    "    powers.insert(0, np.array([1]))\n",
    "    index.insert(0, [True])\n",
    "    return powers, index \n",
    "\n",
    "def cust_reduce(state):\n",
    "    state_str = state.astype(str)\n",
    "    reduced_state = []\n",
    "    unique = []\n",
    "\n",
    "    index = []\n",
    "    for variable, variable_str in zip(state, state_str):\n",
    "        if variable_str not in unique:\n",
    "            unique.append(variable_str)\n",
    "            index.append(True)\n",
    "            reduced_state.append(variable)\n",
    "        else:\n",
    "            index.append(False)\n",
    "\n",
    "    return np.array(reduced_state), index\n",
    "\n",
    "\n",
    "def taylor_to_weight_mat(_taylor):\n",
    "    degree = 0\n",
    "    for polynomial in _taylor:\n",
    "            comp_degree = poly(polynomial).total_degree() #highest degree of hom poly in Lie map\n",
    "            if degree <= comp_degree:\n",
    "                degree = comp_degree\n",
    "\n",
    "    if len(_taylor) == 2:\n",
    "        coords = [sym_x,sym_px]\n",
    "    elif len(_taylor) == 4:\n",
    "        coords = [sym_x,sym_px,sym_y,sym_py]\n",
    "    elif len(_taylor) == 6:\n",
    "        coords = [sym_x,sym_px,sym_y,sym_py,sym_z,sym_pz]\n",
    "    else:\n",
    "        raise TypeError('The dimension of the Taylor map vector does not match the phase space.')\n",
    "\n",
    "    state_vectors = getKronPowers(coords,degree)[0]\n",
    "\n",
    "    W = []\n",
    "\n",
    "    for i in range(degree+1):\n",
    "        if i == 0:\n",
    "#             print(\"Displacement not yet programmed.\")\n",
    "            continue\n",
    "\n",
    "        w_sub = np.zeros((len(_taylor),len(state_vectors[i])))\n",
    "\n",
    "        for j, taylor_row in enumerate(_taylor):\n",
    "            taylor_sub = poly(taylor_row, state_vectors[1])\n",
    "\n",
    "            for k, state_vector in enumerate(state_vectors[i]):\n",
    "                coeff = taylor_sub.coeff_monomial(state_vector)\n",
    "\n",
    "                if coeff != 0:\n",
    "                    w_sub[j,k] = coeff\n",
    "        W.append(w_sub)\n",
    "    \n",
    "    return W"
   ]
  },
  {
   "cell_type": "code",
   "execution_count": 159,
   "metadata": {},
   "outputs": [
    {
     "data": {
      "image/png": "[encoded data removed]",
      "text/latex": [
       "$\\displaystyle \\left[ - \\frac{\\delta^{2} p_{x}^{2}}{8} - \\frac{\\delta^{2} p_{x} x}{6} + \\frac{\\delta^{2} p_{y}^{2}}{8} + \\frac{\\delta^{2} p_{y} y}{6} + \\frac{\\delta p_{x}^{2}}{8} - \\frac{\\delta p_{x} x^{2}}{16} + \\frac{\\delta p_{x} x}{3} + \\frac{\\delta p_{x} y^{2}}{80} - \\delta p_{x} - \\frac{\\delta p_{y}^{2}}{8} - \\frac{3 \\delta p_{y} x y}{40} - \\frac{\\delta p_{y} y}{3} - \\frac{\\delta x^{3}}{24} + \\frac{\\delta x^{2}}{4} - \\frac{\\delta x y^{2}}{24} - \\frac{\\delta y^{2}}{4} - \\frac{p_{x}^{2}}{24} + \\frac{p_{x} x^{2}}{48} - \\frac{p_{x} x}{6} - \\frac{p_{x} y^{2}}{240} + p_{x} + \\frac{p_{y}^{2}}{24} + \\frac{p_{y} x y}{40} + \\frac{p_{y} y}{6} + \\frac{x^{3}}{48} - \\frac{x^{2}}{4} + \\frac{x y^{2}}{48} + x + \\frac{y^{2}}{4}, \\  - \\frac{\\delta^{2} p_{x}^{2}}{6} + \\frac{\\delta^{2} p_{y}^{2}}{6} - \\frac{\\delta p_{x}^{2} x}{8} + \\frac{\\delta p_{x}^{2}}{3} - \\frac{\\delta p_{x} p_{y} y}{20} - \\frac{5 \\delta p_{x} x^{2}}{24} + \\frac{\\delta p_{x} x}{2} + \\frac{\\delta p_{x} y^{2}}{24} - \\frac{3 \\delta p_{y}^{2} x}{40} - \\frac{\\delta p_{y}^{2}}{3} - \\frac{\\delta p_{y} x y}{4} - \\frac{\\delta p_{y} y}{2} - \\frac{\\delta x^{3}}{12} - \\frac{\\delta x y^{2}}{12} + \\frac{p_{x}^{2} x}{24} - \\frac{p_{x}^{2}}{6} + \\frac{p_{x} p_{y} y}{60} + \\frac{5 p_{x} x^{2}}{48} - \\frac{p_{x} x}{2} - \\frac{p_{x} y^{2}}{48} + p_{x} + \\frac{p_{y}^{2} x}{40} + \\frac{p_{y}^{2}}{6} + \\frac{p_{y} x y}{8} + \\frac{p_{y} y}{2} - \\frac{x^{4}}{96} + \\frac{x^{3}}{12} + \\frac{3 x^{2} y^{2}}{80} - \\frac{x^{2}}{2} + \\frac{x y^{2}}{12} - \\frac{y^{4}}{480} + \\frac{y^{2}}{2}, \\  \\frac{\\delta^{2} p_{x} p_{y}}{4} + \\frac{\\delta^{2} p_{x} y}{6} + \\frac{\\delta^{2} p_{y} x}{6} - \\frac{\\delta p_{x} p_{y}}{4} - \\frac{3 \\delta p_{x} x y}{40} - \\frac{\\delta p_{x} y}{3} + \\frac{\\delta p_{y} x^{2}}{80} - \\frac{\\delta p_{y} x}{3} - \\frac{\\delta p_{y} y^{2}}{16} - \\delta p_{y} - \\frac{\\delta x^{2} y}{24} - \\frac{\\delta x y}{2} - \\frac{\\delta y^{3}}{24} + \\frac{p_{x} p_{y}}{12} + \\frac{p_{x} x y}{40} + \\frac{p_{x} y}{6} - \\frac{p_{y} x^{2}}{240} + \\frac{p_{y} x}{6} + \\frac{p_{y} y^{2}}{48} + p_{y} + \\frac{x^{2} y}{48} + \\frac{x y}{2} + \\frac{y^{3}}{48} + y, \\  \\frac{\\delta^{2} p_{x} p_{y}}{3} - \\frac{3 \\delta p_{x}^{2} y}{40} - \\frac{\\delta p_{x} p_{y} x}{20} - \\frac{2 \\delta p_{x} p_{y}}{3} - \\frac{\\delta p_{x} x y}{4} - \\frac{\\delta p_{x} y}{2} - \\frac{\\delta p_{y}^{2} y}{8} + \\frac{\\delta p_{y} x^{2}}{24} - \\frac{\\delta p_{y} x}{2} - \\frac{5 \\delta p_{y} y^{2}}{24} - \\frac{\\delta x^{2} y}{12} - \\frac{\\delta y^{3}}{12} + \\frac{p_{x}^{2} y}{40} + \\frac{p_{x} p_{y} x}{60} + \\frac{p_{x} p_{y}}{3} + \\frac{p_{x} x y}{8} + \\frac{p_{x} y}{2} + \\frac{p_{y}^{2} y}{24} - \\frac{p_{y} x^{2}}{48} + \\frac{p_{y} x}{2} + \\frac{5 p_{y} y^{2}}{48} + p_{y} - \\frac{x^{3} y}{60} + \\frac{x^{2} y}{12} + \\frac{x y^{3}}{30} + x y + \\frac{y^{3}}{12}, \\  - \\frac{\\delta p_{x}^{3}}{12} - \\frac{\\delta p_{x}^{2} x}{6} + \\frac{\\delta p_{x} p_{y}^{2}}{4} + \\frac{\\delta p_{x} p_{y} y}{3} + \\frac{\\delta p_{y}^{2} x}{6} + \\frac{p_{x}^{3}}{24} - \\frac{p_{x}^{2} x^{2}}{16} + \\frac{p_{x}^{2} x}{6} - \\frac{p_{x}^{2} y^{2}}{240} - \\frac{p_{x}^{2}}{2} - \\frac{p_{x} p_{y}^{2}}{8} - \\frac{7 p_{x} p_{y} x y}{60} - \\frac{p_{x} p_{y} y}{3} - \\frac{p_{x} x^{3}}{12} + \\frac{p_{x} x^{2}}{4} - \\frac{p_{x} x y^{2}}{12} - \\frac{p_{x} y^{2}}{4} - \\frac{p_{y}^{2} x^{2}}{240} - \\frac{p_{y}^{2} x}{6} - \\frac{p_{y}^{2} y^{2}}{16} - \\frac{p_{y}^{2}}{2} - \\frac{p_{y} x^{2} y}{12} - \\frac{p_{y} x y}{2} - \\frac{p_{y} y^{3}}{12} - \\frac{x^{4}}{24} - \\frac{x^{2} y^{2}}{12} - \\frac{y^{4}}{24} + z, \\  \\delta\\right]$"
      ],
      "text/plain": [
       "⎡        2   2         2              2    2         2                  2     \n",
       "⎢  \\delta ⋅pₓ    \\delta ⋅pₓ⋅x   \\delta ⋅p_y    \\delta ⋅p_y⋅y   \\delta⋅pₓ    \\d\n",
       "⎢- ─────────── - ──────────── + ──────────── + ───────────── + ────────── - ──\n",
       "⎣       8             6              8               6             8          \n",
       "\n",
       "         2                            2                         2             \n",
       "elta⋅pₓ⋅x    \\delta⋅pₓ⋅x   \\delta⋅pₓ⋅y                \\delta⋅p_y    3⋅\\delta⋅p\n",
       "────────── + ─────────── + ──────────── - \\delta⋅pₓ - ─────────── - ──────────\n",
       "   16             3             80                         8               40 \n",
       "\n",
       "                                3           2             2           2     2 \n",
       "_y⋅x⋅y   \\delta⋅p_y⋅y   \\delta⋅x    \\delta⋅x    \\delta⋅x⋅y    \\delta⋅y    pₓ  \n",
       "────── - ──────────── - ───────── + ───────── - ─────────── - ───────── - ─── \n",
       "              3             24          4            24           4        24 \n",
       "\n",
       "      2              2           2                      3    2      2        2\n",
       "  pₓ⋅x    pₓ⋅x   pₓ⋅y         p_y    p_y⋅x⋅y   p_y⋅y   x    x    x⋅y        y \n",
       "+ ───── - ──── - ───── + pₓ + ──── + ─────── + ───── + ── - ── + ──── + x + ──\n",
       "    48     6      240          24       40       6     48   4     48        4 \n",
       "\n",
       "          2   2         2    2            2              2                    \n",
       "    \\delta ⋅pₓ    \\delta ⋅p_y    \\delta⋅pₓ ⋅x   \\delta⋅pₓ    \\delta⋅pₓ⋅p_y⋅y  \n",
       ", - ─────────── + ──────────── - ──────────── + ────────── - ─────────────── -\n",
       "         6             6              8             3               20        \n",
       "\n",
       "              2                            2               2               2  \n",
       " 5⋅\\delta⋅pₓ⋅x    \\delta⋅pₓ⋅x   \\delta⋅pₓ⋅y    3⋅\\delta⋅p_y ⋅x   \\delta⋅p_y   \n",
       " ────────────── + ─────────── + ──────────── - ─────────────── - ─────────── -\n",
       "       24              2             24               40              3       \n",
       "\n",
       "                                         3             2     2       2        \n",
       " \\delta⋅p_y⋅x⋅y   \\delta⋅p_y⋅y   \\delta⋅x    \\delta⋅x⋅y    pₓ ⋅x   pₓ    pₓ⋅p_\n",
       " ────────────── - ──────────── - ───────── - ─────────── + ───── - ─── + ─────\n",
       "       4               2             12           12         24     6       60\n",
       "\n",
       "            2              2           2        2                      4    3 \n",
       "y⋅y   5⋅pₓ⋅x    pₓ⋅x   pₓ⋅y         p_y ⋅x   p_y    p_y⋅x⋅y   p_y⋅y   x    x  \n",
       "─── + ─────── - ──── - ───── + pₓ + ────── + ──── + ─────── + ───── - ── + ── \n",
       "         48      2       48           40      6        8        2     96   12 \n",
       "\n",
       "     2  2    2      2     4    2        2                2              2     \n",
       "  3⋅x ⋅y    x    x⋅y     y    y   \\delta ⋅pₓ⋅p_y   \\delta ⋅pₓ⋅y   \\delta ⋅p_y⋅\n",
       "+ ─────── - ── + ──── - ─── + ──, ────────────── + ──────────── + ────────────\n",
       "     80     2     12    480   2         4               6               6     \n",
       "\n",
       "                                                                2             \n",
       "x   \\delta⋅pₓ⋅p_y   3⋅\\delta⋅pₓ⋅x⋅y   \\delta⋅pₓ⋅y   \\delta⋅p_y⋅x    \\delta⋅p_y\n",
       "─ - ───────────── - ─────────────── - ─────────── + ───────────── - ──────────\n",
       "          4                40              3              80             3    \n",
       "\n",
       "                 2                        2                          3        \n",
       "⋅x   \\delta⋅p_y⋅y                 \\delta⋅x ⋅y   \\delta⋅x⋅y   \\delta⋅y    pₓ⋅p_\n",
       "── - ───────────── - \\delta⋅p_y - ─────────── - ────────── - ───────── + ─────\n",
       "           16                          24           2            24        12 \n",
       "\n",
       "                         2                2          2            3           \n",
       "y   pₓ⋅x⋅y   pₓ⋅y   p_y⋅x    p_y⋅x   p_y⋅y          x ⋅y   x⋅y   y       \\delt\n",
       "─ + ────── + ──── - ────── + ───── + ────── + p_y + ──── + ─── + ── + y, ─────\n",
       "      40      6      240       6       48            48     2    48           \n",
       "\n",
       " 2                     2                                                      \n",
       "a ⋅pₓ⋅p_y   3⋅\\delta⋅pₓ ⋅y   \\delta⋅pₓ⋅p_y⋅x   2⋅\\delta⋅pₓ⋅p_y   \\delta⋅pₓ⋅x⋅y\n",
       "───────── - ────────────── - ─────────────── - ─────────────── - ─────────────\n",
       " 3                40                20                3                4      \n",
       "\n",
       "                           2                 2                                \n",
       "   \\delta⋅pₓ⋅y   \\delta⋅p_y ⋅y   \\delta⋅p_y⋅x    \\delta⋅p_y⋅x   5⋅\\delta⋅p_y⋅y\n",
       " - ─────────── - ───────────── + ───────────── - ──────────── - ──────────────\n",
       "        2              8               24             2                24     \n",
       "\n",
       "2           2             3     2                                            2\n",
       "    \\delta⋅x ⋅y   \\delta⋅y    pₓ ⋅y   pₓ⋅p_y⋅x   pₓ⋅p_y   pₓ⋅x⋅y   pₓ⋅y   p_y \n",
       "─ - ─────────── - ───────── + ───── + ──────── + ────── + ────── + ──── + ────\n",
       "         12           12        40       60        3        8       2       24\n",
       "\n",
       "          2                  2          3      2        3          3          \n",
       "⋅y   p_y⋅x    p_y⋅x   5⋅p_y⋅y          x ⋅y   x ⋅y   x⋅y          y     \\delta\n",
       "── - ────── + ───── + ──────── + p_y - ──── + ──── + ──── + x⋅y + ──, - ──────\n",
       "       48       2        48             60     12     30          12        12\n",
       "\n",
       "   3            2                  2                               2       3  \n",
       "⋅pₓ    \\delta⋅pₓ ⋅x   \\delta⋅pₓ⋅p_y    \\delta⋅pₓ⋅p_y⋅y   \\delta⋅p_y ⋅x   pₓ   \n",
       "──── - ──────────── + ────────────── + ─────────────── + ───────────── + ─── -\n",
       "            6               4                 3                6          24  \n",
       "\n",
       "   2  2     2       2  2     2         2                                 3    \n",
       " pₓ ⋅x    pₓ ⋅x   pₓ ⋅y    pₓ    pₓ⋅p_y    7⋅pₓ⋅p_y⋅x⋅y   pₓ⋅p_y⋅y   pₓ⋅x    p\n",
       " ────── + ───── - ────── - ─── - ─────── - ──────────── - ──────── - ───── + ─\n",
       "   16       6      240      2       8           60           3         12     \n",
       "\n",
       "   2         2       2      2  2      2        2  2      2        2           \n",
       "ₓ⋅x    pₓ⋅x⋅y    pₓ⋅y    p_y ⋅x    p_y ⋅x   p_y ⋅y    p_y    p_y⋅x ⋅y   p_y⋅x⋅\n",
       "──── - ─────── - ───── - ─────── - ────── - ─────── - ──── - ──────── - ──────\n",
       " 4        12       4       240       6         16      2        12         2  \n",
       "\n",
       "         3    4    2  2    4            ⎤\n",
       "y   p_y⋅y    x    x ⋅y    y             ⎥\n",
       "─ - ────── - ── - ───── - ── + z, \\delta⎥\n",
       "      12     24     12    24            ⎦"
      ]
     },
     "execution_count": 159,
     "metadata": {},
     "output_type": "execute_result"
    }
   ],
   "source": [
    "i_coord = [sym_x,sym_y,sym_z]\n",
    "i_mom = [sym_px,sym_py,sym_pz]\n",
    "\n",
    "_ftemp = sym_pz - sqrt((1 + sym_pz) ** 2 - sym_px ** 2 - sym_py ** 2) + sympy.Rational(1,6) * (sym_x** 3 - 3 * sym_x * sym_y ** 2)\n",
    "_epstemp = sympy.symbols('e')\n",
    "\n",
    "H = _ftemp.subs(sym_px,sym_px*_epstemp).subs(sym_py,sym_py*_epstemp).subs(sym_pz,sym_pz*_epstemp).subs(sym_x,sym_x*_epstemp).subs(sym_y,sym_y*_epstemp).series(_epstemp,n=4).removeO().subs(_epstemp,1)\n",
    "\n",
    "Lh = LieOperator(-H,i_coord,i_mom)\n",
    "taylor_vector = taylorize(Lh,5)\n",
    "taylor_vector"
   ]
  },
  {
   "cell_type": "code",
   "execution_count": 161,
   "metadata": {},
   "outputs": [
    {
     "data": {
      "image/png": "[encoded data removed]",
      "text/latex": [
       "$\\displaystyle \\delta + \\frac{x^{3}}{6} - \\frac{x y^{2}}{2} - \\sqrt{- p_{x}^{2} - p_{y}^{2} + \\left(\\delta + 1\\right)^{2}}$"
      ],
      "text/plain": [
       "          3      2      ______________________________\n",
       "         x    x⋅y      ╱     2      2               2 \n",
       "\\delta + ── - ──── - ╲╱  - pₓ  - p_y  + (\\delta + 1)  \n",
       "         6     2                                      "
      ]
     },
     "execution_count": 161,
     "metadata": {},
     "output_type": "execute_result"
    }
   ],
   "source": [
    "_ftemp"
   ]
  },
  {
   "cell_type": "code",
   "execution_count": 160,
   "metadata": {},
   "outputs": [
    {
     "data": {
      "image/png": "[encoded data removed]",
      "text/latex": [
       "$\\displaystyle - \\frac{\\delta p_{x}^{2}}{2} - \\frac{\\delta p_{y}^{2}}{2} + \\frac{p_{x}^{2}}{2} + \\frac{p_{y}^{2}}{2} + \\frac{x^{3}}{6} - \\frac{x y^{2}}{2} - 1$"
      ],
      "text/plain": [
       "           2             2     2      2    3      2    \n",
       "  \\delta⋅pₓ    \\delta⋅p_y    pₓ    p_y    x    x⋅y     \n",
       "- ────────── - ─────────── + ─── + ──── + ── - ──── - 1\n",
       "      2             2         2     2     6     2      "
      ]
     },
     "execution_count": 160,
     "metadata": {},
     "output_type": "execute_result"
    }
   ],
   "source": [
    "H"
   ]
  },
  {
   "cell_type": "code",
   "execution_count": 148,
   "metadata": {},
   "outputs": [
    {
     "ename": "KeyboardInterrupt",
     "evalue": "",
     "output_type": "error",
     "traceback": [
      "\u001b[0;31m---------------------------------------------------------------------------\u001b[0m",
      "\u001b[0;31mKeyboardInterrupt\u001b[0m                         Traceback (most recent call last)",
      "\u001b[0;32m<ipython-input-148-79554a7921dc>\u001b[0m in \u001b[0;36m<module>\u001b[0;34m\u001b[0m\n\u001b[0;32m----> 1\u001b[0;31m \u001b[0mF\u001b[0m \u001b[0;34m=\u001b[0m \u001b[0mfactorization\u001b[0m\u001b[0;34m(\u001b[0m\u001b[0mtaylor_vector\u001b[0m\u001b[0;34m)\u001b[0m\u001b[0;34m\u001b[0m\u001b[0;34m\u001b[0m\u001b[0m\n\u001b[0m\u001b[1;32m      2\u001b[0m \u001b[0mF\u001b[0m\u001b[0;34m\u001b[0m\u001b[0;34m\u001b[0m\u001b[0m\n",
      "\u001b[0;32m<ipython-input-4-73abd93f4c55>\u001b[0m in \u001b[0;36mfactorization\u001b[0;34m(taylor)\u001b[0m\n\u001b[1;32m     13\u001b[0m         \u001b[0mT\u001b[0m \u001b[0;34m=\u001b[0m \u001b[0mtaylor_to_lie\u001b[0m\u001b[0;34m(\u001b[0m\u001b[0mtaylor\u001b[0m\u001b[0;34m,\u001b[0m \u001b[0mi\u001b[0m\u001b[0;34m)\u001b[0m \u001b[0;31m#coeff match to get hom poly in Lie product maps\u001b[0m\u001b[0;34m\u001b[0m\u001b[0;34m\u001b[0m\u001b[0m\n\u001b[1;32m     14\u001b[0m         \u001b[0mLieProduct\u001b[0m\u001b[0;34m.\u001b[0m\u001b[0mappend\u001b[0m\u001b[0;34m(\u001b[0m\u001b[0mT\u001b[0m\u001b[0;34m)\u001b[0m \u001b[0;31m#Lie maps product as array\u001b[0m\u001b[0;34m\u001b[0m\u001b[0;34m\u001b[0m\u001b[0m\n\u001b[0;32m---> 15\u001b[0;31m         \u001b[0mtaylor\u001b[0m \u001b[0;34m=\u001b[0m \u001b[0mtransform_taylor\u001b[0m\u001b[0;34m(\u001b[0m\u001b[0mT\u001b[0m\u001b[0;34m,\u001b[0m \u001b[0mtaylor\u001b[0m\u001b[0;34m,\u001b[0m \u001b[0mi\u001b[0m\u001b[0;34m,\u001b[0m \u001b[0mdegree\u001b[0m\u001b[0;34m)\u001b[0m \u001b[0;31m#adjust higher order taylor coeff for next coeff extraction\u001b[0m\u001b[0;34m\u001b[0m\u001b[0;34m\u001b[0m\u001b[0m\n\u001b[0m\u001b[1;32m     16\u001b[0m \u001b[0;34m\u001b[0m\u001b[0m\n\u001b[1;32m     17\u001b[0m         \u001b[0;32mif\u001b[0m \u001b[0mi\u001b[0m \u001b[0;34m>\u001b[0m \u001b[0;36m5\u001b[0m\u001b[0;34m:\u001b[0m\u001b[0;34m\u001b[0m\u001b[0;34m\u001b[0m\u001b[0m\n",
      "\u001b[0;32m<ipython-input-4-73abd93f4c55>\u001b[0m in \u001b[0;36mtransform_taylor\u001b[0;34m(ham, taylor, hom_order, degree)\u001b[0m\n\u001b[1;32m     99\u001b[0m     \u001b[0;32melse\u001b[0m\u001b[0;34m:\u001b[0m \u001b[0;31m#higher order\u001b[0m\u001b[0;34m\u001b[0m\u001b[0;34m\u001b[0m\u001b[0m\n\u001b[1;32m    100\u001b[0m         \u001b[0mLiePoly\u001b[0m \u001b[0;34m=\u001b[0m \u001b[0mLieOperator\u001b[0m\u001b[0;34m(\u001b[0m\u001b[0;34m-\u001b[0m\u001b[0mham\u001b[0m\u001b[0;34m,\u001b[0m\u001b[0;34m[\u001b[0m\u001b[0msym_x\u001b[0m\u001b[0;34m,\u001b[0m\u001b[0msym_y\u001b[0m\u001b[0;34m,\u001b[0m\u001b[0msym_z\u001b[0m\u001b[0;34m]\u001b[0m\u001b[0;34m,\u001b[0m\u001b[0;34m[\u001b[0m\u001b[0msym_px\u001b[0m\u001b[0;34m,\u001b[0m\u001b[0msym_py\u001b[0m\u001b[0;34m,\u001b[0m\u001b[0msym_pz\u001b[0m\u001b[0;34m]\u001b[0m\u001b[0;34m)\u001b[0m \u001b[0;31m#use hom poly ham of degree = hom_order\u001b[0m\u001b[0;34m\u001b[0m\u001b[0;34m\u001b[0m\u001b[0m\n\u001b[0;32m--> 101\u001b[0;31m         \u001b[0mmod_taylor\u001b[0m \u001b[0;34m=\u001b[0m \u001b[0mtaylorize\u001b[0m\u001b[0;34m(\u001b[0m\u001b[0mLiePoly\u001b[0m\u001b[0;34m,\u001b[0m \u001b[0mdegree\u001b[0m\u001b[0;34m+\u001b[0m\u001b[0;36m1\u001b[0m\u001b[0;34m)\u001b[0m \u001b[0;31m#create symplectic jet to adjust the coeffs of taylor polynomial\u001b[0m\u001b[0;34m\u001b[0m\u001b[0;34m\u001b[0m\u001b[0m\n\u001b[0m\u001b[1;32m    102\u001b[0m         \u001b[0mtaylor\u001b[0m \u001b[0;34m=\u001b[0m \u001b[0;34m[\u001b[0m\u001b[0mold_poly\u001b[0m \u001b[0;34m-\u001b[0m \u001b[0mnew_poly\u001b[0m \u001b[0;32mfor\u001b[0m \u001b[0mold_poly\u001b[0m\u001b[0;34m,\u001b[0m\u001b[0mnew_poly\u001b[0m \u001b[0;32min\u001b[0m \u001b[0mzip\u001b[0m\u001b[0;34m(\u001b[0m\u001b[0mtaylor\u001b[0m\u001b[0;34m,\u001b[0m\u001b[0mmod_taylor\u001b[0m\u001b[0;34m)\u001b[0m\u001b[0;34m]\u001b[0m \u001b[0;31m#exp(-:G_n:)z -> subtract from taylor poly the symplectic jet\u001b[0m\u001b[0;34m\u001b[0m\u001b[0;34m\u001b[0m\u001b[0m\n\u001b[1;32m    103\u001b[0m \u001b[0;34m\u001b[0m\u001b[0m\n",
      "\u001b[0;32m<ipython-input-4-73abd93f4c55>\u001b[0m in \u001b[0;36mtaylorize\u001b[0;34m(LieHam, degree)\u001b[0m\n\u001b[1;32m    115\u001b[0m     \u001b[0;32mfor\u001b[0m \u001b[0mi\u001b[0m \u001b[0;32min\u001b[0m \u001b[0mLieHam\u001b[0m\u001b[0;34m.\u001b[0m\u001b[0mindep_mom\u001b[0m\u001b[0;34m:\u001b[0m\u001b[0;34m\u001b[0m\u001b[0;34m\u001b[0m\u001b[0m\n\u001b[1;32m    116\u001b[0m         \u001b[0mfct\u001b[0m \u001b[0;34m=\u001b[0m \u001b[0mLieHam\u001b[0m\u001b[0;34m.\u001b[0m\u001b[0mLieMap\u001b[0m\u001b[0;34m(\u001b[0m\u001b[0mi\u001b[0m\u001b[0;34m,\u001b[0m\u001b[0mdegree\u001b[0m\u001b[0;34m)\u001b[0m\u001b[0;34m\u001b[0m\u001b[0;34m\u001b[0m\u001b[0m\n\u001b[0;32m--> 117\u001b[0;31m         \u001b[0mfct\u001b[0m \u001b[0;34m=\u001b[0m \u001b[0mtruncate\u001b[0m\u001b[0;34m(\u001b[0m\u001b[0mfct\u001b[0m\u001b[0;34m,\u001b[0m\u001b[0mdegree\u001b[0m\u001b[0;34m)\u001b[0m\u001b[0;34m\u001b[0m\u001b[0;34m\u001b[0m\u001b[0m\n\u001b[0m\u001b[1;32m    118\u001b[0m \u001b[0;34m\u001b[0m\u001b[0m\n\u001b[1;32m    119\u001b[0m         \u001b[0mtaylor_maps\u001b[0m\u001b[0;34m.\u001b[0m\u001b[0mappend\u001b[0m\u001b[0;34m(\u001b[0m\u001b[0mfct\u001b[0m\u001b[0;34m.\u001b[0m\u001b[0mexpand\u001b[0m\u001b[0;34m(\u001b[0m\u001b[0;34m)\u001b[0m\u001b[0;34m)\u001b[0m\u001b[0;34m\u001b[0m\u001b[0;34m\u001b[0m\u001b[0m\n",
      "\u001b[0;32m<ipython-input-4-73abd93f4c55>\u001b[0m in \u001b[0;36mtruncate\u001b[0;34m(LieHam, degree)\u001b[0m\n\u001b[1;32m    142\u001b[0m         \u001b[0mfct\u001b[0m \u001b[0;34m=\u001b[0m \u001b[0mfct\u001b[0m\u001b[0;34m.\u001b[0m\u001b[0msubs\u001b[0m\u001b[0;34m(\u001b[0m\u001b[0mi\u001b[0m\u001b[0;34m,\u001b[0m\u001b[0mi\u001b[0m\u001b[0;34m*\u001b[0m\u001b[0m_epstemp\u001b[0m\u001b[0;34m)\u001b[0m\u001b[0;34m\u001b[0m\u001b[0;34m\u001b[0m\u001b[0m\n\u001b[1;32m    143\u001b[0m \u001b[0;34m\u001b[0m\u001b[0m\n\u001b[0;32m--> 144\u001b[0;31m     \u001b[0mfct\u001b[0m \u001b[0;34m=\u001b[0m \u001b[0mfct\u001b[0m\u001b[0;34m.\u001b[0m\u001b[0mexpand\u001b[0m\u001b[0;34m(\u001b[0m\u001b[0;34m)\u001b[0m \u001b[0;34m+\u001b[0m \u001b[0mO\u001b[0m\u001b[0;34m(\u001b[0m\u001b[0m_epstemp\u001b[0m\u001b[0;34m**\u001b[0m\u001b[0mdegree\u001b[0m\u001b[0;34m)\u001b[0m\u001b[0;34m\u001b[0m\u001b[0;34m\u001b[0m\u001b[0m\n\u001b[0m\u001b[1;32m    145\u001b[0m     \u001b[0mfct\u001b[0m \u001b[0;34m=\u001b[0m \u001b[0mfct\u001b[0m\u001b[0;34m.\u001b[0m\u001b[0mremoveO\u001b[0m\u001b[0;34m(\u001b[0m\u001b[0;34m)\u001b[0m\u001b[0;34m.\u001b[0m\u001b[0msubs\u001b[0m\u001b[0;34m(\u001b[0m\u001b[0m_epstemp\u001b[0m\u001b[0;34m,\u001b[0m\u001b[0;36m1\u001b[0m\u001b[0;34m)\u001b[0m\u001b[0;34m\u001b[0m\u001b[0;34m\u001b[0m\u001b[0m\n\u001b[1;32m    146\u001b[0m \u001b[0;34m\u001b[0m\u001b[0m\n",
      "\u001b[0;32m/opt/anaconda3/lib/python3.7/site-packages/sympy/core/expr.py\u001b[0m in \u001b[0;36mexpand\u001b[0;34m(self, deep, modulus, power_base, power_exp, mul, log, multinomial, basic, **hints)\u001b[0m\n\u001b[1;32m   3446\u001b[0m             \u001b[0;32mif\u001b[0m \u001b[0muse_hint\u001b[0m\u001b[0;34m:\u001b[0m\u001b[0;34m\u001b[0m\u001b[0;34m\u001b[0m\u001b[0m\n\u001b[1;32m   3447\u001b[0m                 \u001b[0mhint\u001b[0m \u001b[0;34m=\u001b[0m \u001b[0;34m'_eval_expand_'\u001b[0m \u001b[0;34m+\u001b[0m \u001b[0mhint\u001b[0m\u001b[0;34m\u001b[0m\u001b[0;34m\u001b[0m\u001b[0m\n\u001b[0;32m-> 3448\u001b[0;31m                 \u001b[0mexpr\u001b[0m\u001b[0;34m,\u001b[0m \u001b[0mhit\u001b[0m \u001b[0;34m=\u001b[0m \u001b[0mExpr\u001b[0m\u001b[0;34m.\u001b[0m\u001b[0m_expand_hint\u001b[0m\u001b[0;34m(\u001b[0m\u001b[0mexpr\u001b[0m\u001b[0;34m,\u001b[0m \u001b[0mhint\u001b[0m\u001b[0;34m,\u001b[0m \u001b[0mdeep\u001b[0m\u001b[0;34m=\u001b[0m\u001b[0mdeep\u001b[0m\u001b[0;34m,\u001b[0m \u001b[0;34m**\u001b[0m\u001b[0mhints\u001b[0m\u001b[0;34m)\u001b[0m\u001b[0;34m\u001b[0m\u001b[0;34m\u001b[0m\u001b[0m\n\u001b[0m\u001b[1;32m   3449\u001b[0m \u001b[0;34m\u001b[0m\u001b[0m\n\u001b[1;32m   3450\u001b[0m         \u001b[0;32mwhile\u001b[0m \u001b[0;32mTrue\u001b[0m\u001b[0;34m:\u001b[0m\u001b[0;34m\u001b[0m\u001b[0;34m\u001b[0m\u001b[0m\n",
      "\u001b[0;32m/opt/anaconda3/lib/python3.7/site-packages/sympy/core/expr.py\u001b[0m in \u001b[0;36m_expand_hint\u001b[0;34m(expr, hint, deep, **hints)\u001b[0m\n\u001b[1;32m   3379\u001b[0m             \u001b[0msargs\u001b[0m \u001b[0;34m=\u001b[0m \u001b[0;34m[\u001b[0m\u001b[0;34m]\u001b[0m\u001b[0;34m\u001b[0m\u001b[0;34m\u001b[0m\u001b[0m\n\u001b[1;32m   3380\u001b[0m             \u001b[0;32mfor\u001b[0m \u001b[0marg\u001b[0m \u001b[0;32min\u001b[0m \u001b[0mexpr\u001b[0m\u001b[0;34m.\u001b[0m\u001b[0margs\u001b[0m\u001b[0;34m:\u001b[0m\u001b[0;34m\u001b[0m\u001b[0;34m\u001b[0m\u001b[0m\n\u001b[0;32m-> 3381\u001b[0;31m                 \u001b[0marg\u001b[0m\u001b[0;34m,\u001b[0m \u001b[0marghit\u001b[0m \u001b[0;34m=\u001b[0m \u001b[0mExpr\u001b[0m\u001b[0;34m.\u001b[0m\u001b[0m_expand_hint\u001b[0m\u001b[0;34m(\u001b[0m\u001b[0marg\u001b[0m\u001b[0;34m,\u001b[0m \u001b[0mhint\u001b[0m\u001b[0;34m,\u001b[0m \u001b[0;34m**\u001b[0m\u001b[0mhints\u001b[0m\u001b[0;34m)\u001b[0m\u001b[0;34m\u001b[0m\u001b[0;34m\u001b[0m\u001b[0m\n\u001b[0m\u001b[1;32m   3382\u001b[0m                 \u001b[0mhit\u001b[0m \u001b[0;34m|=\u001b[0m \u001b[0marghit\u001b[0m\u001b[0;34m\u001b[0m\u001b[0;34m\u001b[0m\u001b[0m\n\u001b[1;32m   3383\u001b[0m                 \u001b[0msargs\u001b[0m\u001b[0;34m.\u001b[0m\u001b[0mappend\u001b[0m\u001b[0;34m(\u001b[0m\u001b[0marg\u001b[0m\u001b[0;34m)\u001b[0m\u001b[0;34m\u001b[0m\u001b[0;34m\u001b[0m\u001b[0m\n",
      "\u001b[0;32m/opt/anaconda3/lib/python3.7/site-packages/sympy/core/expr.py\u001b[0m in \u001b[0;36m_expand_hint\u001b[0;34m(expr, hint, deep, **hints)\u001b[0m\n\u001b[1;32m   3379\u001b[0m             \u001b[0msargs\u001b[0m \u001b[0;34m=\u001b[0m \u001b[0;34m[\u001b[0m\u001b[0;34m]\u001b[0m\u001b[0;34m\u001b[0m\u001b[0;34m\u001b[0m\u001b[0m\n\u001b[1;32m   3380\u001b[0m             \u001b[0;32mfor\u001b[0m \u001b[0marg\u001b[0m \u001b[0;32min\u001b[0m \u001b[0mexpr\u001b[0m\u001b[0;34m.\u001b[0m\u001b[0margs\u001b[0m\u001b[0;34m:\u001b[0m\u001b[0;34m\u001b[0m\u001b[0;34m\u001b[0m\u001b[0m\n\u001b[0;32m-> 3381\u001b[0;31m                 \u001b[0marg\u001b[0m\u001b[0;34m,\u001b[0m \u001b[0marghit\u001b[0m \u001b[0;34m=\u001b[0m \u001b[0mExpr\u001b[0m\u001b[0;34m.\u001b[0m\u001b[0m_expand_hint\u001b[0m\u001b[0;34m(\u001b[0m\u001b[0marg\u001b[0m\u001b[0;34m,\u001b[0m \u001b[0mhint\u001b[0m\u001b[0;34m,\u001b[0m \u001b[0;34m**\u001b[0m\u001b[0mhints\u001b[0m\u001b[0;34m)\u001b[0m\u001b[0;34m\u001b[0m\u001b[0;34m\u001b[0m\u001b[0m\n\u001b[0m\u001b[1;32m   3382\u001b[0m                 \u001b[0mhit\u001b[0m \u001b[0;34m|=\u001b[0m \u001b[0marghit\u001b[0m\u001b[0;34m\u001b[0m\u001b[0;34m\u001b[0m\u001b[0m\n\u001b[1;32m   3383\u001b[0m                 \u001b[0msargs\u001b[0m\u001b[0;34m.\u001b[0m\u001b[0mappend\u001b[0m\u001b[0;34m(\u001b[0m\u001b[0marg\u001b[0m\u001b[0;34m)\u001b[0m\u001b[0;34m\u001b[0m\u001b[0;34m\u001b[0m\u001b[0m\n",
      "\u001b[0;32m/opt/anaconda3/lib/python3.7/site-packages/sympy/core/expr.py\u001b[0m in \u001b[0;36m_expand_hint\u001b[0;34m(expr, hint, deep, **hints)\u001b[0m\n\u001b[1;32m   3379\u001b[0m             \u001b[0msargs\u001b[0m \u001b[0;34m=\u001b[0m \u001b[0;34m[\u001b[0m\u001b[0;34m]\u001b[0m\u001b[0;34m\u001b[0m\u001b[0;34m\u001b[0m\u001b[0m\n\u001b[1;32m   3380\u001b[0m             \u001b[0;32mfor\u001b[0m \u001b[0marg\u001b[0m \u001b[0;32min\u001b[0m \u001b[0mexpr\u001b[0m\u001b[0;34m.\u001b[0m\u001b[0margs\u001b[0m\u001b[0;34m:\u001b[0m\u001b[0;34m\u001b[0m\u001b[0;34m\u001b[0m\u001b[0m\n\u001b[0;32m-> 3381\u001b[0;31m                 \u001b[0marg\u001b[0m\u001b[0;34m,\u001b[0m \u001b[0marghit\u001b[0m \u001b[0;34m=\u001b[0m \u001b[0mExpr\u001b[0m\u001b[0;34m.\u001b[0m\u001b[0m_expand_hint\u001b[0m\u001b[0;34m(\u001b[0m\u001b[0marg\u001b[0m\u001b[0;34m,\u001b[0m \u001b[0mhint\u001b[0m\u001b[0;34m,\u001b[0m \u001b[0;34m**\u001b[0m\u001b[0mhints\u001b[0m\u001b[0;34m)\u001b[0m\u001b[0;34m\u001b[0m\u001b[0;34m\u001b[0m\u001b[0m\n\u001b[0m\u001b[1;32m   3382\u001b[0m                 \u001b[0mhit\u001b[0m \u001b[0;34m|=\u001b[0m \u001b[0marghit\u001b[0m\u001b[0;34m\u001b[0m\u001b[0;34m\u001b[0m\u001b[0m\n\u001b[1;32m   3383\u001b[0m                 \u001b[0msargs\u001b[0m\u001b[0;34m.\u001b[0m\u001b[0mappend\u001b[0m\u001b[0;34m(\u001b[0m\u001b[0marg\u001b[0m\u001b[0;34m)\u001b[0m\u001b[0;34m\u001b[0m\u001b[0;34m\u001b[0m\u001b[0m\n",
      "\u001b[0;32m/opt/anaconda3/lib/python3.7/site-packages/sympy/core/expr.py\u001b[0m in \u001b[0;36m_expand_hint\u001b[0;34m(expr, hint, deep, **hints)\u001b[0m\n\u001b[1;32m   3379\u001b[0m             \u001b[0msargs\u001b[0m \u001b[0;34m=\u001b[0m \u001b[0;34m[\u001b[0m\u001b[0;34m]\u001b[0m\u001b[0;34m\u001b[0m\u001b[0;34m\u001b[0m\u001b[0m\n\u001b[1;32m   3380\u001b[0m             \u001b[0;32mfor\u001b[0m \u001b[0marg\u001b[0m \u001b[0;32min\u001b[0m \u001b[0mexpr\u001b[0m\u001b[0;34m.\u001b[0m\u001b[0margs\u001b[0m\u001b[0;34m:\u001b[0m\u001b[0;34m\u001b[0m\u001b[0;34m\u001b[0m\u001b[0m\n\u001b[0;32m-> 3381\u001b[0;31m                 \u001b[0marg\u001b[0m\u001b[0;34m,\u001b[0m \u001b[0marghit\u001b[0m \u001b[0;34m=\u001b[0m \u001b[0mExpr\u001b[0m\u001b[0;34m.\u001b[0m\u001b[0m_expand_hint\u001b[0m\u001b[0;34m(\u001b[0m\u001b[0marg\u001b[0m\u001b[0;34m,\u001b[0m \u001b[0mhint\u001b[0m\u001b[0;34m,\u001b[0m \u001b[0;34m**\u001b[0m\u001b[0mhints\u001b[0m\u001b[0;34m)\u001b[0m\u001b[0;34m\u001b[0m\u001b[0;34m\u001b[0m\u001b[0m\n\u001b[0m\u001b[1;32m   3382\u001b[0m                 \u001b[0mhit\u001b[0m \u001b[0;34m|=\u001b[0m \u001b[0marghit\u001b[0m\u001b[0;34m\u001b[0m\u001b[0;34m\u001b[0m\u001b[0m\n\u001b[1;32m   3383\u001b[0m                 \u001b[0msargs\u001b[0m\u001b[0;34m.\u001b[0m\u001b[0mappend\u001b[0m\u001b[0;34m(\u001b[0m\u001b[0marg\u001b[0m\u001b[0;34m)\u001b[0m\u001b[0;34m\u001b[0m\u001b[0;34m\u001b[0m\u001b[0m\n",
      "\u001b[0;32m/opt/anaconda3/lib/python3.7/site-packages/sympy/core/expr.py\u001b[0m in \u001b[0;36m_expand_hint\u001b[0;34m(expr, hint, deep, **hints)\u001b[0m\n\u001b[1;32m   3379\u001b[0m             \u001b[0msargs\u001b[0m \u001b[0;34m=\u001b[0m \u001b[0;34m[\u001b[0m\u001b[0;34m]\u001b[0m\u001b[0;34m\u001b[0m\u001b[0;34m\u001b[0m\u001b[0m\n\u001b[1;32m   3380\u001b[0m             \u001b[0;32mfor\u001b[0m \u001b[0marg\u001b[0m \u001b[0;32min\u001b[0m \u001b[0mexpr\u001b[0m\u001b[0;34m.\u001b[0m\u001b[0margs\u001b[0m\u001b[0;34m:\u001b[0m\u001b[0;34m\u001b[0m\u001b[0;34m\u001b[0m\u001b[0m\n\u001b[0;32m-> 3381\u001b[0;31m                 \u001b[0marg\u001b[0m\u001b[0;34m,\u001b[0m \u001b[0marghit\u001b[0m \u001b[0;34m=\u001b[0m \u001b[0mExpr\u001b[0m\u001b[0;34m.\u001b[0m\u001b[0m_expand_hint\u001b[0m\u001b[0;34m(\u001b[0m\u001b[0marg\u001b[0m\u001b[0;34m,\u001b[0m \u001b[0mhint\u001b[0m\u001b[0;34m,\u001b[0m \u001b[0;34m**\u001b[0m\u001b[0mhints\u001b[0m\u001b[0;34m)\u001b[0m\u001b[0;34m\u001b[0m\u001b[0;34m\u001b[0m\u001b[0m\n\u001b[0m\u001b[1;32m   3382\u001b[0m                 \u001b[0mhit\u001b[0m \u001b[0;34m|=\u001b[0m \u001b[0marghit\u001b[0m\u001b[0;34m\u001b[0m\u001b[0;34m\u001b[0m\u001b[0m\n\u001b[1;32m   3383\u001b[0m                 \u001b[0msargs\u001b[0m\u001b[0;34m.\u001b[0m\u001b[0mappend\u001b[0m\u001b[0;34m(\u001b[0m\u001b[0marg\u001b[0m\u001b[0;34m)\u001b[0m\u001b[0;34m\u001b[0m\u001b[0;34m\u001b[0m\u001b[0m\n",
      "\u001b[0;32m/opt/anaconda3/lib/python3.7/site-packages/sympy/core/expr.py\u001b[0m in \u001b[0;36m_expand_hint\u001b[0;34m(expr, hint, deep, **hints)\u001b[0m\n\u001b[1;32m   3379\u001b[0m             \u001b[0msargs\u001b[0m \u001b[0;34m=\u001b[0m \u001b[0;34m[\u001b[0m\u001b[0;34m]\u001b[0m\u001b[0;34m\u001b[0m\u001b[0;34m\u001b[0m\u001b[0m\n\u001b[1;32m   3380\u001b[0m             \u001b[0;32mfor\u001b[0m \u001b[0marg\u001b[0m \u001b[0;32min\u001b[0m \u001b[0mexpr\u001b[0m\u001b[0;34m.\u001b[0m\u001b[0margs\u001b[0m\u001b[0;34m:\u001b[0m\u001b[0;34m\u001b[0m\u001b[0;34m\u001b[0m\u001b[0m\n\u001b[0;32m-> 3381\u001b[0;31m                 \u001b[0marg\u001b[0m\u001b[0;34m,\u001b[0m \u001b[0marghit\u001b[0m \u001b[0;34m=\u001b[0m \u001b[0mExpr\u001b[0m\u001b[0;34m.\u001b[0m\u001b[0m_expand_hint\u001b[0m\u001b[0;34m(\u001b[0m\u001b[0marg\u001b[0m\u001b[0;34m,\u001b[0m \u001b[0mhint\u001b[0m\u001b[0;34m,\u001b[0m \u001b[0;34m**\u001b[0m\u001b[0mhints\u001b[0m\u001b[0;34m)\u001b[0m\u001b[0;34m\u001b[0m\u001b[0;34m\u001b[0m\u001b[0m\n\u001b[0m\u001b[1;32m   3382\u001b[0m                 \u001b[0mhit\u001b[0m \u001b[0;34m|=\u001b[0m \u001b[0marghit\u001b[0m\u001b[0;34m\u001b[0m\u001b[0;34m\u001b[0m\u001b[0m\n\u001b[1;32m   3383\u001b[0m                 \u001b[0msargs\u001b[0m\u001b[0;34m.\u001b[0m\u001b[0mappend\u001b[0m\u001b[0;34m(\u001b[0m\u001b[0marg\u001b[0m\u001b[0;34m)\u001b[0m\u001b[0;34m\u001b[0m\u001b[0;34m\u001b[0m\u001b[0m\n",
      "\u001b[0;32m/opt/anaconda3/lib/python3.7/site-packages/sympy/core/expr.py\u001b[0m in \u001b[0;36m_expand_hint\u001b[0;34m(expr, hint, deep, **hints)\u001b[0m\n\u001b[1;32m   3379\u001b[0m             \u001b[0msargs\u001b[0m \u001b[0;34m=\u001b[0m \u001b[0;34m[\u001b[0m\u001b[0;34m]\u001b[0m\u001b[0;34m\u001b[0m\u001b[0;34m\u001b[0m\u001b[0m\n\u001b[1;32m   3380\u001b[0m             \u001b[0;32mfor\u001b[0m \u001b[0marg\u001b[0m \u001b[0;32min\u001b[0m \u001b[0mexpr\u001b[0m\u001b[0;34m.\u001b[0m\u001b[0margs\u001b[0m\u001b[0;34m:\u001b[0m\u001b[0;34m\u001b[0m\u001b[0;34m\u001b[0m\u001b[0m\n\u001b[0;32m-> 3381\u001b[0;31m                 \u001b[0marg\u001b[0m\u001b[0;34m,\u001b[0m \u001b[0marghit\u001b[0m \u001b[0;34m=\u001b[0m \u001b[0mExpr\u001b[0m\u001b[0;34m.\u001b[0m\u001b[0m_expand_hint\u001b[0m\u001b[0;34m(\u001b[0m\u001b[0marg\u001b[0m\u001b[0;34m,\u001b[0m \u001b[0mhint\u001b[0m\u001b[0;34m,\u001b[0m \u001b[0;34m**\u001b[0m\u001b[0mhints\u001b[0m\u001b[0;34m)\u001b[0m\u001b[0;34m\u001b[0m\u001b[0;34m\u001b[0m\u001b[0m\n\u001b[0m\u001b[1;32m   3382\u001b[0m                 \u001b[0mhit\u001b[0m \u001b[0;34m|=\u001b[0m \u001b[0marghit\u001b[0m\u001b[0;34m\u001b[0m\u001b[0;34m\u001b[0m\u001b[0m\n\u001b[1;32m   3383\u001b[0m                 \u001b[0msargs\u001b[0m\u001b[0;34m.\u001b[0m\u001b[0mappend\u001b[0m\u001b[0;34m(\u001b[0m\u001b[0marg\u001b[0m\u001b[0;34m)\u001b[0m\u001b[0;34m\u001b[0m\u001b[0;34m\u001b[0m\u001b[0m\n",
      "\u001b[0;32m/opt/anaconda3/lib/python3.7/site-packages/sympy/core/expr.py\u001b[0m in \u001b[0;36m_expand_hint\u001b[0;34m(expr, hint, deep, **hints)\u001b[0m\n\u001b[1;32m   3387\u001b[0m \u001b[0;34m\u001b[0m\u001b[0m\n\u001b[1;32m   3388\u001b[0m         \u001b[0;32mif\u001b[0m \u001b[0mhasattr\u001b[0m\u001b[0;34m(\u001b[0m\u001b[0mexpr\u001b[0m\u001b[0;34m,\u001b[0m \u001b[0mhint\u001b[0m\u001b[0;34m)\u001b[0m\u001b[0;34m:\u001b[0m\u001b[0;34m\u001b[0m\u001b[0;34m\u001b[0m\u001b[0m\n\u001b[0;32m-> 3389\u001b[0;31m             \u001b[0mnewexpr\u001b[0m \u001b[0;34m=\u001b[0m \u001b[0mgetattr\u001b[0m\u001b[0;34m(\u001b[0m\u001b[0mexpr\u001b[0m\u001b[0;34m,\u001b[0m \u001b[0mhint\u001b[0m\u001b[0;34m)\u001b[0m\u001b[0;34m(\u001b[0m\u001b[0;34m**\u001b[0m\u001b[0mhints\u001b[0m\u001b[0;34m)\u001b[0m\u001b[0;34m\u001b[0m\u001b[0;34m\u001b[0m\u001b[0m\n\u001b[0m\u001b[1;32m   3390\u001b[0m             \u001b[0;32mif\u001b[0m \u001b[0mnewexpr\u001b[0m \u001b[0;34m!=\u001b[0m \u001b[0mexpr\u001b[0m\u001b[0;34m:\u001b[0m\u001b[0;34m\u001b[0m\u001b[0;34m\u001b[0m\u001b[0m\n\u001b[1;32m   3391\u001b[0m                 \u001b[0;32mreturn\u001b[0m \u001b[0;34m(\u001b[0m\u001b[0mnewexpr\u001b[0m\u001b[0;34m,\u001b[0m \u001b[0;32mTrue\u001b[0m\u001b[0;34m)\u001b[0m\u001b[0;34m\u001b[0m\u001b[0;34m\u001b[0m\u001b[0m\n",
      "\u001b[0;32m/opt/anaconda3/lib/python3.7/site-packages/sympy/core/mul.py\u001b[0m in \u001b[0;36m_eval_expand_mul\u001b[0;34m(self, **hints)\u001b[0m\n\u001b[1;32m    891\u001b[0m                 \u001b[0margs\u001b[0m \u001b[0;34m=\u001b[0m \u001b[0;34m[\u001b[0m\u001b[0;34m]\u001b[0m\u001b[0;34m\u001b[0m\u001b[0;34m\u001b[0m\u001b[0m\n\u001b[1;32m    892\u001b[0m                 \u001b[0;32mfor\u001b[0m \u001b[0mterm\u001b[0m \u001b[0;32min\u001b[0m \u001b[0mterms\u001b[0m\u001b[0;34m:\u001b[0m\u001b[0;34m\u001b[0m\u001b[0;34m\u001b[0m\u001b[0m\n\u001b[0;32m--> 893\u001b[0;31m                     \u001b[0mt\u001b[0m \u001b[0;34m=\u001b[0m \u001b[0mself\u001b[0m\u001b[0;34m.\u001b[0m\u001b[0mfunc\u001b[0m\u001b[0;34m(\u001b[0m\u001b[0mplain\u001b[0m\u001b[0;34m,\u001b[0m \u001b[0mterm\u001b[0m\u001b[0;34m)\u001b[0m\u001b[0;34m\u001b[0m\u001b[0;34m\u001b[0m\u001b[0m\n\u001b[0m\u001b[1;32m    894\u001b[0m                     \u001b[0;32mif\u001b[0m \u001b[0mt\u001b[0m\u001b[0;34m.\u001b[0m\u001b[0mis_Mul\u001b[0m \u001b[0;32mand\u001b[0m \u001b[0many\u001b[0m\u001b[0;34m(\u001b[0m\u001b[0ma\u001b[0m\u001b[0;34m.\u001b[0m\u001b[0mis_Add\u001b[0m \u001b[0;32mfor\u001b[0m \u001b[0ma\u001b[0m \u001b[0;32min\u001b[0m \u001b[0mt\u001b[0m\u001b[0;34m.\u001b[0m\u001b[0margs\u001b[0m\u001b[0;34m)\u001b[0m \u001b[0;32mand\u001b[0m \u001b[0mdeep\u001b[0m\u001b[0;34m:\u001b[0m\u001b[0;34m\u001b[0m\u001b[0;34m\u001b[0m\u001b[0m\n\u001b[1;32m    895\u001b[0m                         \u001b[0mt\u001b[0m \u001b[0;34m=\u001b[0m \u001b[0mt\u001b[0m\u001b[0;34m.\u001b[0m\u001b[0m_eval_expand_mul\u001b[0m\u001b[0;34m(\u001b[0m\u001b[0;34m)\u001b[0m\u001b[0;34m\u001b[0m\u001b[0;34m\u001b[0m\u001b[0m\n",
      "\u001b[0;32m/opt/anaconda3/lib/python3.7/site-packages/sympy/core/operations.py\u001b[0m in \u001b[0;36m__new__\u001b[0;34m(cls, *args, **options)\u001b[0m\n\u001b[1;32m     29\u001b[0m     \u001b[0;32mdef\u001b[0m \u001b[0m__new__\u001b[0m\u001b[0;34m(\u001b[0m\u001b[0mcls\u001b[0m\u001b[0;34m,\u001b[0m \u001b[0;34m*\u001b[0m\u001b[0margs\u001b[0m\u001b[0;34m,\u001b[0m \u001b[0;34m**\u001b[0m\u001b[0moptions\u001b[0m\u001b[0;34m)\u001b[0m\u001b[0;34m:\u001b[0m\u001b[0;34m\u001b[0m\u001b[0;34m\u001b[0m\u001b[0m\n\u001b[1;32m     30\u001b[0m         \u001b[0;32mfrom\u001b[0m \u001b[0msympy\u001b[0m \u001b[0;32mimport\u001b[0m \u001b[0mOrder\u001b[0m\u001b[0;34m\u001b[0m\u001b[0;34m\u001b[0m\u001b[0m\n\u001b[0;32m---> 31\u001b[0;31m         \u001b[0margs\u001b[0m \u001b[0;34m=\u001b[0m \u001b[0mlist\u001b[0m\u001b[0;34m(\u001b[0m\u001b[0mmap\u001b[0m\u001b[0;34m(\u001b[0m\u001b[0m_sympify\u001b[0m\u001b[0;34m,\u001b[0m \u001b[0margs\u001b[0m\u001b[0;34m)\u001b[0m\u001b[0;34m)\u001b[0m\u001b[0;34m\u001b[0m\u001b[0;34m\u001b[0m\u001b[0m\n\u001b[0m\u001b[1;32m     32\u001b[0m         \u001b[0margs\u001b[0m \u001b[0;34m=\u001b[0m \u001b[0;34m[\u001b[0m\u001b[0ma\u001b[0m \u001b[0;32mfor\u001b[0m \u001b[0ma\u001b[0m \u001b[0;32min\u001b[0m \u001b[0margs\u001b[0m \u001b[0;32mif\u001b[0m \u001b[0ma\u001b[0m \u001b[0;32mis\u001b[0m \u001b[0;32mnot\u001b[0m \u001b[0mcls\u001b[0m\u001b[0;34m.\u001b[0m\u001b[0midentity\u001b[0m\u001b[0;34m]\u001b[0m\u001b[0;34m\u001b[0m\u001b[0;34m\u001b[0m\u001b[0m\n\u001b[1;32m     33\u001b[0m \u001b[0;34m\u001b[0m\u001b[0m\n",
      "\u001b[0;32m/opt/anaconda3/lib/python3.7/site-packages/sympy/core/sympify.py\u001b[0m in \u001b[0;36m_sympify\u001b[0;34m(a)\u001b[0m\n\u001b[1;32m    416\u001b[0m \u001b[0;34m\u001b[0m\u001b[0m\n\u001b[1;32m    417\u001b[0m     \"\"\"\n\u001b[0;32m--> 418\u001b[0;31m     \u001b[0;32mreturn\u001b[0m \u001b[0msympify\u001b[0m\u001b[0;34m(\u001b[0m\u001b[0ma\u001b[0m\u001b[0;34m,\u001b[0m \u001b[0mstrict\u001b[0m\u001b[0;34m=\u001b[0m\u001b[0;32mTrue\u001b[0m\u001b[0;34m)\u001b[0m\u001b[0;34m\u001b[0m\u001b[0;34m\u001b[0m\u001b[0m\n\u001b[0m\u001b[1;32m    419\u001b[0m \u001b[0;34m\u001b[0m\u001b[0m\n\u001b[1;32m    420\u001b[0m \u001b[0;34m\u001b[0m\u001b[0m\n",
      "\u001b[0;32m/opt/anaconda3/lib/python3.7/site-packages/sympy/core/sympify.py\u001b[0m in \u001b[0;36msympify\u001b[0;34m(a, locals, convert_xor, strict, rational, evaluate)\u001b[0m\n\u001b[1;32m    263\u001b[0m \u001b[0;34m\u001b[0m\u001b[0m\n\u001b[1;32m    264\u001b[0m     \"\"\"\n\u001b[0;32m--> 265\u001b[0;31m     \u001b[0mis_sympy\u001b[0m \u001b[0;34m=\u001b[0m \u001b[0mgetattr\u001b[0m\u001b[0;34m(\u001b[0m\u001b[0ma\u001b[0m\u001b[0;34m,\u001b[0m \u001b[0;34m'__sympy__'\u001b[0m\u001b[0;34m,\u001b[0m \u001b[0;32mNone\u001b[0m\u001b[0;34m)\u001b[0m\u001b[0;34m\u001b[0m\u001b[0;34m\u001b[0m\u001b[0m\n\u001b[0m\u001b[1;32m    266\u001b[0m     \u001b[0;32mif\u001b[0m \u001b[0mis_sympy\u001b[0m \u001b[0;32mis\u001b[0m \u001b[0;32mnot\u001b[0m \u001b[0;32mNone\u001b[0m\u001b[0;34m:\u001b[0m\u001b[0;34m\u001b[0m\u001b[0;34m\u001b[0m\u001b[0m\n\u001b[1;32m    267\u001b[0m         \u001b[0;32mreturn\u001b[0m \u001b[0ma\u001b[0m\u001b[0;34m\u001b[0m\u001b[0;34m\u001b[0m\u001b[0m\n",
      "\u001b[0;32m/opt/anaconda3/lib/python3.7/site-packages/sympy/core/core.py\u001b[0m in \u001b[0;36m<lambda>\u001b[0;34m(self)\u001b[0m\n\u001b[1;32m     70\u001b[0m     \u001b[0;32mdef\u001b[0m \u001b[0m__init__\u001b[0m\u001b[0;34m(\u001b[0m\u001b[0mcls\u001b[0m\u001b[0;34m,\u001b[0m \u001b[0;34m*\u001b[0m\u001b[0margs\u001b[0m\u001b[0;34m,\u001b[0m \u001b[0;34m**\u001b[0m\u001b[0mkws\u001b[0m\u001b[0;34m)\u001b[0m\u001b[0;34m:\u001b[0m\u001b[0;34m\u001b[0m\u001b[0;34m\u001b[0m\u001b[0m\n\u001b[1;32m     71\u001b[0m         \u001b[0mall_classes\u001b[0m\u001b[0;34m.\u001b[0m\u001b[0madd\u001b[0m\u001b[0;34m(\u001b[0m\u001b[0mcls\u001b[0m\u001b[0;34m)\u001b[0m\u001b[0;34m\u001b[0m\u001b[0;34m\u001b[0m\u001b[0m\n\u001b[0;32m---> 72\u001b[0;31m         \u001b[0mcls\u001b[0m\u001b[0;34m.\u001b[0m\u001b[0m__sympy__\u001b[0m \u001b[0;34m=\u001b[0m \u001b[0mproperty\u001b[0m\u001b[0;34m(\u001b[0m\u001b[0;32mlambda\u001b[0m \u001b[0mself\u001b[0m\u001b[0;34m:\u001b[0m \u001b[0;32mTrue\u001b[0m\u001b[0;34m)\u001b[0m\u001b[0;34m\u001b[0m\u001b[0;34m\u001b[0m\u001b[0m\n\u001b[0m\u001b[1;32m     73\u001b[0m \u001b[0;34m\u001b[0m\u001b[0m\n\u001b[1;32m     74\u001b[0m     \u001b[0;32mdef\u001b[0m \u001b[0m__cmp__\u001b[0m\u001b[0;34m(\u001b[0m\u001b[0mcls\u001b[0m\u001b[0;34m,\u001b[0m \u001b[0mother\u001b[0m\u001b[0;34m)\u001b[0m\u001b[0;34m:\u001b[0m\u001b[0;34m\u001b[0m\u001b[0;34m\u001b[0m\u001b[0m\n",
      "\u001b[0;31mKeyboardInterrupt\u001b[0m: "
     ]
    }
   ],
   "source": [
    "F = factorization(taylor_vector)\n",
    "F"
   ]
  },
  {
   "cell_type": "code",
   "execution_count": 124,
   "metadata": {},
   "outputs": [],
   "source": [
    "coord = [sym_x,sym_px,sym_y,sym_py,sym_z,sym_pz]\n",
    "lie_f2 = F[0]\n",
    "lie_f3 = LieOperator(-F[1],i_coord, i_mom)\n",
    "lie_f4 = LieOperator(-F[2],i_coord, i_mom)\n",
    "vec = np.dot(lie_f2,coord)"
   ]
  },
  {
   "cell_type": "code",
   "execution_count": 125,
   "metadata": {},
   "outputs": [
    {
     "data": {
      "text/plain": [
       "array([1.0*p_x + 1.0*x, 1.0*p_x, 1.0*p_y + 1.0*y, 1.0*p_y, 1.0*z,\n",
       "       1.0*\\delta], dtype=object)"
      ]
     },
     "execution_count": 125,
     "metadata": {},
     "output_type": "execute_result"
    }
   ],
   "source": [
    "vec"
   ]
  },
  {
   "cell_type": "code",
   "execution_count": 126,
   "metadata": {},
   "outputs": [
    {
     "data": {
      "image/png": "[encoded data removed]",
      "text/latex": [
       "$\\displaystyle \\delta^{2} p_{x} - \\delta p_{x} + \\frac{p_{x}^{3}}{2} + \\frac{p_{x} p_{y}^{2}}{2} + p_{x} + x$"
      ],
      "text/plain": [
       "                           3         2         \n",
       "      2                  pₓ    pₓ⋅p_y          \n",
       "\\delta ⋅pₓ - \\delta⋅pₓ + ─── + ─────── + pₓ + x\n",
       "                          2       2            "
      ]
     },
     "execution_count": 126,
     "metadata": {},
     "output_type": "execute_result"
    }
   ],
   "source": [
    "taylor_vector[0]"
   ]
  },
  {
   "cell_type": "code",
   "execution_count": 127,
   "metadata": {},
   "outputs": [
    {
     "data": {
      "image/png": "[encoded data removed]",
      "text/latex": [
       "$\\displaystyle 1.0 \\delta^{2} p_{x} - 1.0 \\delta p_{x} + 0.5 p_{x}^{3} + 0.5 p_{x} p_{y}^{2} + 1.0 p_{x} + 1.0 x$"
      ],
      "text/plain": [
       "          2                            3             2                 \n",
       "1.0⋅\\delta ⋅pₓ - 1.0⋅\\delta⋅pₓ + 0.5⋅pₓ  + 0.5⋅pₓ⋅p_y  + 1.0⋅pₓ + 1.0⋅x"
      ]
     },
     "execution_count": 127,
     "metadata": {},
     "output_type": "execute_result"
    }
   ],
   "source": [
    "truncate((lie_f4.LieMap((lie_f3.LieMap(vec[0],2)).expand(),2)).expand(),4)"
   ]
  },
  {
   "cell_type": "code",
   "execution_count": 107,
   "metadata": {},
   "outputs": [
    {
     "data": {
      "image/png": "[encoded data removed]",
      "text/latex": [
       "$\\displaystyle p_{x}$"
      ],
      "text/plain": [
       "pₓ"
      ]
     },
     "execution_count": 107,
     "metadata": {},
     "output_type": "execute_result"
    }
   ],
   "source": [
    "taylor_vector[1]"
   ]
  },
  {
   "cell_type": "code",
   "execution_count": 128,
   "metadata": {},
   "outputs": [
    {
     "data": {
      "image/png": "[encoded data removed]",
      "text/latex": [
       "$\\displaystyle 1.0 p_{x}$"
      ],
      "text/plain": [
       "1.0⋅pₓ"
      ]
     },
     "execution_count": 128,
     "metadata": {},
     "output_type": "execute_result"
    }
   ],
   "source": [
    "truncate((lie_f4.LieMap((lie_f3.LieMap(vec[1],2)).expand(),2)).expand(),4)"
   ]
  },
  {
   "cell_type": "code",
   "execution_count": 129,
   "metadata": {},
   "outputs": [
    {
     "data": {
      "image/png": "[encoded data removed]",
      "text/latex": [
       "$\\displaystyle \\delta^{2} p_{y} - \\delta p_{y} + \\frac{p_{x}^{2} p_{y}}{2} + \\frac{p_{y}^{3}}{2} + p_{y} + y$"
      ],
      "text/plain": [
       "                             2          3          \n",
       "      2                    pₓ ⋅p_y   p_y           \n",
       "\\delta ⋅p_y - \\delta⋅p_y + ─────── + ──── + p_y + y\n",
       "                              2       2            "
      ]
     },
     "execution_count": 129,
     "metadata": {},
     "output_type": "execute_result"
    }
   ],
   "source": [
    "taylor_vector[2]"
   ]
  },
  {
   "cell_type": "code",
   "execution_count": 131,
   "metadata": {},
   "outputs": [
    {
     "data": {
      "image/png": "[encoded data removed]",
      "text/latex": [
       "$\\displaystyle 1.0 \\delta^{2} p_{y} - 1.0 \\delta p_{y} + 0.5 p_{x}^{2} p_{y} + 0.5 p_{y}^{3} + 1.0 p_{y} + 1.0 y$"
      ],
      "text/plain": [
       "          2                              2              3                  \n",
       "1.0⋅\\delta ⋅p_y - 1.0⋅\\delta⋅p_y + 0.5⋅pₓ ⋅p_y + 0.5⋅p_y  + 1.0⋅p_y + 1.0⋅y"
      ]
     },
     "execution_count": 131,
     "metadata": {},
     "output_type": "execute_result"
    }
   ],
   "source": [
    "truncate((lie_f4.LieMap((lie_f3.LieMap(vec[2],2)).expand(),2)).expand(),4)"
   ]
  },
  {
   "cell_type": "code",
   "execution_count": 132,
   "metadata": {},
   "outputs": [
    {
     "data": {
      "image/png": "[encoded data removed]",
      "text/latex": [
       "$\\displaystyle p_{y}$"
      ],
      "text/plain": [
       "p_y"
      ]
     },
     "execution_count": 132,
     "metadata": {},
     "output_type": "execute_result"
    }
   ],
   "source": [
    "taylor_vector[3]"
   ]
  },
  {
   "cell_type": "code",
   "execution_count": 133,
   "metadata": {},
   "outputs": [
    {
     "data": {
      "image/png": "[encoded data removed]",
      "text/latex": [
       "$\\displaystyle 1.0 p_{y}$"
      ],
      "text/plain": [
       "1.0⋅p_y"
      ]
     },
     "execution_count": 133,
     "metadata": {},
     "output_type": "execute_result"
    }
   ],
   "source": [
    "truncate((lie_f4.LieMap((lie_f3.LieMap(vec[3],2)).expand(),2)).expand(),4)"
   ]
  },
  {
   "cell_type": "code",
   "execution_count": 134,
   "metadata": {},
   "outputs": [
    {
     "data": {
      "image/png": "[encoded data removed]",
      "text/latex": [
       "$\\displaystyle \\delta p_{x}^{2} + \\delta p_{y}^{2} - \\frac{p_{x}^{2}}{2} - \\frac{p_{y}^{2}}{2} + z$"
      ],
      "text/plain": [
       "                             2      2    \n",
       "         2             2   pₓ    p_y     \n",
       "\\delta⋅pₓ  + \\delta⋅p_y  - ─── - ──── + z\n",
       "                            2     2      "
      ]
     },
     "execution_count": 134,
     "metadata": {},
     "output_type": "execute_result"
    }
   ],
   "source": [
    "taylor_vector[4]"
   ]
  },
  {
   "cell_type": "code",
   "execution_count": 135,
   "metadata": {},
   "outputs": [
    {
     "data": {
      "image/png": "[encoded data removed]",
      "text/latex": [
       "$\\displaystyle 1.0 \\delta p_{x}^{2} + 1.0 \\delta p_{y}^{2} - 0.5 p_{x}^{2} - 0.5 p_{y}^{2} + 1.0 z$"
      ],
      "text/plain": [
       "             2                 2         2          2        \n",
       "1.0⋅\\delta⋅pₓ  + 1.0⋅\\delta⋅p_y  - 0.5⋅pₓ  - 0.5⋅p_y  + 1.0⋅z"
      ]
     },
     "execution_count": 135,
     "metadata": {},
     "output_type": "execute_result"
    }
   ],
   "source": [
    "truncate((lie_f4.LieMap((lie_f3.LieMap(vec[4],2)).expand(),2)).expand(),4)"
   ]
  },
  {
   "cell_type": "code",
   "execution_count": 136,
   "metadata": {},
   "outputs": [
    {
     "data": {
      "image/png": "[encoded data removed]",
      "text/latex": [
       "$\\displaystyle \\delta$"
      ],
      "text/plain": [
       "\\delta"
      ]
     },
     "execution_count": 136,
     "metadata": {},
     "output_type": "execute_result"
    }
   ],
   "source": [
    "taylor_vector[5]"
   ]
  },
  {
   "cell_type": "code",
   "execution_count": 137,
   "metadata": {},
   "outputs": [
    {
     "data": {
      "image/png": "[encoded data removed]",
      "text/latex": [
       "$\\displaystyle 1.0 \\delta$"
      ],
      "text/plain": [
       "1.0⋅\\delta"
      ]
     },
     "execution_count": 137,
     "metadata": {},
     "output_type": "execute_result"
    }
   ],
   "source": [
    "truncate((lie_f4.LieMap((lie_f3.LieMap(vec[5],2)).expand(),2)).expand(),4)"
   ]
  },
  {
   "cell_type": "code",
   "execution_count": 51,
   "metadata": {},
   "outputs": [],
   "source": [
    "weigths = taylor_to_weight_mat(taylor_vector)"
   ]
  },
  {
   "cell_type": "code",
   "execution_count": null,
   "metadata": {},
   "outputs": [],
   "source": []
  }
 ],
 "metadata": {
  "kernelspec": {
   "display_name": "Python 3",
   "language": "python",
   "name": "python3"
  },
  "language_info": {
   "codemirror_mode": {
    "name": "ipython",
    "version": 3
   },
   "file_extension": ".py",
   "mimetype": "text/x-python",
   "name": "python",
   "nbconvert_exporter": "python",
   "pygments_lexer": "ipython3",
   "version": "3.7.6"
  }
 },
 "nbformat": 4,
 "nbformat_minor": 4
}
