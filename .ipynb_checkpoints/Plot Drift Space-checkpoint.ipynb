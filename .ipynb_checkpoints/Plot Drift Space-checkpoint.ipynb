{
 "cells": [
  {
   "cell_type": "code",
   "execution_count": 1,
   "metadata": {},
   "outputs": [],
   "source": [
    "import numpy as np\n",
    "import pandas as pd\n",
    "import sympy\n",
    "from sympy.plotting import plot\n",
    "from sympy import *\n",
    "from operator import mul\n",
    "from functools import reduce\n",
    "from mpmath import fac\n",
    "import functools\n",
    "from sympy import init_printing\n",
    "from sympy import series,cos\n",
    "\n",
    "from IPython.display import display_latex\n",
    "init_printing()"
   ]
  },
  {
   "cell_type": "code",
   "execution_count": 2,
   "metadata": {},
   "outputs": [],
   "source": [
    "x,y,px,py,delta, L = symbols('x y px py d L')\n",
    "xn = x + L * px/(sqrt((1+delta)**2 - px**2 - py**2))\n",
    "yn = y + L * px/(sqrt((1+delta)**2 - px**2 - py**2))"
   ]
  },
  {
   "cell_type": "code",
   "execution_count": 3,
   "metadata": {},
   "outputs": [
    {
     "data": {
      "image/png": "[encoded data removed]",
      "text/latex": [
       "$\\displaystyle \\frac{L px}{\\sqrt{- px^{2} - py^{2} + \\left(d + 1\\right)^{2}}} + x$"
      ],
      "text/plain": [
       "            L⋅px               \n",
       "─────────────────────────── + x\n",
       "   ________________________    \n",
       "  ╱     2     2          2     \n",
       "╲╱  - px  - py  + (d + 1)      "
      ]
     },
     "execution_count": 3,
     "metadata": {},
     "output_type": "execute_result"
    }
   ],
   "source": [
    "xn"
   ]
  },
  {
   "cell_type": "markdown",
   "metadata": {},
   "source": [
    "# In px expansion"
   ]
  },
  {
   "cell_type": "code",
   "execution_count": 4,
   "metadata": {},
   "outputs": [],
   "source": [
    "f = xn.subs([(py,10e-05),(delta, 0)])"
   ]
  },
  {
   "cell_type": "markdown",
   "metadata": {},
   "source": [
    "## x = 10e-05"
   ]
  },
  {
   "cell_type": "code",
   "execution_count": 5,
   "metadata": {},
   "outputs": [
    {
     "data": {
      "image/png": "[encoded data removed]",
      "text/latex": [
       "$\\displaystyle \\frac{L px}{\\sqrt{0.999999 - px^{2}}}$"
      ],
      "text/plain": [
       "        L⋅px       \n",
       "───────────────────\n",
       "   ________________\n",
       "  ╱              2 \n",
       "╲╱  0.999999 - px  "
      ]
     },
     "execution_count": 5,
     "metadata": {},
     "output_type": "execute_result"
    }
   ],
   "source": [
    "f = xn.subs([(x,0),(py,10e-04),(delta, 0)])\n",
    "yy1 = series(f,py,x0=0,n=3).removeO()\n",
    "yy1"
   ]
  },
  {
   "cell_type": "code",
   "execution_count": 6,
   "metadata": {},
   "outputs": [
    {
     "data": {
      "image/png": "[encoded data removed]",
      "text/latex": [
       "$\\displaystyle 1.00000050000038 L px$"
      ],
      "text/plain": [
       "1.00000050000038⋅L⋅px"
      ]
     },
     "execution_count": 6,
     "metadata": {},
     "output_type": "execute_result"
    }
   ],
   "source": [
    "y1 = series(f,px,x0=0,n=2).removeO()\n",
    "y1"
   ]
  },
  {
   "cell_type": "code",
   "execution_count": 7,
   "metadata": {},
   "outputs": [
    {
     "data": {
      "text/plain": [
       "<Figure size 640x480 with 1 Axes>"
      ]
     },
     "metadata": {},
     "output_type": "display_data"
    }
   ],
   "source": [
    "y1 = series(f.subs(x,10e-05),px,x0=0,n=2).removeO()\n",
    "y2 = series(f.subs(x,10e-05),px,x0=0,n=4).removeO()\n",
    "y3 = series(f.subs(x,10e-05),px,x0=0,n=6).removeO()\n",
    "y4 = series(f.subs(x,10e-05),px,x0=0,n=8).removeO()\n",
    "\n",
    "\n",
    "y1 = y1.subs(px,10e-4)\n",
    "y2 = y2.subs(px,10e-4)\n",
    "y3 = y3.subs(px,10e-4)\n",
    "y4 = y4.subs(px,10e-4)\n",
    "\n",
    "p1=plot(y1,y2,y3,y4,(L,0,1),show=false)\n",
    "\n",
    "p1[1].line_color = 'r'\n",
    "p1[2].line_color = 'g'\n",
    "p1[3].line_color = 'magenta'\n",
    "\n",
    "p1.show()"
   ]
  },
  {
   "cell_type": "markdown",
   "metadata": {},
   "source": [
    "## delta /neq 0"
   ]
  },
  {
   "cell_type": "code",
   "execution_count": 8,
   "metadata": {},
   "outputs": [],
   "source": [
    "f = xn.subs([(py,1e-04),(delta, 1e-04)])"
   ]
  },
  {
   "cell_type": "code",
   "execution_count": 9,
   "metadata": {},
   "outputs": [
    {
     "data": {
      "image/png": "[encoded data removed]",
      "text/plain": [
       "<Figure size 432x288 with 1 Axes>"
      ]
     },
     "metadata": {
      "needs_background": "light"
     },
     "output_type": "display_data"
    }
   ],
   "source": [
    "y1 = series(f.subs(x,0),px,x0=0,n=2).removeO()\n",
    "y2 = series(f.subs(x,0),px,x0=0,n=4).removeO()\n",
    "y3 = series(f.subs(x,0),px,x0=0,n=6).removeO()\n",
    "y4 = series(f.subs(x,0),px,x0=0,n=8).removeO()\n",
    "\n",
    "y1 = y1.subs(px,10e-4)\n",
    "y2 = y2.subs(px,10e-4)\n",
    "y3 = y3.subs(px,10e-4)\n",
    "y4 = y4.subs(px,10e-4)\n",
    "\n",
    "\n",
    "p1=plot(y1,y2,y3,y4,(L,0,1),show=false)\n",
    "\n",
    "p1[1].line_color = 'r'\n",
    "p1[2].line_color = 'g'\n",
    "p1[3].line_color = 'magenta'\n",
    "\n",
    "p1.show()"
   ]
  },
  {
   "cell_type": "markdown",
   "metadata": {},
   "source": [
    "## x = -10e-05"
   ]
  },
  {
   "cell_type": "code",
   "execution_count": 10,
   "metadata": {
    "scrolled": false
   },
   "outputs": [
    {
     "ename": "ValueError",
     "evalue": "The same variable should be used in all univariate expressions being plotted.",
     "output_type": "error",
     "traceback": [
      "\u001b[0;31m---------------------------------------------------------------------------\u001b[0m",
      "\u001b[0;31mValueError\u001b[0m                                Traceback (most recent call last)",
      "\u001b[0;32m<ipython-input-10-66e86b35dd0d>\u001b[0m in \u001b[0;36m<module>\u001b[0;34m\u001b[0m\n\u001b[1;32m      5\u001b[0m \u001b[0;34m\u001b[0m\u001b[0m\n\u001b[1;32m      6\u001b[0m \u001b[0;34m\u001b[0m\u001b[0m\n\u001b[0;32m----> 7\u001b[0;31m \u001b[0mp1\u001b[0m\u001b[0;34m=\u001b[0m\u001b[0mplot\u001b[0m\u001b[0;34m(\u001b[0m\u001b[0my1\u001b[0m\u001b[0;34m,\u001b[0m\u001b[0my2\u001b[0m\u001b[0;34m,\u001b[0m\u001b[0my3\u001b[0m\u001b[0;34m,\u001b[0m\u001b[0my4\u001b[0m\u001b[0;34m,\u001b[0m\u001b[0;34m(\u001b[0m\u001b[0mpx\u001b[0m\u001b[0;34m,\u001b[0m\u001b[0;36m0\u001b[0m\u001b[0;34m,\u001b[0m\u001b[0;36m1\u001b[0m\u001b[0;34m)\u001b[0m\u001b[0;34m,\u001b[0m\u001b[0mshow\u001b[0m\u001b[0;34m=\u001b[0m\u001b[0mfalse\u001b[0m\u001b[0;34m)\u001b[0m\u001b[0;34m\u001b[0m\u001b[0;34m\u001b[0m\u001b[0m\n\u001b[0m\u001b[1;32m      8\u001b[0m \u001b[0;34m\u001b[0m\u001b[0m\n\u001b[1;32m      9\u001b[0m \u001b[0mp1\u001b[0m\u001b[0;34m[\u001b[0m\u001b[0;36m1\u001b[0m\u001b[0;34m]\u001b[0m\u001b[0;34m.\u001b[0m\u001b[0mline_color\u001b[0m \u001b[0;34m=\u001b[0m \u001b[0;34m'r'\u001b[0m\u001b[0;34m\u001b[0m\u001b[0;34m\u001b[0m\u001b[0m\n",
      "\u001b[0;32m/usr/local/lib/python3.6/dist-packages/sympy/plotting/plot.py\u001b[0m in \u001b[0;36mplot\u001b[0;34m(*args, **kwargs)\u001b[0m\n\u001b[1;32m   1351\u001b[0m             \u001b[0;32mif\u001b[0m \u001b[0mlen\u001b[0m\u001b[0;34m(\u001b[0m\u001b[0mfree\u001b[0m\u001b[0;34m)\u001b[0m \u001b[0;34m>\u001b[0m \u001b[0;36m1\u001b[0m\u001b[0;34m:\u001b[0m\u001b[0;34m\u001b[0m\u001b[0;34m\u001b[0m\u001b[0m\n\u001b[1;32m   1352\u001b[0m                 raise ValueError(\n\u001b[0;32m-> 1353\u001b[0;31m                     \u001b[0;34m'The same variable should be used in all '\u001b[0m\u001b[0;34m\u001b[0m\u001b[0;34m\u001b[0m\u001b[0m\n\u001b[0m\u001b[1;32m   1354\u001b[0m                     'univariate expressions being plotted.')\n\u001b[1;32m   1355\u001b[0m     \u001b[0mx\u001b[0m \u001b[0;34m=\u001b[0m \u001b[0mfree\u001b[0m\u001b[0;34m.\u001b[0m\u001b[0mpop\u001b[0m\u001b[0;34m(\u001b[0m\u001b[0;34m)\u001b[0m \u001b[0;32mif\u001b[0m \u001b[0mfree\u001b[0m \u001b[0;32melse\u001b[0m \u001b[0mSymbol\u001b[0m\u001b[0;34m(\u001b[0m\u001b[0;34m'x'\u001b[0m\u001b[0;34m)\u001b[0m\u001b[0;34m\u001b[0m\u001b[0;34m\u001b[0m\u001b[0m\n",
      "\u001b[0;31mValueError\u001b[0m: The same variable should be used in all univariate expressions being plotted."
     ]
    }
   ],
   "source": [
    "y1 = series(f.subs(x,-10e-05),px,x0=0,n=2).removeO()\n",
    "y2 = series(f.subs(x,-10e-05),px,x0=0,n=4).removeO()\n",
    "y3 = series(f.subs(x,-10e-05),px,x0=0,n=6).removeO()\n",
    "y4 = series(f.subs(x,-10e-05),px,x0=0,n=8).removeO()\n",
    "\n",
    "\n",
    "p1=plot(y1,y2,y3,y4,(px,0,1),show=false)\n",
    "\n",
    "p1[1].line_color = 'r'\n",
    "p1[2].line_color = 'g'\n",
    "p1[3].line_color = 'magenta'\n",
    "\n",
    "p1.show()"
   ]
  },
  {
   "cell_type": "code",
   "execution_count": null,
   "metadata": {},
   "outputs": [],
   "source": []
  }
 ],
 "metadata": {
  "kernelspec": {
   "display_name": "Python 3",
   "language": "python",
   "name": "python3"
  },
  "language_info": {
   "codemirror_mode": {
    "name": "ipython",
    "version": 3
   },
   "file_extension": ".py",
   "mimetype": "text/x-python",
   "name": "python",
   "nbconvert_exporter": "python",
   "pygments_lexer": "ipython3",
   "version": "3.6.7"
  }
 },
 "nbformat": 4,
 "nbformat_minor": 2
}
