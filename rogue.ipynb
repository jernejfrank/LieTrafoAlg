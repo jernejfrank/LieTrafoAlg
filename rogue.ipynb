{
 "cells": [
  {
   "cell_type": "code",
   "execution_count": 1,
   "metadata": {},
   "outputs": [],
   "source": [
    "import numpy as np\n",
    "import pandas as pd\n",
    "import sympy\n",
    "from sympy import *\n",
    "from operator import mul\n",
    "from functools import reduce\n",
    "import mpmath as mp\n",
    "from mpmath import fac\n",
    "import functools\n",
    "from sympy import init_printing\n",
    "from sympy.core.decorators import _sympifyit, call_highest_priority\n",
    "from IPython.display import display_latex\n",
    "init_printing()\n",
    "import copy\n",
    "import collections"
   ]
  },
  {
   "cell_type": "code",
   "execution_count": 2,
   "metadata": {},
   "outputs": [],
   "source": [
    "class LieOperator(Expr):\n",
    "    '''\n",
    "    Defined algebra for the Lie operator:\n",
    "    Addition: Hamiltonian functions get added into a new Lie operator\n",
    "    Multiplication: Poisson bracket gets applied\n",
    "    CAUTION: NOT ASSOCIATIVE\n",
    "\n",
    "    INPUT: Hamiltonian, generalized coordinates and momenta\n",
    "    '''\n",
    "    \n",
    "    \n",
    "    _op_priority = 11.0\n",
    "\n",
    "    is_commutative = False\n",
    "    \n",
    "#     #Initialize the operator\n",
    "#     def __init__(self, ham, indep_coords, indep_mom):\n",
    "#         if S(ham).is_number:\n",
    "#             raise TypeError('Input has to be a function and not a number.')\n",
    "#         else:\n",
    "#             self._ham = ham\n",
    "\n",
    "#         if not isinstance(indep_coords, list): #create list of coords\n",
    "#             indep_coords = [indep_coords]\n",
    "#         if not isinstance(indep_mom, list): #create list of momenta\n",
    "#             indep_mom = [indep_mom]\n",
    "            \n",
    "#         #same number of coordinates and momenta have to be entered\n",
    "#         assert(len(indep_coords)==len(indep_mom)),'The number of coords and momenta is not the same'\n",
    "#         self._indep_coords = indep_coords\n",
    "#         self._indep_mom = indep_mom\n",
    "\n",
    "        \n",
    "    def __new__(cls, ham, indep_coords, indep_mom):\n",
    "        if not isinstance(indep_coords, list): #create list of coords\n",
    "            indep_coords = [indep_coords]\n",
    "        if not isinstance(indep_mom, list): #create list of momenta\n",
    "            indep_mom = [indep_mom]\n",
    "        \n",
    "        #same number of coordinates and momenta have to be entered\n",
    "        assert(len(indep_coords)==len(indep_mom)),'The number of coords and momenta is not the same'\n",
    "            \n",
    "        obj = Expr.__new__(cls, ham, indep_coords, indep_mom)\n",
    "        obj._ham = ham\n",
    "        obj._indep_coords = indep_coords\n",
    "        obj._indep_mom = indep_mom\n",
    "        return obj\n",
    "    \n",
    "    \n",
    "    @property\n",
    "    def ham(self):\n",
    "        return self._ham\n",
    "    \n",
    "    @ham.setter\n",
    "    def ham(self, other):\n",
    "        #Input has to be a function\n",
    "        assert(not(S(ham.is_number))), 'Input has to be a function and not a number'\n",
    "        self._ham = self._ham.subs(self.ham, other).doit()\n",
    "        \n",
    "    @property\n",
    "    def indep_coords(self):\n",
    "        return self._indep_coords\n",
    "    \n",
    "    @indep_coords.setter\n",
    "    def indep_coords(self, other):\n",
    "        self._indep_coords = other\n",
    "        \n",
    "    @property\n",
    "    def indep_mom(self):\n",
    "        return self._indep_mom\n",
    "    \n",
    "    @indep_mom.setter\n",
    "    def indep_mom(self, other):\n",
    "        self._indep_mom = other\n",
    "        \n",
    "        \n",
    "        \n",
    "    \n",
    "    #Algebraic properties \n",
    "\n",
    "    #Define Addition\n",
    "    @_sympifyit('other', NotImplemented)\n",
    "    @call_highest_priority('__radd__')\n",
    "    def __add__(self,other):\n",
    "        if not isinstance(other, LieOperator):\n",
    "            raise TypeError(other, ' has to be a Lie Operator')\n",
    "        elif not collections.Counter(self.indep_coords) == collections.Counter(other.indep_coords):\n",
    "            raise TypeError('Lie Operators do not have the same dimension.')\n",
    "        else:\n",
    "            return LieOperator(self.ham + other.ham, self.indep_coords,self.indep_mom)\n",
    "\n",
    "    @_sympifyit('other', NotImplemented)\n",
    "    @call_highest_priority('__add__')\n",
    "    def __radd__(self,other):\n",
    "        if not isinstance(other, LieOperator):\n",
    "            raise TypeError(other, ' has to be a Lie Operator')\n",
    "        elif not collections.Counter(self.indep_coords) == collections.Counter(other.indep_coords):\n",
    "            raise TypeError('Lie Operators do not have the same dimension.')\n",
    "        else:\n",
    "            return LieOperator(self.ham + other.ham, self.indep_coords,self.indep_mom)    \n",
    "        \n",
    "    #Define Multiplication\n",
    "    @_sympifyit('other', NotImplemented)\n",
    "    @call_highest_priority('__rmul__')\n",
    "    def __mul__(self, other):\n",
    "        return self.LieOperatorMul(other)\n",
    "        \n",
    "        \n",
    "    @_sympifyit('other', NotImplemented)\n",
    "    @call_highest_priority('__mul__')\n",
    "    def __rmul__(self,other):\n",
    "        if S(other).is_number:\n",
    "            return LieOperator(other*self.ham,self.indep_coords,self.indep_mom)\n",
    "        elif not isinstance(other, LieOperator):\n",
    "            raise TypeError(other, ' has to be number or Lie Operator.')\n",
    "        return other.LieOperatorMul(self)\n",
    "    \n",
    "    \n",
    "    def LieOperatorMul(_ham1, _ham2):\n",
    "        if not isinstance(_ham2, LieOperator):\n",
    "            _ham2 = LieOperator(_ham2,_ham1.indep_coords,_ham1.indep_mom) \n",
    "        if not collections.Counter(_ham1.indep_coords) == collections.Counter(_ham2.indep_coords):\n",
    "            raise TypeError('Lie Operators do not have the same dimension.')\n",
    "        else:\n",
    "            return _ham1.Poisson(_ham2)\n",
    "    \n",
    "    \n",
    "    #Calcualte Poisson bracket with input function\n",
    "    def Poisson(self,other):\n",
    "        _h1 = self.ham\n",
    "        _h2 = other.ham\n",
    "        hp = S(0)\n",
    "        for qi,pi in zip(self.indep_coords, self.indep_mom):\n",
    "            hp += _h1.diff(qi) * _h2.diff(pi) \n",
    "            hp -= _h1.diff(pi) * _h2.diff(qi)\n",
    "        return LieOperator(hp,self.indep_coords,self.indep_mom)\n",
    "    \n",
    "    \n",
    "    #Exponential Map: Lie Transform\n",
    "    #Calculate the exponential map of the Lie operator to the input cutoff\n",
    "    def LieMap(self,other,power):\n",
    "        s = S(0)\n",
    "        \n",
    "        for i in range(power+1):\n",
    "            s += sympy.Rational(1,factorial(i))*(self.ExpPowerLieBracket(other,i)).ham\n",
    "        \n",
    "        return LieOperator(s,self.indep_coords,self.indep_mom) \n",
    "    \n",
    "    \n",
    "    \n",
    "    #Successively apply Poisson bracket to input function to the input cutoff\n",
    "    def ExpPowerLieBracket(self, other, power):\n",
    "        _op1 = self\n",
    "        _op2 = other\n",
    "        \n",
    "        \n",
    "        if power > 0:\n",
    "            hp = _op1*_op2\n",
    "            \n",
    "            for s in range(1,power):\n",
    "                hp = _op1*hp\n",
    "                \n",
    "        else:\n",
    "            if not isinstance(_op2, LieOperator):\n",
    "                _op2 = LieOperator(_op2, self.indep_coords,self.indep_mom)\n",
    "            \n",
    "            hp = _op2\n",
    "        \n",
    "        return hp\n",
    "    \n",
    "    \n",
    "    \n",
    "    #BCH Multiplication\n",
    "    def BCH(_op1,_op2,n):\n",
    "        if not isinstance(_op2, LieOperator):\n",
    "            raise TypeError(_op2, ' has to be a Lie Operator')\n",
    "        elif not collections.Counter(_op1.indep_coords) == collections.Counter(_op2.indep_coords):\n",
    "            raise TypeError('Lie Operators do not have the same dimension.')\n",
    "    \n",
    "        _s = S(0)  \n",
    "\n",
    "        for i in range(1,n+1):\n",
    "            _s+= _op1.translated(i)\n",
    "        \n",
    "        \n",
    "        temp = _s.replace(Add, lambda *args: _op1.PoissonAddition(_op2,*args))\n",
    "        temp = temp.ham.replace(Mul, lambda *args: _op1.PoissonMultiplication(_op2,*args))\n",
    "        \n",
    "            \n",
    "        if not isinstance(temp, LieOperator):\n",
    "            temp = LieOperator(temp,_op1.indep_coords,_op1.indep_mom)\n",
    "        \n",
    "        return temp\n",
    "    \n",
    "    @staticmethod\n",
    "    def NP(_n):\n",
    "        _F = sympy.Matrix(np.zeros((_n+1,_n+1)))\n",
    "        for i in range(_n+1):\n",
    "            for j in range(_n+1):\n",
    "                if (j-i)>=0:\n",
    "                    _F[i,j] = sympy.Rational(1,int(fac(j-i))) # keep it rational !!!!\n",
    "\n",
    "\n",
    "\n",
    "        _G = sympy.Matrix(np.zeros((_n+1,_n+1)))\n",
    "        for i in range(_n+1):\n",
    "            for j in range(_n+1):\n",
    "                if (j-i)>=0:\n",
    "                    if i==j:\n",
    "                        sigprod = 1\n",
    "                    else:\n",
    "                        l = sympy.symbols('s{}:{}'.format(i,j))\n",
    "                        sigprod = reduce(sympy.Mul,l)\n",
    "                    _G[i,j] = sympy.Mul(sympy.Rational(1,int(np.math.factorial(j-i))),sigprod, evaluate=False)\n",
    "\n",
    "\n",
    "\n",
    "        qthpower = sympy.Matrix(np.eye(_n+1))\n",
    "\n",
    "        FGm1 = sympy.nsimplify(_F*_G - qthpower)\n",
    "\n",
    "#         FGm1\n",
    "\n",
    "\n",
    "        summ = 0\n",
    "\n",
    "        for q in range(1,_n+1):\n",
    "            qthpower = sympy.nsimplify(sympy.MatMul(qthpower, FGm1, evaluate=False))\n",
    "\n",
    "            summ += sympy.nsimplify((-1)**(q-1)/q * qthpower)[0,_n] # q-1 because mathematica starts at 1 and not 0, there for sign change\n",
    "\n",
    "        return sympy.expand(summ)\n",
    "\n",
    "    \n",
    "    def translated(self,n):\n",
    "        l = sympy.symbols('s{}:{}'.format(0,n))\n",
    "        temp = reduce(functools.partial(sympy.Mul,evaluate=False),[k*k for k in l])\n",
    "        temp = sympy.expand(sympy.Mul(temp, self.NP(n), evaluate=False),evaluate=False)\n",
    "        with sympy.evaluate(False):\n",
    "            ln = sympy.symbols('r{}:{}'.format(0,n), commutative=False)\n",
    "            for i, s in enumerate(l):\n",
    "                temp = temp.subs(l[i],ln[i])\n",
    "            for i in range(n):\n",
    "                _f = sympy.Symbol('f',commutative=False)\n",
    "                _g = sympy.Symbol('g',commutative=False)\n",
    "                temp = temp.subs(ln[i]**3,_g)\n",
    "                temp = temp.subs(ln[i]**2,_f)\n",
    "                temp = temp.subs(_g**0,1)\n",
    "\n",
    "# #             #NEED TO WRITE THE FUNCTIONS TO RELATE NORMAL SYMBOLS TO LIE OPERATORS\n",
    "#             print('did it happen?')\n",
    "#             print(_ham1*_ham2)\n",
    "#             temp = temp.replace(Mul, lambda *args: _ham1.PoissonMultiplication(_ham2,*args))\n",
    "#             temp = temp.replace(Add, lambda *args: _ham1.PoissonAddition(_ham2,*args))\n",
    "            \n",
    "#             if not isinstance(temp, LieOperator):\n",
    "#                 temp = LieOperator(temp,_ham1.indep_coords,_ham1.indep_mom)\n",
    "            \n",
    "        return temp\n",
    "    \n",
    "    \n",
    "    \n",
    "    def PoissonMultiplication(_op1,_op2,*args):\n",
    "        _f = sympy.Symbol('f',commutative=False)\n",
    "        _g = sympy.Symbol('g',commutative=False)\n",
    "        \n",
    "        \n",
    "        if args[-1] == _f:\n",
    "            _h = _op1\n",
    "        elif args[-1] == _g:\n",
    "            _h = _op2\n",
    "        else:\n",
    "            print('Expression does not start with an operator...')\n",
    "            _h = 1\n",
    "\n",
    "        for op in args[-2::-1]:\n",
    "            if S(op).is_number:\n",
    "                _h = LieOperator(op*_h.ham,_h.indep_coords,_h.indep_mom)\n",
    "                \n",
    "            else:\n",
    "                if op == _f:\n",
    "                    _h = _op1.LieOperatorMul(_h)\n",
    "                elif op == _g:\n",
    "                    _h = _op2.LieOperatorMul(_h)\n",
    "                else:\n",
    "                    print('We have more than just f and g, namely', op)\n",
    "        return _h.ham\n",
    "\n",
    "\n",
    "        \n",
    "    \n",
    "    def PoissonAddition(_op1,_op2,*args):\n",
    "        _h = 0\n",
    "        \n",
    "        _f = sympy.Symbol('f',commutative=False)\n",
    "        _g = sympy.Symbol('g',commutative=False)\n",
    "\n",
    "        if _f in args or _g in args:\n",
    "            for op in args:\n",
    "                if op == _f:\n",
    "                    _h = _h + _op1.ham\n",
    "                elif op == _g:\n",
    "                    _h = _h + _op2.ham\n",
    "                else:\n",
    "                    _h = _h + op\n",
    "        else:\n",
    "            for arg in args:\n",
    "                _h = _h + arg\n",
    "        \n",
    "        return LieOperator(_h,_op1.indep_coords,_op2.indep_mom)\n",
    "    "
   ]
  },
  {
   "cell_type": "code",
   "execution_count": 19,
   "metadata": {},
   "outputs": [],
   "source": [
    "x, y, px, py, delta = sympy.symbols('x y px py d')\n",
    "H1 = sympy.Function('H1', commutative=False)(x,p)\n",
    "H2 = sympy.Function('H2', commutative=False)(x,p)\n",
    "H3 = sympy.Function('H3', commutative=False)(x,p)\n",
    "W = x**2 + p**2\n",
    "Z = - sympy.sqrt((1+delta)**2 - p**2)\n",
    "la = LieOperator(H1,x,p)\n",
    "lb = LieOperator(H2,x,p)\n",
    "lc = LieOperator(H3,x,p)\n",
    "lz = LieOperator(W,x,p)\n",
    "lw = LieOperator(Z,x,p)\n",
    "\n",
    "# ma = LieMap(H1,x,p,2,2)\n",
    "# mb = LieMap(H2,x,p,3,3)\n",
    "# mc = LieMap(H3,x,p,2,3)\n",
    "\n",
    "# mw = LieMap(W,x,p,2,2)\n",
    "# mz = LieMap(Z,x,p,2,2)"
   ]
  },
  {
   "cell_type": "code",
   "execution_count": 4,
   "metadata": {},
   "outputs": [
    {
     "data": {
      "image/png": "[encoded data removed]",
      "text/latex": [
       "$$LieOperator(H1(x, p) + H2(x, p), [x], [p])$$"
      ],
      "text/plain": [
       "LieOperator(H1(x, p) + H2(x, p), [x], [p])"
      ]
     },
     "execution_count": 4,
     "metadata": {},
     "output_type": "execute_result"
    }
   ],
   "source": [
    "la + lb"
   ]
  },
  {
   "cell_type": "code",
   "execution_count": 5,
   "metadata": {},
   "outputs": [
    {
     "data": {
      "image/png": "[encoded data removed]",
      "text/latex": [
       "$$LieOperator(-Derivative(H2(x, p), p)*Derivative(H1(x, p), x) + Derivative(H2(x, p), x)*Derivative(H1(x, p), p), [x], [p])$$"
      ],
      "text/plain": [
       "LieOperator(-Derivative(H2(x, p), p)*Derivative(H1(x, p), x) + Derivative(H2(x\n",
       ", p), x)*Derivative(H1(x, p), p), [x], [p])"
      ]
     },
     "execution_count": 5,
     "metadata": {},
     "output_type": "execute_result"
    }
   ],
   "source": [
    "lb*la"
   ]
  },
  {
   "cell_type": "code",
   "execution_count": 6,
   "metadata": {},
   "outputs": [
    {
     "data": {
      "image/png": "[encoded data removed]",
      "text/latex": [
       "$$LieOperator(5*H1(x, p), [x], [p])$$"
      ],
      "text/plain": [
       "LieOperator(5*H1(x, p), [x], [p])"
      ]
     },
     "execution_count": 6,
     "metadata": {},
     "output_type": "execute_result"
    }
   ],
   "source": [
    "5 * la"
   ]
  },
  {
   "cell_type": "code",
   "execution_count": 7,
   "metadata": {},
   "outputs": [
    {
     "data": {
      "image/png": "[encoded data removed]",
      "text/latex": [
       "$$LieOperator(-Derivative(H1(x, p), p), [x], [p])$$"
      ],
      "text/plain": [
       "LieOperator(-Derivative(H1(x, p), p), [x], [p])"
      ]
     },
     "execution_count": 7,
     "metadata": {},
     "output_type": "execute_result"
    }
   ],
   "source": [
    "la * x"
   ]
  },
  {
   "cell_type": "code",
   "execution_count": 8,
   "metadata": {},
   "outputs": [
    {
     "data": {
      "image/png": "[encoded data removed]",
      "text/latex": [
       "$$LieOperator(0, [x], [p])$$"
      ],
      "text/plain": [
       "LieOperator(0, [x], [p])"
      ]
     },
     "execution_count": 8,
     "metadata": {},
     "output_type": "execute_result"
    }
   ],
   "source": [
    "la * 5"
   ]
  },
  {
   "cell_type": "code",
   "execution_count": 9,
   "metadata": {},
   "outputs": [
    {
     "data": {
      "image/png": "[encoded data removed]",
      "text/latex": [
       "$$LieOperator(-p**3/(-p**2 + (d + 1)**2)**(3/2) + 3*p**2*x/(-p**2 + (d + 1)**2) - 3*p*x**2/sqrt(-p**2 + (d + 1)**2) + x**3, [x], [p])$$"
      ],
      "text/plain": [
       "LieOperator(-p**3/(-p**2 + (d + 1)**2)**(3/2) + 3*p**2*x/(-p**2 + (d + 1)**2) \n",
       "- 3*p*x**2/sqrt(-p**2 + (d + 1)**2) + x**3, [x], [p])"
      ]
     },
     "execution_count": 9,
     "metadata": {},
     "output_type": "execute_result"
    }
   ],
   "source": [
    "lw.LieMap(x**3,3)"
   ]
  },
  {
   "cell_type": "code",
   "execution_count": 10,
   "metadata": {},
   "outputs": [
    {
     "data": {
      "image/png": "[encoded data removed]",
      "text/latex": [
       "$$LieOperator(p + 1, [x], [p])$$"
      ],
      "text/plain": [
       "LieOperator(p + 1, [x], [p])"
      ]
     },
     "execution_count": 10,
     "metadata": {},
     "output_type": "execute_result"
    }
   ],
   "source": [
    "la.LieMap(p,2).subs(H1,x).doit()"
   ]
  },
  {
   "cell_type": "code",
   "execution_count": 11,
   "metadata": {},
   "outputs": [
    {
     "data": {
      "image/png": "[encoded data removed]",
      "text/latex": [
       "$$LieOperator(-Derivative(H2(x, p), p)*Derivative(H1(x, p), x) + Derivative(H2(x, p), x)*Derivative(H1(x, p), p), [x], [p])$$"
      ],
      "text/plain": [
       "LieOperator(-Derivative(H2(x, p), p)*Derivative(H1(x, p), x) + Derivative(H2(x\n",
       ", p), x)*Derivative(H1(x, p), p), [x], [p])"
      ]
     },
     "execution_count": 11,
     "metadata": {},
     "output_type": "execute_result"
    }
   ],
   "source": [
    "lb*la"
   ]
  },
  {
   "cell_type": "code",
   "execution_count": 37,
   "metadata": {},
   "outputs": [],
   "source": [
    "t = la.BCH(lc,2)"
   ]
  },
  {
   "cell_type": "code",
   "execution_count": 30,
   "metadata": {},
   "outputs": [
    {
     "data": {
      "image/png": "[encoded data removed]",
      "text/latex": [
       "$$LieOperator(x - (-Derivative(H3(x, p), p)*Derivative(H3(x, p), p, x) + Derivative(H3(x, p), x)*Derivative(H3(x, p), (p, 2)))/6 + (Derivative(H3(x, p), p)*Derivative(H3(x, p), p, x) - Derivative(H3(x, p), x)*Derivative(H3(x, p), (p, 2)))/12 + (-Derivative(H3(x, p), p)*Derivative(H3(x, p), p, x) - Derivative(H3(x, p), (p, 2))*Derivative(H3(x, p), x) + Derivative(H3(x, p), x)*Derivative(H3(x, p), (p, 2)) + Derivative(H3(x, p), p, x)*Derivative(H3(x, p), p))/12 + H3(x, p) + Derivative(H3(x, p), p) + Derivative(H3(x, p), (p, 2))/4, [x], [p])$$"
      ],
      "text/plain": [
       "LieOperator(x - (-Derivative(H3(x, p), p)*Derivative(H3(x, p), p, x) + Derivat\n",
       "ive(H3(x, p), x)*Derivative(H3(x, p), (p, 2)))/6 + (Derivative(H3(x, p), p)*De\n",
       "rivative(H3(x, p), p, x) - Derivative(H3(x, p), x)*Derivative(H3(x, p), (p, 2)\n",
       "))/12 + (-Derivative(H3(x, p), p)*Derivative(H3(x, p), p, x) - Derivative(H3(x\n",
       ", p), (p, 2))*Derivative(H3(x, p), x) + Derivative(H3(x, p), x)*Derivative(H3(\n",
       "x, p), (p, 2)) + Derivative(H3(x, p), p, x)*Derivative(H3(x, p), p))/12 + H3(x\n",
       ", p) + Derivative(H3(x, p), p) + Derivative(H3(x, p), (p, 2))/4, [x], [p])"
      ]
     },
     "execution_count": 30,
     "metadata": {},
     "output_type": "execute_result"
    }
   ],
   "source": [
    "t.subs(H1,x).doit()"
   ]
  },
  {
   "cell_type": "code",
   "execution_count": 33,
   "metadata": {},
   "outputs": [],
   "source": [
    "tt = t.subs(H1, W).doit()"
   ]
  },
  {
   "cell_type": "code",
   "execution_count": 35,
   "metadata": {},
   "outputs": [
    {
     "data": {
      "image/png": "[encoded data removed]",
      "text/latex": [
       "$$LieOperator(p**2 + p**2/(2*(-p**2 + (d + 1)**2)) - p**2/sqrt(-p**2 + (d + 1)**2) + 2*p*x/sqrt(-p**2 + (d + 1)**2) + x**2 - x**2*(p**2/(p**2 - (d + 1)**2) - 1)/sqrt(-p**2 + (d + 1)**2) - sqrt(-p**2 + (d + 1)**2), [x], [p])$$"
      ],
      "text/plain": [
       "LieOperator(p**2 + p**2/(2*(-p**2 + (d + 1)**2)) - p**2/sqrt(-p**2 + (d + 1)**\n",
       "2) + 2*p*x/sqrt(-p**2 + (d + 1)**2) + x**2 - x**2*(p**2/(p**2 - (d + 1)**2) - \n",
       "1)/sqrt(-p**2 + (d + 1)**2) - sqrt(-p**2 + (d + 1)**2), [x], [p])"
      ]
     },
     "execution_count": 35,
     "metadata": {},
     "output_type": "execute_result"
    }
   ],
   "source": [
    "tt.subs(H3,lw.ham).doit()"
   ]
  },
  {
   "cell_type": "code",
   "execution_count": 38,
   "metadata": {},
   "outputs": [
    {
     "data": {
      "image/png": "[encoded data removed]",
      "text/latex": [
       "$$LieOperator((-Derivative(H1(x, p), p)*Derivative(H3(x, p), x) + Derivative(H1(x, p), x)*Derivative(H3(x, p), p))/2 - (-Derivative(H3(x, p), p)*Derivative(H1(x, p), x) + Derivative(H3(x, p), x)*Derivative(H1(x, p), p))/2 + H1(x, p) + H3(x, p), [x], [p])$$"
      ],
      "text/plain": [
       "LieOperator((-Derivative(H1(x, p), p)*Derivative(H3(x, p), x) + Derivative(H1(\n",
       "x, p), x)*Derivative(H3(x, p), p))/2 - (-Derivative(H3(x, p), p)*Derivative(H1\n",
       "(x, p), x) + Derivative(H3(x, p), x)*Derivative(H1(x, p), p))/2 + H1(x, p) + H\n",
       "3(x, p), [x], [p])"
      ]
     },
     "execution_count": 38,
     "metadata": {},
     "output_type": "execute_result"
    }
   ],
   "source": [
    "t"
   ]
  },
  {
   "cell_type": "code",
   "execution_count": 45,
   "metadata": {},
   "outputs": [
    {
     "data": {
      "image/png": "[encoded data removed]",
      "text/latex": [
       "$$- 2 p - x - 3$$"
      ],
      "text/plain": [
       "-2⋅p - x - 3"
      ]
     },
     "execution_count": 45,
     "metadata": {},
     "output_type": "execute_result"
    }
   ],
   "source": [
    "t.LieMap(x,2).subs(H1,x).subs(H3,W).doit().ham"
   ]
  },
  {
   "cell_type": "code",
   "execution_count": null,
   "metadata": {},
   "outputs": [],
   "source": []
  }
 ],
 "metadata": {
  "kernelspec": {
   "display_name": "Python 3",
   "language": "python",
   "name": "python3"
  },
  "language_info": {
   "codemirror_mode": {
    "name": "ipython",
    "version": 3
   },
   "file_extension": ".py",
   "mimetype": "text/x-python",
   "name": "python",
   "nbconvert_exporter": "python",
   "pygments_lexer": "ipython3",
   "version": "3.7.0"
  }
 },
 "nbformat": 4,
 "nbformat_minor": 2
}
