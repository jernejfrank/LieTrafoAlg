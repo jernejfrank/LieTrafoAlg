{
 "cells": [
  {
   "cell_type": "code",
   "execution_count": 9,
   "metadata": {},
   "outputs": [],
   "source": [
    "import numpy as np\n",
    "import pandas as pd\n",
    "from matplotlib import pyplot as plt"
   ]
  },
  {
   "cell_type": "code",
   "execution_count": 10,
   "metadata": {},
   "outputs": [],
   "source": [
    "elements = {\n",
    "    \"Q1\": [\"Quadrupole\", {\"length\": 0.25, \"k1\": 2.4519}],\n",
    "    \"Q2\": [\"Quadrupole\", {\"length\": 0.2, \"k1\": -1.89757}],\n",
    "    \"Q3D\": [\"Quadrupole\", {\"length\": 0.25, \"k1\": -2.020250494966872}],\n",
    "    \"Q4D\": [\"Quadrupole\", {\"length\": 0.5, \"k1\": 1.408159470450006}],\n",
    "    \"Q3T\": [\"Quadrupole\", {\"length\": 0.25, \"k1\": -2.46319}],\n",
    "    \"Q4T\": [\"Quadrupole\", {\"length\": 0.5, \"k1\": 2.62081}],\n",
    "    \"Q5T\": [\"Quadrupole\", {\"length\": 0.2, \"k1\": -2.6}],\n",
    "    \"S1\": [\"Sextupole\", {\"length\": 0.105, \"k2\": 49.35808097165103}],\n",
    "    \"S2\": [\"Sextupole\", {\"length\": 0.16, \"k2\": -41.52033512035799}],\n",
    "    \"S3D\": [\"Sextupole\", {\"length\": 0.16, \"k2\": -46.66222668520843}],\n",
    "    \"S4D\": [\"Sextupole\", {\"length\": 0.16, \"k2\": 26.97788440561498}],\n",
    "    \"S3T\": [\"Sextupole\", {\"length\": 0.16, \"k2\": -59.15244659713909}],\n",
    "    \"S4T\": [\"Sextupole\", {\"length\": 0.16, \"k2\": 85.76518842267137}],\n",
    "    \"DQ1\": [\"Drift\", {\"length\": 0.288}],\n",
    "    \"DS1\": [\"Drift\", {\"length\": 0.16}],\n",
    "    \"DQ2\": [\"Drift\", {\"length\": 0.42}],\n",
    "    \"DS2\": [\"Drift\", {\"length\": 0.307}],\n",
    "    \"DB\": [\"Drift\", {\"length\": 0.42}],\n",
    "    \"DS3\": [\"Drift\", {\"length\": 0.153}],\n",
    "    \"DQ\": [\"Drift\", {\"length\": 0.153}],\n",
    "    \"DL\": [\"Drift\", {\"length\": 2.806}],\n",
    "    \"DK\": [\"Drift\", {\"length\": 2.453}],\n",
    "    \"B\": [\"Dipole\", {\"length\": 0.855, \"angle\": 0.196349540849362, \"e1\": 0.09817477042, \"e2\": 0.09817477042}]\n",
    "    }\n",
    "lattices = {\n",
    "    \"ACHLH\": [\"DQ2\", \"Q2\", \"DS2\", \"S2\", \"DQ1\", \"Q1\", \"DS1\", \"S1\"],\n",
    "    \"ACHRH\": [\"S1\", \"DS1\", \"Q1\", \"DQ1\", \"S2\", \"DS2\", \"Q2\", \"DQ2\"],\n",
    "    \"STRTDLH\": [\"DB\", \"Q3D\", \"DQ\", \"S3D\", \"DS3\", \"Q4D\", \"DQ\", \"S4D\", \"DL\"],\n",
    "    \"STRTDRH\": [\"DL\", \"S4D\", \"DQ\", \"Q4D\", \"DS3\", \"S3D\", \"DQ\", \"Q3D\", \"DB\"],\n",
    "    \"STRTTLH\": [\"DB\", \"Q3T\", \"DQ\", \"S3T\", \"DS3\", \"Q4T\", \"DQ\", \"S4T\", \"DQ\", \"Q5T\", \"DK\"],\n",
    "    \"STRTTRH\": [\"DK\", \"Q5T\", \"DQ\", \"S4T\", \"DQ\", \"Q4T\", \"DS3\", \"S3T\", \"DQ\", \"Q3T\", \"DB\"],\n",
    "    \"DLH\": [\"ACHRH\", \"B\", \"STRTDLH\"],\n",
    "    \"DRH\": [\"STRTDRH\", \"B\", \"ACHLH\"],\n",
    "    \"D\": [\"DLH\", \"DRH\"],\n",
    "    \"T\": [\"ACHRH\", \"B\", \"STRTTLH\", \"STRTTRH\", \"B\", \"ACHLH\"],\n",
    "    \"RING\": [\"DRH\", \"T\", \"D\", \"T\", \"D\", \"T\", \"D\", \"T\", \"D\", \"T\", \"D\", \"T\", \"D\", \"T\", \"D\", \"T\", \"DLH\"]\n",
    "    }"
   ]
  },
  {
   "cell_type": "code",
   "execution_count": 15,
   "metadata": {},
   "outputs": [],
   "source": [
    "beta = 0.01\n",
    "gamma = 1 / np.sqrt(1 - beta**2)\n",
    "bg_0 = beta**2 * gamma**2\n",
    "\n",
    "\n",
    "def DriftMat(L):\n",
    "    R = np.array([[1,L,0,0],\n",
    "                    [0,1,0,0],\n",
    "                    [0,0,1,L],\n",
    "                    [0,0,0,1],])\n",
    "    \n",
    "    return R\n",
    "\n",
    "def QuadMat(L,k1):\n",
    "    _omega = np.sqrt(np.abs(k1))\n",
    "    \n",
    "    if k1 > 0:\n",
    "        R = np.array([[np.cos(_omega*L),np.sin(_omega*L)/_omega,0,0],\n",
    "             [-_omega*np.sin(_omega*L),np.cos(_omega*L),0,0],\n",
    "             [0,0,np.cosh(_omega*L),np.sinh(_omega*L)/_omega],\n",
    "             [0,0,_omega*np.sinh(_omega*L),np.cosh(_omega*L)]])\n",
    "    else:\n",
    "        R = np.array([[np.cosh(_omega*L),np.sinh(_omega*L)/_omega,0,0],\n",
    "             [_omega*np.sinh(_omega*L),np.cosh(_omega*L),0,0],\n",
    "             [0,0,np.cos(_omega*L),np.sin(_omega*L)/_omega],\n",
    "             [0,0,-_omega*np.sin(_omega*L),np.cos(_omega*L)]])\n",
    "    \n",
    "    return R\n",
    "\n",
    "def DipMap(L, angle, e1, e2):\n",
    "    \n",
    "def SextMap(r,l,k,delta=0):\n",
    "    x = r[0]\n",
    "    px = r[1]\n",
    "    y = r[2]\n",
    "    py = r[3]\n",
    "    \n",
    "    xn = x\n",
    "    pxn = px - (k*l)*(x**2 - y**2)/2\n",
    "    yn = y\n",
    "    pyn = py + k*l*x*y\n",
    "    \n",
    "    return xn, pxn, yn, pyn"
   ]
  },
  {
   "cell_type": "code",
   "execution_count": 16,
   "metadata": {},
   "outputs": [
    {
     "data": {
      "text/plain": [
       "0.00020001000075006253"
      ]
     },
     "execution_count": 16,
     "metadata": {},
     "output_type": "execute_result"
    }
   ],
   "source": []
  },
  {
   "cell_type": "code",
   "execution_count": null,
   "metadata": {},
   "outputs": [],
   "source": []
  }
 ],
 "metadata": {
  "kernelspec": {
   "display_name": "Python 3",
   "language": "python",
   "name": "python3"
  },
  "language_info": {
   "codemirror_mode": {
    "name": "ipython",
    "version": 3
   },
   "file_extension": ".py",
   "mimetype": "text/x-python",
   "name": "python",
   "nbconvert_exporter": "python",
   "pygments_lexer": "ipython3",
   "version": "3.7.6"
  }
 },
 "nbformat": 4,
 "nbformat_minor": 4
}
