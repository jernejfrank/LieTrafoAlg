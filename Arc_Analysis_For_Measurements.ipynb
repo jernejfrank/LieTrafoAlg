{
 "cells": [
  {
   "cell_type": "code",
   "execution_count": null,
   "metadata": {},
   "outputs": [],
   "source": []
  },
  {
   "cell_type": "code",
   "execution_count": 4,
   "metadata": {},
   "outputs": [],
   "source": [
    "elements = {\n",
    "    \"Q1\": [\"Quadrupole\", {\"length\": 0.25, \"k1\": 2.4519}],\n",
    "    \"Q2\": [\"Quadrupole\", {\"length\": 0.2, \"k1\": -1.89757}],\n",
    "    \"Q3D\": [\"Quadrupole\", {\"length\": 0.25, \"k1\": -2.020250494966872}],\n",
    "    \"Q4D\": [\"Quadrupole\", {\"length\": 0.5, \"k1\": 1.408159470450006}],\n",
    "    \"Q3T\": [\"Quadrupole\", {\"length\": 0.25, \"k1\": -2.46319}],\n",
    "    \"Q4T\": [\"Quadrupole\", {\"length\": 0.5, \"k1\": 2.62081}],\n",
    "    \"Q5T\": [\"Quadrupole\", {\"length\": 0.2, \"k1\": -2.6}],\n",
    "    \"S1\": [\"Sextupole\", {\"length\": 0.105, \"k2\": 49.35808097165103}],\n",
    "    \"S2\": [\"Sextupole\", {\"length\": 0.16, \"k2\": -41.52033512035799}],\n",
    "    \"S3D\": [\"Sextupole\", {\"length\": 0.16, \"k2\": -46.66222668520843}],\n",
    "    \"S4D\": [\"Sextupole\", {\"length\": 0.16, \"k2\": 26.97788440561498}],\n",
    "    \"S3T\": [\"Sextupole\", {\"length\": 0.16, \"k2\": -59.15244659713909}],\n",
    "    \"S4T\": [\"Sextupole\", {\"length\": 0.16, \"k2\": 85.76518842267137}],\n",
    "    \"DQ1\": [\"Drift\", {\"length\": 0.288}],\n",
    "    \"DS1\": [\"Drift\", {\"length\": 0.16}],\n",
    "    \"DQ2\": [\"Drift\", {\"length\": 0.42}],\n",
    "    \"DS2\": [\"Drift\", {\"length\": 0.307}],\n",
    "    \"DB\": [\"Drift\", {\"length\": 0.42}],\n",
    "    \"DS3\": [\"Drift\", {\"length\": 0.153}],\n",
    "    \"DQ\": [\"Drift\", {\"length\": 0.153}],\n",
    "    \"DL\": [\"Drift\", {\"length\": 2.806}],\n",
    "    \"DK\": [\"Drift\", {\"length\": 2.453}],\n",
    "    \"B\": [\"Dipole\", {\"length\": 0.855, \"angle\": 0.196349540849362, \"e1\": 0.09817477042, \"e2\": 0.09817477042}]\n",
    "    }\n",
    "lattices = {\n",
    "    \"ACHLH\": [\"DQ2\", \"Q2\", \"DS2\", \"S2\", \"DQ1\", \"Q1\", \"DS1\", \"S1\"],\n",
    "    \"ACHRH\": [\"S1\", \"DS1\", \"Q1\", \"DQ1\", \"S2\", \"DS2\", \"Q2\", \"DQ2\"],\n",
    "    \"STRTDLH\": [\"DB\", \"Q3D\", \"DQ\", \"S3D\", \"DS3\", \"Q4D\", \"DQ\", \"S4D\", \"DL\"],\n",
    "    \"STRTDRH\": [\"DL\", \"S4D\", \"DQ\", \"Q4D\", \"DS3\", \"S3D\", \"DQ\", \"Q3D\", \"DB\"],\n",
    "    \"STRTTLH\": [\"DB\", \"Q3T\", \"DQ\", \"S3T\", \"DS3\", \"Q4T\", \"DQ\", \"S4T\", \"DQ\", \"Q5T\", \"DK\"],\n",
    "    \"STRTTRH\": [\"DK\", \"Q5T\", \"DQ\", \"S4T\", \"DQ\", \"Q4T\", \"DS3\", \"S3T\", \"DQ\", \"Q3T\", \"DB\"],\n",
    "    \"DLH\": [\"ACHRH\", \"B\", \"STRTDLH\"],\n",
    "    \"DRH\": [\"STRTDRH\", \"B\", \"ACHLH\"],\n",
    "    \"D\": [\"DLH\", \"DRH\"],\n",
    "    \"T\": [\"ACHRH\", \"B\", \"STRTTLH\", \"STRTTRH\", \"B\", \"ACHLH\"],\n",
    "    \"RING\": [\"DRH\", \"T\", \"D\", \"T\", \"D\", \"T\", \"D\", \"T\", \"D\", \"T\", \"D\", \"T\", \"D\", \"T\", \"D\", \"T\", \"DLH\"]\n",
    "    }"
   ]
  },
  {
   "cell_type": "code",
   "execution_count": 8,
   "metadata": {},
   "outputs": [
    {
     "data": {
      "text/plain": [
       "0.25"
      ]
     },
     "execution_count": 8,
     "metadata": {},
     "output_type": "execute_result"
    }
   ],
   "source": [
    "elements[\"Q1\"][1][\"length\"]"
   ]
  },
  {
   "cell_type": "code",
   "execution_count": 3,
   "metadata": {},
   "outputs": [
    {
     "name": "stdout",
     "output_type": "stream",
     "text": [
      "['ACHRH', 'B', 'STRTDLH']\n",
      "['STRTDRH', 'B', 'ACHLH']\n"
     ]
    }
   ],
   "source": []
  },
  {
   "cell_type": "code",
   "execution_count": null,
   "metadata": {},
   "outputs": [],
   "source": []
  }
 ],
 "metadata": {
  "kernelspec": {
   "display_name": "Python 3",
   "language": "python",
   "name": "python3"
  },
  "language_info": {
   "codemirror_mode": {
    "name": "ipython",
    "version": 3
   },
   "file_extension": ".py",
   "mimetype": "text/x-python",
   "name": "python",
   "nbconvert_exporter": "python",
   "pygments_lexer": "ipython3",
   "version": "3.7.6"
  }
 },
 "nbformat": 4,
 "nbformat_minor": 4
}
