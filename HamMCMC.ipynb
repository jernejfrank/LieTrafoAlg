{
 "cells": [
  {
   "cell_type": "code",
   "execution_count": 5,
   "metadata": {},
   "outputs": [],
   "source": [
    "import numpy as np\n",
    "import pandas as pd\n",
    "from matplotlib import pyplot as plt\n",
    "\n",
    "import sympy\n",
    "from sympy import *\n",
    "from operator import mul\n",
    "from functools import reduce\n",
    "import mpmath as mp\n",
    "from mpmath import fac\n",
    "import functools\n",
    "from sympy import init_printing\n",
    "from sympy.core.decorators import _sympifyit, call_highest_priority\n",
    "from IPython.display import display_latex\n",
    "init_printing()\n",
    "import copy\n",
    "import collections\n",
    "\n",
    "from functools import reduce  # Required in Python 3\n",
    "import operator\n",
    "#akin to built - in sum() but for product\n",
    "def prod(iterable):\n",
    "    return reduce(operator.mul, iterable, 1)"
   ]
  },
  {
   "cell_type": "code",
   "execution_count": 6,
   "metadata": {},
   "outputs": [],
   "source": [
    "sym_x, sym_y, sym_z, sym_px, sym_py, sym_pz = sympy.symbols('x y z p_x p_y \\delta')\n",
    "\n",
    "def AssignHam(element, order=3, length=1, strength=1,flag=1):\n",
    "    '''\n",
    "    Element:\n",
    "    1 = drift space\n",
    "    2 = quadrupole\n",
    "    25 = skew quadrupole\n",
    "    3 = sextupole\n",
    "    35 = skew sextupole - tbp\n",
    "    \n",
    "    add dipoles as well\n",
    "    '''\n",
    "\n",
    "    if element == 1:\n",
    "        H = drift(order, length)\n",
    "    elif element == 2:\n",
    "        H = quad(order, length, strength, flag)\n",
    "    elif element == 25:\n",
    "        H = skew_quad(order, length, strength, flag)\n",
    "    elif element == 3:\n",
    "        H = sext(order, length, strength, flag)\n",
    "#     elif H == 35:\n",
    "#         H = skew_sext(order, length, strength)\n",
    "    else:\n",
    "        raise ValueError(element, ' no such reference in library.')      \n",
    "    \n",
    "    return H\n",
    "\n",
    "\n",
    "def drift(N, length, beta=1):\n",
    "    H0 = sym_pz / beta\n",
    "    _ftemp = sympy.sqrt((sym_pz + 1/beta**2)**2 - sym_px**2 - sym_py**2 + (1 - 1/beta**2))\n",
    "    _epstemp = sympy.symbols('e')\n",
    "    \n",
    "    if N == -1:\n",
    "        H = H0 - _ftemp\n",
    "    elif N == -2: #paraxial for matrix\n",
    "        H = (sym_pz**2)*(1/beta**2 -1)/2 - (sym_px**2)/2 - (sym_py**2)/2\n",
    "    else:\n",
    "        H = H0 - _ftemp.subs(sym_px,sym_px*_epstemp).subs(sym_py,sym_py*_epstemp).subs(sym_pz,sym_pz*_epstemp).series(_epstemp,n=N).removeO().subs(_epstemp,1)\n",
    "    \n",
    "    H = length * H\n",
    "    \n",
    "    return H\n",
    "\n",
    "\n",
    "def quad(N, length, strength,flag):\n",
    "    if flag == 1:\n",
    "        H0 = AssignHam(1, N) #Drift space\n",
    "    else:\n",
    "        H0 = 0\n",
    "        \n",
    "    H = H0 + (strength / 2) * (sym_x**2 - sym_y**2)\n",
    "    H = length * H\n",
    "\n",
    "    return H    \n",
    "\n",
    "\n",
    "def skew_quad(N, length, strength,flag):\n",
    "    if flag == 1:\n",
    "        H0 = AssignHam(1, N) #Drift space\n",
    "    else:\n",
    "        H0 = 0\n",
    "        \n",
    "    H = H0 + (strength / 2) * sym_x * sym_y\n",
    "    H = length * H\n",
    "\n",
    "    return H    \n",
    "\n",
    "\n",
    "def sext(N, length, strength,flag):\n",
    "    if flag == 1:\n",
    "        H0 = AssignHam(1, N) #Drift space\n",
    "    else:\n",
    "        H0 = 0\n",
    "        \n",
    "    H = H0 + (strength / 6) * (sym_x**3 - 3 * sym_x * sym_y**2)\n",
    "    H = length * H\n",
    "\n",
    "    return H    "
   ]
  },
  {
   "cell_type": "code",
   "execution_count": 7,
   "metadata": {},
   "outputs": [],
   "source": [
    "def AssignHam(element, order=3, length=1, strength=1,flag=1):\n",
    "    '''\n",
    "    Element:\n",
    "    1 = drift space\n",
    "    2 = quadrupole\n",
    "    25 = skew quadrupole\n",
    "    3 = sextupole\n",
    "    35 = skew sextupole - tbp\n",
    "    \n",
    "    add dipoles as well\n",
    "    '''\n",
    "\n",
    "    if element == 1:\n",
    "        H = drift(order, length)\n",
    "    elif element == 2:\n",
    "        H = quad(order, length, strength, flag)\n",
    "    elif element == 25:\n",
    "        H = skew_quad(order, length, strength, flag)\n",
    "    elif element == 3:\n",
    "        H = sext(order, length, strength, flag)\n",
    "#     elif H == 35:\n",
    "#         H = skew_sext(order, length, strength)\n",
    "    else:\n",
    "        raise ValueError(element, ' no such reference in library.')      \n",
    "    \n",
    "    return H"
   ]
  },
  {
   "cell_type": "code",
   "execution_count": null,
   "metadata": {},
   "outputs": [],
   "source": [
    "FODO = [[2,3,]]"
   ]
  },
  {
   "cell_type": "code",
   "execution_count": 15,
   "metadata": {},
   "outputs": [
    {
     "data": {
      "image/png": "[encoded data removed]",
      "text/latex": [
       "$\\displaystyle 0.125 p_{x}^{4} + 0.25 p_{x}^{2} p_{y}^{2} + 0.42 p_{x}^{2} + 0.125 p_{y}^{4} + 0.42 p_{y}^{2} - 1.0$"
      ],
      "text/plain": [
       "        4          2    2          2            4           2      \n",
       "0.125⋅pₓ  + 0.25⋅pₓ ⋅p_y  + 0.42⋅pₓ  + 0.125⋅p_y  + 0.42⋅p_y  - 1.0"
      ]
     },
     "execution_count": 15,
     "metadata": {},
     "output_type": "execute_result"
    }
   ],
   "source": [
    "AssignHam(1,5,1,1,1).subs(sym_pz,0.2)"
   ]
  },
  {
   "cell_type": "code",
   "execution_count": null,
   "metadata": {},
   "outputs": [],
   "source": []
  }
 ],
 "metadata": {
  "kernelspec": {
   "display_name": "Python 3",
   "language": "python",
   "name": "python3"
  },
  "language_info": {
   "codemirror_mode": {
    "name": "ipython",
    "version": 3
   },
   "file_extension": ".py",
   "mimetype": "text/x-python",
   "name": "python",
   "nbconvert_exporter": "python",
   "pygments_lexer": "ipython3",
   "version": "3.7.6"
  }
 },
 "nbformat": 4,
 "nbformat_minor": 4
}
