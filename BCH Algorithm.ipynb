{
 "cells": [
  {
   "cell_type": "code",
   "execution_count": 1,
   "metadata": {},
   "outputs": [],
   "source": [
    "import numpy as np"
   ]
  },
  {
   "cell_type": "code",
   "execution_count": 43,
   "metadata": {},
   "outputs": [],
   "source": [
    "def prime(x):\n",
    "    if x == 1:\n",
    "        return 1\n",
    "    elif x == 2:\n",
    "        return 2\n",
    "    else:\n",
    "        return x\n",
    "\n",
    "def dblprime(y):\n",
    "    if y == 1:\n",
    "        return 0\n",
    "    elif y == 2:\n",
    "        return 0\n",
    "    else:\n",
    "        return y\n",
    "\n",
    "def degree(x):\n",
    "    if x == 1 or x == 2:\n",
    "        return 1\n",
    "    else:\n",
    "        return degree(x-1) + degree(x-2)\n",
    "\n",
    "def algo1(N):\n",
    "    i = 3\n",
    "    print('j','k','kpp','|j|','|k|','|j|+|k|','n','i')\n",
    "    count = 0\n",
    "    for n in range(2,N):\n",
    "        j = 1\n",
    "        while j < i:\n",
    "            k = j + 1\n",
    "            while k < i:\n",
    "                print(j,k,dblprime(k),degree(j), degree(k), degree(j) + degree(k), n,i)\n",
    "                if degree(j) + degree(k) == n and j>= dblprime(k):\n",
    "                    ipp = j\n",
    "                    ip = k\n",
    "                    ideg = n\n",
    "                    i += 1\n",
    "                    print()\n",
    "                    print(ideg, ip, ipp)\n",
    "                    print()\n",
    "                if count > 10e3:\n",
    "                    break\n",
    "                count += 1\n",
    "                k += 1\n",
    "            j += 1"
   ]
  },
  {
   "cell_type": "code",
   "execution_count": 56,
   "metadata": {},
   "outputs": [],
   "source": [
    "def dblpr(x,order):\n",
    "    candidates = []\n",
    "    for y in range(1,k):\n",
    "        if y == 1 or y ==2:\n",
    "            candidates.append(y)\n",
    "        elif order > deg[y]:\n",
    "            candidates.append(y)\n",
    "    return np.asarray(candidates)"
   ]
  },
  {
   "cell_type": "code",
   "execution_count": 57,
   "metadata": {},
   "outputs": [
    {
     "name": "stdout",
     "output_type": "stream",
     "text": [
      "1 2\n",
      "1 3\n",
      "2 3\n",
      "1 4\n",
      "1 5\n",
      "2 4\n",
      "2 5\n",
      "1 6\n",
      "1 7\n",
      "1 8\n",
      "1 9\n",
      "2 6\n",
      "2 7\n",
      "2 8\n",
      "2 9\n",
      "3 4\n",
      "3 5\n"
     ]
    }
   ],
   "source": [
    "deg = {1 : 1,\n",
    "         2 : 1}\n",
    "i = 3\n",
    "for n in range(2,6):\n",
    "    j = 1\n",
    "    while j < i:\n",
    "        k = j + 1\n",
    "        while k < i:\n",
    "            if deg[j] + deg[k] == n and j>= np.any(dblpr(k,deg[k])):\n",
    "                deg[i] = n\n",
    "                print(j,k)\n",
    "                i += 1\n",
    "            k += 1\n",
    "        j += 1"
   ]
  },
  {
   "cell_type": "code",
   "execution_count": 58,
   "metadata": {},
   "outputs": [
    {
     "name": "stdout",
     "output_type": "stream",
     "text": [
      "{1: 1, 2: 1, 3: 2, 4: 3, 5: 3, 6: 4, 7: 4, 8: 4, 9: 4, 10: 5, 11: 5, 12: 5, 13: 5, 14: 5, 15: 5, 16: 5, 17: 5, 18: 5, 19: 5}\n"
     ]
    }
   ],
   "source": [
    "print(deg)"
   ]
  },
  {
   "cell_type": "code",
   "execution_count": 44,
   "metadata": {},
   "outputs": [
    {
     "name": "stdout",
     "output_type": "stream",
     "text": [
      "j k kpp |j| |k| |j|+|k| n i\n",
      "1 2 0 1 1 2 2 3\n",
      "\n",
      "2 2 1\n",
      "\n",
      "1 3 3 1 2 3 2 4\n",
      "2 3 3 1 2 3 2 4\n",
      "1 2 0 1 1 2 3 4\n",
      "1 3 3 1 2 3 3 4\n",
      "2 3 3 1 2 3 3 4\n",
      "1 2 0 1 1 2 4 4\n",
      "1 3 3 1 2 3 4 4\n",
      "2 3 3 1 2 3 4 4\n",
      "1 2 0 1 1 2 5 4\n",
      "1 3 3 1 2 3 5 4\n",
      "2 3 3 1 2 3 5 4\n"
     ]
    }
   ],
   "source": [
    "algo1(6)"
   ]
  },
  {
   "cell_type": "code",
   "execution_count": 45,
   "metadata": {},
   "outputs": [
    {
     "name": "stdout",
     "output_type": "stream",
     "text": [
      "1\n",
      "1\n",
      "2\n",
      "3\n",
      "5\n",
      "8\n",
      "13\n",
      "21\n",
      "34\n",
      "55\n",
      "89\n",
      "144\n",
      "233\n",
      "377\n"
     ]
    }
   ],
   "source": [
    "for i in range(1,15):\n",
    "    print(degree(i))"
   ]
  },
  {
   "cell_type": "code",
   "execution_count": null,
   "metadata": {},
   "outputs": [],
   "source": []
  }
 ],
 "metadata": {
  "kernelspec": {
   "display_name": "Python 3",
   "language": "python",
   "name": "python3"
  },
  "language_info": {
   "codemirror_mode": {
    "name": "ipython",
    "version": 3
   },
   "file_extension": ".py",
   "mimetype": "text/x-python",
   "name": "python",
   "nbconvert_exporter": "python",
   "pygments_lexer": "ipython3",
   "version": "3.6.7"
  }
 },
 "nbformat": 4,
 "nbformat_minor": 2
}
