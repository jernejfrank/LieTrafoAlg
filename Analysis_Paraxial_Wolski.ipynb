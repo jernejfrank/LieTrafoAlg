{
 "cells": [
  {
   "cell_type": "code",
   "execution_count": 1,
   "metadata": {},
   "outputs": [],
   "source": [
    "import numpy as np\n",
    "import pandas as pd\n",
    "from matplotlib import pyplot as plt\n",
    "\n",
    "import sympy\n",
    "from sympy import *\n",
    "from operator import mul\n",
    "from functools import reduce\n",
    "import mpmath as mp\n",
    "from mpmath import fac\n",
    "import functools\n",
    "from sympy import init_printing\n",
    "from sympy.core.decorators import _sympifyit, call_highest_priority\n",
    "from IPython.display import display_latex\n",
    "init_printing()\n",
    "import copy\n",
    "import collections"
   ]
  },
  {
   "cell_type": "code",
   "execution_count": 2,
   "metadata": {},
   "outputs": [],
   "source": [
    "class LieOperator(Expr):\n",
    "    '''\n",
    "    Defined algebra for the Lie operator:\n",
    "    Addition: Hamiltonian functions get added into a new Lie operator\n",
    "    Multiplication: Poisson bracket gets applied\n",
    "    Exp: Lie Transfer Map gets applied\n",
    "    BCH: Baker- Campbell - Hausdorff expansion gets applied as Lie Tranfer Map concatenation\n",
    "    CAUTION: NOT ASSOCIATIVE\n",
    "\n",
    "    INPUT: Hamiltonian, generalized coordinates and momenta\n",
    "    '''\n",
    "    \n",
    "    \n",
    "    _op_priority = 11.0\n",
    "\n",
    "    is_commutative = False\n",
    "    \n",
    "    \n",
    "    def __new__(cls, ham, indep_coords, indep_mom):\n",
    "        if not isinstance(indep_coords, list): #create list of coords\n",
    "            indep_coords = [indep_coords]\n",
    "        if not isinstance(indep_mom, list): #create list of momenta\n",
    "            indep_mom = [indep_mom]\n",
    "        \n",
    "        #same number of coordinates and momenta have to be entered\n",
    "        assert(len(indep_coords)==len(indep_mom)),'The number of coords and momenta is not the same'\n",
    "            \n",
    "        obj = Expr.__new__(cls, ham, indep_coords, indep_mom)\n",
    "        obj._ham = ham\n",
    "        obj._indep_coords = indep_coords\n",
    "        obj._indep_mom = indep_mom\n",
    "        return obj\n",
    "    \n",
    "    \n",
    "    @property\n",
    "    def ham(self):\n",
    "        return self._ham\n",
    "    \n",
    "    @ham.setter\n",
    "    def ham(self, other):\n",
    "        #Input has to be a function\n",
    "        assert(not(S(ham.is_number))), 'Input has to be a function and not a number'\n",
    "        self._ham = self._ham.subs(self.ham, other).doit()\n",
    "        \n",
    "    @property\n",
    "    def indep_coords(self):\n",
    "        return self._indep_coords\n",
    "    \n",
    "    @indep_coords.setter\n",
    "    def indep_coords(self, other):\n",
    "        self._indep_coords = other\n",
    "        \n",
    "    @property\n",
    "    def indep_mom(self):\n",
    "        return self._indep_mom\n",
    "    \n",
    "    @indep_mom.setter\n",
    "    def indep_mom(self, other):\n",
    "        self._indep_mom = other\n",
    "        \n",
    "        \n",
    "        \n",
    "    \n",
    "    #Algebraic properties \n",
    "\n",
    "    #Define Addition\n",
    "    @_sympifyit('other', NotImplemented)\n",
    "    @call_highest_priority('__radd__')\n",
    "    def __add__(self,other):\n",
    "        if not isinstance(other, LieOperator):\n",
    "            raise TypeError(other, ' has to be a Lie Operator')\n",
    "        elif not collections.Counter(self.indep_coords) == collections.Counter(other.indep_coords):\n",
    "            raise TypeError('Lie Operators do not have the same dimension.')\n",
    "        else:\n",
    "            return LieOperator(self.ham + other.ham, self.indep_coords,self.indep_mom)\n",
    "\n",
    "    @_sympifyit('other', NotImplemented)\n",
    "    @call_highest_priority('__add__')\n",
    "    def __radd__(self,other):\n",
    "        if not isinstance(other, LieOperator):\n",
    "            raise TypeError(other, ' has to be a Lie Operator')\n",
    "        elif not collections.Counter(self.indep_coords) == collections.Counter(other.indep_coords):\n",
    "            raise TypeError('Lie Operators do not have the same dimension.')\n",
    "        else:\n",
    "            return LieOperator(self.ham + other.ham, self.indep_coords,self.indep_mom)\n",
    "    \n",
    "    #Define Substraction\n",
    "    @_sympifyit('other', NotImplemented)\n",
    "    @call_highest_priority('__rsub__')\n",
    "    def __sub__(self, other):\n",
    "        if not isinstance(other, LieOperator):\n",
    "            raise TypeError(other, ' has to be a Lie Operator')\n",
    "        elif not collections.Counter(self.indep_coords) == collections.Counter(other.indep_coords):\n",
    "            raise TypeError('Lie Operators do not have the same dimension.')\n",
    "        else:\n",
    "            return LieOperator(self.ham - other.ham, self.indep_coords,self.indep_mom)\n",
    "\n",
    "    @_sympifyit('other', NotImplemented)\n",
    "    @call_highest_priority('__sub__')\n",
    "    def __rsub__(self, other):\n",
    "        if not isinstance(other, LieOperator):\n",
    "            raise TypeError(other, ' has to be a Lie Operator')\n",
    "        elif not collections.Counter(self.indep_coords) == collections.Counter(other.indep_coords):\n",
    "            raise TypeError('Lie Operators do not have the same dimension.')\n",
    "        else:\n",
    "            return LieOperator(self.ham - other.ham, self.indep_coords,self.indep_mom)\n",
    "        \n",
    "    #Define Multiplication\n",
    "    @_sympifyit('other', NotImplemented)\n",
    "    @call_highest_priority('__rmul__')\n",
    "    def __mul__(self, other):\n",
    "        return self.LieOperatorMul(other)\n",
    "        \n",
    "        \n",
    "    @_sympifyit('other', NotImplemented)\n",
    "    @call_highest_priority('__mul__')\n",
    "    def __rmul__(self,other):\n",
    "        if S(other).is_number:\n",
    "            return LieOperator(other*self.ham,self.indep_coords,self.indep_mom)\n",
    "        elif not isinstance(other, LieOperator):\n",
    "            other = LieOperator(other,self.indep_coords,self.indep_mom) \n",
    "        return other.LieOperatorMul(self)\n",
    "    \n",
    "    \n",
    "    def LieOperatorMul(_ham1, _ham2):\n",
    "        if not isinstance(_ham2, LieOperator):\n",
    "            _ham2 = LieOperator(_ham2,_ham1.indep_coords,_ham1.indep_mom) \n",
    "        if not collections.Counter(_ham1.indep_coords) == collections.Counter(_ham2.indep_coords):\n",
    "            raise TypeError('Lie Operators do not have the same dimension.')\n",
    "        else:\n",
    "            return _ham1.Poisson(_ham2)\n",
    "    \n",
    "    \n",
    "    #Calcualte Poisson bracket with input function\n",
    "    def Poisson(self,other):\n",
    "        _h1 = self.ham\n",
    "        _h2 = other.ham\n",
    "        hp = S(0)\n",
    "        for qi,pi in zip(self.indep_coords, self.indep_mom):\n",
    "            hp += _h1.diff(qi) * _h2.diff(pi) \n",
    "            hp -= _h1.diff(pi) * _h2.diff(qi)\n",
    "        return LieOperator(hp,self.indep_coords,self.indep_mom)\n",
    "    \n",
    "    \n",
    "    #Exponential Map: Lie Transform Map\n",
    "    #Calculate the exponential map of the Lie operator to the input cutoff\n",
    "    def LieMap(self,other,power):\n",
    "        s = S(0)\n",
    "        \n",
    "        for i in range(power+1):\n",
    "            s += sympy.Rational(1,factorial(i))*(self.ExpPowerLieBracket(other,i)).ham\n",
    "        \n",
    "        return LieOperator(s,self.indep_coords,self.indep_mom) \n",
    "    \n",
    "    \n",
    "    \n",
    "    #Successively apply Poisson bracket to input function to the input cutoff\n",
    "    def ExpPowerLieBracket(self, other, power):\n",
    "        _op1 = self\n",
    "        _op2 = other\n",
    "        \n",
    "        \n",
    "        if power > 0:\n",
    "            hp = _op1*_op2\n",
    "            \n",
    "            for s in range(1,power):\n",
    "                hp = _op1*hp\n",
    "                \n",
    "        else:\n",
    "            if not isinstance(_op2, LieOperator):\n",
    "                _op2 = LieOperator(_op2, self.indep_coords,self.indep_mom)\n",
    "            \n",
    "            hp = _op2\n",
    "        \n",
    "        return hp\n",
    "    \n",
    "    #Up to order 4 done manually to have a working copy, arbitrary ordered needs to be still written\n",
    "    def BCH(self,other,n):\n",
    "        if not isinstance(other, LieOperator):\n",
    "            raise TypeError(other, ' has to be a Lie Operator')\n",
    "        elif not collections.Counter(self.indep_coords) == collections.Counter(other.indep_coords):\n",
    "            raise TypeError('Lie Operators do not have the same dimension.')\n",
    "        elif n < 1:\n",
    "            raise ValueError(n, ' is not a valid order. Number has to be natural.')\n",
    "            \n",
    "        _op1 = LieOperator(self.ham,self.indep_coords, self.indep_mom)\n",
    "        _op2 = LieOperator(other.ham, other.indep_coords, other.indep_mom)\n",
    "        \n",
    "        \n",
    "        temp = _op1 + _op2\n",
    "        \n",
    "        if n > 1:\n",
    "            _xy = _op1 * _op2\n",
    "            _yx = _op2 * _op1\n",
    "            temp = temp + sympy.Rational(1,2) * _xy\n",
    "        \n",
    "        if n > 2:\n",
    "            _xxy = _op1 * _xy\n",
    "            _yyx = _op2 * _yx\n",
    "            temp = temp + sympy.Rational(1,12) * _xxy + sympy.Rational(1,12) * _yyx\n",
    "           \n",
    "        if n > 3:\n",
    "            _yxxy = _op2 * _xxy \n",
    "            temp = temp  - sympy.Rational(1,24) * _yxxy\n",
    "        \n",
    "        if n > 4:\n",
    "            _xyxyx = _op1 * (_op2 * (_op1 * _yx))\n",
    "            _yxyxy = _op2 * (_op1 * (_op2 * _xy))\n",
    "            \n",
    "            _xxxy = _op1 * _xxy\n",
    "            _yyyx = _op2 * _yyx\n",
    "            temp = temp + (sympy.Rational(1,120) * _xyxyx\n",
    "                           + sympy.Rational(1,120) * _yxyxy\n",
    "                           + sympy.Rational(1,360) * _op1 * _yyyx\n",
    "                           + sympy.Rational(1,360) * _op2 * _xxxy\n",
    "                           - sympy.Rational(1,720) * _op2 * _yyyx\n",
    "                           - sympy.Rational(1,720) * _op1 * _xxxy\n",
    "                          )\n",
    "       \n",
    "        return temp"
   ]
  },
  {
   "cell_type": "code",
   "execution_count": 3,
   "metadata": {},
   "outputs": [],
   "source": [
    "x, y, z, px, py, pz, L, eps = sympy.symbols('x y z p_x p_y \\delta L E')"
   ]
  },
  {
   "cell_type": "code",
   "execution_count": 6,
   "metadata": {},
   "outputs": [],
   "source": [
    "def FODOMatrix(_l1,_l2,_l,_k1,_k2):\n",
    "    #l1 focusing quad length\n",
    "    #k1 focusing quad strength\n",
    "    #l2 defocusing quad length\n",
    "    #k2 defocusing quad strength\n",
    "    #l drift length\n",
    "    \n",
    "    omegaf = np.sqrt(_k1)\n",
    "    _sinf = np.sin(omegaf * _l1)\n",
    "    _cosf = np.cos(omegaf * _l1)\n",
    "    _sinhf = np.sinh(omegaf * _l1)\n",
    "    _coshf = np.cosh(omegaf * _l1)\n",
    "\n",
    "    _Mqf = np.array(\n",
    "        [\n",
    "            [_cosf, _sinf / omegaf, 0, 0],\n",
    "            [-omegaf * _sinf, _cosf, 0, 0],\n",
    "            [0, 0, _coshf, _sinhf / omegaf],\n",
    "            [0, 0, omegaf * _sinhf, _coshf]\n",
    "        ]\n",
    "    )\n",
    "\n",
    "    omegad = np.sqrt(_k2)\n",
    "    _sind = np.sin(omegad * _l2)\n",
    "    _cosd = np.cos(omegad * _l2)\n",
    "    _sinhd = np.sinh(omegad * _l2)\n",
    "    _coshd = np.cosh(omegad * _l2)\n",
    "    \n",
    "    \n",
    "    \n",
    "    _Mqd = np.array(\n",
    "        [\n",
    "            [_coshd,_sinhd / omegad, 0, 0],\n",
    "            [omegad * _sinhd, _coshd, 0, 0],\n",
    "            [0, 0, _cosd, _sind / omegad],\n",
    "            [0, 0, -omegad * _sind, _cosd]\n",
    "        ]\n",
    "    )\n",
    "\n",
    "\n",
    "    _Md = np.array(\n",
    "        [\n",
    "            [1,_l,0,0],\n",
    "            [0,1,0,0],\n",
    "            [0,0,1,_l],\n",
    "            [0,0,0,1]\n",
    "        ]\n",
    "    )\n",
    "\n",
    "    _M = np.dot(_Md,_Mqf)\n",
    "    _M = np.dot(_Mqd,_M)\n",
    "    _M = np.dot(_Md,_M)\n",
    "    _M = np.dot(_Mqf,_M)\n",
    "    \n",
    "    return _M"
   ]
  },
  {
   "cell_type": "code",
   "execution_count": 7,
   "metadata": {},
   "outputs": [],
   "source": [
    "R = FODOMatrix(0.25,0.5,2.5,0.54102,0.54102)\n",
    "r0 = np.array([10e-5,0,10e-4,0])\n",
    "dataMATRICES = [r0]\n",
    "\n",
    "duration = 1000\n",
    "\n",
    "for i in range(duration):\n",
    "    r = np.dot(R,r0)\n",
    "    dataMATRICES.append(r)\n",
    "    r0 = np.copy(r)\n",
    "\n",
    "dataMATRICES = np.array(dataMATRICES)"
   ]
  },
  {
   "cell_type": "code",
   "execution_count": 8,
   "metadata": {},
   "outputs": [],
   "source": [
    "def drift(r,l,delta=0):\n",
    "    _x = r[0]\n",
    "    _px = r[1]\n",
    "    _y = r[2]\n",
    "    _py = r[3]\n",
    "    \n",
    "    xn = _x + l * _px / np.sqrt((1+delta)**2 - _px**2 - _py**2)\n",
    "    pxn = _px\n",
    "    yn = _y + l * _py / np.sqrt((1+delta)**2 - _px**2 - _py**2)\n",
    "    pyn = _py\n",
    "    \n",
    "    return xn, pxn, yn, pyn"
   ]
  },
  {
   "cell_type": "code",
   "execution_count": 9,
   "metadata": {},
   "outputs": [],
   "source": [
    "_l1 = 0.25\n",
    "_l2 = 0.5\n",
    "_l = 2.5\n",
    "_k1 = 0.54102\n",
    "_k2 = 0.54102\n",
    "_delta = 0.0001\n",
    "\n",
    "omegaf = np.sqrt(_k1)\n",
    "_sinf = np.sin(omegaf * _l1)\n",
    "_cosf = np.cos(omegaf * _l1)\n",
    "_sinhf = np.sinh(omegaf * _l1)\n",
    "_coshf = np.cosh(omegaf * _l1)\n",
    "\n",
    "_Mqf = np.array(\n",
    "    [\n",
    "        [_cosf, _sinf / omegaf, 0, 0],\n",
    "        [-omegaf * _sinf, _cosf, 0, 0],\n",
    "        [0, 0, _coshf, _sinhf / omegaf],\n",
    "        [0, 0, omegaf * _sinhf, _coshf]\n",
    "    ]\n",
    ")\n",
    "\n",
    "omegad = np.sqrt(_k2)\n",
    "_sind = np.sin(omegad * _l2)\n",
    "_cosd = np.cos(omegad * _l2)\n",
    "_sinhd = np.sinh(omegad * _l2)\n",
    "_coshd = np.cosh(omegad * _l2)\n",
    "\n",
    "\n",
    "\n",
    "_Mqd = np.array(\n",
    "    [\n",
    "        [_coshd,_sinhd / omegad, 0, 0],\n",
    "        [omegad * _sinhd, _coshd, 0, 0],\n",
    "        [0, 0, _cosd, _sind / omegad],\n",
    "        [0, 0, -omegad * _sind, _cosd]\n",
    "    ]\n",
    ")\n",
    "\n",
    "\n",
    "r0 = np.array([10e-5,0,10e-4,0])\n",
    "dataFULL = [r0]\n",
    "\n",
    "duration = 1000\n",
    "\n",
    "for i in range(duration):\n",
    "    r = np.dot(_Mqf,r0)\n",
    "    r = drift(r,_l,_delta)\n",
    "    r = np.dot(_Mqd,r)\n",
    "    r = drift(r,_l,_delta)\n",
    "    r = np.dot(_Mqf,r)\n",
    "    \n",
    "    dataFULL.append(r)\n",
    "    r0 = np.copy(r)\n",
    "\n",
    "dataFULL = np.array(dataFULL)"
   ]
  },
  {
   "cell_type": "code",
   "execution_count": 10,
   "metadata": {},
   "outputs": [],
   "source": [
    "delta = _delta\n",
    "g = sympy.sqrt((1+pz)**2 - px**2 - py**2) \n",
    "l_dyn = LieOperator(_l * g.subs(px,px*eps).subs(py,py*eps).subs(pz,pz*eps).series(eps,n=4).removeO().subs(eps,1).subs(pz, delta),[x,y],[px,py])\n",
    "l_all = LieOperator(_l * g.subs(px,px*eps).subs(py,py*eps).series(eps,n=4).removeO().subs(eps,1).subs(pz,delta),[x,y],[px,py])\n",
    "d = (1 + pz)\n",
    "H = (px**2)/(2*d) + (py**2)/(2*d) - d\n",
    "l_wol = LieOperator(_l * H.subs(pz,delta),[x,y],[px,py])"
   ]
  },
  {
   "cell_type": "code",
   "execution_count": 32,
   "metadata": {},
   "outputs": [
    {
     "data": {
      "image/png": "[encoded data removed]",
      "text/latex": [
       "$\\displaystyle \\frac{\\delta p_{x}^{2}}{2} + \\frac{\\delta p_{y}^{2}}{2} + \\delta - \\frac{p_{x}^{2}}{2} - \\frac{p_{y}^{2}}{2} + 1$"
      ],
      "text/plain": [
       "         2             2              2      2    \n",
       "\\delta⋅pₓ    \\delta⋅p_y             pₓ    p_y     \n",
       "────────── + ─────────── + \\delta - ─── - ──── + 1\n",
       "    2             2                  2     2      "
      ]
     },
     "execution_count": 32,
     "metadata": {},
     "output_type": "execute_result"
    }
   ],
   "source": [
    "g.subs(px,px*eps).subs(py,py*eps).subs(pz,pz*eps).series(eps,n=4).removeO().subs(eps,1)"
   ]
  },
  {
   "cell_type": "code",
   "execution_count": 20,
   "metadata": {},
   "outputs": [
    {
     "data": {
      "image/png": "[encoded data removed]",
      "text/latex": [
       "$\\displaystyle LieOperator\\left(2.49975 p_{x} + x, \\left[ x, \\  y\\right], \\left[ p_{x}, \\  p_{y}\\right]\\right)$"
      ],
      "text/plain": [
       "LieOperator(2.49975*p_x + x, [x, y], [p_x, p_y])"
      ]
     },
     "execution_count": 20,
     "metadata": {},
     "output_type": "execute_result"
    }
   ],
   "source": [
    "l_dyn.LieMap(x,5)"
   ]
  },
  {
   "cell_type": "code",
   "execution_count": 21,
   "metadata": {},
   "outputs": [
    {
     "data": {
      "image/png": "[encoded data removed]",
      "text/latex": [
       "$\\displaystyle LieOperator\\left(p_{x}, \\left[ x, \\  y\\right], \\left[ p_{x}, \\  p_{y}\\right]\\right)$"
      ],
      "text/plain": [
       "LieOperator(p_x, [x, y], [p_x, p_y])"
      ]
     },
     "execution_count": 21,
     "metadata": {},
     "output_type": "execute_result"
    }
   ],
   "source": [
    "l_dyn.LieMap(px,5)"
   ]
  },
  {
   "cell_type": "code",
   "execution_count": 22,
   "metadata": {},
   "outputs": [
    {
     "data": {
      "image/png": "[encoded data removed]",
      "text/latex": [
       "$\\displaystyle LieOperator\\left(2.49975 p_{y} + y, \\left[ x, \\  y\\right], \\left[ p_{x}, \\  p_{y}\\right]\\right)$"
      ],
      "text/plain": [
       "LieOperator(2.49975*p_y + y, [x, y], [p_x, p_y])"
      ]
     },
     "execution_count": 22,
     "metadata": {},
     "output_type": "execute_result"
    }
   ],
   "source": [
    "l_dyn.LieMap(y,5)"
   ]
  },
  {
   "cell_type": "code",
   "execution_count": 23,
   "metadata": {},
   "outputs": [
    {
     "data": {
      "image/png": "[encoded data removed]",
      "text/latex": [
       "$\\displaystyle LieOperator\\left(p_{y}, \\left[ x, \\  y\\right], \\left[ p_{x}, \\  p_{y}\\right]\\right)$"
      ],
      "text/plain": [
       "LieOperator(p_y, [x, y], [p_x, p_y])"
      ]
     },
     "execution_count": 23,
     "metadata": {},
     "output_type": "execute_result"
    }
   ],
   "source": [
    "l_dyn.LieMap(py,5)"
   ]
  },
  {
   "cell_type": "code",
   "execution_count": 24,
   "metadata": {},
   "outputs": [
    {
     "data": {
      "image/png": "[encoded data removed]",
      "text/latex": [
       "$\\displaystyle LieOperator\\left(2.4997500249975 p_{x} + x, \\left[ x, \\  y\\right], \\left[ p_{x}, \\  p_{y}\\right]\\right)$"
      ],
      "text/plain": [
       "LieOperator(2.4997500249975*p_x + x, [x, y], [p_x, p_y])"
      ]
     },
     "execution_count": 24,
     "metadata": {},
     "output_type": "execute_result"
    }
   ],
   "source": [
    "l_all.LieMap(x,5)"
   ]
  },
  {
   "cell_type": "code",
   "execution_count": 25,
   "metadata": {},
   "outputs": [
    {
     "data": {
      "image/png": "[encoded data removed]",
      "text/latex": [
       "$\\displaystyle LieOperator\\left(p_{x}, \\left[ x, \\  y\\right], \\left[ p_{x}, \\  p_{y}\\right]\\right)$"
      ],
      "text/plain": [
       "LieOperator(p_x, [x, y], [p_x, p_y])"
      ]
     },
     "execution_count": 25,
     "metadata": {},
     "output_type": "execute_result"
    }
   ],
   "source": [
    "l_all.LieMap(px,5)"
   ]
  },
  {
   "cell_type": "code",
   "execution_count": 26,
   "metadata": {},
   "outputs": [
    {
     "data": {
      "image/png": "[encoded data removed]",
      "text/latex": [
       "$\\displaystyle LieOperator\\left(2.4997500249975 p_{y} + y, \\left[ x, \\  y\\right], \\left[ p_{x}, \\  p_{y}\\right]\\right)$"
      ],
      "text/plain": [
       "LieOperator(2.4997500249975*p_y + y, [x, y], [p_x, p_y])"
      ]
     },
     "execution_count": 26,
     "metadata": {},
     "output_type": "execute_result"
    }
   ],
   "source": [
    "l_all.LieMap(y,5)"
   ]
  },
  {
   "cell_type": "code",
   "execution_count": 27,
   "metadata": {},
   "outputs": [
    {
     "data": {
      "image/png": "[encoded data removed]",
      "text/latex": [
       "$\\displaystyle LieOperator\\left(p_{y}, \\left[ x, \\  y\\right], \\left[ p_{x}, \\  p_{y}\\right]\\right)$"
      ],
      "text/plain": [
       "LieOperator(p_y, [x, y], [p_x, p_y])"
      ]
     },
     "execution_count": 27,
     "metadata": {},
     "output_type": "execute_result"
    }
   ],
   "source": [
    "l_all.LieMap(py,5)"
   ]
  },
  {
   "cell_type": "code",
   "execution_count": 28,
   "metadata": {},
   "outputs": [
    {
     "data": {
      "image/png": "[encoded data removed]",
      "text/latex": [
       "$\\displaystyle LieOperator\\left(- 2.4997500249975 p_{x} + x, \\left[ x, \\  y\\right], \\left[ p_{x}, \\  p_{y}\\right]\\right)$"
      ],
      "text/plain": [
       "LieOperator(-2.4997500249975*p_x + x, [x, y], [p_x, p_y])"
      ]
     },
     "execution_count": 28,
     "metadata": {},
     "output_type": "execute_result"
    }
   ],
   "source": [
    "l_wol.LieMap(x,5)"
   ]
  },
  {
   "cell_type": "code",
   "execution_count": 29,
   "metadata": {},
   "outputs": [
    {
     "data": {
      "image/png": "[encoded data removed]",
      "text/latex": [
       "$\\displaystyle LieOperator\\left(p_{x}, \\left[ x, \\  y\\right], \\left[ p_{x}, \\  p_{y}\\right]\\right)$"
      ],
      "text/plain": [
       "LieOperator(p_x, [x, y], [p_x, p_y])"
      ]
     },
     "execution_count": 29,
     "metadata": {},
     "output_type": "execute_result"
    }
   ],
   "source": [
    "l_wol.LieMap(px,5)"
   ]
  },
  {
   "cell_type": "code",
   "execution_count": 30,
   "metadata": {},
   "outputs": [
    {
     "data": {
      "image/png": "[encoded data removed]",
      "text/latex": [
       "$\\displaystyle LieOperator\\left(- 2.4997500249975 p_{y} + y, \\left[ x, \\  y\\right], \\left[ p_{x}, \\  p_{y}\\right]\\right)$"
      ],
      "text/plain": [
       "LieOperator(-2.4997500249975*p_y + y, [x, y], [p_x, p_y])"
      ]
     },
     "execution_count": 30,
     "metadata": {},
     "output_type": "execute_result"
    }
   ],
   "source": [
    "l_wol.LieMap(y,5)"
   ]
  },
  {
   "cell_type": "code",
   "execution_count": 31,
   "metadata": {},
   "outputs": [
    {
     "data": {
      "image/png": "[encoded data removed]",
      "text/latex": [
       "$\\displaystyle LieOperator\\left(p_{y}, \\left[ x, \\  y\\right], \\left[ p_{x}, \\  p_{y}\\right]\\right)$"
      ],
      "text/plain": [
       "LieOperator(p_y, [x, y], [p_x, p_y])"
      ]
     },
     "execution_count": 31,
     "metadata": {},
     "output_type": "execute_result"
    }
   ],
   "source": [
    "l_wol.LieMap(py,5)"
   ]
  },
  {
   "cell_type": "code",
   "execution_count": 11,
   "metadata": {},
   "outputs": [],
   "source": [
    "def drift_all(r,l):\n",
    "    _x = r[0]\n",
    "    _px = r[1]\n",
    "    _y = r[2]\n",
    "    _py = r[3]\n",
    "    \n",
    "    \n",
    "    xn = l_dyn.LieMap(x,5).ham.subs(x,_x).subs(px,_px).subs(y,_y).subs(py,_py)\n",
    "    pxn = l_dyn.LieMap(px,5).ham.subs(x,_x).subs(px,_px).subs(y,_y).subs(py,_py)\n",
    "    yn = l_dyn.LieMap(y,5).ham.subs(x,_x).subs(px,_px).subs(y,_y).subs(py,_py)\n",
    "    pyn = l_dyn.LieMap(py,5).ham.subs(x,_x).subs(px,_px).subs(y,_y).subs(py,_py)\n",
    "    \n",
    "    return xn, pxn, yn, pyn"
   ]
  },
  {
   "cell_type": "code",
   "execution_count": 12,
   "metadata": {},
   "outputs": [],
   "source": [
    "def drift_dyn(r,l):\n",
    "    _x = r[0]\n",
    "    _px = r[1]\n",
    "    _y = r[2]\n",
    "    _py = r[3]\n",
    "    \n",
    "    xn = l_all.LieMap(x,5).ham.subs(x,_x).subs(px,_px).subs(y,_y).subs(py,_py)\n",
    "    pxn = l_all.LieMap(px,5).ham.subs(x,_x).subs(px,_px).subs(y,_y).subs(py,_py)\n",
    "    yn = l_all.LieMap(y,5).ham.subs(x,_x).subs(px,_px).subs(y,_y).subs(py,_py)\n",
    "    pyn = l_all.LieMap(py,5).ham.subs(x,_x).subs(px,_px).subs(y,_y).subs(py,_py)\n",
    "    \n",
    "    return xn, pxn, yn, pyn"
   ]
  },
  {
   "cell_type": "code",
   "execution_count": 13,
   "metadata": {},
   "outputs": [],
   "source": [
    "def drift_wolski(r,l):\n",
    "    _x = r[0]\n",
    "    _px = r[1]\n",
    "    _y = r[2]\n",
    "    _py = r[3]\n",
    "    \n",
    "    \n",
    "    \n",
    "    xn = l_wol.LieMap(x,5).ham.subs(x,_x).subs(px,_px).subs(y,_y).subs(py,_py)\n",
    "    pxn = l_wol.LieMap(px,5).ham.subs(x,_x).subs(px,_px).subs(y,_y).subs(py,_py)\n",
    "    yn = l_wol.LieMap(y,5).ham.subs(x,_x).subs(px,_px).subs(y,_y).subs(py,_py)\n",
    "    pyn = l_wol.LieMap(py,5).ham.subs(x,_x).subs(px,_px).subs(y,_y).subs(py,_py)\n",
    "    \n",
    "    return xn, pxn, yn, pyn"
   ]
  },
  {
   "cell_type": "code",
   "execution_count": 14,
   "metadata": {},
   "outputs": [],
   "source": [
    "dataWOLSKI = [r0]\n",
    "\n",
    "duration = 100\n",
    "\n",
    "for i in range(duration):\n",
    "    r = np.dot(_Mqf,r0)\n",
    "    r = drift_wolski(r,_l)\n",
    "    r = np.dot(_Mqd,r)\n",
    "    r = drift_wolski(r,_l)\n",
    "    r = np.dot(_Mqf,r)\n",
    "    \n",
    "    dataWOLSKI.append(r)\n",
    "    r0 = np.copy(r)\n",
    "\n",
    "dataWOLSKI = np.array(dataWOLSKI)"
   ]
  },
  {
   "cell_type": "code",
   "execution_count": 15,
   "metadata": {},
   "outputs": [],
   "source": [
    "dataDYN = [r0]\n",
    "\n",
    "duration = 100\n",
    "\n",
    "for i in range(duration):\n",
    "    r = np.dot(_Mqf,r0)\n",
    "    r = drift_dyn(r,_l)\n",
    "    r = np.dot(_Mqd,r)\n",
    "    r = drift_dyn(r,_l)\n",
    "    r = np.dot(_Mqf,r)\n",
    "    \n",
    "    dataDYN.append(r)\n",
    "    r0 = np.copy(r)\n",
    "\n",
    "dataDYN = np.array(dataDYN)"
   ]
  },
  {
   "cell_type": "code",
   "execution_count": 16,
   "metadata": {},
   "outputs": [],
   "source": [
    "dataALL = [r0]\n",
    "\n",
    "duration = 100\n",
    "\n",
    "for i in range(duration):\n",
    "    r = np.dot(_Mqf,r0)\n",
    "    r = drift_all(r,_l)\n",
    "    r = np.dot(_Mqd,r)\n",
    "    r = drift_all(r,_l)\n",
    "    r = np.dot(_Mqf,r)\n",
    "    \n",
    "    dataALL.append(r)\n",
    "    r0 = np.copy(r)\n",
    "\n",
    "dataALL = np.array(dataALL)"
   ]
  },
  {
   "cell_type": "code",
   "execution_count": 17,
   "metadata": {
    "scrolled": true
   },
   "outputs": [
    {
     "data": {
      "image/png": "[encoded data removed]",
      "text/plain": [
       "<Figure size 432x288 with 1 Axes>"
      ]
     },
     "metadata": {
      "needs_background": "light"
     },
     "output_type": "display_data"
    }
   ],
   "source": [
    "plt.scatter(dataMATRICES[:,0],dataMATRICES[:,1],label='Matrices')\n",
    "plt.scatter(dataFULL[:,0],dataFULL[:,1],s=0.1,label='full')\n",
    "plt.scatter(dataALL[:,0],dataALL[:,1],label='all')\n",
    "plt.scatter(dataDYN[:,0],dataDYN[:,1],label='dyn')\n",
    "plt.scatter(dataWOLSKI[:,0],dataWOLSKI[:,1],label='wolski')\n",
    "\n",
    "\n",
    "plt.grid()\n",
    "plt.xlim(-0.00012,0.00012);\n",
    "plt.ylim(-0.00002,0.00002);\n",
    "plt.legend();"
   ]
  },
  {
   "cell_type": "code",
   "execution_count": 19,
   "metadata": {
    "scrolled": true
   },
   "outputs": [
    {
     "data": {
      "image/png": "[encoded data removed]",
      "text/plain": [
       "<Figure size 432x288 with 1 Axes>"
      ]
     },
     "metadata": {
      "needs_background": "light"
     },
     "output_type": "display_data"
    }
   ],
   "source": [
    "plt.scatter(dataMATRICES[:,2],dataMATRICES[:,3],label='Matrices')\n",
    "plt.scatter(dataFULL[:,2],dataFULL[:,3],s=0.1,label='full')\n",
    "plt.scatter(dataALL[:,2],dataALL[:,3],label='all')\n",
    "plt.scatter(dataDYN[:,2],dataDYN[:,3],label='dyn')\n",
    "plt.scatter(dataWOLSKI[:,2],dataWOLSKI[:,3],label='wolski')\n",
    "\n",
    "\n",
    "plt.grid()\n",
    "plt.xlim(-0.0025,0.0025);\n",
    "plt.ylim(-0.0003,0.0003);\n",
    "plt.legend();"
   ]
  },
  {
   "cell_type": "code",
   "execution_count": null,
   "metadata": {},
   "outputs": [],
   "source": []
  }
 ],
 "metadata": {
  "kernelspec": {
   "display_name": "Python 3",
   "language": "python",
   "name": "python3"
  },
  "language_info": {
   "codemirror_mode": {
    "name": "ipython",
    "version": 3
   },
   "file_extension": ".py",
   "mimetype": "text/x-python",
   "name": "python",
   "nbconvert_exporter": "python",
   "pygments_lexer": "ipython3",
   "version": "3.7.6"
  },
  "toc": {
   "base_numbering": 1,
   "nav_menu": {},
   "number_sections": true,
   "sideBar": true,
   "skip_h1_title": false,
   "title_cell": "Table of Contents",
   "title_sidebar": "Contents",
   "toc_cell": false,
   "toc_position": {},
   "toc_section_display": true,
   "toc_window_display": false
  }
 },
 "nbformat": 4,
 "nbformat_minor": 2
}
