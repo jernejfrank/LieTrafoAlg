{
 "cells": [
  {
   "cell_type": "code",
   "execution_count": 1,
   "metadata": {},
   "outputs": [],
   "source": [
    "import numpy as np\n",
    "import pandas as pd\n",
    "import sympy\n",
    "from sympy import *\n",
    "from operator import mul\n",
    "from functools import reduce\n",
    "import mpmath as mp\n",
    "from mpmath import fac\n",
    "import functools\n",
    "from sympy import init_printing\n",
    "from sympy.core.decorators import _sympifyit, call_highest_priority\n",
    "from IPython.display import display_latex\n",
    "init_printing()\n",
    "import copy"
   ]
  },
  {
   "cell_type": "code",
   "execution_count": 2,
   "metadata": {},
   "outputs": [],
   "source": [
    "class LieOperator:\n",
    "    '''\n",
    "    Defined algebra for the Lie operator:\n",
    "    Addition: Hamiltonian functions get added into a new Lie operator\n",
    "    Multiplication: Poisson bracket gets applied\n",
    "    CAUTION: NOT ASSOCIATIVE\n",
    "\n",
    "    INPUT: Hamiltonian, generalized coordinates and momenta\n",
    "    '''\n",
    "    #Initialize the operator\n",
    "    def __init__(self, ham, indep_coords, indep_mom):\n",
    "        self._ham = ham \n",
    "\n",
    "        if not isinstance(indep_coords, list): #create list of coords\n",
    "            indep_coords = [indep_coords]\n",
    "        if not isinstance(indep_mom, list): #create list of momenta\n",
    "            indep_mom = [indep_mom]\n",
    "            \n",
    "        #same number of coordinates and momenta have to be entered\n",
    "        assert(len(indep_coords)==len(indep_mom)),'The number of coords and momenta is not the same'\n",
    "        self._indep_coords = indep_coords\n",
    "        self._indep_mom = indep_mom\n",
    "\n",
    "    \n",
    "    @property\n",
    "    def ham(self):\n",
    "        return self._ham\n",
    "    \n",
    "    @ham.setter\n",
    "    def ham(self, other):\n",
    "        if S(ham).is_number:\n",
    "            self._ham = S(0)\n",
    "        else:\n",
    "            self._ham = self._ham.subs(self.ham, other).doit()\n",
    "        \n",
    "    @property\n",
    "    def indep_coords(self):\n",
    "        return self._indep_coords\n",
    "    \n",
    "    @indep_coords.setter\n",
    "    def indep_coords(self, other):\n",
    "        self._indep_coords = other\n",
    "        \n",
    "    @property\n",
    "    def indep_mom(self):\n",
    "        return self._indep_mom\n",
    "    \n",
    "    @indep_mom.setter\n",
    "    def indep_mom(self, other):\n",
    "        self._indep_mom = other\n",
    "    \n",
    "    #Transform all variable to Lie Operators\n",
    "    def MakeLieOperator(op):\n",
    "        def CheckLieOperator(self,other):\n",
    "            if not isinstance(other, LieOperator):\n",
    "                other = LieOperator(other, self.indep_coords,self.indep_mom)\n",
    "\n",
    "            \n",
    "            return op(self,other)\n",
    "        return CheckLieOperator\n",
    "    \n",
    "    #Algebraic properties \n",
    "\n",
    "    #Define Addition\n",
    "    @MakeLieOperator\n",
    "    def __add__(self,other):\n",
    "        return LieOperator(self.ham + other.ham, self.indep_coords,self.indep_mom)\n",
    "\n",
    "    @MakeLieOperator\n",
    "    def __radd__(self,other):\n",
    "        return LieOperator(other.ham + self.ham,self.indep_coords,self.indep_mom)\n",
    "        \n",
    "        \n",
    "    #Define Multiplication\n",
    "    @MakeLieOperator\n",
    "    def __mul__(self, other):\n",
    "        if S(other.ham).is_number:\n",
    "            return LieOperator(S(0),self.indep_coords,self.indep_mom)\n",
    "        else:\n",
    "            return self.Poisson(other)\n",
    "    \n",
    "    \n",
    "    def __rmul__(self,other):\n",
    "        if S(other).is_number:\n",
    "            return LieOperator(S(other)*self.ham, self.indep_coords,self.indep_mom)\n",
    "        else:\n",
    "            if not isinstance(other, LieOperator):\n",
    "                other = LieOperator(other, self.indep_coords,self.indep_mom)\n",
    "            return other.Poisson(self)\n",
    "    \n",
    "    #Calcualte Poisson bracket with input function\n",
    "    def Poisson(self,other):\n",
    "        hp = S(0)\n",
    "        print('In Poisson Bracket ---------------')\n",
    "        print(self, self.ham)\n",
    "        print(other, other.ham)\n",
    "        for qi,pi in zip(self.indep_coords,self.indep_mom):\n",
    "            hp += self.ham.diff(qi) * other.ham.diff(pi) \n",
    "            print('Breaks down after first derivative')\n",
    "            hp -= self.ham.diff(pi) * other.ham.diff(qi)\n",
    "            print('Second derivative was fine')\n",
    "        return LieOperator(hp,self.indep_coords,self.indep_mom)"
   ]
  },
  {
   "cell_type": "code",
   "execution_count": 3,
   "metadata": {},
   "outputs": [],
   "source": [
    "class LieMap:\n",
    "    '''\n",
    "    Defined algebra for the Lie Map:\n",
    "    Inherits the structure of the Lie Operator\n",
    "    Addition: Lie maps get added into a new Lie map\n",
    "    Multiplication: Baker-Cambell-Hausdorff Formula is used \n",
    "    CAUTION: NOT ASSOCIATIVE\n",
    "\n",
    "    INPUT: Hamiltonian, generalized coordinates and momenta, ExpPower, BCHPower\n",
    "    ExpPower: cutoff for the exponential function\n",
    "    BCHPower: cutoff for the Baker-Cambell-Hausdorff series\n",
    "    \n",
    "    For operations the higher power of the two elements will be selected\n",
    "    '''\n",
    "          \n",
    "    #Initialize the operator\n",
    "    def __init__(self, ham, indep_coords, indep_mom, ExpPower=6,BCHPower=2):\n",
    "        self._ham = ham\n",
    "        self._ExpN = ExpPower\n",
    "        self._BCHN = BCHPower\n",
    "\n",
    "        if not isinstance(indep_coords, list): #create list of coords\n",
    "            indep_coords = [indep_coords]\n",
    "        if not isinstance(indep_mom, list): #create list of momenta\n",
    "            indep_mom = [indep_mom]\n",
    "            \n",
    "        #same number of coordinates and momenta have to be entered\n",
    "        assert(len(indep_coords)==len(indep_mom)),'The number of coords and momenta is not the same'\n",
    "        self._indep_coords = indep_coords\n",
    "        self._indep_mom = indep_mom\n",
    "\n",
    "    \n",
    "    @property\n",
    "    def ham(self):\n",
    "        return self._ham\n",
    "    \n",
    "    @ham.setter\n",
    "    def ham(self, other):\n",
    "        self._ham = self._ham.subs(self.ham, other).doit()\n",
    "        \n",
    "    @property\n",
    "    def indep_coords(self):\n",
    "        return self._indep_coords\n",
    "    \n",
    "    @indep_coords.setter\n",
    "    def indep_coords(self, other):\n",
    "        self._indep_coords = other\n",
    "        \n",
    "    @property\n",
    "    def indep_mom(self):\n",
    "        return self._indep_mom\n",
    "    \n",
    "    @indep_mom.setter\n",
    "    def indep_mom(self, other):\n",
    "        self._indep_mom = other\n",
    "        \n",
    "#     #Define addition\n",
    "#     def __add__(self,other):\n",
    "#         if not self.__class__ == other.__class__:\n",
    "#             print('Error: Both operators have to be Lie maps.')\n",
    "#         else:\n",
    "#             return LieMap(self.ham + other.ham, \n",
    "#                           self.indep_coords,\n",
    "#                           self.indep_mom,\n",
    "#                           max(self._ExpN,other._ExpN),\n",
    "#                           max(self._BCHN,other._BCHN))\n",
    "\n",
    "#     def __radd__(self,other):\n",
    "#         if not self.__class__ == other.__class__:\n",
    "#             print('Error: Both operators have to be Lie maps.')\n",
    "#         else:\n",
    "#             return LieMap(other.ham + self.ham, \n",
    "#                           self.indep_coords,\n",
    "#                           self.indep_mom,\n",
    "#                           max(self.ExpN,other.ExpN),\n",
    "#                           max(self.BCHN,other.BCHN))\n",
    "    \n",
    "    \n",
    "    #Define Multiplication\n",
    "    '''\n",
    "    Multiplication:\n",
    "    1) Lie Map * Lie Map :  Application of the BCH series with cutoff\n",
    "    2) Lie Map * Variable : Application of the exponential function cutoff\n",
    "        to the variable\n",
    "    '''\n",
    "    def __mul__(self, other):\n",
    "        _self = copy.deepcopy(self)\n",
    "        _other = copy.deepcopy(other)\n",
    "        print(type(_self))\n",
    "        if self.__class__ == other.__class__:\n",
    "            return LieMap(self.BCH(_self,_other,max(self._BCHN,other._BCHN)),\n",
    "                          self.indep_coords,\n",
    "                          self.indep_mom,\n",
    "                          max(self._ExpN,other._ExpN),\n",
    "                          max(self._BCHN,other._BCHN))\n",
    "        else:\n",
    "            return self.exp(other,self._ExpN)\n",
    "    \n",
    "\n",
    "    def __rmul__(self,other):\n",
    "        if not isinstance(other, LieMap):\n",
    "            print('Illegal operation: Right operator is not a Lie Map.')\n",
    "            return\n",
    "        return LieMap(other.BCH(self,max(self._BCHN,other._BCHN)),\n",
    "                          self.indep_coords,\n",
    "                          self.indep_mom,\n",
    "                          max(self._ExpN,other._ExpN),\n",
    "                          max(self._BCHN,other._BCHN))\n",
    "    \n",
    "    #Exponential map applied to Lie Operator\n",
    "    #Successively apply Poisson bracket to input function to the input cutoff\n",
    "    def ExpPowerLieBracket(self, other, power):\n",
    "        op1 = LieOperator(self.ham, self.indep_coords,self.indep_mom)\n",
    "        \n",
    "        if not isinstance(other, LieOperator):\n",
    "            op2 = LieOperator(other,self.indep_coords,self.indep_mom)\n",
    "        else:\n",
    "            op2 = other\n",
    "        \n",
    "        if power > 0:\n",
    "            hp = op1.__mul__(op2)\n",
    "            \n",
    "            for s in range(1,power):\n",
    "                hp = op1.__mul__(hp)\n",
    "                \n",
    "        else:\n",
    "            hp = op2\n",
    "        \n",
    "        return hp\n",
    "    \n",
    "    \n",
    "    #Calculate the exponential map of the Lie operator to the input cutoff\n",
    "    def exp(self,other,power):\n",
    "        s = S(0)\n",
    "        \n",
    "        for i in range(power+1):\n",
    "            s += sympy.Rational(1,factorial(i))*(self.ExpPowerLieBracket(other,i)).ham\n",
    "        \n",
    "        return LieOperator(s,self.indep_coords,self.indep_mom)       \n",
    "    \n",
    "    \n",
    "    \n",
    "    #BCH Multiplication\n",
    "    def BCH(self,other,n):\n",
    "        _s = S(0)\n",
    "        for i in range(1,n+1):\n",
    "            print('BCH Loop #',i)\n",
    "            _s+= (self.translated(other, i)).ham\n",
    "        return _s\n",
    "    \n",
    "    \n",
    "    def NP(self,_n):\n",
    "        _F = sympy.Matrix(np.zeros((_n+1,_n+1)))\n",
    "        for i in range(_n+1):\n",
    "            for j in range(_n+1):\n",
    "                if (j-i)>=0:\n",
    "                    _F[i,j] = sympy.Rational(1,int(fac(j-i))) # keep it rational !!!!\n",
    "\n",
    "\n",
    "\n",
    "        _G = sympy.Matrix(np.zeros((_n+1,_n+1)))\n",
    "        for i in range(_n+1):\n",
    "            for j in range(_n+1):\n",
    "                if (j-i)>=0:\n",
    "                    if i==j:\n",
    "                        sigprod = 1\n",
    "                    else:\n",
    "                        l = sympy.symbols('s{}:{}'.format(i,j))\n",
    "                        sigprod = reduce(sympy.Mul,l)\n",
    "                    _G[i,j] = sympy.Mul(sympy.Rational(1,int(np.math.factorial(j-i))),sigprod, evaluate=False)\n",
    "\n",
    "\n",
    "\n",
    "        qthpower = sympy.Matrix(np.eye(_n+1))\n",
    "\n",
    "        FGm1 = sympy.nsimplify(_F*_G - qthpower)\n",
    "\n",
    "#         FGm1\n",
    "\n",
    "\n",
    "        summ = 0\n",
    "\n",
    "        for q in range(1,_n+1):\n",
    "            qthpower = sympy.nsimplify(sympy.MatMul(qthpower, FGm1, evaluate=False))\n",
    "\n",
    "            summ += sympy.nsimplify((-1)**(q-1)/q * qthpower)[0,_n] # q-1 because mathematica starts at 1 and not 0, there for sign change\n",
    "\n",
    "        return sympy.expand(summ)\n",
    "\n",
    "    def translated(self,other,n):\n",
    "        l = sympy.symbols('s{}:{}'.format(0,n))\n",
    "        temp = reduce(functools.partial(sympy.Mul,evaluate=False),[k*k for k in l])\n",
    "        temp = sympy.expand(sympy.Mul(temp, self.NP(n), evaluate=False),evaluate=False)\n",
    "        with sympy.evaluate(False):\n",
    "            ln = sympy.symbols('r{}:{}'.format(0,n), commutative=False)\n",
    "            for i, s in enumerate(l):\n",
    "                temp = temp.subs(l[i],ln[i])\n",
    "            for i in range(n):\n",
    "                _f = sympy.Symbol('f',commutative=False)\n",
    "                _g = sympy.Symbol('g',commutative=False)\n",
    "                temp = temp.subs(ln[i]**3,_g)\n",
    "                temp = temp.subs(ln[i]**2,_f)\n",
    "                temp = temp.subs(_g**0,1)\n",
    "\n",
    "\n",
    "            _op1 = LieOperator(_self.ham,_self.indep_coords,_self.indep_mom)\n",
    "            _op2 = LieOperator(_other.ham,_other.indep_coords,_other.indep_mom)\n",
    "            \n",
    "            print((_op1.__mul__(_op2)).ham)\n",
    "            \n",
    "            \n",
    "            #NEED TO WRITE THE FUNCTIONS TO RELATE NORMAL SYMBOLS TO LIE OPERATORS\n",
    "            print('translated domain')\n",
    "            print(_op1.ham)\n",
    "            print(_op2.ham)\n",
    "#             temp = temp.subs(_f,op1.ham)\n",
    "#             temp = temp.subs(_g,op2.ham)\n",
    "            temp = temp.replace(Mul, lambda *args: self.PoissonMultiplication(_op1,_op2,*args))\n",
    "            print('ended substituting multiplication --------------')\n",
    "            print(temp)\n",
    "            print(type(temp))\n",
    "            temp = temp.replace(Add, lambda *args: self.PoissonAddition(_op1,_op2,*args))\n",
    "            \n",
    "            if not isinstance(temp, LieOperator):\n",
    "                temp = LieOperator(temp,self.indep_coords,self.indep_mom)\n",
    "#             print('Checking temp')\n",
    "#             print(temp)\n",
    "#             print(type(temp))\n",
    "#             temp = LieOperator(temp.ham.subs(f,op1.ham),self.indep_coords,self.indep_mom)\n",
    "#             print('Checking temp after f subs')\n",
    "#             print(temp)\n",
    "#             print(type(temp))\n",
    "#             temp = LieOperator(temp.ham.subs(g,op2.ham),self.indep_coords,self.indep_mom)\n",
    "            \n",
    "#             print('Checking temp after g subs')\n",
    "            print('End of translated domain')\n",
    "            \n",
    "        return temp\n",
    "    \n",
    "    def PoissonMultiplication(self,_op1,_op2,*args):\n",
    "        print('jumped into Poisson Multiplication')\n",
    "        _f = sympy.Symbol('f',commutative=False)\n",
    "        _g = sympy.Symbol('g',commutative=False)\n",
    "#         if not isinstance(args[-1], LieOperator):\n",
    "#             h = LieOperator(args[-1],self.indep_coords,self.indep_mom)\n",
    "#         else:\n",
    "#             h = args[-1]\n",
    "        print('fine until assigning operators')\n",
    "        if args[-1] == _f:\n",
    "            _h = _op1\n",
    "        elif args[-1] == _g:\n",
    "            _h = _op2\n",
    "        else:\n",
    "            print('Expression does not start with an operator...')\n",
    "            _h = 1\n",
    "        \n",
    "        print(args[-1])\n",
    "        print(args[-1] == _f)\n",
    "        print(args[-1] == _g)\n",
    "               \n",
    "        for op in args[-2::-1]:\n",
    "            print(\"Looping thorugh args---------------\")\n",
    "            print(op)\n",
    "            if S(op).is_number:\n",
    "                print('Number recognized for', op)\n",
    "                _h = op * _h\n",
    "                print(_h)\n",
    "                print(_h.ham)\n",
    "            else:\n",
    "#                 if not isinstance(op, LieOperator):\n",
    "#                     op = LieOperator(op,self.indep_coords,self.indep_mom)\n",
    "                print(op == _f)\n",
    "                print(op == _g)\n",
    "                print(_h)\n",
    "                print(_op1)\n",
    "                print(_op2)\n",
    "                if op == _f:\n",
    "                    print('f: for ', op, 'we multiply with ', _op1.ham ,_h.ham)\n",
    "                    _h = _op1.__mul__(_h)\n",
    "                elif op == _g:\n",
    "                    print('g: for ', op, 'we multiply with ', _op2.ham , _h.ham)\n",
    "                    _h = _op2.__mul__(_h)\n",
    "                else:\n",
    "                    print('We have more than just f and g, namely', op)\n",
    "#                 h = h.Poisson(op)\n",
    "\n",
    "\n",
    "        \n",
    "#         h = n * h\n",
    "        print(_h.ham)\n",
    "        return _h.ham\n",
    "    \n",
    "    def PoissonAddition(self,op1,op2,*args):\n",
    "        _h = 0\n",
    "        \n",
    "        _f = sympy.Symbol('f',commutative=False)\n",
    "        _g = sympy.Symbol('g',commutative=False)\n",
    "        \n",
    "        if _f in args or _g in args:\n",
    "            for op in args:\n",
    "                if op == _f:\n",
    "                    _h = _h + op1.ham\n",
    "                elif op == _g:\n",
    "                    _h = _h + op2.ham\n",
    "                else:\n",
    "                    print('Poisson addition op neither f nor g:')\n",
    "                    print(op)\n",
    "                    _h = _h + op\n",
    "        else:\n",
    "            for arg in args:\n",
    "                _h = _h + arg\n",
    "        \n",
    "        return LieOperator(_h,self.indep_coords,self.indep_mom)"
   ]
  },
  {
   "cell_type": "code",
   "execution_count": 4,
   "metadata": {},
   "outputs": [],
   "source": [
    "x, p, delta = sympy.symbols('x p d')\n",
    "H1 = sympy.Function('H1', commutative=False)(x,p)\n",
    "H2 = sympy.Function('H2', commutative=False)(x,p)\n",
    "H3 = sympy.Function('H3', commutative=False)(x,p)\n",
    "W = x**2 + p**2\n",
    "Z = - sympy.sqrt((1+delta)**2 - p**2)\n",
    "la = LieOperator(H1,x,p)\n",
    "lb = LieOperator(H2,x,p)\n",
    "lc = LieOperator(H3,x,p)\n",
    "lz = LieOperator(W,x,p)\n",
    "lw = LieOperator(Z,x,p)\n",
    "\n",
    "ma = LieMap(H1,x,p,2,2)\n",
    "mb = LieMap(H2,x,p,3,3)\n",
    "mc = LieMap(H3,x,p,2,3)\n",
    "\n",
    "mw = LieMap(W,x,p,2,2)\n",
    "mz = LieMap(Z,x,p,2,2)"
   ]
  },
  {
   "cell_type": "code",
   "execution_count": 5,
   "metadata": {},
   "outputs": [
    {
     "data": {
      "image/png": "[encoded data removed]",
      "text/latex": [
       "$\\displaystyle \\frac{\\partial}{\\partial x} \\operatorname{H_{1}}{\\left(x,p \\right)}$"
      ],
      "text/plain": [
       "∂           \n",
       "──(H₁(x, p))\n",
       "∂x          "
      ]
     },
     "execution_count": 5,
     "metadata": {},
     "output_type": "execute_result"
    }
   ],
   "source": [
    "diff(H1,x)"
   ]
  },
  {
   "cell_type": "code",
   "execution_count": 6,
   "metadata": {},
   "outputs": [
    {
     "data": {
      "text/plain": [
       "sympy.core.add.Add"
      ]
     },
     "execution_count": 6,
     "metadata": {},
     "output_type": "execute_result"
    }
   ],
   "source": [
    "type(lz.ham)"
   ]
  },
  {
   "cell_type": "code",
   "execution_count": 7,
   "metadata": {},
   "outputs": [
    {
     "name": "stdout",
     "output_type": "stream",
     "text": [
      "In Poisson Bracket ---------------\n",
      "<__main__.LieOperator object at 0x7fc54a03cf28> H1(x, p)\n",
      "<__main__.LieOperator object at 0x7fc54a03cfd0> H2(x, p)\n",
      "Breaks down after first derivative\n",
      "Second derivative was fine\n"
     ]
    },
    {
     "data": {
      "image/png": "[encoded data removed]",
      "text/latex": [
       "$\\displaystyle - \\frac{\\partial}{\\partial p} \\operatorname{H_{1}}{\\left(x,p \\right)} \\frac{\\partial}{\\partial x} \\operatorname{H_{2}}{\\left(x,p \\right)} + \\frac{\\partial}{\\partial x} \\operatorname{H_{1}}{\\left(x,p \\right)} \\frac{\\partial}{\\partial p} \\operatorname{H_{2}}{\\left(x,p \\right)}$"
      ],
      "text/plain": [
       "  ∂            ∂              ∂            ∂           \n",
       "- ──(H₁(x, p))⋅──(H₂(x, p)) + ──(H₁(x, p))⋅──(H₂(x, p))\n",
       "  ∂p           ∂x             ∂x           ∂p          "
      ]
     },
     "execution_count": 7,
     "metadata": {},
     "output_type": "execute_result"
    }
   ],
   "source": [
    "(la*lb).ham"
   ]
  },
  {
   "cell_type": "code",
   "execution_count": 8,
   "metadata": {},
   "outputs": [
    {
     "name": "stdout",
     "output_type": "stream",
     "text": [
      "In Poisson Bracket ---------------\n",
      "<__main__.LieOperator object at 0x7fc548abb710> p**2 + x**2\n",
      "<__main__.LieOperator object at 0x7fc548abbc18> -sqrt(-p**2 + (d + 1)**2)\n",
      "Breaks down after first derivative\n",
      "Second derivative was fine\n",
      "2*p*x/sqrt(-p**2 + (d + 1)**2)\n",
      "<class 'sympy.core.add.Add'>\n",
      "<class 'sympy.core.add.Add'>\n"
     ]
    },
    {
     "data": {
      "image/png": "[encoded data removed]",
      "text/latex": [
       "$\\displaystyle - \\frac{2 p x}{\\sqrt{- p^{2} + \\left(d + 1\\right)^{2}}}$"
      ],
      "text/plain": [
       "      -2⋅p⋅x        \n",
       "────────────────────\n",
       "   _________________\n",
       "  ╱    2          2 \n",
       "╲╱  - p  + (d + 1)  "
      ]
     },
     "execution_count": 8,
     "metadata": {},
     "output_type": "execute_result"
    }
   ],
   "source": [
    "testa = LieOperator(mw.ham,mw.indep_coords,mw.indep_mom)\n",
    "testb = LieOperator(mz.ham,mz.indep_coords,mz.indep_mom)\n",
    "\n",
    "print((testa * testb).ham)\n",
    "print(type(testa.ham))\n",
    "print(type(mw.ham))\n",
    "# mw.ham.diff(x)\n",
    "# mw.ham\n",
    "testb.ham.diff(x) * testa.ham.diff(p) - testa.ham.diff(x) * testb.ham.diff(p)"
   ]
  },
  {
   "cell_type": "code",
   "execution_count": 9,
   "metadata": {},
   "outputs": [
    {
     "data": {
      "image/png": "[encoded data removed]",
      "text/latex": [
       "$\\displaystyle 2 p$"
      ],
      "text/plain": [
       "2⋅p"
      ]
     },
     "execution_count": 9,
     "metadata": {},
     "output_type": "execute_result"
    }
   ],
   "source": [
    "W.diff(p)"
   ]
  },
  {
   "cell_type": "code",
   "execution_count": 10,
   "metadata": {},
   "outputs": [
    {
     "data": {
      "image/png": "[encoded data removed]",
      "text/latex": [
       "$\\displaystyle \\frac{\\partial}{\\partial x} \\operatorname{H_{1}}{\\left(x,p \\right)}$"
      ],
      "text/plain": [
       "∂           \n",
       "──(H₁(x, p))\n",
       "∂x          "
      ]
     },
     "execution_count": 10,
     "metadata": {},
     "output_type": "execute_result"
    }
   ],
   "source": [
    "diff(H1,x)"
   ]
  },
  {
   "cell_type": "code",
   "execution_count": 11,
   "metadata": {
    "scrolled": true
   },
   "outputs": [
    {
     "name": "stdout",
     "output_type": "stream",
     "text": [
      "<class '__main__.LieMap'>\n",
      "BCH Loop # 1\n"
     ]
    },
    {
     "ename": "NameError",
     "evalue": "name '_self' is not defined",
     "output_type": "error",
     "traceback": [
      "\u001b[0;31m---------------------------------------------------------------------------\u001b[0m",
      "\u001b[0;31mNameError\u001b[0m                                 Traceback (most recent call last)",
      "\u001b[0;32m<ipython-input-11-f87b9b95e3d6>\u001b[0m in \u001b[0;36m<module>\u001b[0;34m\u001b[0m\n\u001b[0;32m----> 1\u001b[0;31m \u001b[0mmw\u001b[0m\u001b[0;34m*\u001b[0m\u001b[0mmz\u001b[0m\u001b[0;34m\u001b[0m\u001b[0;34m\u001b[0m\u001b[0m\n\u001b[0m",
      "\u001b[0;32m<ipython-input-3-3fae2ab2dab1>\u001b[0m in \u001b[0;36m__mul__\u001b[0;34m(self, other)\u001b[0m\n\u001b[1;32m     89\u001b[0m         \u001b[0mprint\u001b[0m\u001b[0;34m(\u001b[0m\u001b[0mtype\u001b[0m\u001b[0;34m(\u001b[0m\u001b[0m_self\u001b[0m\u001b[0;34m)\u001b[0m\u001b[0;34m)\u001b[0m\u001b[0;34m\u001b[0m\u001b[0;34m\u001b[0m\u001b[0m\n\u001b[1;32m     90\u001b[0m         \u001b[0;32mif\u001b[0m \u001b[0mself\u001b[0m\u001b[0;34m.\u001b[0m\u001b[0m__class__\u001b[0m \u001b[0;34m==\u001b[0m \u001b[0mother\u001b[0m\u001b[0;34m.\u001b[0m\u001b[0m__class__\u001b[0m\u001b[0;34m:\u001b[0m\u001b[0;34m\u001b[0m\u001b[0;34m\u001b[0m\u001b[0m\n\u001b[0;32m---> 91\u001b[0;31m             return LieMap(self.BCH(other,max(self._BCHN,other._BCHN)),\n\u001b[0m\u001b[1;32m     92\u001b[0m                           \u001b[0mself\u001b[0m\u001b[0;34m.\u001b[0m\u001b[0mindep_coords\u001b[0m\u001b[0;34m,\u001b[0m\u001b[0;34m\u001b[0m\u001b[0;34m\u001b[0m\u001b[0m\n\u001b[1;32m     93\u001b[0m                           \u001b[0mself\u001b[0m\u001b[0;34m.\u001b[0m\u001b[0mindep_mom\u001b[0m\u001b[0;34m,\u001b[0m\u001b[0;34m\u001b[0m\u001b[0;34m\u001b[0m\u001b[0m\n",
      "\u001b[0;32m<ipython-input-3-3fae2ab2dab1>\u001b[0m in \u001b[0;36mBCH\u001b[0;34m(self, other, n)\u001b[0m\n\u001b[1;32m    146\u001b[0m         \u001b[0;32mfor\u001b[0m \u001b[0mi\u001b[0m \u001b[0;32min\u001b[0m \u001b[0mrange\u001b[0m\u001b[0;34m(\u001b[0m\u001b[0;36m1\u001b[0m\u001b[0;34m,\u001b[0m\u001b[0mn\u001b[0m\u001b[0;34m+\u001b[0m\u001b[0;36m1\u001b[0m\u001b[0;34m)\u001b[0m\u001b[0;34m:\u001b[0m\u001b[0;34m\u001b[0m\u001b[0;34m\u001b[0m\u001b[0m\n\u001b[1;32m    147\u001b[0m             \u001b[0mprint\u001b[0m\u001b[0;34m(\u001b[0m\u001b[0;34m'BCH Loop #'\u001b[0m\u001b[0;34m,\u001b[0m\u001b[0mi\u001b[0m\u001b[0;34m)\u001b[0m\u001b[0;34m\u001b[0m\u001b[0;34m\u001b[0m\u001b[0m\n\u001b[0;32m--> 148\u001b[0;31m             \u001b[0m_s\u001b[0m\u001b[0;34m+=\u001b[0m \u001b[0;34m(\u001b[0m\u001b[0mself\u001b[0m\u001b[0;34m.\u001b[0m\u001b[0mtranslated\u001b[0m\u001b[0;34m(\u001b[0m\u001b[0mother\u001b[0m\u001b[0;34m,\u001b[0m \u001b[0mi\u001b[0m\u001b[0;34m)\u001b[0m\u001b[0;34m)\u001b[0m\u001b[0;34m.\u001b[0m\u001b[0mham\u001b[0m\u001b[0;34m\u001b[0m\u001b[0;34m\u001b[0m\u001b[0m\n\u001b[0m\u001b[1;32m    149\u001b[0m         \u001b[0;32mreturn\u001b[0m \u001b[0m_s\u001b[0m\u001b[0;34m\u001b[0m\u001b[0;34m\u001b[0m\u001b[0m\n\u001b[1;32m    150\u001b[0m \u001b[0;34m\u001b[0m\u001b[0m\n",
      "\u001b[0;32m<ipython-input-3-3fae2ab2dab1>\u001b[0m in \u001b[0;36mtranslated\u001b[0;34m(self, other, n)\u001b[0m\n\u001b[1;32m    204\u001b[0m \u001b[0;34m\u001b[0m\u001b[0m\n\u001b[1;32m    205\u001b[0m \u001b[0;34m\u001b[0m\u001b[0m\n\u001b[0;32m--> 206\u001b[0;31m             \u001b[0m_op1\u001b[0m \u001b[0;34m=\u001b[0m \u001b[0mLieOperator\u001b[0m\u001b[0;34m(\u001b[0m\u001b[0m_self\u001b[0m\u001b[0;34m.\u001b[0m\u001b[0mham\u001b[0m\u001b[0;34m,\u001b[0m\u001b[0m_self\u001b[0m\u001b[0;34m.\u001b[0m\u001b[0mindep_coords\u001b[0m\u001b[0;34m,\u001b[0m\u001b[0m_self\u001b[0m\u001b[0;34m.\u001b[0m\u001b[0mindep_mom\u001b[0m\u001b[0;34m)\u001b[0m\u001b[0;34m\u001b[0m\u001b[0;34m\u001b[0m\u001b[0m\n\u001b[0m\u001b[1;32m    207\u001b[0m             \u001b[0m_op2\u001b[0m \u001b[0;34m=\u001b[0m \u001b[0mLieOperator\u001b[0m\u001b[0;34m(\u001b[0m\u001b[0m_other\u001b[0m\u001b[0;34m.\u001b[0m\u001b[0mham\u001b[0m\u001b[0;34m,\u001b[0m\u001b[0m_other\u001b[0m\u001b[0;34m.\u001b[0m\u001b[0mindep_coords\u001b[0m\u001b[0;34m,\u001b[0m\u001b[0m_other\u001b[0m\u001b[0;34m.\u001b[0m\u001b[0mindep_mom\u001b[0m\u001b[0;34m)\u001b[0m\u001b[0;34m\u001b[0m\u001b[0;34m\u001b[0m\u001b[0m\n\u001b[1;32m    208\u001b[0m \u001b[0;34m\u001b[0m\u001b[0m\n",
      "\u001b[0;31mNameError\u001b[0m: name '_self' is not defined"
     ]
    }
   ],
   "source": [
    "mw*mz"
   ]
  },
  {
   "cell_type": "code",
   "execution_count": null,
   "metadata": {},
   "outputs": [],
   "source": [
    "(la*lb).ham"
   ]
  },
  {
   "cell_type": "code",
   "execution_count": null,
   "metadata": {},
   "outputs": [],
   "source": [
    "la + lb"
   ]
  },
  {
   "cell_type": "code",
   "execution_count": null,
   "metadata": {},
   "outputs": [],
   "source": [
    "2 + la"
   ]
  },
  {
   "cell_type": "code",
   "execution_count": null,
   "metadata": {},
   "outputs": [],
   "source": [
    "la + 2"
   ]
  },
  {
   "cell_type": "code",
   "execution_count": null,
   "metadata": {},
   "outputs": [],
   "source": [
    "(2*la).ham"
   ]
  },
  {
   "cell_type": "code",
   "execution_count": null,
   "metadata": {},
   "outputs": [],
   "source": [
    "la*2"
   ]
  },
  {
   "cell_type": "code",
   "execution_count": null,
   "metadata": {},
   "outputs": [],
   "source": [
    "(p*la).ham"
   ]
  },
  {
   "cell_type": "code",
   "execution_count": null,
   "metadata": {},
   "outputs": [],
   "source": [
    "(la*p).ham"
   ]
  },
  {
   "cell_type": "code",
   "execution_count": null,
   "metadata": {},
   "outputs": [],
   "source": [
    "# (ma + mb).ham"
   ]
  },
  {
   "cell_type": "code",
   "execution_count": null,
   "metadata": {},
   "outputs": [],
   "source": [
    "# (mb + ma).ham"
   ]
  },
  {
   "cell_type": "code",
   "execution_count": null,
   "metadata": {},
   "outputs": [],
   "source": [
    "# ma + x"
   ]
  },
  {
   "cell_type": "code",
   "execution_count": null,
   "metadata": {},
   "outputs": [],
   "source": [
    "# x + ma"
   ]
  },
  {
   "cell_type": "code",
   "execution_count": null,
   "metadata": {},
   "outputs": [],
   "source": [
    "(ma*x).ham"
   ]
  },
  {
   "cell_type": "code",
   "execution_count": null,
   "metadata": {},
   "outputs": [],
   "source": [
    "(ma*g).ham"
   ]
  },
  {
   "cell_type": "code",
   "execution_count": null,
   "metadata": {},
   "outputs": [],
   "source": [
    "(mw*x).ham"
   ]
  },
  {
   "cell_type": "code",
   "execution_count": null,
   "metadata": {},
   "outputs": [],
   "source": [
    "(mz*x).ham"
   ]
  },
  {
   "cell_type": "code",
   "execution_count": null,
   "metadata": {},
   "outputs": [],
   "source": [
    "g*ma"
   ]
  },
  {
   "cell_type": "code",
   "execution_count": null,
   "metadata": {},
   "outputs": [],
   "source": []
  }
 ],
 "metadata": {
  "kernelspec": {
   "display_name": "Python 3",
   "language": "python",
   "name": "python3"
  },
  "language_info": {
   "codemirror_mode": {
    "name": "ipython",
    "version": 3
   },
   "file_extension": ".py",
   "mimetype": "text/x-python",
   "name": "python",
   "nbconvert_exporter": "python",
   "pygments_lexer": "ipython3",
   "version": "3.6.7"
  }
 },
 "nbformat": 4,
 "nbformat_minor": 2
}
