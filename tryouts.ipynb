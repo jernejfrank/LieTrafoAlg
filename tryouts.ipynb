{
 "cells": [
  {
   "cell_type": "code",
   "execution_count": 1,
   "metadata": {},
   "outputs": [],
   "source": [
    "import numpy as np\n",
    "import pandas as pd\n",
    "import sympy\n",
    "from sympy import *\n",
    "from operator import mul\n",
    "from functools import reduce\n",
    "import mpmath as mp\n",
    "from mpmath import fac\n",
    "import functools\n",
    "from sympy import init_printing\n",
    "from sympy.core.decorators import _sympifyit, call_highest_priority\n",
    "from IPython.display import display_latex\n",
    "init_printing()"
   ]
  },
  {
   "cell_type": "markdown",
   "metadata": {},
   "source": [
    "# Lie Map\n",
    "$$e^{:f:} = \\sum_n \\frac{:f:^n}{n!},\n",
    "\\\\\n",
    ":f: = \\left[f, \\cdot \\right]\n",
    "= \\frac{\\partial f}{\\partial x} \\frac{\\partial \\cdot }{\\partial p} - \\frac{\\partial f}{\\partial p} \\frac{\\partial \\cdot}{\\partial x} $$"
   ]
  },
  {
   "cell_type": "code",
   "execution_count": 2,
   "metadata": {},
   "outputs": [],
   "source": [
    "class LieOperator:\n",
    "    '''\n",
    "    Lie Operator Class\n",
    "    '''\n",
    "    def __init__(self, ham, indep_coords, indep_mom):\n",
    "        self._ham = ham \n",
    "        if not isinstance(indep_coords, list): #create list of coords\n",
    "            indep_coords = [indep_coords]\n",
    "        if not isinstance(indep_mom, list): #create list of momenta\n",
    "            indep_mom = [indep_mom]\n",
    "\n",
    "        #same number of coordinates and momenta have to be entered\n",
    "        assert(len(indep_coords)==len(indep_mom)),'The number of coords and momenta is not the same'\n",
    "        self._indep_coords = indep_coords\n",
    "        self._indep_mom = indep_mom\n",
    "    \n",
    "    @property\n",
    "    def ham(self):\n",
    "        return self._ham\n",
    "    \n",
    "    @ham.setter\n",
    "    def ham(self, other):\n",
    "        self._ham = self._ham.subs(self.ham, other).doit()\n",
    "        \n",
    "    @property\n",
    "    def indep_coords(self):\n",
    "        return self._indep_coords\n",
    "    \n",
    "    @indep_coords.setter\n",
    "    def indep_coords(self, other):\n",
    "        self._indep_coords = other\n",
    "        \n",
    "    @property\n",
    "    def indep_mom(self):\n",
    "        return self._indep_mom\n",
    "    \n",
    "    @indep_mom.setter\n",
    "    def indep_mom(self, other):\n",
    "        self._indep_mom = other\n",
    "    \n",
    "    #Calcualte Poisson bracket with input function\n",
    "    def Poisson(self,other):\n",
    "        h = S(0)\n",
    "        for qi,pi in zip(self.indep_coords,self.indep_mom):\n",
    "            h += self.ham.diff(qi) * other.ham.diff(pi) \n",
    "            h -= self.ham.diff(pi) * other.ham.diff(qi)\n",
    "\n",
    "        return h"
   ]
  },
  {
   "cell_type": "code",
   "execution_count": 3,
   "metadata": {},
   "outputs": [],
   "source": [
    "class LieMap(LieOperator):\n",
    "    '''\n",
    "    Lie transform map\n",
    "    Inherits Lie Operator structure\n",
    "    '''\n",
    "    \n",
    "    #Successively apply Poisson bracket to input function to the input cutoff\n",
    "    def ExpPowerLieBracket(self, other, power):\n",
    "        s = 0\n",
    "        if power == 0:\n",
    "            s += other\n",
    "        else:\n",
    "            s += self.Poisson(self.ExpPowerLieBracket(other, power - 1))\n",
    "            \n",
    "        return s\n",
    "    \n",
    "    \n",
    "    #Calculate the exponential map of the Lie operator to the input cutoff\n",
    "    def exp(self,other,power):\n",
    "        s = 0\n",
    "        for i in range(power+1):\n",
    "            s += sympy.Rational(1,factorial(i))*self.ExpPowerLieBracket(other,i)\n",
    "        return s"
   ]
  },
  {
   "cell_type": "code",
   "execution_count": 4,
   "metadata": {},
   "outputs": [
    {
     "data": {
      "text/plain": [
       "sympy.core.numbers.Rational"
      ]
     },
     "execution_count": 4,
     "metadata": {},
     "output_type": "execute_result"
    }
   ],
   "source": [
    "type(sympy.Rational(1,factorial(6)))"
   ]
  },
  {
   "cell_type": "code",
   "execution_count": 5,
   "metadata": {},
   "outputs": [],
   "source": [
    "# x,px,y,py = sympy.symbols('x px y py')\n",
    "# coords = [x,y]\n",
    "# mom = [px,py]\n",
    "x, p = sympy.symbols('x p')\n",
    "H = sympy.Function('H1', commutative=False)(x,p)\n",
    "g = sympy.Function('H2', commutative=False)(x,p)\n",
    "la = LieOperator(H,x,p)\n",
    "lb = LieOperator(g,x,p)\n",
    "mb = LieMap(H,x,p)\n",
    "mc = LieMap(g,x,p)"
   ]
  },
  {
   "cell_type": "code",
   "execution_count": 6,
   "metadata": {},
   "outputs": [
    {
     "data": {
      "image/png": "[encoded data removed]",
      "text/latex": [
       "$\\displaystyle - \\frac{\\partial}{\\partial p} \\operatorname{H_{1}}{\\left(x,p \\right)} \\frac{\\partial}{\\partial x} \\operatorname{H_{2}}{\\left(x,p \\right)} + \\frac{\\partial}{\\partial x} \\operatorname{H_{1}}{\\left(x,p \\right)} \\frac{\\partial}{\\partial p} \\operatorname{H_{2}}{\\left(x,p \\right)}$"
      ],
      "text/plain": [
       "  ∂            ∂              ∂            ∂           \n",
       "- ──(H₁(x, p))⋅──(H₂(x, p)) + ──(H₁(x, p))⋅──(H₂(x, p))\n",
       "  ∂p           ∂x             ∂x           ∂p          "
      ]
     },
     "execution_count": 6,
     "metadata": {},
     "output_type": "execute_result"
    }
   ],
   "source": [
    "la.Poisson(lb)"
   ]
  },
  {
   "cell_type": "code",
   "execution_count": 7,
   "metadata": {},
   "outputs": [],
   "source": [
    "y = x.subs(x,1)\n",
    "z = sympy.Rational(1,factorial(6))"
   ]
  },
  {
   "cell_type": "code",
   "execution_count": 8,
   "metadata": {},
   "outputs": [
    {
     "data": {
      "text/plain": [
       "True"
      ]
     },
     "execution_count": 8,
     "metadata": {},
     "output_type": "execute_result"
    }
   ],
   "source": [
    "y.is_number"
   ]
  },
  {
   "cell_type": "code",
   "execution_count": 9,
   "metadata": {},
   "outputs": [
    {
     "data": {
      "text/plain": [
       "True"
      ]
     },
     "execution_count": 9,
     "metadata": {},
     "output_type": "execute_result"
    }
   ],
   "source": [
    "z.is_number"
   ]
  },
  {
   "cell_type": "code",
   "execution_count": 10,
   "metadata": {},
   "outputs": [
    {
     "data": {
      "text/plain": [
       "sympy.core.mul.Mul"
      ]
     },
     "execution_count": 10,
     "metadata": {},
     "output_type": "execute_result"
    }
   ],
   "source": [
    "type(z*H)"
   ]
  },
  {
   "cell_type": "code",
   "execution_count": 11,
   "metadata": {},
   "outputs": [
    {
     "data": {
      "text/plain": [
       "int"
      ]
     },
     "execution_count": 11,
     "metadata": {},
     "output_type": "execute_result"
    }
   ],
   "source": [
    "type(1)"
   ]
  },
  {
   "cell_type": "code",
   "execution_count": 12,
   "metadata": {},
   "outputs": [
    {
     "ename": "TypeError",
     "evalue": "unsupported operand type(s) for *: 'LieOperator' and 'H1'",
     "output_type": "error",
     "traceback": [
      "\u001b[0;31m---------------------------------------------------------------------------\u001b[0m",
      "\u001b[0;31mTypeError\u001b[0m                                 Traceback (most recent call last)",
      "\u001b[0;32m<ipython-input-12-1d96616577cd>\u001b[0m in \u001b[0;36m<module>\u001b[0;34m\u001b[0m\n\u001b[0;32m----> 1\u001b[0;31m \u001b[0mlb\u001b[0m\u001b[0;34m*\u001b[0m\u001b[0mH\u001b[0m\u001b[0;34m\u001b[0m\u001b[0;34m\u001b[0m\u001b[0m\n\u001b[0m",
      "\u001b[0;31mTypeError\u001b[0m: unsupported operand type(s) for *: 'LieOperator' and 'H1'"
     ]
    }
   ],
   "source": [
    "lb*H"
   ]
  },
  {
   "cell_type": "code",
   "execution_count": null,
   "metadata": {},
   "outputs": [],
   "source": [
    "la.ham, la.indep_coords, la.indep_mom"
   ]
  },
  {
   "cell_type": "code",
   "execution_count": null,
   "metadata": {},
   "outputs": [],
   "source": [
    "t = lb.Poisson(g)\n",
    "t"
   ]
  },
  {
   "cell_type": "code",
   "execution_count": null,
   "metadata": {},
   "outputs": [],
   "source": [
    "t.subs(H, x)"
   ]
  },
  {
   "cell_type": "code",
   "execution_count": null,
   "metadata": {},
   "outputs": [],
   "source": [
    "lb.ExpPowerLieBracket(g,2)"
   ]
  },
  {
   "cell_type": "code",
   "execution_count": null,
   "metadata": {},
   "outputs": [],
   "source": [
    "lb.exp(g,3)"
   ]
  },
  {
   "cell_type": "code",
   "execution_count": null,
   "metadata": {},
   "outputs": [],
   "source": [
    "n = 4\n",
    "def pn(n):\n",
    "    F = sympy.Matrix(np.zeros((n+1,n+1)))\n",
    "    for i in range(n+1):\n",
    "        for j in range(n+1):\n",
    "            if (j-i)>=0:\n",
    "                F[i,j] = sympy.Rational(1,int(fac(j-i))) # keep it rational !!!!\n",
    "\n",
    "\n",
    "    \n",
    "    G = sympy.Matrix(np.zeros((n+1,n+1)))\n",
    "    for i in range(n+1):\n",
    "        for j in range(n+1):\n",
    "            if (j-i)>=0:\n",
    "                if i==j:\n",
    "                    sigprod = 1\n",
    "                else:\n",
    "                    l = sympy.symbols('s{}:{}'.format(i,j))\n",
    "                    sigprod = reduce(sympy.Mul,l)\n",
    "                G[i,j] = sympy.Mul(sympy.Rational(1,int(np.math.factorial(j-i))),sigprod, evaluate=False)\n",
    "\n",
    "\n",
    "\n",
    "    qthpower = sympy.Matrix(np.eye(n+1))\n",
    "\n",
    "    FGm1 = sympy.nsimplify(F*G - qthpower)\n",
    "\n",
    "    FGm1\n",
    "\n",
    "\n",
    "    summ = 0\n",
    "\n",
    "    for q in range(1,n+1):\n",
    "        qthpower = sympy.nsimplify(sympy.MatMul(qthpower, FGm1, evaluate=False))\n",
    "\n",
    "        summ += sympy.nsimplify((-1)**(q-1)/q * qthpower)[0,n] # q-1 because mathematica starts at 1 and not 0, there for sign change\n",
    "\n",
    "    return sympy.expand(summ)\n",
    "\n",
    "def translated(op1,op2,n):\n",
    "    l = sympy.symbols('s{}:{}'.format(0,n))\n",
    "    temp = reduce(functools.partial(sympy.Mul,evaluate=False),[k*k for k in l])\n",
    "    temp = sympy.expand(sympy.Mul(temp, pn(n), evaluate=False),evaluate=False)\n",
    "    with sympy.evaluate(False):\n",
    "        ln = sympy.symbols('r{}:{}'.format(0,n), commutative=False)\n",
    "        for i, s in enumerate(l):\n",
    "            temp = temp.subs(l[i],ln[i])\n",
    "        for i in range(n):\n",
    "            f = sympy.Symbol('f',commutative=False)\n",
    "            g = sympy.Symbol('g',commutative=False)\n",
    "            temp = temp.subs(ln[i]**3,g)\n",
    "            temp = temp.subs(ln[i]**2,f)\n",
    "            temp = temp.subs(g**0,1)\n",
    "        \n",
    "        print(type(op1))\n",
    "        temp = temp.subs(f,op1)\n",
    "        temp = temp.subs(g,op2)\n",
    "    \n",
    "    return temp\n",
    "\n",
    "def HCB(op1,op2,n):\n",
    "    s = 0\n",
    "    for i in range(1,n+1):\n",
    "        s+= translated(op1,op2,i)\n",
    "    return sH1(𝑥,"
   ]
  },
  {
   "cell_type": "code",
   "execution_count": null,
   "metadata": {},
   "outputs": [],
   "source": [
    "translated(H,g,1)"
   ]
  },
  {
   "cell_type": "code",
   "execution_count": null,
   "metadata": {},
   "outputs": [],
   "source": [
    "la.ham"
   ]
  },
  {
   "cell_type": "code",
   "execution_count": null,
   "metadata": {},
   "outputs": [],
   "source": [
    "HCB(H,g,2)"
   ]
  },
  {
   "cell_type": "code",
   "execution_count": null,
   "metadata": {},
   "outputs": [],
   "source": [
    "HCB(la.ham,lb.ham,2)"
   ]
  },
  {
   "cell_type": "code",
   "execution_count": null,
   "metadata": {},
   "outputs": [],
   "source": [
    "HCB(H,g,2)"
   ]
  },
  {
   "cell_type": "code",
   "execution_count": null,
   "metadata": {},
   "outputs": [],
   "source": [
    "Z = sympy.Function('Z', commutative=False)(x,p)\n",
    "W = sympy.Function('W', commutative=False)(x,p)\n",
    "h = HCB(Z,W,3)\n",
    "f = HCB(h,H,2)\n",
    "test = LieMap(h,x,p)\n",
    "test2 = LieMap(f,x,p)"
   ]
  },
  {
   "cell_type": "code",
   "execution_count": null,
   "metadata": {},
   "outputs": [],
   "source": [
    "test.ham, test.indep_coords, test.indep_mom"
   ]
  },
  {
   "cell_type": "code",
   "execution_count": null,
   "metadata": {},
   "outputs": [],
   "source": [
    "test2.ham, test2.indep_coords, test2.indep_mom"
   ]
  },
  {
   "cell_type": "code",
   "execution_count": null,
   "metadata": {},
   "outputs": [],
   "source": [
    "test.Poisson(H)"
   ]
  },
  {
   "cell_type": "markdown",
   "metadata": {},
   "source": [
    "# Drift Space test run"
   ]
  },
  {
   "cell_type": "code",
   "execution_count": null,
   "metadata": {},
   "outputs": [],
   "source": [
    "x, y, px, py, delta = sympy.symbols('x y px py d')\n",
    "Hd = - sympy.sqrt((1+delta)**2 - px**2 - py**2)"
   ]
  },
  {
   "cell_type": "code",
   "execution_count": null,
   "metadata": {},
   "outputs": [],
   "source": [
    "Hd"
   ]
  },
  {
   "cell_type": "code",
   "execution_count": null,
   "metadata": {},
   "outputs": [],
   "source": [
    "drift = LieMap(Hd,[x,y],[px,py])"
   ]
  },
  {
   "cell_type": "code",
   "execution_count": null,
   "metadata": {},
   "outputs": [],
   "source": [
    "drift.ham, drift.indep_coords, drift.indep_mom"
   ]
  },
  {
   "cell_type": "code",
   "execution_count": null,
   "metadata": {},
   "outputs": [],
   "source": [
    "drift.exp(x,8)"
   ]
  },
  {
   "cell_type": "code",
   "execution_count": null,
   "metadata": {},
   "outputs": [],
   "source": [
    "drift.exp(px,8)"
   ]
  },
  {
   "cell_type": "code",
   "execution_count": null,
   "metadata": {},
   "outputs": [],
   "source": [
    "drift.exp(y,8)"
   ]
  },
  {
   "cell_type": "code",
   "execution_count": null,
   "metadata": {},
   "outputs": [],
   "source": [
    "drift.exp(py,8)"
   ]
  },
  {
   "cell_type": "markdown",
   "metadata": {},
   "source": [
    "## Applying with quadrupole"
   ]
  },
  {
   "cell_type": "code",
   "execution_count": null,
   "metadata": {},
   "outputs": [],
   "source": [
    "x,p,k = sympy.symbols('x p k')\n",
    "Hq = -sympy.Rational(1,2)*(k*x**2 + p**2)"
   ]
  },
  {
   "cell_type": "code",
   "execution_count": null,
   "metadata": {},
   "outputs": [],
   "source": [
    "Hq"
   ]
  },
  {
   "cell_type": "code",
   "execution_count": null,
   "metadata": {},
   "outputs": [],
   "source": [
    "quadrupole = LieMap(Hq,x,p)"
   ]
  },
  {
   "cell_type": "code",
   "execution_count": null,
   "metadata": {},
   "outputs": [],
   "source": [
    "quadrupole.ham, quadrupole.indep_coords, quadrupole.indep_mom"
   ]
  },
  {
   "cell_type": "code",
   "execution_count": null,
   "metadata": {},
   "outputs": [],
   "source": [
    "quadrupole.Poisson(x)"
   ]
  },
  {
   "cell_type": "code",
   "execution_count": null,
   "metadata": {},
   "outputs": [],
   "source": [
    "quadrupole.Poisson(quadrupole.Poisson(x))"
   ]
  },
  {
   "cell_type": "code",
   "execution_count": null,
   "metadata": {},
   "outputs": [],
   "source": [
    "quadrupole.exp(x,0)"
   ]
  },
  {
   "cell_type": "code",
   "execution_count": null,
   "metadata": {},
   "outputs": [],
   "source": [
    "quadrupole.exp(x,10)"
   ]
  },
  {
   "cell_type": "code",
   "execution_count": null,
   "metadata": {},
   "outputs": [],
   "source": [
    "from sympy import cos, sin, series\n",
    "sympy.series(cos(sympy.sqrt(k))*x,k)"
   ]
  },
  {
   "cell_type": "code",
   "execution_count": null,
   "metadata": {},
   "outputs": [],
   "source": [
    "sympy.series(sin(sympy.sqrt(k))*p/sympy.sqrt(k),k)"
   ]
  },
  {
   "cell_type": "code",
   "execution_count": null,
   "metadata": {},
   "outputs": [],
   "source": [
    "quadrupole.exp(p,10)"
   ]
  },
  {
   "cell_type": "code",
   "execution_count": null,
   "metadata": {},
   "outputs": [],
   "source": [
    "sympy.series(-sympy.sqrt(k)*sin(sympy.sqrt(k))*x,k)"
   ]
  },
  {
   "cell_type": "code",
   "execution_count": null,
   "metadata": {},
   "outputs": [],
   "source": [
    "sympy.series(cos(sympy.sqrt(k))*p,k)"
   ]
  },
  {
   "cell_type": "code",
   "execution_count": null,
   "metadata": {},
   "outputs": [],
   "source": []
  },
  {
   "cell_type": "code",
   "execution_count": null,
   "metadata": {},
   "outputs": [],
   "source": []
  },
  {
   "cell_type": "code",
   "execution_count": null,
   "metadata": {},
   "outputs": [],
   "source": []
  }
 ],
 "metadata": {
  "kernelspec": {
   "display_name": "Python 3",
   "language": "python",
   "name": "python3"
  },
  "language_info": {
   "codemirror_mode": {
    "name": "ipython",
    "version": 3
   },
   "file_extension": ".py",
   "mimetype": "text/x-python",
   "name": "python",
   "nbconvert_exporter": "python",
   "pygments_lexer": "ipython3",
   "version": "3.6.7"
  }
 },
 "nbformat": 4,
 "nbformat_minor": 2
}
