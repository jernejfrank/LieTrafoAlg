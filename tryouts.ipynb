{
 "cells": [
  {
   "cell_type": "code",
   "execution_count": 1,
   "metadata": {},
   "outputs": [],
   "source": [
    "import numpy as np\n",
    "import pandas as pd\n",
    "import sympy\n",
    "from sympy import *\n",
    "from operator import mul\n",
    "from functools import reduce\n",
    "import mpmath as mp\n",
    "from mpmath import fac\n",
    "import functools\n",
    "from sympy import init_printing\n",
    "from sympy.core.decorators import _sympifyit, call_highest_priority\n",
    "from IPython.display import display_latex\n",
    "init_printing()"
   ]
  },
  {
   "cell_type": "markdown",
   "metadata": {},
   "source": [
    "# Lie Map\n",
    "$$e^{:f:} = \\sum_n \\frac{:f:^n}{n!},\n",
    "\\\\\n",
    ":f: = \\left[f, \\cdot \\right]\n",
    "= \\frac{\\partial f}{\\partial x} \\frac{\\partial \\cdot }{\\partial p} - \\frac{\\partial f}{\\partial p} \\frac{\\partial \\cdot}{\\partial x} $$"
   ]
  },
  {
   "cell_type": "code",
   "execution_count": 2,
   "metadata": {},
   "outputs": [],
   "source": [
    "class LieOperator:\n",
    "    '''\n",
    "    Lie Operator Class\n",
    "    '''\n",
    "    def __init__(self, ham, indep_coords, indep_mom):\n",
    "        self._ham = ham \n",
    "        if not isinstance(indep_coords, list): #create list of coords\n",
    "            indep_coords = [indep_coords]\n",
    "        if not isinstance(indep_mom, list): #create list of momenta\n",
    "            indep_mom = [indep_mom]\n",
    "\n",
    "        #same number of coordinates and momenta have to be entered\n",
    "        assert(len(indep_coords)==len(indep_mom)),'The number of coords and momenta is not the same'\n",
    "        self._indep_coords = indep_coords\n",
    "        self._indep_mom = indep_mom\n",
    "    \n",
    "    @property\n",
    "    def ham(self):\n",
    "        return self._ham\n",
    "    \n",
    "    @ham.setter\n",
    "    def ham(self, other):\n",
    "        self._ham = self._ham.subs(self.ham, other).doit()\n",
    "        \n",
    "    @property\n",
    "    def indep_coords(self):\n",
    "        return self._indep_coords\n",
    "    \n",
    "    @indep_coords.setter\n",
    "    def indep_coords(self, other):\n",
    "        self._indep_coords = other\n",
    "        \n",
    "    @property\n",
    "    def indep_mom(self):\n",
    "        return self._indep_mom\n",
    "    \n",
    "    @indep_mom.setter\n",
    "    def indep_mom(self, other):\n",
    "        self._indep_mom = other\n",
    "    \n",
    "    #Calcualte Poisson bracket with input function\n",
    "    def Poisson(self,other):\n",
    "        h = 0\n",
    "        for qi,pi in zip(self.indep_coords,self.indep_mom):\n",
    "            h += self.ham.diff(qi) * other.diff(pi) \n",
    "            h -= self.ham.diff(pi) * other.diff(qi)\n",
    "\n",
    "        return h"
   ]
  },
  {
   "cell_type": "code",
   "execution_count": 3,
   "metadata": {},
   "outputs": [],
   "source": [
    "class LieMap(LieOperator):\n",
    "    '''\n",
    "    Lie transform map\n",
    "    Inherits Lie Operator structure\n",
    "    '''\n",
    "    \n",
    "    #Successively apply Poisson bracket to input function to the input cutoff\n",
    "    def ExpPowerLieBracket(self, other, power):\n",
    "        s = 0\n",
    "        if power == 0:\n",
    "            s += other\n",
    "        else:\n",
    "            s += self.Poisson(self.ExpPowerLieBracket(other, power - 1))\n",
    "            \n",
    "        return s\n",
    "    \n",
    "    \n",
    "    #Calculate the exponential map of the Lie operator to the input cutoff\n",
    "    def exp(self,other,power):\n",
    "        s = 0\n",
    "        for i in range(power+1):\n",
    "            s += sympy.Rational(1,factorial(i))*self.ExpPowerLieBracket(other,i)\n",
    "        return s"
   ]
  },
  {
   "cell_type": "code",
   "execution_count": 4,
   "metadata": {},
   "outputs": [
    {
     "data": {
      "text/plain": [
       "sympy.core.numbers.Rational"
      ]
     },
     "execution_count": 4,
     "metadata": {},
     "output_type": "execute_result"
    }
   ],
   "source": [
    "type(sympy.Rational(1,factorial(6)))"
   ]
  },
  {
   "cell_type": "code",
   "execution_count": 52,
   "metadata": {},
   "outputs": [],
   "source": [
    "# x,px,y,py = sympy.symbols('x px y py')\n",
    "# coords = [x,y]\n",
    "# mom = [px,py]\n",
    "x, p = sympy.symbols('x p')\n",
    "H = sympy.Function('H1', commutative=False)(x,p)\n",
    "g = sympy.Function('H2', commutative=False)(x,p)\n",
    "la = LieOperator(H,x,p)\n",
    "lb = LieOperator(g,x,p)\n",
    "lb = LieMap(H,x,p)\n",
    "lc = LieMap(g,x,p)"
   ]
  },
  {
   "cell_type": "code",
   "execution_count": 6,
   "metadata": {},
   "outputs": [],
   "source": [
    "y = x.subs(x,1)\n",
    "z = sympy.Rational(1,factorial(6))"
   ]
  },
  {
   "cell_type": "code",
   "execution_count": 7,
   "metadata": {},
   "outputs": [
    {
     "data": {
      "text/plain": [
       "True"
      ]
     },
     "execution_count": 7,
     "metadata": {},
     "output_type": "execute_result"
    }
   ],
   "source": [
    "y.is_number"
   ]
  },
  {
   "cell_type": "code",
   "execution_count": 8,
   "metadata": {},
   "outputs": [
    {
     "data": {
      "text/plain": [
       "True"
      ]
     },
     "execution_count": 8,
     "metadata": {},
     "output_type": "execute_result"
    }
   ],
   "source": [
    "z.is_number"
   ]
  },
  {
   "cell_type": "code",
   "execution_count": 9,
   "metadata": {},
   "outputs": [
    {
     "data": {
      "text/plain": [
       "sympy.core.mul.Mul"
      ]
     },
     "execution_count": 9,
     "metadata": {},
     "output_type": "execute_result"
    }
   ],
   "source": [
    "type(z*H)"
   ]
  },
  {
   "cell_type": "code",
   "execution_count": 10,
   "metadata": {},
   "outputs": [
    {
     "data": {
      "text/plain": [
       "int"
      ]
     },
     "execution_count": 10,
     "metadata": {},
     "output_type": "execute_result"
    }
   ],
   "source": [
    "type(1)"
   ]
  },
  {
   "cell_type": "code",
   "execution_count": 11,
   "metadata": {},
   "outputs": [
    {
     "ename": "TypeError",
     "evalue": "unsupported operand type(s) for *: 'LieMap' and 'H'",
     "output_type": "error",
     "traceback": [
      "\u001b[0;31m---------------------------------------------------------------------------\u001b[0m",
      "\u001b[0;31mTypeError\u001b[0m                                 Traceback (most recent call last)",
      "\u001b[0;32m<ipython-input-11-1d96616577cd>\u001b[0m in \u001b[0;36m<module>\u001b[0;34m\u001b[0m\n\u001b[0;32m----> 1\u001b[0;31m \u001b[0mlb\u001b[0m\u001b[0;34m*\u001b[0m\u001b[0mH\u001b[0m\u001b[0;34m\u001b[0m\u001b[0;34m\u001b[0m\u001b[0m\n\u001b[0m",
      "\u001b[0;31mTypeError\u001b[0m: unsupported operand type(s) for *: 'LieMap' and 'H'"
     ]
    }
   ],
   "source": [
    "lb*H"
   ]
  },
  {
   "cell_type": "code",
   "execution_count": 12,
   "metadata": {},
   "outputs": [
    {
     "data": {
      "image/png": "[encoded data removed]",
      "text/latex": [
       "$\\displaystyle \\left( H{\\left(x,p \\right)}, \\  \\left[ x\\right], \\  \\left[ p\\right]\\right)$"
      ],
      "text/plain": [
       "(H(x, p), [x], [p])"
      ]
     },
     "execution_count": 12,
     "metadata": {},
     "output_type": "execute_result"
    }
   ],
   "source": [
    "la.ham, la.indep_coords, la.indep_mom"
   ]
  },
  {
   "cell_type": "code",
   "execution_count": 69,
   "metadata": {},
   "outputs": [
    {
     "data": {
      "image/png": "[encoded data removed]",
      "text/latex": [
       "$\\displaystyle - \\frac{\\partial}{\\partial p} \\operatorname{H_{1}}{\\left(x,p \\right)} \\frac{\\partial}{\\partial x} \\operatorname{H_{2}}{\\left(x,p \\right)} + \\frac{\\partial}{\\partial x} \\operatorname{H_{1}}{\\left(x,p \\right)} \\frac{\\partial}{\\partial p} \\operatorname{H_{2}}{\\left(x,p \\right)}$"
      ],
      "text/plain": [
       "  ∂            ∂              ∂            ∂           \n",
       "- ──(H₁(x, p))⋅──(H₂(x, p)) + ──(H₁(x, p))⋅──(H₂(x, p))\n",
       "  ∂p           ∂x             ∂x           ∂p          "
      ]
     },
     "execution_count": 69,
     "metadata": {},
     "output_type": "execute_result"
    }
   ],
   "source": [
    "t = lb.Poisson(g)\n",
    "t"
   ]
  },
  {
   "cell_type": "code",
   "execution_count": 70,
   "metadata": {},
   "outputs": [
    {
     "data": {
      "image/png": "[encoded data removed]",
      "text/latex": [
       "$\\displaystyle - \\frac{d}{d p} x \\frac{\\partial}{\\partial x} \\operatorname{H_{2}}{\\left(x,p \\right)} + \\frac{d}{d x} x \\frac{\\partial}{\\partial p} \\operatorname{H_{2}}{\\left(x,p \\right)}$"
      ],
      "text/plain": [
       "  d     ∂              d     ∂           \n",
       "- ──(x)⋅──(H₂(x, p)) + ──(x)⋅──(H₂(x, p))\n",
       "  dp    ∂x             dx    ∂p          "
      ]
     },
     "execution_count": 70,
     "metadata": {},
     "output_type": "execute_result"
    }
   ],
   "source": [
    "t.subs(H, x)"
   ]
  },
  {
   "cell_type": "code",
   "execution_count": 14,
   "metadata": {},
   "outputs": [
    {
     "data": {
      "image/png": "[encoded data removed]",
      "text/latex": [
       "$\\displaystyle - \\frac{\\partial}{\\partial p} H{\\left(x,p \\right)} \\left(- \\frac{\\partial}{\\partial p} H{\\left(x,p \\right)} \\frac{\\partial^{2}}{\\partial x^{2}} g{\\left(x,p \\right)} + \\frac{\\partial}{\\partial x} H{\\left(x,p \\right)} \\frac{\\partial^{2}}{\\partial x\\partial p} g{\\left(x,p \\right)} + \\frac{\\partial^{2}}{\\partial x^{2}} H{\\left(x,p \\right)} \\frac{\\partial}{\\partial p} g{\\left(x,p \\right)} - \\frac{\\partial^{2}}{\\partial x\\partial p} H{\\left(x,p \\right)} \\frac{\\partial}{\\partial x} g{\\left(x,p \\right)}\\right) + \\frac{\\partial}{\\partial x} H{\\left(x,p \\right)} \\left(- \\frac{\\partial}{\\partial p} H{\\left(x,p \\right)} \\frac{\\partial^{2}}{\\partial x\\partial p} g{\\left(x,p \\right)} - \\frac{\\partial^{2}}{\\partial p^{2}} H{\\left(x,p \\right)} \\frac{\\partial}{\\partial x} g{\\left(x,p \\right)} + \\frac{\\partial}{\\partial x} H{\\left(x,p \\right)} \\frac{\\partial^{2}}{\\partial p^{2}} g{\\left(x,p \\right)} + \\frac{\\partial^{2}}{\\partial x\\partial p} H{\\left(x,p \\right)} \\frac{\\partial}{\\partial p} g{\\left(x,p \\right)}\\right)$"
      ],
      "text/plain": [
       "              ⎛                2                           2               2  \n",
       "  ∂           ⎜  ∂            ∂             ∂             ∂               ∂   \n",
       "- ──(H(x, p))⋅⎜- ──(H(x, p))⋅───(g(x, p)) + ──(H(x, p))⋅─────(g(x, p)) + ───(H\n",
       "  ∂p          ⎜  ∂p            2            ∂x          ∂x ∂p              2  \n",
       "              ⎝              ∂x                                          ∂x   \n",
       "\n",
       "                         2                      ⎞               ⎛             \n",
       "        ∂               ∂            ∂          ⎟   ∂           ⎜  ∂          \n",
       "(x, p))⋅──(g(x, p)) - ─────(H(x, p))⋅──(g(x, p))⎟ + ──(H(x, p))⋅⎜- ──(H(x, p))\n",
       "        ∂p            ∂x ∂p          ∂x         ⎟   ∂x          ⎜  ∂p         \n",
       "                                                ⎠               ⎝             \n",
       "\n",
       "    2               2                                      2               2  \n",
       "   ∂               ∂           ∂             ∂            ∂               ∂   \n",
       "⋅─────(g(x, p)) - ───(H(x, p))⋅──(g(x, p)) + ──(H(x, p))⋅───(g(x, p)) + ─────(\n",
       " ∂x ∂p              2          ∂x            ∂x            2            ∂x ∂p \n",
       "                  ∂p                                     ∂p                   \n",
       "\n",
       "                    ⎞\n",
       "         ∂          ⎟\n",
       "H(x, p))⋅──(g(x, p))⎟\n",
       "         ∂p         ⎟\n",
       "                    ⎠"
      ]
     },
     "execution_count": 14,
     "metadata": {},
     "output_type": "execute_result"
    }
   ],
   "source": [
    "lb.ExpPowerLieBracket(g,2)"
   ]
  },
  {
   "cell_type": "code",
   "execution_count": 15,
   "metadata": {},
   "outputs": [
    {
     "data": {
      "image/png": "[encoded data removed]",
      "text/latex": [
       "$\\displaystyle \\frac{- \\frac{\\partial}{\\partial p} H{\\left(x,p \\right)} \\left(- \\frac{\\partial}{\\partial p} H{\\left(x,p \\right)} \\left(- \\frac{\\partial}{\\partial p} H{\\left(x,p \\right)} \\frac{\\partial^{3}}{\\partial x^{3}} g{\\left(x,p \\right)} + \\frac{\\partial}{\\partial x} H{\\left(x,p \\right)} \\frac{\\partial^{3}}{\\partial x^{2}\\partial p} g{\\left(x,p \\right)} + 2 \\frac{\\partial^{2}}{\\partial x^{2}} H{\\left(x,p \\right)} \\frac{\\partial^{2}}{\\partial x\\partial p} g{\\left(x,p \\right)} + \\frac{\\partial^{3}}{\\partial x^{3}} H{\\left(x,p \\right)} \\frac{\\partial}{\\partial p} g{\\left(x,p \\right)} - 2 \\frac{\\partial^{2}}{\\partial x\\partial p} H{\\left(x,p \\right)} \\frac{\\partial^{2}}{\\partial x^{2}} g{\\left(x,p \\right)} - \\frac{\\partial^{3}}{\\partial x^{2}\\partial p} H{\\left(x,p \\right)} \\frac{\\partial}{\\partial x} g{\\left(x,p \\right)}\\right) + \\frac{\\partial}{\\partial x} H{\\left(x,p \\right)} \\left(- \\frac{\\partial}{\\partial p} H{\\left(x,p \\right)} \\frac{\\partial^{3}}{\\partial x^{2}\\partial p} g{\\left(x,p \\right)} - \\frac{\\partial^{2}}{\\partial p^{2}} H{\\left(x,p \\right)} \\frac{\\partial^{2}}{\\partial x^{2}} g{\\left(x,p \\right)} + \\frac{\\partial}{\\partial x} H{\\left(x,p \\right)} \\frac{\\partial^{3}}{\\partial x\\partial p^{2}} g{\\left(x,p \\right)} + \\frac{\\partial^{2}}{\\partial x^{2}} H{\\left(x,p \\right)} \\frac{\\partial^{2}}{\\partial p^{2}} g{\\left(x,p \\right)} + \\frac{\\partial^{3}}{\\partial x^{2}\\partial p} H{\\left(x,p \\right)} \\frac{\\partial}{\\partial p} g{\\left(x,p \\right)} - \\frac{\\partial^{3}}{\\partial x\\partial p^{2}} H{\\left(x,p \\right)} \\frac{\\partial}{\\partial x} g{\\left(x,p \\right)}\\right) + \\frac{\\partial^{2}}{\\partial x^{2}} H{\\left(x,p \\right)} \\left(- \\frac{\\partial}{\\partial p} H{\\left(x,p \\right)} \\frac{\\partial^{2}}{\\partial x\\partial p} g{\\left(x,p \\right)} - \\frac{\\partial^{2}}{\\partial p^{2}} H{\\left(x,p \\right)} \\frac{\\partial}{\\partial x} g{\\left(x,p \\right)} + \\frac{\\partial}{\\partial x} H{\\left(x,p \\right)} \\frac{\\partial^{2}}{\\partial p^{2}} g{\\left(x,p \\right)} + \\frac{\\partial^{2}}{\\partial x\\partial p} H{\\left(x,p \\right)} \\frac{\\partial}{\\partial p} g{\\left(x,p \\right)}\\right) - \\frac{\\partial^{2}}{\\partial x\\partial p} H{\\left(x,p \\right)} \\left(- \\frac{\\partial}{\\partial p} H{\\left(x,p \\right)} \\frac{\\partial^{2}}{\\partial x^{2}} g{\\left(x,p \\right)} + \\frac{\\partial}{\\partial x} H{\\left(x,p \\right)} \\frac{\\partial^{2}}{\\partial x\\partial p} g{\\left(x,p \\right)} + \\frac{\\partial^{2}}{\\partial x^{2}} H{\\left(x,p \\right)} \\frac{\\partial}{\\partial p} g{\\left(x,p \\right)} - \\frac{\\partial^{2}}{\\partial x\\partial p} H{\\left(x,p \\right)} \\frac{\\partial}{\\partial x} g{\\left(x,p \\right)}\\right)\\right) + \\frac{\\partial}{\\partial x} H{\\left(x,p \\right)} \\left(- \\frac{\\partial}{\\partial p} H{\\left(x,p \\right)} \\left(- \\frac{\\partial}{\\partial p} H{\\left(x,p \\right)} \\frac{\\partial^{3}}{\\partial x^{2}\\partial p} g{\\left(x,p \\right)} - \\frac{\\partial^{2}}{\\partial p^{2}} H{\\left(x,p \\right)} \\frac{\\partial^{2}}{\\partial x^{2}} g{\\left(x,p \\right)} + \\frac{\\partial}{\\partial x} H{\\left(x,p \\right)} \\frac{\\partial^{3}}{\\partial x\\partial p^{2}} g{\\left(x,p \\right)} + \\frac{\\partial^{2}}{\\partial x^{2}} H{\\left(x,p \\right)} \\frac{\\partial^{2}}{\\partial p^{2}} g{\\left(x,p \\right)} + \\frac{\\partial^{3}}{\\partial x^{2}\\partial p} H{\\left(x,p \\right)} \\frac{\\partial}{\\partial p} g{\\left(x,p \\right)} - \\frac{\\partial^{3}}{\\partial x\\partial p^{2}} H{\\left(x,p \\right)} \\frac{\\partial}{\\partial x} g{\\left(x,p \\right)}\\right) - \\frac{\\partial^{2}}{\\partial p^{2}} H{\\left(x,p \\right)} \\left(- \\frac{\\partial}{\\partial p} H{\\left(x,p \\right)} \\frac{\\partial^{2}}{\\partial x^{2}} g{\\left(x,p \\right)} + \\frac{\\partial}{\\partial x} H{\\left(x,p \\right)} \\frac{\\partial^{2}}{\\partial x\\partial p} g{\\left(x,p \\right)} + \\frac{\\partial^{2}}{\\partial x^{2}} H{\\left(x,p \\right)} \\frac{\\partial}{\\partial p} g{\\left(x,p \\right)} - \\frac{\\partial^{2}}{\\partial x\\partial p} H{\\left(x,p \\right)} \\frac{\\partial}{\\partial x} g{\\left(x,p \\right)}\\right) + \\frac{\\partial}{\\partial x} H{\\left(x,p \\right)} \\left(- \\frac{\\partial}{\\partial p} H{\\left(x,p \\right)} \\frac{\\partial^{3}}{\\partial x\\partial p^{2}} g{\\left(x,p \\right)} - 2 \\frac{\\partial^{2}}{\\partial p^{2}} H{\\left(x,p \\right)} \\frac{\\partial^{2}}{\\partial x\\partial p} g{\\left(x,p \\right)} - \\frac{\\partial^{3}}{\\partial p^{3}} H{\\left(x,p \\right)} \\frac{\\partial}{\\partial x} g{\\left(x,p \\right)} + \\frac{\\partial}{\\partial x} H{\\left(x,p \\right)} \\frac{\\partial^{3}}{\\partial p^{3}} g{\\left(x,p \\right)} + 2 \\frac{\\partial^{2}}{\\partial x\\partial p} H{\\left(x,p \\right)} \\frac{\\partial^{2}}{\\partial p^{2}} g{\\left(x,p \\right)} + \\frac{\\partial^{3}}{\\partial x\\partial p^{2}} H{\\left(x,p \\right)} \\frac{\\partial}{\\partial p} g{\\left(x,p \\right)}\\right) + \\frac{\\partial^{2}}{\\partial x\\partial p} H{\\left(x,p \\right)} \\left(- \\frac{\\partial}{\\partial p} H{\\left(x,p \\right)} \\frac{\\partial^{2}}{\\partial x\\partial p} g{\\left(x,p \\right)} - \\frac{\\partial^{2}}{\\partial p^{2}} H{\\left(x,p \\right)} \\frac{\\partial}{\\partial x} g{\\left(x,p \\right)} + \\frac{\\partial}{\\partial x} H{\\left(x,p \\right)} \\frac{\\partial^{2}}{\\partial p^{2}} g{\\left(x,p \\right)} + \\frac{\\partial^{2}}{\\partial x\\partial p} H{\\left(x,p \\right)} \\frac{\\partial}{\\partial p} g{\\left(x,p \\right)}\\right)\\right)}{6} + \\frac{- \\frac{\\partial}{\\partial p} H{\\left(x,p \\right)} \\left(- \\frac{\\partial}{\\partial p} H{\\left(x,p \\right)} \\frac{\\partial^{2}}{\\partial x^{2}} g{\\left(x,p \\right)} + \\frac{\\partial}{\\partial x} H{\\left(x,p \\right)} \\frac{\\partial^{2}}{\\partial x\\partial p} g{\\left(x,p \\right)} + \\frac{\\partial^{2}}{\\partial x^{2}} H{\\left(x,p \\right)} \\frac{\\partial}{\\partial p} g{\\left(x,p \\right)} - \\frac{\\partial^{2}}{\\partial x\\partial p} H{\\left(x,p \\right)} \\frac{\\partial}{\\partial x} g{\\left(x,p \\right)}\\right) + \\frac{\\partial}{\\partial x} H{\\left(x,p \\right)} \\left(- \\frac{\\partial}{\\partial p} H{\\left(x,p \\right)} \\frac{\\partial^{2}}{\\partial x\\partial p} g{\\left(x,p \\right)} - \\frac{\\partial^{2}}{\\partial p^{2}} H{\\left(x,p \\right)} \\frac{\\partial}{\\partial x} g{\\left(x,p \\right)} + \\frac{\\partial}{\\partial x} H{\\left(x,p \\right)} \\frac{\\partial^{2}}{\\partial p^{2}} g{\\left(x,p \\right)} + \\frac{\\partial^{2}}{\\partial x\\partial p} H{\\left(x,p \\right)} \\frac{\\partial}{\\partial p} g{\\left(x,p \\right)}\\right)}{2} + g{\\left(x,p \\right)} - \\frac{\\partial}{\\partial p} H{\\left(x,p \\right)} \\frac{\\partial}{\\partial x} g{\\left(x,p \\right)} + \\frac{\\partial}{\\partial x} H{\\left(x,p \\right)} \\frac{\\partial}{\\partial p} g{\\left(x,p \\right)}$"
      ],
      "text/plain": [
       "              ⎛              ⎛                3                           3   \n",
       "  ∂           ⎜  ∂           ⎜  ∂            ∂             ∂             ∂    \n",
       "- ──(H(x, p))⋅⎜- ──(H(x, p))⋅⎜- ──(H(x, p))⋅───(g(x, p)) + ──(H(x, p))⋅──────(\n",
       "  ∂p          ⎜  ∂p          ⎜  ∂p            3            ∂x            2    \n",
       "              ⎝              ⎝              ∂x                         ∂x  ∂p \n",
       "──────────────────────────────────────────────────────────────────────────────\n",
       "                                                                              \n",
       "\n",
       "               2             2               3                             2  \n",
       "              ∂             ∂               ∂           ∂                 ∂   \n",
       "g(x, p)) + 2⋅───(H(x, p))⋅─────(g(x, p)) + ───(H(x, p))⋅──(g(x, p)) - 2⋅─────(\n",
       "               2          ∂x ∂p              3          ∂p              ∂x ∂p \n",
       "             ∂x                            ∂x                                 \n",
       "──────────────────────────────────────────────────────────────────────────────\n",
       "                                                                              \n",
       "\n",
       "           2               3                       ⎞               ⎛          \n",
       "          ∂               ∂             ∂          ⎟   ∂           ⎜  ∂       \n",
       "H(x, p))⋅───(g(x, p)) - ──────(H(x, p))⋅──(g(x, p))⎟ + ──(H(x, p))⋅⎜- ──(H(x, \n",
       "           2              2             ∂x         ⎟   ∂x          ⎜  ∂p      \n",
       "         ∂x             ∂x  ∂p                     ⎠               ⎝          \n",
       "──────────────────────────────────────────────────────────────────────────────\n",
       "                                                                              \n",
       "\n",
       "       3                2            2                           3            \n",
       "      ∂                ∂            ∂             ∂             ∂             \n",
       "p))⋅──────(g(x, p)) - ───(H(x, p))⋅───(g(x, p)) + ──(H(x, p))⋅──────(g(x, p)) \n",
       "      2                 2            2            ∂x               2          \n",
       "    ∂x  ∂p            ∂p           ∂x                         ∂x ∂p           \n",
       "──────────────────────────────────────────────────────────────────────────────\n",
       "                                                                              \n",
       "\n",
       "    2            2               3                             3              \n",
       "   ∂            ∂               ∂             ∂               ∂             ∂ \n",
       "+ ───(H(x, p))⋅───(g(x, p)) + ──────(H(x, p))⋅──(g(x, p)) - ──────(H(x, p))⋅──\n",
       "    2            2              2             ∂p                 2          ∂x\n",
       "  ∂x           ∂p             ∂x  ∂p                        ∂x ∂p             \n",
       "──────────────────────────────────────────────────────────────────────────────\n",
       "                                                                              \n",
       "\n",
       "         ⎞     2          ⎛                 2               2                 \n",
       "         ⎟    ∂           ⎜  ∂             ∂               ∂           ∂      \n",
       "(g(x, p))⎟ + ───(H(x, p))⋅⎜- ──(H(x, p))⋅─────(g(x, p)) - ───(H(x, p))⋅──(g(x,\n",
       "         ⎟     2          ⎜  ∂p          ∂x ∂p              2          ∂x     \n",
       "         ⎠   ∂x           ⎝                               ∂p                  \n",
       "──────────────────────────────────────────────────────────────────────────────\n",
       "                                                                              \n",
       "\n",
       "                     2               2                      ⎞      2          \n",
       "       ∂            ∂               ∂            ∂          ⎟     ∂           \n",
       " p)) + ──(H(x, p))⋅───(g(x, p)) + ─────(H(x, p))⋅──(g(x, p))⎟ - ─────(H(x, p))\n",
       "       ∂x            2            ∂x ∂p          ∂p         ⎟   ∂x ∂p         \n",
       "                   ∂p                                       ⎠                 \n",
       "──────────────────────────────────────────────────────────────────────────────\n",
       "                                                                              \n",
       "\n",
       " ⎛                2                           2               2               \n",
       " ⎜  ∂            ∂             ∂             ∂               ∂           ∂    \n",
       "⋅⎜- ──(H(x, p))⋅───(g(x, p)) + ──(H(x, p))⋅─────(g(x, p)) + ───(H(x, p))⋅──(g(\n",
       " ⎜  ∂p            2            ∂x          ∂x ∂p              2          ∂p   \n",
       " ⎝              ∂x                                          ∂x                \n",
       "──────────────────────────────────────────────────────────────────────────────\n",
       "                                                                              \n",
       "\n",
       "            2                      ⎞⎞               ⎛              ⎛          \n",
       "           ∂            ∂          ⎟⎟   ∂           ⎜  ∂           ⎜  ∂       \n",
       "x, p)) - ─────(H(x, p))⋅──(g(x, p))⎟⎟ + ──(H(x, p))⋅⎜- ──(H(x, p))⋅⎜- ──(H(x, \n",
       "         ∂x ∂p          ∂x         ⎟⎟   ∂x          ⎜  ∂p          ⎜  ∂p      \n",
       "                                   ⎠⎠               ⎝              ⎝          \n",
       "──────────────────────────────────────────────────────────────────────────────\n",
       "                                     6                                        \n",
       "\n",
       "       3                2            2                           3            \n",
       "      ∂                ∂            ∂             ∂             ∂             \n",
       "p))⋅──────(g(x, p)) - ───(H(x, p))⋅───(g(x, p)) + ──(H(x, p))⋅──────(g(x, p)) \n",
       "      2                 2            2            ∂x               2          \n",
       "    ∂x  ∂p            ∂p           ∂x                         ∂x ∂p           \n",
       "──────────────────────────────────────────────────────────────────────────────\n",
       "                                                                              \n",
       "\n",
       "    2            2               3                             3              \n",
       "   ∂            ∂               ∂             ∂               ∂             ∂ \n",
       "+ ───(H(x, p))⋅───(g(x, p)) + ──────(H(x, p))⋅──(g(x, p)) - ──────(H(x, p))⋅──\n",
       "    2            2              2             ∂p                 2          ∂x\n",
       "  ∂x           ∂p             ∂x  ∂p                        ∂x ∂p             \n",
       "──────────────────────────────────────────────────────────────────────────────\n",
       "                                                                              \n",
       "\n",
       "         ⎞     2          ⎛                2                           2      \n",
       "         ⎟    ∂           ⎜  ∂            ∂             ∂             ∂       \n",
       "(g(x, p))⎟ - ───(H(x, p))⋅⎜- ──(H(x, p))⋅───(g(x, p)) + ──(H(x, p))⋅─────(g(x,\n",
       "         ⎟     2          ⎜  ∂p            2            ∂x          ∂x ∂p     \n",
       "         ⎠   ∂p           ⎝              ∂x                                   \n",
       "──────────────────────────────────────────────────────────────────────────────\n",
       "                                                                              \n",
       "\n",
       "         2                           2                      ⎞               ⎛ \n",
       "        ∂           ∂               ∂            ∂          ⎟   ∂           ⎜ \n",
       " p)) + ───(H(x, p))⋅──(g(x, p)) - ─────(H(x, p))⋅──(g(x, p))⎟ + ──(H(x, p))⋅⎜-\n",
       "         2          ∂p            ∂x ∂p          ∂x         ⎟   ∂x          ⎜ \n",
       "       ∂x                                                   ⎠               ⎝ \n",
       "──────────────────────────────────────────────────────────────────────────────\n",
       "                                                                              \n",
       "\n",
       "                3                  2             2               3            \n",
       " ∂             ∂                  ∂             ∂               ∂           ∂ \n",
       " ──(H(x, p))⋅──────(g(x, p)) - 2⋅───(H(x, p))⋅─────(g(x, p)) - ───(H(x, p))⋅──\n",
       " ∂p               2                2          ∂x ∂p              3          ∂x\n",
       "             ∂x ∂p               ∂p                            ∂p             \n",
       "──────────────────────────────────────────────────────────────────────────────\n",
       "                                                                              \n",
       "\n",
       "                          3                 2             2               3   \n",
       "            ∂            ∂                 ∂             ∂               ∂    \n",
       "(g(x, p)) + ──(H(x, p))⋅───(g(x, p)) + 2⋅─────(H(x, p))⋅───(g(x, p)) + ──────(\n",
       "            ∂x            3              ∂x ∂p            2                 2 \n",
       "                        ∂p                              ∂p             ∂x ∂p  \n",
       "──────────────────────────────────────────────────────────────────────────────\n",
       "                                                                              \n",
       "\n",
       "                    ⎞      2           ⎛                 2               2    \n",
       "         ∂          ⎟     ∂            ⎜  ∂             ∂               ∂     \n",
       "H(x, p))⋅──(g(x, p))⎟ + ─────(H(x, p))⋅⎜- ──(H(x, p))⋅─────(g(x, p)) - ───(H(x\n",
       "         ∂p         ⎟   ∂x ∂p          ⎜  ∂p          ∂x ∂p              2    \n",
       "                    ⎠                  ⎝                               ∂p     \n",
       "──────────────────────────────────────────────────────────────────────────────\n",
       "                                                                              \n",
       "\n",
       "                                  2               2                      ⎞⎞   \n",
       "      ∂             ∂            ∂               ∂            ∂          ⎟⎟   \n",
       ", p))⋅──(g(x, p)) + ──(H(x, p))⋅───(g(x, p)) + ─────(H(x, p))⋅──(g(x, p))⎟⎟   \n",
       "      ∂x            ∂x            2            ∂x ∂p          ∂p         ⎟⎟   \n",
       "                                ∂p                                       ⎠⎠   \n",
       "─────────────────────────────────────────────────────────────────────────── + \n",
       "                                                                              \n",
       "\n",
       "              ⎛                2                           2               2  \n",
       "  ∂           ⎜  ∂            ∂             ∂             ∂               ∂   \n",
       "- ──(H(x, p))⋅⎜- ──(H(x, p))⋅───(g(x, p)) + ──(H(x, p))⋅─────(g(x, p)) + ───(H\n",
       "  ∂p          ⎜  ∂p            2            ∂x          ∂x ∂p              2  \n",
       "              ⎝              ∂x                                          ∂x   \n",
       "──────────────────────────────────────────────────────────────────────────────\n",
       "                                                                              \n",
       "\n",
       "                         2                      ⎞               ⎛             \n",
       "        ∂               ∂            ∂          ⎟   ∂           ⎜  ∂          \n",
       "(x, p))⋅──(g(x, p)) - ─────(H(x, p))⋅──(g(x, p))⎟ + ──(H(x, p))⋅⎜- ──(H(x, p))\n",
       "        ∂p            ∂x ∂p          ∂x         ⎟   ∂x          ⎜  ∂p         \n",
       "                                                ⎠               ⎝             \n",
       "──────────────────────────────────────────────────────────────────────────────\n",
       "                                                 2                            \n",
       "\n",
       "    2               2                                      2               2  \n",
       "   ∂               ∂           ∂             ∂            ∂               ∂   \n",
       "⋅─────(g(x, p)) - ───(H(x, p))⋅──(g(x, p)) + ──(H(x, p))⋅───(g(x, p)) + ─────(\n",
       " ∂x ∂p              2          ∂x            ∂x            2            ∂x ∂p \n",
       "                  ∂p                                     ∂p                   \n",
       "──────────────────────────────────────────────────────────────────────────────\n",
       "                                                                              \n",
       "\n",
       "                    ⎞                                                         \n",
       "         ∂          ⎟                                                         \n",
       "H(x, p))⋅──(g(x, p))⎟                                                         \n",
       "         ∂p         ⎟                                                         \n",
       "                    ⎠             ∂           ∂             ∂           ∂     \n",
       "───────────────────── + g(x, p) - ──(H(x, p))⋅──(g(x, p)) + ──(H(x, p))⋅──(g(x\n",
       "                                  ∂p          ∂x            ∂x          ∂p    \n",
       "\n",
       "     \n",
       "     \n",
       "     \n",
       "     \n",
       "     \n",
       ", p))\n",
       "     "
      ]
     },
     "execution_count": 15,
     "metadata": {},
     "output_type": "execute_result"
    }
   ],
   "source": [
    "lb.exp(g,3)"
   ]
  },
  {
   "cell_type": "code",
   "execution_count": 49,
   "metadata": {},
   "outputs": [],
   "source": [
    "n = 4\n",
    "def pn(n):\n",
    "    F = sympy.Matrix(np.zeros((n+1,n+1)))\n",
    "    for i in range(n+1):\n",
    "        for j in range(n+1):\n",
    "            if (j-i)>=0:\n",
    "                F[i,j] = sympy.Rational(1,int(fac(j-i))) # keep it rational !!!!\n",
    "\n",
    "\n",
    "    \n",
    "    G = sympy.Matrix(np.zeros((n+1,n+1)))\n",
    "    for i in range(n+1):\n",
    "        for j in range(n+1):\n",
    "            if (j-i)>=0:\n",
    "                if i==j:\n",
    "                    sigprod = 1\n",
    "                else:\n",
    "                    l = sympy.symbols('s{}:{}'.format(i,j))\n",
    "                    sigprod = reduce(sympy.Mul,l)\n",
    "                G[i,j] = sympy.Mul(sympy.Rational(1,int(np.math.factorial(j-i))),sigprod, evaluate=False)\n",
    "\n",
    "\n",
    "\n",
    "    qthpower = sympy.Matrix(np.eye(n+1))\n",
    "\n",
    "    FGm1 = sympy.nsimplify(F*G - qthpower)\n",
    "\n",
    "    FGm1\n",
    "\n",
    "\n",
    "    summ = 0\n",
    "\n",
    "    for q in range(1,n+1):\n",
    "        qthpower = sympy.nsimplify(sympy.MatMul(qthpower, FGm1, evaluate=False))\n",
    "\n",
    "        summ += sympy.nsimplify((-1)**(q-1)/q * qthpower)[0,n] # q-1 because mathematica starts at 1 and not 0, there for sign change\n",
    "\n",
    "    return sympy.expand(summ)\n",
    "\n",
    "def translated(op1,op2,n):\n",
    "    l = sympy.symbols('s{}:{}'.format(0,n))\n",
    "    temp = reduce(functools.partial(sympy.Mul,evaluate=False),[k*k for k in l])\n",
    "    temp = sympy.expand(sympy.Mul(temp, pn(n), evaluate=False),evaluate=False)\n",
    "    with sympy.evaluate(False):\n",
    "        ln = sympy.symbols('r{}:{}'.format(0,n), commutative=False)\n",
    "        for i, s in enumerate(l):\n",
    "            temp = temp.subs(l[i],ln[i])\n",
    "        for i in range(n):\n",
    "            f = sympy.Symbol('f',commutative=False)\n",
    "            g = sympy.Symbol('g',commutative=False)\n",
    "            temp = temp.subs(ln[i]**3,g)\n",
    "            temp = temp.subs(ln[i]**2,f)\n",
    "            temp = temp.subs(g**0,1)\n",
    "        \n",
    "        print(type(op1))\n",
    "        temp = temp.subs(f,op1)\n",
    "        temp = temp.subs(g,op2)\n",
    "    \n",
    "    return temp\n",
    "\n",
    "def HCB(op1,op2,n):\n",
    "    s = 0\n",
    "    for i in range(1,n+1):\n",
    "        s+= translated(op1,op2,i)\n",
    "    return sH1(𝑥,"
   ]
  },
  {
   "cell_type": "code",
   "execution_count": 50,
   "metadata": {},
   "outputs": [
    {
     "name": "stdout",
     "output_type": "stream",
     "text": [
      "H\n"
     ]
    },
    {
     "data": {
      "image/png": "[encoded data removed]",
      "text/latex": [
       "$\\displaystyle H{\\left(x,p \\right)} + g{\\left(x,p \\right)}$"
      ],
      "text/plain": [
       "H(x, p) + g(x, p)"
      ]
     },
     "execution_count": 50,
     "metadata": {},
     "output_type": "execute_result"
    }
   ],
   "source": [
    "translated(H,g,1)"
   ]
  },
  {
   "cell_type": "code",
   "execution_count": 60,
   "metadata": {},
   "outputs": [
    {
     "data": {
      "image/png": "[encoded data removed]",
      "text/latex": [
       "$\\displaystyle \\operatorname{H_{1}}{\\left(x,p \\right)}$"
      ],
      "text/plain": [
       "H₁(x, p)"
      ]
     },
     "execution_count": 60,
     "metadata": {},
     "output_type": "execute_result"
    }
   ],
   "source": [
    "la.ham"
   ]
  },
  {
   "cell_type": "code",
   "execution_count": 62,
   "metadata": {},
   "outputs": [
    {
     "name": "stdout",
     "output_type": "stream",
     "text": [
      "H1\n",
      "H1\n"
     ]
    },
    {
     "data": {
      "image/png": "[encoded data removed]",
      "text/latex": [
       "$\\displaystyle \\operatorname{H_{1}}{\\left(x,p \\right)} + \\frac{\\operatorname{H_{1}}{\\left(x,p \\right)} \\operatorname{H_{2}}{\\left(x,p \\right)}}{2} + \\operatorname{H_{2}}{\\left(x,p \\right)} - \\frac{\\operatorname{H_{2}}{\\left(x,p \\right)} \\operatorname{H_{1}}{\\left(x,p \\right)}}{2}$"
      ],
      "text/plain": [
       "           H₁(x, p)⋅H₂(x, p)              H₂(x, p)⋅H₁(x, p)\n",
       "H₁(x, p) + ───────────────── + H₂(x, p) - ─────────────────\n",
       "                   2                              2        "
      ]
     },
     "execution_count": 62,
     "metadata": {},
     "output_type": "execute_result"
    }
   ],
   "source": [
    "HCB(H,g,2)"
   ]
  },
  {
   "cell_type": "code",
   "execution_count": 63,
   "metadata": {},
   "outputs": [
    {
     "name": "stdout",
     "output_type": "stream",
     "text": [
      "H1\n",
      "H1\n"
     ]
    },
    {
     "data": {
      "image/png": "[encoded data removed]",
      "text/latex": [
       "$\\displaystyle 2 \\operatorname{H_{1}}{\\left(x,p \\right)}$"
      ],
      "text/plain": [
       "2⋅H₁(x, p)"
      ]
     },
     "execution_count": 63,
     "metadata": {},
     "output_type": "execute_result"
    }
   ],
   "source": [
    "HCB(la.ham,lb.ham,2)"
   ]
  },
  {
   "cell_type": "code",
   "execution_count": 19,
   "metadata": {},
   "outputs": [
    {
     "data": {
      "image/png": "[encoded data removed]",
      "text/latex": [
       "$\\displaystyle H{\\left(x,p \\right)} + \\frac{H{\\left(x,p \\right)} g{\\left(x,p \\right)}}{2} + g{\\left(x,p \\right)} - \\frac{g{\\left(x,p \\right)} H{\\left(x,p \\right)}}{2}$"
      ],
      "text/plain": [
       "          H(x, p)⋅g(x, p)             g(x, p)⋅H(x, p)\n",
       "H(x, p) + ─────────────── + g(x, p) - ───────────────\n",
       "                 2                           2       "
      ]
     },
     "execution_count": 19,
     "metadata": {},
     "output_type": "execute_result"
    }
   ],
   "source": [
    "HCB(H,g,2)"
   ]
  },
  {
   "cell_type": "code",
   "execution_count": 46,
   "metadata": {},
   "outputs": [],
   "source": [
    "Z = sympy.Function('Z', commutative=False)(x,p)\n",
    "W = sympy.Function('W', commutative=False)(x,p)\n",
    "h = HCB(Z,W,3)\n",
    "f = HCB(h,H,2)\n",
    "test = LieMap(h,x,p)\n",
    "test2 = LieMap(f,x,p)"
   ]
  },
  {
   "cell_type": "code",
   "execution_count": 47,
   "metadata": {},
   "outputs": [
    {
     "data": {
      "image/png": "[encoded data removed]",
      "text/latex": [
       "$\\displaystyle \\left( W{\\left(x,p \\right)} + \\frac{W{\\left(x,p \\right)} W{\\left(x,p \\right)} Z{\\left(x,p \\right)}}{12} - \\frac{W{\\left(x,p \\right)} Z{\\left(x,p \\right)}}{2} - \\frac{W{\\left(x,p \\right)} Z{\\left(x,p \\right)} W{\\left(x,p \\right)}}{6} + \\frac{W{\\left(x,p \\right)} Z{\\left(x,p \\right)} Z{\\left(x,p \\right)}}{12} + Z{\\left(x,p \\right)} + \\frac{Z{\\left(x,p \\right)} W{\\left(x,p \\right)}}{2} + \\frac{Z{\\left(x,p \\right)} W{\\left(x,p \\right)} W{\\left(x,p \\right)}}{12} - \\frac{Z{\\left(x,p \\right)} W{\\left(x,p \\right)} Z{\\left(x,p \\right)}}{6} + \\frac{Z{\\left(x,p \\right)} Z{\\left(x,p \\right)} W{\\left(x,p \\right)}}{12}, \\  \\left[ x\\right], \\  \\left[ p\\right]\\right)$"
      ],
      "text/plain": [
       "⎛          W(x, p)⋅W(x, p)⋅Z(x, p)   W(x, p)⋅Z(x, p)   W(x, p)⋅Z(x, p)⋅W(x, p)\n",
       "⎜W(x, p) + ─────────────────────── - ─────────────── - ───────────────────────\n",
       "⎝                     12                    2                     6           \n",
       "\n",
       "   W(x, p)⋅Z(x, p)⋅Z(x, p)             Z(x, p)⋅W(x, p)   Z(x, p)⋅W(x, p)⋅W(x, \n",
       " + ─────────────────────── + Z(x, p) + ─────────────── + ─────────────────────\n",
       "              12                              2                     12        \n",
       "\n",
       "p)   Z(x, p)⋅W(x, p)⋅Z(x, p)   Z(x, p)⋅Z(x, p)⋅W(x, p)          ⎞\n",
       "── - ─────────────────────── + ───────────────────────, [x], [p]⎟\n",
       "                6                         12                    ⎠"
      ]
     },
     "execution_count": 47,
     "metadata": {},
     "output_type": "execute_result"
    }
   ],
   "source": [
    "test.ham, test.indep_coords, test.indep_mom"
   ]
  },
  {
   "cell_type": "code",
   "execution_count": 48,
   "metadata": {},
   "outputs": [
    {
     "data": {
      "image/png": "[encoded data removed]",
      "text/latex": [
       "$\\displaystyle \\left( \\frac{\\left(W{\\left(x,p \\right)} + \\frac{W{\\left(x,p \\right)} W{\\left(x,p \\right)} Z{\\left(x,p \\right)}}{12} - \\frac{W{\\left(x,p \\right)} Z{\\left(x,p \\right)}}{2} - \\frac{W{\\left(x,p \\right)} Z{\\left(x,p \\right)} W{\\left(x,p \\right)}}{6} + \\frac{W{\\left(x,p \\right)} Z{\\left(x,p \\right)} Z{\\left(x,p \\right)}}{12} + Z{\\left(x,p \\right)} + \\frac{Z{\\left(x,p \\right)} W{\\left(x,p \\right)}}{2} + \\frac{Z{\\left(x,p \\right)} W{\\left(x,p \\right)} W{\\left(x,p \\right)}}{12} - \\frac{Z{\\left(x,p \\right)} W{\\left(x,p \\right)} Z{\\left(x,p \\right)}}{6} + \\frac{Z{\\left(x,p \\right)} Z{\\left(x,p \\right)} W{\\left(x,p \\right)}}{12}\\right) H{\\left(x,p \\right)}}{2} + H{\\left(x,p \\right)} - \\frac{H{\\left(x,p \\right)} \\left(W{\\left(x,p \\right)} + \\frac{W{\\left(x,p \\right)} W{\\left(x,p \\right)} Z{\\left(x,p \\right)}}{12} - \\frac{W{\\left(x,p \\right)} Z{\\left(x,p \\right)}}{2} - \\frac{W{\\left(x,p \\right)} Z{\\left(x,p \\right)} W{\\left(x,p \\right)}}{6} + \\frac{W{\\left(x,p \\right)} Z{\\left(x,p \\right)} Z{\\left(x,p \\right)}}{12} + Z{\\left(x,p \\right)} + \\frac{Z{\\left(x,p \\right)} W{\\left(x,p \\right)}}{2} + \\frac{Z{\\left(x,p \\right)} W{\\left(x,p \\right)} W{\\left(x,p \\right)}}{12} - \\frac{Z{\\left(x,p \\right)} W{\\left(x,p \\right)} Z{\\left(x,p \\right)}}{6} + \\frac{Z{\\left(x,p \\right)} Z{\\left(x,p \\right)} W{\\left(x,p \\right)}}{12}\\right)}{2} + W{\\left(x,p \\right)} + \\frac{W{\\left(x,p \\right)} W{\\left(x,p \\right)} Z{\\left(x,p \\right)}}{12} - \\frac{W{\\left(x,p \\right)} Z{\\left(x,p \\right)}}{2} - \\frac{W{\\left(x,p \\right)} Z{\\left(x,p \\right)} W{\\left(x,p \\right)}}{6} + \\frac{W{\\left(x,p \\right)} Z{\\left(x,p \\right)} Z{\\left(x,p \\right)}}{12} + Z{\\left(x,p \\right)} + \\frac{Z{\\left(x,p \\right)} W{\\left(x,p \\right)}}{2} + \\frac{Z{\\left(x,p \\right)} W{\\left(x,p \\right)} W{\\left(x,p \\right)}}{12} - \\frac{Z{\\left(x,p \\right)} W{\\left(x,p \\right)} Z{\\left(x,p \\right)}}{6} + \\frac{Z{\\left(x,p \\right)} Z{\\left(x,p \\right)} W{\\left(x,p \\right)}}{12}, \\  \\left[ x\\right], \\  \\left[ p\\right]\\right)$"
      ],
      "text/plain": [
       "⎛⎛          W(x, p)⋅W(x, p)⋅Z(x, p)   W(x, p)⋅Z(x, p)   W(x, p)⋅Z(x, p)⋅W(x, p\n",
       "⎜⎜W(x, p) + ─────────────────────── - ─────────────── - ──────────────────────\n",
       "⎜⎝                     12                    2                     6          \n",
       "⎜─────────────────────────────────────────────────────────────────────────────\n",
       "⎝                                                                             \n",
       "\n",
       ")   W(x, p)⋅Z(x, p)⋅Z(x, p)             Z(x, p)⋅W(x, p)   Z(x, p)⋅W(x, p)⋅W(x,\n",
       "─ + ─────────────────────── + Z(x, p) + ─────────────── + ────────────────────\n",
       "               12                              2                     12       \n",
       "──────────────────────────────────────────────────────────────────────────────\n",
       "                                2                                             \n",
       "\n",
       " p)   Z(x, p)⋅W(x, p)⋅Z(x, p)   Z(x, p)⋅Z(x, p)⋅W(x, p)⎞                      \n",
       "─── - ─────────────────────── + ───────────────────────⎟⋅H(x, p)             H\n",
       "                 6                         12          ⎠                      \n",
       "──────────────────────────────────────────────────────────────── + H(x, p) - ─\n",
       "                                                                              \n",
       "\n",
       "       ⎛          W(x, p)⋅W(x, p)⋅Z(x, p)   W(x, p)⋅Z(x, p)   W(x, p)⋅Z(x, p)⋅\n",
       "(x, p)⋅⎜W(x, p) + ─────────────────────── - ─────────────── - ────────────────\n",
       "       ⎝                     12                    2                     6    \n",
       "──────────────────────────────────────────────────────────────────────────────\n",
       "                                                                              \n",
       "\n",
       "W(x, p)   W(x, p)⋅Z(x, p)⋅Z(x, p)             Z(x, p)⋅W(x, p)   Z(x, p)⋅W(x, p\n",
       "─────── + ─────────────────────── + Z(x, p) + ─────────────── + ──────────────\n",
       "                     12                              2                     12 \n",
       "──────────────────────────────────────────────────────────────────────────────\n",
       "                              2                                               \n",
       "\n",
       ")⋅W(x, p)   Z(x, p)⋅W(x, p)⋅Z(x, p)   Z(x, p)⋅Z(x, p)⋅W(x, p)⎞                \n",
       "───────── - ─────────────────────── + ───────────────────────⎟                \n",
       "                       6                         12          ⎠             W(x\n",
       "────────────────────────────────────────────────────────────── + W(x, p) + ───\n",
       "                                                                              \n",
       "\n",
       "                                                                              \n",
       "                                                                              \n",
       ", p)⋅W(x, p)⋅Z(x, p)   W(x, p)⋅Z(x, p)   W(x, p)⋅Z(x, p)⋅W(x, p)   W(x, p)⋅Z(x\n",
       "──────────────────── - ─────────────── - ─────────────────────── + ───────────\n",
       "        12                    2                     6                         \n",
       "\n",
       "                                                                              \n",
       "                                                                              \n",
       ", p)⋅Z(x, p)             Z(x, p)⋅W(x, p)   Z(x, p)⋅W(x, p)⋅W(x, p)   Z(x, p)⋅W\n",
       "──────────── + Z(x, p) + ─────────────── + ─────────────────────── - ─────────\n",
       "12                              2                     12                      \n",
       "\n",
       "                                                  ⎞\n",
       "                                                  ⎟\n",
       "(x, p)⋅Z(x, p)   Z(x, p)⋅Z(x, p)⋅W(x, p)          ⎟\n",
       "────────────── + ───────────────────────, [x], [p]⎟\n",
       "  6                         12                    ⎠"
      ]
     },
     "execution_count": 48,
     "metadata": {},
     "output_type": "execute_result"
    }
   ],
   "source": [
    "test2.ham, test2.indep_coords, test2.indep_mom"
   ]
  },
  {
   "cell_type": "code",
   "execution_count": 22,
   "metadata": {},
   "outputs": [
    {
     "data": {
      "image/png": "[encoded data removed]",
      "text/latex": [
       "$\\displaystyle - \\left(- \\frac{W{\\left(x,p \\right)} \\frac{\\partial}{\\partial p} Z{\\left(x,p \\right)}}{2} + \\frac{Z{\\left(x,p \\right)} \\frac{\\partial}{\\partial p} W{\\left(x,p \\right)}}{2} + \\frac{\\partial}{\\partial p} W{\\left(x,p \\right)} - \\frac{\\frac{\\partial}{\\partial p} W{\\left(x,p \\right)} Z{\\left(x,p \\right)}}{2} + \\frac{\\partial}{\\partial p} Z{\\left(x,p \\right)} + \\frac{\\frac{\\partial}{\\partial p} Z{\\left(x,p \\right)} W{\\left(x,p \\right)}}{2}\\right) \\frac{\\partial}{\\partial x} H{\\left(x,p \\right)} + \\left(- \\frac{W{\\left(x,p \\right)} \\frac{\\partial}{\\partial x} Z{\\left(x,p \\right)}}{2} + \\frac{Z{\\left(x,p \\right)} \\frac{\\partial}{\\partial x} W{\\left(x,p \\right)}}{2} + \\frac{\\partial}{\\partial x} W{\\left(x,p \\right)} - \\frac{\\frac{\\partial}{\\partial x} W{\\left(x,p \\right)} Z{\\left(x,p \\right)}}{2} + \\frac{\\partial}{\\partial x} Z{\\left(x,p \\right)} + \\frac{\\frac{\\partial}{\\partial x} Z{\\left(x,p \\right)} W{\\left(x,p \\right)}}{2}\\right) \\frac{\\partial}{\\partial p} H{\\left(x,p \\right)}$"
      ],
      "text/plain": [
       "  ⎛          ∂                     ∂                           ∂              \n",
       "  ⎜  W(x, p)⋅──(Z(x, p))   Z(x, p)⋅──(W(x, p))                 ──(W(x, p))⋅Z(x\n",
       "  ⎜          ∂p                    ∂p            ∂             ∂p             \n",
       "- ⎜- ─────────────────── + ─────────────────── + ──(W(x, p)) - ───────────────\n",
       "  ⎝           2                     2            ∂p                     2     \n",
       "\n",
       "                     ∂                  ⎞               ⎛          ∂          \n",
       ", p)                 ──(Z(x, p))⋅W(x, p)⎟               ⎜  W(x, p)⋅──(Z(x, p))\n",
       "       ∂             ∂p                 ⎟ ∂             ⎜          ∂x         \n",
       "──── + ──(Z(x, p)) + ───────────────────⎟⋅──(H(x, p)) + ⎜- ───────────────────\n",
       "       ∂p                     2         ⎠ ∂x            ⎝           2         \n",
       "\n",
       "           ∂                           ∂                                   ∂  \n",
       "   Z(x, p)⋅──(W(x, p))                 ──(W(x, p))⋅Z(x, p)                 ──(\n",
       "           ∂x            ∂             ∂x                    ∂             ∂x \n",
       " + ─────────────────── + ──(W(x, p)) - ─────────────────── + ──(Z(x, p)) + ───\n",
       "            2            ∂x                     2            ∂x               \n",
       "\n",
       "                ⎞            \n",
       "Z(x, p))⋅W(x, p)⎟            \n",
       "                ⎟ ∂          \n",
       "────────────────⎟⋅──(H(x, p))\n",
       "      2         ⎠ ∂p         "
      ]
     },
     "execution_count": 22,
     "metadata": {},
     "output_type": "execute_result"
    }
   ],
   "source": [
    "test.Poisson(H)"
   ]
  },
  {
   "cell_type": "markdown",
   "metadata": {},
   "source": [
    "# Drift Space test run"
   ]
  },
  {
   "cell_type": "code",
   "execution_count": 23,
   "metadata": {},
   "outputs": [],
   "source": [
    "x, y, px, py, delta = sympy.symbols('x y px py d')\n",
    "Hd = - sympy.sqrt((1+delta)**2 - px**2 - py**2)"
   ]
  },
  {
   "cell_type": "code",
   "execution_count": 24,
   "metadata": {},
   "outputs": [
    {
     "data": {
      "image/png": "[encoded data removed]",
      "text/latex": [
       "$\\displaystyle - \\sqrt{- px^{2} - py^{2} + \\left(d + 1\\right)^{2}}$"
      ],
      "text/plain": [
       "    ________________________\n",
       "   ╱     2     2          2 \n",
       "-╲╱  - px  - py  + (d + 1)  "
      ]
     },
     "execution_count": 24,
     "metadata": {},
     "output_type": "execute_result"
    }
   ],
   "source": [
    "Hd"
   ]
  },
  {
   "cell_type": "code",
   "execution_count": 25,
   "metadata": {},
   "outputs": [],
   "source": [
    "drift = LieMap(Hd,[x,y],[px,py])"
   ]
  },
  {
   "cell_type": "code",
   "execution_count": 26,
   "metadata": {},
   "outputs": [
    {
     "data": {
      "image/png": "[encoded data removed]",
      "text/latex": [
       "$\\displaystyle \\left( - \\sqrt{- px^{2} - py^{2} + \\left(d + 1\\right)^{2}}, \\  \\left[ x, \\  y\\right], \\  \\left[ px, \\  py\\right]\\right)$"
      ],
      "text/plain": [
       "⎛    ________________________                  ⎞\n",
       "⎜   ╱     2     2          2                   ⎟\n",
       "⎝-╲╱  - px  - py  + (d + 1)  , [x, y], [px, py]⎠"
      ]
     },
     "execution_count": 26,
     "metadata": {},
     "output_type": "execute_result"
    }
   ],
   "source": [
    "drift.ham, drift.indep_coords, drift.indep_mom"
   ]
  },
  {
   "cell_type": "code",
   "execution_count": 27,
   "metadata": {},
   "outputs": [
    {
     "data": {
      "image/png": "[encoded data removed]",
      "text/latex": [
       "$\\displaystyle - \\frac{px}{\\sqrt{- px^{2} - py^{2} + \\left(d + 1\\right)^{2}}} + x$"
      ],
      "text/plain": [
       "               px                \n",
       "- ─────────────────────────── + x\n",
       "     ________________________    \n",
       "    ╱     2     2          2     \n",
       "  ╲╱  - px  - py  + (d + 1)      "
      ]
     },
     "execution_count": 27,
     "metadata": {},
     "output_type": "execute_result"
    }
   ],
   "source": [
    "drift.exp(x,8)"
   ]
  },
  {
   "cell_type": "code",
   "execution_count": 28,
   "metadata": {},
   "outputs": [
    {
     "data": {
      "image/png": "[encoded data removed]",
      "text/latex": [
       "$\\displaystyle px$"
      ],
      "text/plain": [
       "px"
      ]
     },
     "execution_count": 28,
     "metadata": {},
     "output_type": "execute_result"
    }
   ],
   "source": [
    "drift.exp(px,8)"
   ]
  },
  {
   "cell_type": "code",
   "execution_count": 29,
   "metadata": {},
   "outputs": [
    {
     "data": {
      "image/png": "[encoded data removed]",
      "text/latex": [
       "$\\displaystyle - \\frac{py}{\\sqrt{- px^{2} - py^{2} + \\left(d + 1\\right)^{2}}} + y$"
      ],
      "text/plain": [
       "               py                \n",
       "- ─────────────────────────── + y\n",
       "     ________________________    \n",
       "    ╱     2     2          2     \n",
       "  ╲╱  - px  - py  + (d + 1)      "
      ]
     },
     "execution_count": 29,
     "metadata": {},
     "output_type": "execute_result"
    }
   ],
   "source": [
    "drift.exp(y,8)"
   ]
  },
  {
   "cell_type": "code",
   "execution_count": 30,
   "metadata": {},
   "outputs": [
    {
     "data": {
      "image/png": "[encoded data removed]",
      "text/latex": [
       "$\\displaystyle py$"
      ],
      "text/plain": [
       "py"
      ]
     },
     "execution_count": 30,
     "metadata": {},
     "output_type": "execute_result"
    }
   ],
   "source": [
    "drift.exp(py,8)"
   ]
  },
  {
   "cell_type": "markdown",
   "metadata": {},
   "source": [
    "## Applying with quadrupole"
   ]
  },
  {
   "cell_type": "code",
   "execution_count": 31,
   "metadata": {},
   "outputs": [],
   "source": [
    "x,p,k = sympy.symbols('x p k')\n",
    "Hq = -sympy.Rational(1,2)*(k*x**2 + p**2)"
   ]
  },
  {
   "cell_type": "code",
   "execution_count": 32,
   "metadata": {},
   "outputs": [
    {
     "data": {
      "image/png": "[encoded data removed]",
      "text/latex": [
       "$\\displaystyle - \\frac{k x^{2}}{2} - \\frac{p^{2}}{2}$"
      ],
      "text/plain": [
       "     2    2\n",
       "  k⋅x    p \n",
       "- ──── - ──\n",
       "   2     2 "
      ]
     },
     "execution_count": 32,
     "metadata": {},
     "output_type": "execute_result"
    }
   ],
   "source": [
    "Hq"
   ]
  },
  {
   "cell_type": "code",
   "execution_count": 33,
   "metadata": {},
   "outputs": [],
   "source": [
    "quadrupole = LieMap(Hq,x,p)"
   ]
  },
  {
   "cell_type": "code",
   "execution_count": 34,
   "metadata": {},
   "outputs": [
    {
     "data": {
      "image/png": "[encoded data removed]",
      "text/latex": [
       "$\\displaystyle \\left( - \\frac{k x^{2}}{2} - \\frac{p^{2}}{2}, \\  \\left[ x\\right], \\  \\left[ p\\right]\\right)$"
      ],
      "text/plain": [
       "⎛     2    2          ⎞\n",
       "⎜  k⋅x    p           ⎟\n",
       "⎜- ──── - ──, [x], [p]⎟\n",
       "⎝   2     2           ⎠"
      ]
     },
     "execution_count": 34,
     "metadata": {},
     "output_type": "execute_result"
    }
   ],
   "source": [
    "quadrupole.ham, quadrupole.indep_coords, quadrupole.indep_mom"
   ]
  },
  {
   "cell_type": "code",
   "execution_count": 35,
   "metadata": {},
   "outputs": [
    {
     "data": {
      "image/png": "[encoded data removed]",
      "text/latex": [
       "$\\displaystyle p$"
      ],
      "text/plain": [
       "p"
      ]
     },
     "execution_count": 35,
     "metadata": {},
     "output_type": "execute_result"
    }
   ],
   "source": [
    "quadrupole.Poisson(x)"
   ]
  },
  {
   "cell_type": "code",
   "execution_count": 36,
   "metadata": {},
   "outputs": [
    {
     "data": {
      "image/png": "[encoded data removed]",
      "text/latex": [
       "$\\displaystyle - k x$"
      ],
      "text/plain": [
       "-k⋅x"
      ]
     },
     "execution_count": 36,
     "metadata": {},
     "output_type": "execute_result"
    }
   ],
   "source": [
    "quadrupole.Poisson(quadrupole.Poisson(x))"
   ]
  },
  {
   "cell_type": "code",
   "execution_count": 37,
   "metadata": {},
   "outputs": [
    {
     "data": {
      "image/png": "[encoded data removed]",
      "text/latex": [
       "$\\displaystyle x$"
      ],
      "text/plain": [
       "x"
      ]
     },
     "execution_count": 37,
     "metadata": {},
     "output_type": "execute_result"
    }
   ],
   "source": [
    "quadrupole.exp(x,0)"
   ]
  },
  {
   "cell_type": "code",
   "execution_count": 38,
   "metadata": {},
   "outputs": [
    {
     "data": {
      "image/png": "[encoded data removed]",
      "text/latex": [
       "$\\displaystyle - \\frac{k^{5} x}{3628800} + \\frac{k^{4} p}{362880} + \\frac{k^{4} x}{40320} - \\frac{k^{3} p}{5040} - \\frac{k^{3} x}{720} + \\frac{k^{2} p}{120} + \\frac{k^{2} x}{24} - \\frac{k p}{6} - \\frac{k x}{2} + p + x$"
      ],
      "text/plain": [
       "     5        4        4      3      3      2      2                      \n",
       "    k ⋅x     k ⋅p     k ⋅x   k ⋅p   k ⋅x   k ⋅p   k ⋅x   k⋅p   k⋅x        \n",
       "- ─────── + ────── + ───── - ──── - ──── + ──── + ──── - ─── - ─── + p + x\n",
       "  3628800   362880   40320   5040   720    120     24     6     2         "
      ]
     },
     "execution_count": 38,
     "metadata": {},
     "output_type": "execute_result"
    }
   ],
   "source": [
    "quadrupole.exp(x,10)"
   ]
  },
  {
   "cell_type": "code",
   "execution_count": 39,
   "metadata": {},
   "outputs": [
    {
     "data": {
      "image/png": "[encoded data removed]",
      "text/latex": [
       "$\\displaystyle x - \\frac{k x}{2} + \\frac{k^{2} x}{24} - \\frac{k^{3} x}{720} + \\frac{k^{4} x}{40320} - \\frac{k^{5} x}{3628800} + O\\left(k^{6}\\right)$"
      ],
      "text/plain": [
       "           2      3       4        5           \n",
       "    k⋅x   k ⋅x   k ⋅x    k ⋅x     k ⋅x     ⎛ 6⎞\n",
       "x - ─── + ──── - ──── + ───── - ─────── + O⎝k ⎠\n",
       "     2     24    720    40320   3628800        "
      ]
     },
     "execution_count": 39,
     "metadata": {},
     "output_type": "execute_result"
    }
   ],
   "source": [
    "from sympy import cos, sin, series\n",
    "sympy.series(cos(sympy.sqrt(k))*x,k)"
   ]
  },
  {
   "cell_type": "code",
   "execution_count": 40,
   "metadata": {},
   "outputs": [
    {
     "data": {
      "image/png": "[encoded data removed]",
      "text/latex": [
       "$\\displaystyle p - \\frac{k p}{6} + \\frac{k^{2} p}{120} - \\frac{k^{3} p}{5040} + \\frac{k^{4} p}{362880} - \\frac{k^{5} p}{39916800} + O\\left(k^{6}\\right)$"
      ],
      "text/plain": [
       "           2      3       4         5            \n",
       "    k⋅p   k ⋅p   k ⋅p    k ⋅p      k ⋅p      ⎛ 6⎞\n",
       "p - ─── + ──── - ──── + ────── - ──────── + O⎝k ⎠\n",
       "     6    120    5040   362880   39916800        "
      ]
     },
     "execution_count": 40,
     "metadata": {},
     "output_type": "execute_result"
    }
   ],
   "source": [
    "sympy.series(sin(sympy.sqrt(k))*p/sympy.sqrt(k),k)"
   ]
  },
  {
   "cell_type": "code",
   "execution_count": 41,
   "metadata": {},
   "outputs": [
    {
     "data": {
      "image/png": "[encoded data removed]",
      "text/latex": [
       "$\\displaystyle - \\frac{k^{5} p}{3628800} - \\frac{k^{5} x}{362880} + \\frac{k^{4} p}{40320} + \\frac{k^{4} x}{5040} - \\frac{k^{3} p}{720} - \\frac{k^{3} x}{120} + \\frac{k^{2} p}{24} + \\frac{k^{2} x}{6} - \\frac{k p}{2} - k x + p$"
      ],
      "text/plain": [
       "     5        5        4      4      3      3      2      2                  \n",
       "    k ⋅p     k ⋅x     k ⋅p   k ⋅x   k ⋅p   k ⋅x   k ⋅p   k ⋅x   k⋅p          \n",
       "- ─────── - ────── + ───── + ──── - ──── - ──── + ──── + ──── - ─── - k⋅x + p\n",
       "  3628800   362880   40320   5040   720    120     24     6      2           "
      ]
     },
     "execution_count": 41,
     "metadata": {},
     "output_type": "execute_result"
    }
   ],
   "source": [
    "quadrupole.exp(p,10)"
   ]
  },
  {
   "cell_type": "code",
   "execution_count": 42,
   "metadata": {},
   "outputs": [
    {
     "data": {
      "image/png": "[encoded data removed]",
      "text/latex": [
       "$\\displaystyle - k x + \\frac{k^{2} x}{6} - \\frac{k^{3} x}{120} + \\frac{k^{4} x}{5040} - \\frac{k^{5} x}{362880} + O\\left(k^{6}\\right)$"
      ],
      "text/plain": [
       "        2      3      4       5           \n",
       "       k ⋅x   k ⋅x   k ⋅x    k ⋅x     ⎛ 6⎞\n",
       "-k⋅x + ──── - ──── + ──── - ────── + O⎝k ⎠\n",
       "        6     120    5040   362880        "
      ]
     },
     "execution_count": 42,
     "metadata": {},
     "output_type": "execute_result"
    }
   ],
   "source": [
    "sympy.series(-sympy.sqrt(k)*sin(sympy.sqrt(k))*x,k)"
   ]
  },
  {
   "cell_type": "code",
   "execution_count": 43,
   "metadata": {},
   "outputs": [
    {
     "data": {
      "image/png": "[encoded data removed]",
      "text/latex": [
       "$\\displaystyle p - \\frac{k p}{2} + \\frac{k^{2} p}{24} - \\frac{k^{3} p}{720} + \\frac{k^{4} p}{40320} - \\frac{k^{5} p}{3628800} + O\\left(k^{6}\\right)$"
      ],
      "text/plain": [
       "           2      3       4        5           \n",
       "    k⋅p   k ⋅p   k ⋅p    k ⋅p     k ⋅p     ⎛ 6⎞\n",
       "p - ─── + ──── - ──── + ───── - ─────── + O⎝k ⎠\n",
       "     2     24    720    40320   3628800        "
      ]
     },
     "execution_count": 43,
     "metadata": {},
     "output_type": "execute_result"
    }
   ],
   "source": [
    "sympy.series(cos(sympy.sqrt(k))*p,k)"
   ]
  },
  {
   "cell_type": "code",
   "execution_count": null,
   "metadata": {},
   "outputs": [],
   "source": []
  },
  {
   "cell_type": "code",
   "execution_count": null,
   "metadata": {},
   "outputs": [],
   "source": []
  },
  {
   "cell_type": "code",
   "execution_count": null,
   "metadata": {},
   "outputs": [],
   "source": []
  }
 ],
 "metadata": {
  "kernelspec": {
   "display_name": "Python 3",
   "language": "python",
   "name": "python3"
  },
  "language_info": {
   "codemirror_mode": {
    "name": "ipython",
    "version": 3
   },
   "file_extension": ".py",
   "mimetype": "text/x-python",
   "name": "python",
   "nbconvert_exporter": "python",
   "pygments_lexer": "ipython3",
   "version": "3.6.7"
  }
 },
 "nbformat": 4,
 "nbformat_minor": 2
}
